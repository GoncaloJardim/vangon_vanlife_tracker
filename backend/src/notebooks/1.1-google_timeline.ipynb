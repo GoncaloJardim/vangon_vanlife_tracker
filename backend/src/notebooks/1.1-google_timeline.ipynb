{
 "cells": [
  {
   "cell_type": "code",
   "execution_count": 1,
   "id": "1585f175",
   "metadata": {},
   "outputs": [],
   "source": [
    "import pandas as pd\n",
    "import numpy as np\n",
    "import json"
   ]
  },
  {
   "cell_type": "markdown",
   "id": "b0f59eaf",
   "metadata": {},
   "source": [
    "### Load JSON and use semanticSegments"
   ]
  },
  {
   "cell_type": "code",
   "execution_count": 2,
   "id": "b17a146e",
   "metadata": {},
   "outputs": [],
   "source": [
    "with open('../data/google_timeline_goncalo_1.json', 'r') as f:\n",
    "    timeline_data = json.load(f)\n",
    "\n",
    "raw_signals = timeline_data['rawSignals']"
   ]
  },
  {
   "cell_type": "code",
   "execution_count": 3,
   "id": "5d02e7dc",
   "metadata": {},
   "outputs": [],
   "source": [
    "timeline_semantic_df = pd.DataFrame(timeline_data['semanticSegments'])\n"
   ]
  },
  {
   "cell_type": "markdown",
   "id": "ff0baf0e",
   "metadata": {},
   "source": [
    "#### boolean flags to highlight what kind of activity it was"
   ]
  },
  {
   "cell_type": "code",
   "execution_count": 4,
   "id": "ceece923",
   "metadata": {},
   "outputs": [],
   "source": [
    "timeline_semantic_df['is_path'] = np.where(timeline_semantic_df['timelinePath'].notnull(), 1,0)\n",
    "timeline_semantic_df['is_visit'] = np.where(timeline_semantic_df['visit'].notnull(), 1,0)\n",
    "timeline_semantic_df['is_activity'] = np.where(timeline_semantic_df['activity'].notnull(), 1,0)"
   ]
  },
  {
   "cell_type": "code",
   "execution_count": 5,
   "id": "13c8a519",
   "metadata": {},
   "outputs": [],
   "source": [
    "# Convert timestamp columns to datetime with UTC timezone handling\n",
    "timeline_semantic_df['startTime'] = pd.to_datetime(timeline_semantic_df['startTime'], utc=True)\n",
    "timeline_semantic_df['endTime'] = pd.to_datetime(timeline_semantic_df['endTime'], utc=True,)\n",
    "\n",
    "# Filter for entries from June 10th onwards  \n",
    "timeline_semantic_df = timeline_semantic_df[timeline_semantic_df['startTime'] >= pd.to_datetime('2025-06-10', utc=True)]\n"
   ]
  },
  {
   "cell_type": "code",
   "execution_count": 6,
   "id": "86d89044",
   "metadata": {},
   "outputs": [
    {
     "data": {
      "text/html": [
       "<div>\n",
       "<style scoped>\n",
       "    .dataframe tbody tr th:only-of-type {\n",
       "        vertical-align: middle;\n",
       "    }\n",
       "\n",
       "    .dataframe tbody tr th {\n",
       "        vertical-align: top;\n",
       "    }\n",
       "\n",
       "    .dataframe thead th {\n",
       "        text-align: right;\n",
       "    }\n",
       "</style>\n",
       "<table border=\"1\" class=\"dataframe\">\n",
       "  <thead>\n",
       "    <tr style=\"text-align: right;\">\n",
       "      <th></th>\n",
       "      <th>startTime</th>\n",
       "      <th>endTime</th>\n",
       "      <th>timelinePath</th>\n",
       "      <th>startTimeTimezoneUtcOffsetMinutes</th>\n",
       "      <th>endTimeTimezoneUtcOffsetMinutes</th>\n",
       "      <th>visit</th>\n",
       "      <th>activity</th>\n",
       "      <th>timelineMemory</th>\n",
       "      <th>is_path</th>\n",
       "      <th>is_visit</th>\n",
       "      <th>is_activity</th>\n",
       "    </tr>\n",
       "  </thead>\n",
       "  <tbody>\n",
       "    <tr>\n",
       "      <th>1576</th>\n",
       "      <td>2025-06-10 01:00:00+00:00</td>\n",
       "      <td>2025-06-10 03:00:00+00:00</td>\n",
       "      <td>[{'point': '38.7613751°, -9.2762981°', 'time':...</td>\n",
       "      <td>NaN</td>\n",
       "      <td>NaN</td>\n",
       "      <td>NaN</td>\n",
       "      <td>NaN</td>\n",
       "      <td>NaN</td>\n",
       "      <td>1</td>\n",
       "      <td>0</td>\n",
       "      <td>0</td>\n",
       "    </tr>\n",
       "    <tr>\n",
       "      <th>1577</th>\n",
       "      <td>2025-06-10 03:00:00+00:00</td>\n",
       "      <td>2025-06-10 05:00:00+00:00</td>\n",
       "      <td>[{'point': '38.7613751°, -9.2762981°', 'time':...</td>\n",
       "      <td>NaN</td>\n",
       "      <td>NaN</td>\n",
       "      <td>NaN</td>\n",
       "      <td>NaN</td>\n",
       "      <td>NaN</td>\n",
       "      <td>1</td>\n",
       "      <td>0</td>\n",
       "      <td>0</td>\n",
       "    </tr>\n",
       "    <tr>\n",
       "      <th>1578</th>\n",
       "      <td>2025-06-10 05:00:00+00:00</td>\n",
       "      <td>2025-06-10 07:00:00+00:00</td>\n",
       "      <td>[{'point': '38.7613809°, -9.2762907°', 'time':...</td>\n",
       "      <td>NaN</td>\n",
       "      <td>NaN</td>\n",
       "      <td>NaN</td>\n",
       "      <td>NaN</td>\n",
       "      <td>NaN</td>\n",
       "      <td>1</td>\n",
       "      <td>0</td>\n",
       "      <td>0</td>\n",
       "    </tr>\n",
       "    <tr>\n",
       "      <th>1579</th>\n",
       "      <td>2025-06-10 07:00:00+00:00</td>\n",
       "      <td>2025-06-10 09:00:00+00:00</td>\n",
       "      <td>[{'point': '38.7614987°, -9.2761407°', 'time':...</td>\n",
       "      <td>NaN</td>\n",
       "      <td>NaN</td>\n",
       "      <td>NaN</td>\n",
       "      <td>NaN</td>\n",
       "      <td>NaN</td>\n",
       "      <td>1</td>\n",
       "      <td>0</td>\n",
       "      <td>0</td>\n",
       "    </tr>\n",
       "    <tr>\n",
       "      <th>1580</th>\n",
       "      <td>2025-06-10 17:00:00+00:00</td>\n",
       "      <td>2025-06-10 19:00:00+00:00</td>\n",
       "      <td>[{'point': '38.7618339°, -9.2763392°', 'time':...</td>\n",
       "      <td>NaN</td>\n",
       "      <td>NaN</td>\n",
       "      <td>NaN</td>\n",
       "      <td>NaN</td>\n",
       "      <td>NaN</td>\n",
       "      <td>1</td>\n",
       "      <td>0</td>\n",
       "      <td>0</td>\n",
       "    </tr>\n",
       "    <tr>\n",
       "      <th>...</th>\n",
       "      <td>...</td>\n",
       "      <td>...</td>\n",
       "      <td>...</td>\n",
       "      <td>...</td>\n",
       "      <td>...</td>\n",
       "      <td>...</td>\n",
       "      <td>...</td>\n",
       "      <td>...</td>\n",
       "      <td>...</td>\n",
       "      <td>...</td>\n",
       "      <td>...</td>\n",
       "    </tr>\n",
       "    <tr>\n",
       "      <th>3527</th>\n",
       "      <td>2025-09-14 20:00:00+00:00</td>\n",
       "      <td>2025-09-14 22:00:00+00:00</td>\n",
       "      <td>[{'point': '43.7696068°, 11.2554529°', 'time':...</td>\n",
       "      <td>NaN</td>\n",
       "      <td>NaN</td>\n",
       "      <td>NaN</td>\n",
       "      <td>NaN</td>\n",
       "      <td>NaN</td>\n",
       "      <td>1</td>\n",
       "      <td>0</td>\n",
       "      <td>0</td>\n",
       "    </tr>\n",
       "    <tr>\n",
       "      <th>3528</th>\n",
       "      <td>2025-09-14 22:00:00+00:00</td>\n",
       "      <td>2025-09-15 00:00:00+00:00</td>\n",
       "      <td>[{'point': '43.773528°, 11.255466°', 'time': '...</td>\n",
       "      <td>NaN</td>\n",
       "      <td>NaN</td>\n",
       "      <td>NaN</td>\n",
       "      <td>NaN</td>\n",
       "      <td>NaN</td>\n",
       "      <td>1</td>\n",
       "      <td>0</td>\n",
       "      <td>0</td>\n",
       "    </tr>\n",
       "    <tr>\n",
       "      <th>3529</th>\n",
       "      <td>2025-09-14 22:12:53+00:00</td>\n",
       "      <td>2025-09-14 22:36:11+00:00</td>\n",
       "      <td>NaN</td>\n",
       "      <td>120.0</td>\n",
       "      <td>120.0</td>\n",
       "      <td>{'hierarchyLevel': 0, 'probability': 0.7590447...</td>\n",
       "      <td>NaN</td>\n",
       "      <td>NaN</td>\n",
       "      <td>0</td>\n",
       "      <td>1</td>\n",
       "      <td>0</td>\n",
       "    </tr>\n",
       "    <tr>\n",
       "      <th>3530</th>\n",
       "      <td>2025-09-14 22:36:11+00:00</td>\n",
       "      <td>2025-09-14 22:51:35+00:00</td>\n",
       "      <td>NaN</td>\n",
       "      <td>120.0</td>\n",
       "      <td>120.0</td>\n",
       "      <td>NaN</td>\n",
       "      <td>{'start': {'latLng': '43.7714767°, 11.2578667°...</td>\n",
       "      <td>NaN</td>\n",
       "      <td>0</td>\n",
       "      <td>0</td>\n",
       "      <td>1</td>\n",
       "    </tr>\n",
       "    <tr>\n",
       "      <th>3531</th>\n",
       "      <td>2025-09-14 22:51:35+00:00</td>\n",
       "      <td>2025-09-15 09:16:07+00:00</td>\n",
       "      <td>NaN</td>\n",
       "      <td>120.0</td>\n",
       "      <td>120.0</td>\n",
       "      <td>{'hierarchyLevel': 0, 'probability': 0.8831765...</td>\n",
       "      <td>NaN</td>\n",
       "      <td>NaN</td>\n",
       "      <td>0</td>\n",
       "      <td>1</td>\n",
       "      <td>0</td>\n",
       "    </tr>\n",
       "  </tbody>\n",
       "</table>\n",
       "<p>1956 rows × 11 columns</p>\n",
       "</div>"
      ],
      "text/plain": [
       "                     startTime                   endTime  \\\n",
       "1576 2025-06-10 01:00:00+00:00 2025-06-10 03:00:00+00:00   \n",
       "1577 2025-06-10 03:00:00+00:00 2025-06-10 05:00:00+00:00   \n",
       "1578 2025-06-10 05:00:00+00:00 2025-06-10 07:00:00+00:00   \n",
       "1579 2025-06-10 07:00:00+00:00 2025-06-10 09:00:00+00:00   \n",
       "1580 2025-06-10 17:00:00+00:00 2025-06-10 19:00:00+00:00   \n",
       "...                        ...                       ...   \n",
       "3527 2025-09-14 20:00:00+00:00 2025-09-14 22:00:00+00:00   \n",
       "3528 2025-09-14 22:00:00+00:00 2025-09-15 00:00:00+00:00   \n",
       "3529 2025-09-14 22:12:53+00:00 2025-09-14 22:36:11+00:00   \n",
       "3530 2025-09-14 22:36:11+00:00 2025-09-14 22:51:35+00:00   \n",
       "3531 2025-09-14 22:51:35+00:00 2025-09-15 09:16:07+00:00   \n",
       "\n",
       "                                           timelinePath  \\\n",
       "1576  [{'point': '38.7613751°, -9.2762981°', 'time':...   \n",
       "1577  [{'point': '38.7613751°, -9.2762981°', 'time':...   \n",
       "1578  [{'point': '38.7613809°, -9.2762907°', 'time':...   \n",
       "1579  [{'point': '38.7614987°, -9.2761407°', 'time':...   \n",
       "1580  [{'point': '38.7618339°, -9.2763392°', 'time':...   \n",
       "...                                                 ...   \n",
       "3527  [{'point': '43.7696068°, 11.2554529°', 'time':...   \n",
       "3528  [{'point': '43.773528°, 11.255466°', 'time': '...   \n",
       "3529                                                NaN   \n",
       "3530                                                NaN   \n",
       "3531                                                NaN   \n",
       "\n",
       "      startTimeTimezoneUtcOffsetMinutes  endTimeTimezoneUtcOffsetMinutes  \\\n",
       "1576                                NaN                              NaN   \n",
       "1577                                NaN                              NaN   \n",
       "1578                                NaN                              NaN   \n",
       "1579                                NaN                              NaN   \n",
       "1580                                NaN                              NaN   \n",
       "...                                 ...                              ...   \n",
       "3527                                NaN                              NaN   \n",
       "3528                                NaN                              NaN   \n",
       "3529                              120.0                            120.0   \n",
       "3530                              120.0                            120.0   \n",
       "3531                              120.0                            120.0   \n",
       "\n",
       "                                                  visit  \\\n",
       "1576                                                NaN   \n",
       "1577                                                NaN   \n",
       "1578                                                NaN   \n",
       "1579                                                NaN   \n",
       "1580                                                NaN   \n",
       "...                                                 ...   \n",
       "3527                                                NaN   \n",
       "3528                                                NaN   \n",
       "3529  {'hierarchyLevel': 0, 'probability': 0.7590447...   \n",
       "3530                                                NaN   \n",
       "3531  {'hierarchyLevel': 0, 'probability': 0.8831765...   \n",
       "\n",
       "                                               activity timelineMemory  \\\n",
       "1576                                                NaN            NaN   \n",
       "1577                                                NaN            NaN   \n",
       "1578                                                NaN            NaN   \n",
       "1579                                                NaN            NaN   \n",
       "1580                                                NaN            NaN   \n",
       "...                                                 ...            ...   \n",
       "3527                                                NaN            NaN   \n",
       "3528                                                NaN            NaN   \n",
       "3529                                                NaN            NaN   \n",
       "3530  {'start': {'latLng': '43.7714767°, 11.2578667°...            NaN   \n",
       "3531                                                NaN            NaN   \n",
       "\n",
       "      is_path  is_visit  is_activity  \n",
       "1576        1         0            0  \n",
       "1577        1         0            0  \n",
       "1578        1         0            0  \n",
       "1579        1         0            0  \n",
       "1580        1         0            0  \n",
       "...       ...       ...          ...  \n",
       "3527        1         0            0  \n",
       "3528        1         0            0  \n",
       "3529        0         1            0  \n",
       "3530        0         0            1  \n",
       "3531        0         1            0  \n",
       "\n",
       "[1956 rows x 11 columns]"
      ]
     },
     "execution_count": 6,
     "metadata": {},
     "output_type": "execute_result"
    }
   ],
   "source": [
    "# Filter for entries from June 10th onwards\n",
    "timeline_semantic_df"
   ]
  },
  {
   "cell_type": "code",
   "execution_count": 7,
   "id": "fc01472d",
   "metadata": {},
   "outputs": [
    {
     "data": {
      "text/html": [
       "<div>\n",
       "<style scoped>\n",
       "    .dataframe tbody tr th:only-of-type {\n",
       "        vertical-align: middle;\n",
       "    }\n",
       "\n",
       "    .dataframe tbody tr th {\n",
       "        vertical-align: top;\n",
       "    }\n",
       "\n",
       "    .dataframe thead th {\n",
       "        text-align: right;\n",
       "    }\n",
       "</style>\n",
       "<table border=\"1\" class=\"dataframe\">\n",
       "  <thead>\n",
       "    <tr style=\"text-align: right;\">\n",
       "      <th></th>\n",
       "      <th>startTime</th>\n",
       "      <th>endTime</th>\n",
       "      <th>timelinePath</th>\n",
       "      <th>startTimeTimezoneUtcOffsetMinutes</th>\n",
       "      <th>endTimeTimezoneUtcOffsetMinutes</th>\n",
       "      <th>visit</th>\n",
       "      <th>activity</th>\n",
       "      <th>timelineMemory</th>\n",
       "      <th>is_path</th>\n",
       "      <th>is_visit</th>\n",
       "      <th>is_activity</th>\n",
       "    </tr>\n",
       "  </thead>\n",
       "  <tbody>\n",
       "    <tr>\n",
       "      <th>1582</th>\n",
       "      <td>2025-06-10 17:56:49+00:00</td>\n",
       "      <td>2025-06-10 18:07:20+00:00</td>\n",
       "      <td>NaN</td>\n",
       "      <td>60.0</td>\n",
       "      <td>60.0</td>\n",
       "      <td>{'hierarchyLevel': 0, 'probability': 0.8130363...</td>\n",
       "      <td>NaN</td>\n",
       "      <td>NaN</td>\n",
       "      <td>0</td>\n",
       "      <td>1</td>\n",
       "      <td>0</td>\n",
       "    </tr>\n",
       "    <tr>\n",
       "      <th>1584</th>\n",
       "      <td>2025-06-10 18:16:50+00:00</td>\n",
       "      <td>2025-06-10 18:28:05+00:00</td>\n",
       "      <td>NaN</td>\n",
       "      <td>60.0</td>\n",
       "      <td>60.0</td>\n",
       "      <td>{'hierarchyLevel': 0, 'probability': 0.8980365...</td>\n",
       "      <td>NaN</td>\n",
       "      <td>NaN</td>\n",
       "      <td>0</td>\n",
       "      <td>1</td>\n",
       "      <td>0</td>\n",
       "    </tr>\n",
       "    <tr>\n",
       "      <th>1587</th>\n",
       "      <td>2025-06-10 19:48:24+00:00</td>\n",
       "      <td>2025-06-10 20:41:09+00:00</td>\n",
       "      <td>NaN</td>\n",
       "      <td>60.0</td>\n",
       "      <td>60.0</td>\n",
       "      <td>{'hierarchyLevel': 0, 'probability': 0.9346877...</td>\n",
       "      <td>NaN</td>\n",
       "      <td>NaN</td>\n",
       "      <td>0</td>\n",
       "      <td>1</td>\n",
       "      <td>0</td>\n",
       "    </tr>\n",
       "    <tr>\n",
       "      <th>1591</th>\n",
       "      <td>2025-06-10 23:08:35+00:00</td>\n",
       "      <td>2025-06-10 23:27:29+00:00</td>\n",
       "      <td>NaN</td>\n",
       "      <td>60.0</td>\n",
       "      <td>60.0</td>\n",
       "      <td>{'hierarchyLevel': 0, 'probability': 0.9765983...</td>\n",
       "      <td>NaN</td>\n",
       "      <td>NaN</td>\n",
       "      <td>0</td>\n",
       "      <td>1</td>\n",
       "      <td>0</td>\n",
       "    </tr>\n",
       "    <tr>\n",
       "      <th>1594</th>\n",
       "      <td>2025-06-11 01:15:59+00:00</td>\n",
       "      <td>2025-06-11 07:28:51+00:00</td>\n",
       "      <td>NaN</td>\n",
       "      <td>120.0</td>\n",
       "      <td>120.0</td>\n",
       "      <td>{'hierarchyLevel': 0, 'probability': 0.8556634...</td>\n",
       "      <td>NaN</td>\n",
       "      <td>NaN</td>\n",
       "      <td>0</td>\n",
       "      <td>1</td>\n",
       "      <td>0</td>\n",
       "    </tr>\n",
       "    <tr>\n",
       "      <th>...</th>\n",
       "      <td>...</td>\n",
       "      <td>...</td>\n",
       "      <td>...</td>\n",
       "      <td>...</td>\n",
       "      <td>...</td>\n",
       "      <td>...</td>\n",
       "      <td>...</td>\n",
       "      <td>...</td>\n",
       "      <td>...</td>\n",
       "      <td>...</td>\n",
       "      <td>...</td>\n",
       "    </tr>\n",
       "    <tr>\n",
       "      <th>3517</th>\n",
       "      <td>2025-09-14 09:31:12+00:00</td>\n",
       "      <td>2025-09-14 09:36:16+00:00</td>\n",
       "      <td>NaN</td>\n",
       "      <td>120.0</td>\n",
       "      <td>120.0</td>\n",
       "      <td>{'hierarchyLevel': 1, 'probability': 0.9147563...</td>\n",
       "      <td>NaN</td>\n",
       "      <td>NaN</td>\n",
       "      <td>0</td>\n",
       "      <td>1</td>\n",
       "      <td>0</td>\n",
       "    </tr>\n",
       "    <tr>\n",
       "      <th>3521</th>\n",
       "      <td>2025-09-14 13:19:37+00:00</td>\n",
       "      <td>2025-09-14 16:45:53+00:00</td>\n",
       "      <td>NaN</td>\n",
       "      <td>120.0</td>\n",
       "      <td>120.0</td>\n",
       "      <td>{'hierarchyLevel': 0, 'probability': 0.8980224...</td>\n",
       "      <td>NaN</td>\n",
       "      <td>NaN</td>\n",
       "      <td>0</td>\n",
       "      <td>1</td>\n",
       "      <td>0</td>\n",
       "    </tr>\n",
       "    <tr>\n",
       "      <th>3524</th>\n",
       "      <td>2025-09-14 17:03:23+00:00</td>\n",
       "      <td>2025-09-14 17:12:00+00:00</td>\n",
       "      <td>NaN</td>\n",
       "      <td>120.0</td>\n",
       "      <td>120.0</td>\n",
       "      <td>{'hierarchyLevel': 0, 'probability': 0.6261401...</td>\n",
       "      <td>NaN</td>\n",
       "      <td>NaN</td>\n",
       "      <td>0</td>\n",
       "      <td>1</td>\n",
       "      <td>0</td>\n",
       "    </tr>\n",
       "    <tr>\n",
       "      <th>3529</th>\n",
       "      <td>2025-09-14 22:12:53+00:00</td>\n",
       "      <td>2025-09-14 22:36:11+00:00</td>\n",
       "      <td>NaN</td>\n",
       "      <td>120.0</td>\n",
       "      <td>120.0</td>\n",
       "      <td>{'hierarchyLevel': 0, 'probability': 0.7590447...</td>\n",
       "      <td>NaN</td>\n",
       "      <td>NaN</td>\n",
       "      <td>0</td>\n",
       "      <td>1</td>\n",
       "      <td>0</td>\n",
       "    </tr>\n",
       "    <tr>\n",
       "      <th>3531</th>\n",
       "      <td>2025-09-14 22:51:35+00:00</td>\n",
       "      <td>2025-09-15 09:16:07+00:00</td>\n",
       "      <td>NaN</td>\n",
       "      <td>120.0</td>\n",
       "      <td>120.0</td>\n",
       "      <td>{'hierarchyLevel': 0, 'probability': 0.8831765...</td>\n",
       "      <td>NaN</td>\n",
       "      <td>NaN</td>\n",
       "      <td>0</td>\n",
       "      <td>1</td>\n",
       "      <td>0</td>\n",
       "    </tr>\n",
       "  </tbody>\n",
       "</table>\n",
       "<p>591 rows × 11 columns</p>\n",
       "</div>"
      ],
      "text/plain": [
       "                     startTime                   endTime timelinePath  \\\n",
       "1582 2025-06-10 17:56:49+00:00 2025-06-10 18:07:20+00:00          NaN   \n",
       "1584 2025-06-10 18:16:50+00:00 2025-06-10 18:28:05+00:00          NaN   \n",
       "1587 2025-06-10 19:48:24+00:00 2025-06-10 20:41:09+00:00          NaN   \n",
       "1591 2025-06-10 23:08:35+00:00 2025-06-10 23:27:29+00:00          NaN   \n",
       "1594 2025-06-11 01:15:59+00:00 2025-06-11 07:28:51+00:00          NaN   \n",
       "...                        ...                       ...          ...   \n",
       "3517 2025-09-14 09:31:12+00:00 2025-09-14 09:36:16+00:00          NaN   \n",
       "3521 2025-09-14 13:19:37+00:00 2025-09-14 16:45:53+00:00          NaN   \n",
       "3524 2025-09-14 17:03:23+00:00 2025-09-14 17:12:00+00:00          NaN   \n",
       "3529 2025-09-14 22:12:53+00:00 2025-09-14 22:36:11+00:00          NaN   \n",
       "3531 2025-09-14 22:51:35+00:00 2025-09-15 09:16:07+00:00          NaN   \n",
       "\n",
       "      startTimeTimezoneUtcOffsetMinutes  endTimeTimezoneUtcOffsetMinutes  \\\n",
       "1582                               60.0                             60.0   \n",
       "1584                               60.0                             60.0   \n",
       "1587                               60.0                             60.0   \n",
       "1591                               60.0                             60.0   \n",
       "1594                              120.0                            120.0   \n",
       "...                                 ...                              ...   \n",
       "3517                              120.0                            120.0   \n",
       "3521                              120.0                            120.0   \n",
       "3524                              120.0                            120.0   \n",
       "3529                              120.0                            120.0   \n",
       "3531                              120.0                            120.0   \n",
       "\n",
       "                                                  visit activity  \\\n",
       "1582  {'hierarchyLevel': 0, 'probability': 0.8130363...      NaN   \n",
       "1584  {'hierarchyLevel': 0, 'probability': 0.8980365...      NaN   \n",
       "1587  {'hierarchyLevel': 0, 'probability': 0.9346877...      NaN   \n",
       "1591  {'hierarchyLevel': 0, 'probability': 0.9765983...      NaN   \n",
       "1594  {'hierarchyLevel': 0, 'probability': 0.8556634...      NaN   \n",
       "...                                                 ...      ...   \n",
       "3517  {'hierarchyLevel': 1, 'probability': 0.9147563...      NaN   \n",
       "3521  {'hierarchyLevel': 0, 'probability': 0.8980224...      NaN   \n",
       "3524  {'hierarchyLevel': 0, 'probability': 0.6261401...      NaN   \n",
       "3529  {'hierarchyLevel': 0, 'probability': 0.7590447...      NaN   \n",
       "3531  {'hierarchyLevel': 0, 'probability': 0.8831765...      NaN   \n",
       "\n",
       "     timelineMemory  is_path  is_visit  is_activity  \n",
       "1582            NaN        0         1            0  \n",
       "1584            NaN        0         1            0  \n",
       "1587            NaN        0         1            0  \n",
       "1591            NaN        0         1            0  \n",
       "1594            NaN        0         1            0  \n",
       "...             ...      ...       ...          ...  \n",
       "3517            NaN        0         1            0  \n",
       "3521            NaN        0         1            0  \n",
       "3524            NaN        0         1            0  \n",
       "3529            NaN        0         1            0  \n",
       "3531            NaN        0         1            0  \n",
       "\n",
       "[591 rows x 11 columns]"
      ]
     },
     "execution_count": 7,
     "metadata": {},
     "output_type": "execute_result"
    }
   ],
   "source": [
    "visit_df = timeline_semantic_df[timeline_semantic_df['is_visit']== 1]\n",
    "visit_df"
   ]
  },
  {
   "cell_type": "code",
   "execution_count": 8,
   "id": "67777939",
   "metadata": {},
   "outputs": [
    {
     "data": {
      "text/html": [
       "<div>\n",
       "<style scoped>\n",
       "    .dataframe tbody tr th:only-of-type {\n",
       "        vertical-align: middle;\n",
       "    }\n",
       "\n",
       "    .dataframe tbody tr th {\n",
       "        vertical-align: top;\n",
       "    }\n",
       "\n",
       "    .dataframe thead th {\n",
       "        text-align: right;\n",
       "    }\n",
       "</style>\n",
       "<table border=\"1\" class=\"dataframe\">\n",
       "  <thead>\n",
       "    <tr style=\"text-align: right;\">\n",
       "      <th></th>\n",
       "      <th>startTime</th>\n",
       "      <th>endTime</th>\n",
       "      <th>timelinePath</th>\n",
       "      <th>startTimeTimezoneUtcOffsetMinutes</th>\n",
       "      <th>endTimeTimezoneUtcOffsetMinutes</th>\n",
       "      <th>visit</th>\n",
       "      <th>activity</th>\n",
       "      <th>timelineMemory</th>\n",
       "      <th>is_path</th>\n",
       "      <th>is_visit</th>\n",
       "      <th>is_activity</th>\n",
       "    </tr>\n",
       "  </thead>\n",
       "  <tbody>\n",
       "    <tr>\n",
       "      <th>1581</th>\n",
       "      <td>2025-06-10 17:55:24+00:00</td>\n",
       "      <td>2025-06-10 17:56:49+00:00</td>\n",
       "      <td>NaN</td>\n",
       "      <td>60.0</td>\n",
       "      <td>60.0</td>\n",
       "      <td>NaN</td>\n",
       "      <td>{'start': {'latLng': '38.7618339°, -9.2763392°...</td>\n",
       "      <td>NaN</td>\n",
       "      <td>0</td>\n",
       "      <td>0</td>\n",
       "      <td>1</td>\n",
       "    </tr>\n",
       "    <tr>\n",
       "      <th>1583</th>\n",
       "      <td>2025-06-10 18:07:20+00:00</td>\n",
       "      <td>2025-06-10 18:16:50+00:00</td>\n",
       "      <td>NaN</td>\n",
       "      <td>60.0</td>\n",
       "      <td>60.0</td>\n",
       "      <td>NaN</td>\n",
       "      <td>{'start': {'latLng': '38.7574055°, -9.2782758°...</td>\n",
       "      <td>NaN</td>\n",
       "      <td>0</td>\n",
       "      <td>0</td>\n",
       "      <td>1</td>\n",
       "    </tr>\n",
       "    <tr>\n",
       "      <th>1585</th>\n",
       "      <td>2025-06-10 18:28:05+00:00</td>\n",
       "      <td>2025-06-10 19:48:24+00:00</td>\n",
       "      <td>NaN</td>\n",
       "      <td>60.0</td>\n",
       "      <td>60.0</td>\n",
       "      <td>NaN</td>\n",
       "      <td>{'start': {'latLng': '38.7681933°, -9.2788833°...</td>\n",
       "      <td>NaN</td>\n",
       "      <td>0</td>\n",
       "      <td>0</td>\n",
       "      <td>1</td>\n",
       "    </tr>\n",
       "    <tr>\n",
       "      <th>1588</th>\n",
       "      <td>2025-06-10 20:41:09+00:00</td>\n",
       "      <td>2025-06-10 23:08:35+00:00</td>\n",
       "      <td>NaN</td>\n",
       "      <td>60.0</td>\n",
       "      <td>60.0</td>\n",
       "      <td>NaN</td>\n",
       "      <td>{'start': {'latLng': '39.4782535°, -8.6229802°...</td>\n",
       "      <td>NaN</td>\n",
       "      <td>0</td>\n",
       "      <td>0</td>\n",
       "      <td>1</td>\n",
       "    </tr>\n",
       "    <tr>\n",
       "      <th>1592</th>\n",
       "      <td>2025-06-10 23:27:29+00:00</td>\n",
       "      <td>2025-06-11 01:15:59+00:00</td>\n",
       "      <td>NaN</td>\n",
       "      <td>60.0</td>\n",
       "      <td>120.0</td>\n",
       "      <td>NaN</td>\n",
       "      <td>{'start': {'latLng': '40.5441649°, -7.2152921°...</td>\n",
       "      <td>NaN</td>\n",
       "      <td>0</td>\n",
       "      <td>0</td>\n",
       "      <td>1</td>\n",
       "    </tr>\n",
       "    <tr>\n",
       "      <th>1597</th>\n",
       "      <td>2025-06-11 07:28:51+00:00</td>\n",
       "      <td>2025-06-11 07:33:45+00:00</td>\n",
       "      <td>NaN</td>\n",
       "      <td>120.0</td>\n",
       "      <td>120.0</td>\n",
       "      <td>NaN</td>\n",
       "      <td>{'start': {'latLng': '40.9579873°, -5.686314°'...</td>\n",
       "      <td>NaN</td>\n",
       "      <td>0</td>\n",
       "      <td>0</td>\n",
       "      <td>1</td>\n",
       "    </tr>\n",
       "    <tr>\n",
       "      <th>1599</th>\n",
       "      <td>2025-06-11 07:47:13+00:00</td>\n",
       "      <td>2025-06-11 10:17:01+00:00</td>\n",
       "      <td>NaN</td>\n",
       "      <td>120.0</td>\n",
       "      <td>120.0</td>\n",
       "      <td>NaN</td>\n",
       "      <td>{'start': {'latLng': '40.9556617°, -5.67277°'}...</td>\n",
       "      <td>NaN</td>\n",
       "      <td>0</td>\n",
       "      <td>0</td>\n",
       "      <td>1</td>\n",
       "    </tr>\n",
       "    <tr>\n",
       "      <th>1603</th>\n",
       "      <td>2025-06-11 16:43:58+00:00</td>\n",
       "      <td>2025-06-11 18:40:23+00:00</td>\n",
       "      <td>NaN</td>\n",
       "      <td>120.0</td>\n",
       "      <td>120.0</td>\n",
       "      <td>NaN</td>\n",
       "      <td>{'start': {'latLng': '42.5832225°, -5.5561849°...</td>\n",
       "      <td>NaN</td>\n",
       "      <td>0</td>\n",
       "      <td>0</td>\n",
       "      <td>1</td>\n",
       "    </tr>\n",
       "    <tr>\n",
       "      <th>1612</th>\n",
       "      <td>2025-06-12 14:38:49+00:00</td>\n",
       "      <td>2025-06-12 15:01:55+00:00</td>\n",
       "      <td>NaN</td>\n",
       "      <td>120.0</td>\n",
       "      <td>120.0</td>\n",
       "      <td>NaN</td>\n",
       "      <td>{'start': {'latLng': '43.3827817°, -5.8240418°...</td>\n",
       "      <td>NaN</td>\n",
       "      <td>0</td>\n",
       "      <td>0</td>\n",
       "      <td>1</td>\n",
       "    </tr>\n",
       "    <tr>\n",
       "      <th>1615</th>\n",
       "      <td>2025-06-12 16:45:43+00:00</td>\n",
       "      <td>2025-06-12 16:55:39+00:00</td>\n",
       "      <td>NaN</td>\n",
       "      <td>120.0</td>\n",
       "      <td>120.0</td>\n",
       "      <td>NaN</td>\n",
       "      <td>{'start': {'latLng': '43.3825914°, -5.821921°'...</td>\n",
       "      <td>NaN</td>\n",
       "      <td>0</td>\n",
       "      <td>0</td>\n",
       "      <td>1</td>\n",
       "    </tr>\n",
       "  </tbody>\n",
       "</table>\n",
       "</div>"
      ],
      "text/plain": [
       "                     startTime                   endTime timelinePath  \\\n",
       "1581 2025-06-10 17:55:24+00:00 2025-06-10 17:56:49+00:00          NaN   \n",
       "1583 2025-06-10 18:07:20+00:00 2025-06-10 18:16:50+00:00          NaN   \n",
       "1585 2025-06-10 18:28:05+00:00 2025-06-10 19:48:24+00:00          NaN   \n",
       "1588 2025-06-10 20:41:09+00:00 2025-06-10 23:08:35+00:00          NaN   \n",
       "1592 2025-06-10 23:27:29+00:00 2025-06-11 01:15:59+00:00          NaN   \n",
       "1597 2025-06-11 07:28:51+00:00 2025-06-11 07:33:45+00:00          NaN   \n",
       "1599 2025-06-11 07:47:13+00:00 2025-06-11 10:17:01+00:00          NaN   \n",
       "1603 2025-06-11 16:43:58+00:00 2025-06-11 18:40:23+00:00          NaN   \n",
       "1612 2025-06-12 14:38:49+00:00 2025-06-12 15:01:55+00:00          NaN   \n",
       "1615 2025-06-12 16:45:43+00:00 2025-06-12 16:55:39+00:00          NaN   \n",
       "\n",
       "      startTimeTimezoneUtcOffsetMinutes  endTimeTimezoneUtcOffsetMinutes  \\\n",
       "1581                               60.0                             60.0   \n",
       "1583                               60.0                             60.0   \n",
       "1585                               60.0                             60.0   \n",
       "1588                               60.0                             60.0   \n",
       "1592                               60.0                            120.0   \n",
       "1597                              120.0                            120.0   \n",
       "1599                              120.0                            120.0   \n",
       "1603                              120.0                            120.0   \n",
       "1612                              120.0                            120.0   \n",
       "1615                              120.0                            120.0   \n",
       "\n",
       "     visit                                           activity timelineMemory  \\\n",
       "1581   NaN  {'start': {'latLng': '38.7618339°, -9.2763392°...            NaN   \n",
       "1583   NaN  {'start': {'latLng': '38.7574055°, -9.2782758°...            NaN   \n",
       "1585   NaN  {'start': {'latLng': '38.7681933°, -9.2788833°...            NaN   \n",
       "1588   NaN  {'start': {'latLng': '39.4782535°, -8.6229802°...            NaN   \n",
       "1592   NaN  {'start': {'latLng': '40.5441649°, -7.2152921°...            NaN   \n",
       "1597   NaN  {'start': {'latLng': '40.9579873°, -5.686314°'...            NaN   \n",
       "1599   NaN  {'start': {'latLng': '40.9556617°, -5.67277°'}...            NaN   \n",
       "1603   NaN  {'start': {'latLng': '42.5832225°, -5.5561849°...            NaN   \n",
       "1612   NaN  {'start': {'latLng': '43.3827817°, -5.8240418°...            NaN   \n",
       "1615   NaN  {'start': {'latLng': '43.3825914°, -5.821921°'...            NaN   \n",
       "\n",
       "      is_path  is_visit  is_activity  \n",
       "1581        0         0            1  \n",
       "1583        0         0            1  \n",
       "1585        0         0            1  \n",
       "1588        0         0            1  \n",
       "1592        0         0            1  \n",
       "1597        0         0            1  \n",
       "1599        0         0            1  \n",
       "1603        0         0            1  \n",
       "1612        0         0            1  \n",
       "1615        0         0            1  "
      ]
     },
     "execution_count": 8,
     "metadata": {},
     "output_type": "execute_result"
    }
   ],
   "source": [
    "activity_df = timeline_semantic_df[timeline_semantic_df['is_activity']== 1]\n",
    "activity_df.head(10)\n",
    "\n"
   ]
  },
  {
   "cell_type": "code",
   "execution_count": 9,
   "id": "865cfa25",
   "metadata": {},
   "outputs": [
    {
     "data": {
      "text/plain": [
       "{'start': {'latLng': '38.7618339°, -9.2763392°'},\n",
       " 'end': {'latLng': '38.7582009°, -9.2778764°'},\n",
       " 'distanceMeters': 522.3447875976562,\n",
       " 'probability': 0.998599648475647,\n",
       " 'topCandidate': {'type': 'IN_PASSENGER_VEHICLE',\n",
       "  'probability': 0.9617140889167786},\n",
       " 'parking': {'location': {'latLng': '38.7582009°, -9.2778764°'},\n",
       "  'startTime': '2025-06-10T19:56:49.000+02:00'}}"
      ]
     },
     "execution_count": 9,
     "metadata": {},
     "output_type": "execute_result"
    }
   ],
   "source": [
    "activity_df['activity'].iloc[0]"
   ]
  },
  {
   "cell_type": "code",
   "execution_count": 10,
   "id": "248b9aa7",
   "metadata": {},
   "outputs": [],
   "source": [
    "# Explode activity column and extract specific fields\n",
    "activity_expanded = pd.json_normalize(activity_df['activity'])\n",
    "\n",
    "# Extract coordinates from latLng strings\n",
    "activity_expanded['start_latitude'] = activity_expanded['start.latLng'].str.extract(r'([\\d.-]+)°').astype(float)\n",
    "activity_expanded['start_longitude'] = activity_expanded['start.latLng'].str.extract(r', ([\\d.-]+)°').astype(float)\n",
    "activity_expanded['end_latitude'] = activity_expanded['end.latLng'].str.extract(r'([\\d.-]+)°').astype(float)\n",
    "activity_expanded['end_longitude'] = activity_expanded['end.latLng'].str.extract(r', ([\\d.-]+)°').astype(float)\n",
    "activity_expanded['parking_latitude'] = activity_expanded['parking.location.latLng'].str.extract(r'([\\d.-]+)°').astype(float)\n",
    "activity_expanded['parking_longitude'] = activity_expanded['parking.location.latLng'].str.extract(r', ([\\d.-]+)°').astype(float)\n",
    "\n",
    "# Select only the columns you want\n",
    "clean_cols = ['start_latitude', 'start_longitude', 'end_latitude', 'end_longitude', \n",
    "              'distanceMeters', 'probability', 'topCandidate.type', 'parking.startTime',\n",
    "              'parking_latitude', 'parking_longitude']\n",
    "\n",
    "activity_final = pd.concat([activity_df.reset_index(drop=True), \n",
    "                           activity_expanded[clean_cols].reset_index(drop=True)], axis=1)\n"
   ]
  },
  {
   "cell_type": "code",
   "execution_count": 11,
   "id": "811926c0",
   "metadata": {},
   "outputs": [
    {
     "name": "stdout",
     "output_type": "stream",
     "text": [
      "Data available from 2025-06-10 to 2025-09-14\n",
      "Total activities: 604\n"
     ]
    },
    {
     "data": {
      "application/vnd.jupyter.widget-view+json": {
       "model_id": "6757da353df440efb04ca2aca5eaa94f",
       "version_major": 2,
       "version_minor": 0
      },
      "text/plain": [
       "HBox(children=(DatePicker(value=datetime.date(2025, 6, 10), description='Start Date:', step=1, style=Descripti…"
      ]
     },
     "metadata": {},
     "output_type": "display_data"
    },
    {
     "data": {
      "application/vnd.plotly.v1+json": {
       "config": {
        "plotlyServerURL": "https://plot.ly"
       },
       "data": [
        {
         "hovertemplate": "<b>IN_PASSENGER_VEHICLE</b><br>Distance: 522m<br>Date: 2025-06-10<br>Time: 17:55 - 17:56<br>Duration: 0.0h<extra></extra>",
         "lat": [
          38.7618339,
          38.7582009
         ],
         "line": {
          "color": "#1f77b4",
          "width": 4
         },
         "lon": [
          -9.2763392,
          -9.2778764
         ],
         "mode": "lines",
         "name": "IN_PASSENGER_VEHICLE",
         "showlegend": true,
         "type": "scattermap"
        },
        {
         "hovertemplate": "<b>IN_PASSENGER_VEHICLE</b><br>Distance: 1046m<br>Date: 2025-06-10<br>Time: 18:07 - 18:16<br>Duration: 0.2h<extra></extra>",
         "lat": [
          38.7574055,
          38.7667223
         ],
         "line": {
          "color": "#1f77b4",
          "width": 4
         },
         "lon": [
          -9.2782758,
          -9.2799314
         ],
         "mode": "lines",
         "name": "IN_PASSENGER_VEHICLE",
         "showlegend": false,
         "type": "scattermap"
        },
        {
         "hovertemplate": "<b>IN_PASSENGER_VEHICLE</b><br>Distance: 108326m<br>Date: 2025-06-10<br>Time: 18:28 - 19:48<br>Duration: 1.3h<extra></extra>",
         "lat": [
          38.7681933,
          39.4783485
         ],
         "line": {
          "color": "#1f77b4",
          "width": 4
         },
         "lon": [
          -9.2788833,
          -8.6239399
         ],
         "mode": "lines",
         "name": "IN_PASSENGER_VEHICLE",
         "showlegend": false,
         "type": "scattermap"
        },
        {
         "hovertemplate": "<b>IN_PASSENGER_VEHICLE</b><br>Distance: 207721m<br>Date: 2025-06-10<br>Time: 20:41 - 23:08<br>Duration: 2.5h<extra></extra>",
         "lat": [
          39.4782535,
          40.542306
         ],
         "line": {
          "color": "#1f77b4",
          "width": 4
         },
         "lon": [
          -8.6229802,
          -7.2163269
         ],
         "mode": "lines",
         "name": "IN_PASSENGER_VEHICLE",
         "showlegend": false,
         "type": "scattermap"
        },
        {
         "hovertemplate": "<b>IN_PASSENGER_VEHICLE</b><br>Distance: 150988m<br>Date: 2025-06-10<br>Time: 23:27 - 01:15<br>Duration: 1.8h<extra></extra>",
         "lat": [
          40.5441649,
          40.9581328
         ],
         "line": {
          "color": "#1f77b4",
          "width": 4
         },
         "lon": [
          -7.2152921,
          -5.6863592
         ],
         "mode": "lines",
         "name": "IN_PASSENGER_VEHICLE",
         "showlegend": false,
         "type": "scattermap"
        },
        {
         "hovertemplate": "<b>IN_PASSENGER_VEHICLE</b><br>Distance: 1678m<br>Date: 2025-06-11<br>Time: 07:28 - 07:33<br>Duration: 0.1h<extra></extra>",
         "lat": [
          40.9579873,
          40.9556791
         ],
         "line": {
          "color": "#1f77b4",
          "width": 4
         },
         "lon": [
          -5.686314,
          -5.6724368
         ],
         "mode": "lines",
         "name": "IN_PASSENGER_VEHICLE",
         "showlegend": false,
         "type": "scattermap"
        },
        {
         "hovertemplate": "<b>IN_PASSENGER_VEHICLE</b><br>Distance: 206761m<br>Date: 2025-06-11<br>Time: 07:47 - 10:17<br>Duration: 2.5h<extra></extra>",
         "lat": [
          40.9556617,
          42.582459
         ],
         "line": {
          "color": "#1f77b4",
          "width": 4
         },
         "lon": [
          -5.67277,
          -5.5556012
         ],
         "mode": "lines",
         "name": "IN_PASSENGER_VEHICLE",
         "showlegend": false,
         "type": "scattermap"
        },
        {
         "hovertemplate": "<b>IN_PASSENGER_VEHICLE</b><br>Distance: 127372m<br>Date: 2025-06-11<br>Time: 16:43 - 18:40<br>Duration: 1.9h<extra></extra>",
         "lat": [
          42.5832225,
          43.3823775
         ],
         "line": {
          "color": "#1f77b4",
          "width": 4
         },
         "lon": [
          -5.5561849,
          -5.8243337
         ],
         "mode": "lines",
         "name": "IN_PASSENGER_VEHICLE",
         "showlegend": false,
         "type": "scattermap"
        },
        {
         "hovertemplate": "<b>IN_PASSENGER_VEHICLE</b><br>Distance: 6849m<br>Date: 2025-06-12<br>Time: 14:38 - 15:01<br>Duration: 0.4h<extra></extra>",
         "lat": [
          43.3827817,
          43.3837545
         ],
         "line": {
          "color": "#1f77b4",
          "width": 4
         },
         "lon": [
          -5.8240418,
          -5.8233786
         ],
         "mode": "lines",
         "name": "IN_PASSENGER_VEHICLE",
         "showlegend": false,
         "type": "scattermap"
        },
        {
         "hovertemplate": "<b>IN_PASSENGER_VEHICLE</b><br>Distance: 6776m<br>Date: 2025-06-12<br>Time: 16:45 - 16:55<br>Duration: 0.2h<extra></extra>",
         "lat": [
          43.3825914,
          43.4121322
         ],
         "line": {
          "color": "#1f77b4",
          "width": 4
         },
         "lon": [
          -5.821921,
          -5.7967948
         ],
         "mode": "lines",
         "name": "IN_PASSENGER_VEHICLE",
         "showlegend": false,
         "type": "scattermap"
        },
        {
         "hovertemplate": "<b>IN_PASSENGER_VEHICLE</b><br>Distance: 109463m<br>Date: 2025-06-12<br>Time: 17:36 - 20:00<br>Duration: 2.4h<extra></extra>",
         "lat": [
          43.4152339,
          43.1243716
         ],
         "line": {
          "color": "#1f77b4",
          "width": 4
         },
         "lon": [
          -5.7980125,
          -4.9826231
         ],
         "mode": "lines",
         "name": "IN_PASSENGER_VEHICLE",
         "showlegend": false,
         "type": "scattermap"
        },
        {
         "hovertemplate": "<b>IN_PASSENGER_VEHICLE</b><br>Distance: 11777m<br>Date: 2025-06-12<br>Time: 20:07 - 20:32<br>Duration: 0.4h<extra></extra>",
         "lat": [
          43.1270679,
          43.1295963
         ],
         "line": {
          "color": "#1f77b4",
          "width": 4
         },
         "lon": [
          -4.9794326,
          -4.8839777
         ],
         "mode": "lines",
         "name": "IN_PASSENGER_VEHICLE",
         "showlegend": false,
         "type": "scattermap"
        },
        {
         "hovertemplate": "<b>IN_PASSENGER_VEHICLE</b><br>Distance: 4297m<br>Date: 2025-06-13<br>Time: 08:02 - 08:12<br>Duration: 0.2h<extra></extra>",
         "lat": [
          43.129253,
          43.1517353
         ],
         "line": {
          "color": "#1f77b4",
          "width": 4
         },
         "lon": [
          -4.8836409,
          -4.9165267
         ],
         "mode": "lines",
         "name": "IN_PASSENGER_VEHICLE",
         "showlegend": false,
         "type": "scattermap"
        },
        {
         "hovertemplate": "<b>IN_PASSENGER_VEHICLE</b><br>Distance: 4180m<br>Date: 2025-06-13<br>Time: 15:26 - 15:37<br>Duration: 0.2h<extra></extra>",
         "lat": [
          43.1515044,
          43.1288684
         ],
         "line": {
          "color": "#1f77b4",
          "width": 4
         },
         "lon": [
          -4.9176418,
          -4.8830969
         ],
         "mode": "lines",
         "name": "IN_PASSENGER_VEHICLE",
         "showlegend": false,
         "type": "scattermap"
        },
        {
         "hovertemplate": "<b>IN_PASSENGER_VEHICLE</b><br>Distance: 3902m<br>Date: 2025-06-13<br>Time: 18:44 - 18:56<br>Duration: 0.2h<extra></extra>",
         "lat": [
          43.12834,
          43.1520148
         ],
         "line": {
          "color": "#1f77b4",
          "width": 4
         },
         "lon": [
          -4.8826467,
          -4.917684
         ],
         "mode": "lines",
         "name": "IN_PASSENGER_VEHICLE",
         "showlegend": false,
         "type": "scattermap"
        },
        {
         "hovertemplate": "<b>IN_PASSENGER_VEHICLE</b><br>Distance: 53100m<br>Date: 2025-06-14<br>Time: 09:08 - 10:41<br>Duration: 1.6h<extra></extra>",
         "lat": [
          43.1518404,
          43.3507967
         ],
         "line": {
          "color": "#1f77b4",
          "width": 4
         },
         "lon": [
          -4.9178713,
          -5.1244636
         ],
         "mode": "lines",
         "name": "IN_PASSENGER_VEHICLE",
         "showlegend": false,
         "type": "scattermap"
        },
        {
         "hovertemplate": "<b>IN_PASSENGER_VEHICLE</b><br>Distance: 95896m<br>Date: 2025-06-14<br>Time: 13:44 - 15:06<br>Duration: 1.4h<extra></extra>",
         "lat": [
          43.3518533,
          43.3278496
         ],
         "line": {
          "color": "#1f77b4",
          "width": 4
         },
         "lon": [
          -5.1249668,
          -4.1909826
         ],
         "mode": "lines",
         "name": "IN_PASSENGER_VEHICLE",
         "showlegend": false,
         "type": "scattermap"
        },
        {
         "hovertemplate": "<b>IN_PASSENGER_VEHICLE</b><br>Distance: 131472m<br>Date: 2025-06-14<br>Time: 15:26 - 17:15<br>Duration: 1.8h<extra></extra>",
         "lat": [
          43.3283919,
          43.2857456
         ],
         "line": {
          "color": "#1f77b4",
          "width": 4
         },
         "lon": [
          -4.1915483,
          -2.8641832
         ],
         "mode": "lines",
         "name": "IN_PASSENGER_VEHICLE",
         "showlegend": false,
         "type": "scattermap"
        },
        {
         "hovertemplate": "<b>IN_PASSENGER_VEHICLE</b><br>Distance: 10888m<br>Date: 2025-06-15<br>Time: 08:16 - 08:50<br>Duration: 0.6h<extra></extra>",
         "lat": [
          43.2857695,
          43.2856162
         ],
         "line": {
          "color": "#1f77b4",
          "width": 4
         },
         "lon": [
          -2.8636443,
          -2.8648299
         ],
         "mode": "lines",
         "name": "IN_PASSENGER_VEHICLE",
         "showlegend": false,
         "type": "scattermap"
        },
        {
         "hovertemplate": "<b>IN_PASSENGER_VEHICLE</b><br>Distance: 7400m<br>Date: 2025-06-16<br>Time: 07:16 - 07:28<br>Duration: 0.2h<extra></extra>",
         "lat": [
          43.2855243,
          43.3063345
         ],
         "line": {
          "color": "#1f77b4",
          "width": 4
         },
         "lon": [
          -2.8648536,
          -2.9078603
         ],
         "mode": "lines",
         "name": "IN_PASSENGER_VEHICLE",
         "showlegend": false,
         "type": "scattermap"
        },
        {
         "hovertemplate": "<b>IN_PASSENGER_VEHICLE</b><br>Distance: 5257m<br>Date: 2025-06-16<br>Time: 07:34 - 07:42<br>Duration: 0.1h<extra></extra>",
         "lat": [
          43.3057533,
          43.2850966
         ],
         "line": {
          "color": "#1f77b4",
          "width": 4
         },
         "lon": [
          -2.9060917,
          -2.8656442
         ],
         "mode": "lines",
         "name": "IN_PASSENGER_VEHICLE",
         "showlegend": false,
         "type": "scattermap"
        },
        {
         "hovertemplate": "<b>IN_PASSENGER_VEHICLE</b><br>Distance: 845m<br>Date: 2025-06-19<br>Time: 07:32 - 07:35<br>Duration: 0.0h<extra></extra>",
         "lat": [
          43.2850219,
          43.2856818
         ],
         "line": {
          "color": "#1f77b4",
          "width": 4
         },
         "lon": [
          -2.8652561,
          -2.8716042
         ],
         "mode": "lines",
         "name": "IN_PASSENGER_VEHICLE",
         "showlegend": false,
         "type": "scattermap"
        },
        {
         "hovertemplate": "<b>IN_PASSENGER_VEHICLE</b><br>Distance: 17015m<br>Date: 2025-06-19<br>Time: 07:45 - 08:04<br>Duration: 0.3h<extra></extra>",
         "lat": [
          43.2857759,
          43.3113298
         ],
         "line": {
          "color": "#1f77b4",
          "width": 4
         },
         "lon": [
          -2.8739557,
          -3.018897
         ],
         "mode": "lines",
         "name": "IN_PASSENGER_VEHICLE",
         "showlegend": false,
         "type": "scattermap"
        },
        {
         "hovertemplate": "<b>IN_PASSENGER_VEHICLE</b><br>Distance: 49865m<br>Date: 2025-06-19<br>Time: 11:08 - 12:09<br>Duration: 1.0h<extra></extra>",
         "lat": [
          43.3113567,
          43.4460375
         ],
         "line": {
          "color": "#1f77b4",
          "width": 4
         },
         "lon": [
          -3.0188873,
          -2.7582474
         ],
         "mode": "lines",
         "name": "IN_PASSENGER_VEHICLE",
         "showlegend": false,
         "type": "scattermap"
        },
        {
         "hovertemplate": "<b>IN_PASSENGER_VEHICLE</b><br>Distance: 8897m<br>Date: 2025-06-19<br>Time: 14:13 - 14:35<br>Duration: 0.4h<extra></extra>",
         "lat": [
          43.4426994,
          43.407905
         ],
         "line": {
          "color": "#1f77b4",
          "width": 4
         },
         "lon": [
          -2.7720252,
          -2.7018101
         ],
         "mode": "lines",
         "name": "IN_PASSENGER_VEHICLE",
         "showlegend": false,
         "type": "scattermap"
        },
        {
         "hovertemplate": "<b>IN_PASSENGER_VEHICLE</b><br>Distance: 29992m<br>Date: 2025-06-19<br>Time: 16:15 - 17:03<br>Duration: 0.8h<extra></extra>",
         "lat": [
          43.407452,
          43.358535
         ],
         "line": {
          "color": "#1f77b4",
          "width": 4
         },
         "lon": [
          -2.7024585,
          -2.5062322
         ],
         "mode": "lines",
         "name": "IN_PASSENGER_VEHICLE",
         "showlegend": false,
         "type": "scattermap"
        },
        {
         "hovertemplate": "<b>IN_PASSENGER_VEHICLE</b><br>Distance: 17006m<br>Date: 2025-06-19<br>Time: 18:34 - 19:00<br>Duration: 0.4h<extra></extra>",
         "lat": [
          43.3583992,
          43.317003
         ],
         "line": {
          "color": "#1f77b4",
          "width": 4
         },
         "lon": [
          -2.5072865,
          -2.4007808
         ],
         "mode": "lines",
         "name": "IN_PASSENGER_VEHICLE",
         "showlegend": false,
         "type": "scattermap"
        },
        {
         "hovertemplate": "<b>IN_PASSENGER_VEHICLE</b><br>Distance: 55217m<br>Date: 2025-06-20<br>Time: 15:49 - 16:51<br>Duration: 1.0h<extra></extra>",
         "lat": [
          43.3173962,
          43.2855117
         ],
         "line": {
          "color": "#1f77b4",
          "width": 4
         },
         "lon": [
          -2.4007821,
          -2.8642223
         ],
         "mode": "lines",
         "name": "IN_PASSENGER_VEHICLE",
         "showlegend": false,
         "type": "scattermap"
        },
        {
         "hovertemplate": "<b>IN_PASSENGER_VEHICLE</b><br>Distance: 8347m<br>Date: 2025-06-20<br>Time: 22:22 - 22:36<br>Duration: 0.2h<extra></extra>",
         "lat": [
          43.2600266,
          43.2847132
         ],
         "line": {
          "color": "#1f77b4",
          "width": 4
         },
         "lon": [
          -2.9234433,
          -2.8648
         ],
         "mode": "lines",
         "name": "IN_PASSENGER_VEHICLE",
         "showlegend": false,
         "type": "scattermap"
        },
        {
         "hovertemplate": "<b>IN_PASSENGER_VEHICLE</b><br>Distance: 1389m<br>Date: 2025-06-21<br>Time: 09:39 - 09:43<br>Duration: 0.1h<extra></extra>",
         "lat": [
          43.2848762,
          43.2856782
         ],
         "line": {
          "color": "#1f77b4",
          "width": 4
         },
         "lon": [
          -2.8649202,
          -2.8726043
         ],
         "mode": "lines",
         "name": "IN_PASSENGER_VEHICLE",
         "showlegend": false,
         "type": "scattermap"
        },
        {
         "hovertemplate": "<b>IN_PASSENGER_VEHICLE</b><br>Distance: 73375m<br>Date: 2025-06-21<br>Time: 09:48 - 10:52<br>Duration: 1.1h<extra></extra>",
         "lat": [
          43.2856353,
          43.2795584
         ],
         "line": {
          "color": "#1f77b4",
          "width": 4
         },
         "lon": [
          -2.872363,
          -2.160545
         ],
         "mode": "lines",
         "name": "IN_PASSENGER_VEHICLE",
         "showlegend": false,
         "type": "scattermap"
        },
        {
         "hovertemplate": "<b>IN_PASSENGER_VEHICLE</b><br>Distance: 15276m<br>Date: 2025-06-21<br>Time: 10:56 - 11:12<br>Duration: 0.3h<extra></extra>",
         "lat": [
          43.27934,
          43.3071698
         ],
         "line": {
          "color": "#1f77b4",
          "width": 4
         },
         "lon": [
          -2.1591967,
          -2.0136106
         ],
         "mode": "lines",
         "name": "IN_PASSENGER_VEHICLE",
         "showlegend": false,
         "type": "scattermap"
        },
        {
         "hovertemplate": "<b>IN_PASSENGER_VEHICLE</b><br>Distance: 104644m<br>Date: 2025-06-22<br>Time: 08:28 - 09:54<br>Duration: 1.4h<extra></extra>",
         "lat": [
          43.308181,
          43.3152846
         ],
         "line": {
          "color": "#1f77b4",
          "width": 4
         },
         "lon": [
          -2.0105167,
          -3.0706198
         ],
         "mode": "lines",
         "name": "IN_PASSENGER_VEHICLE",
         "showlegend": false,
         "type": "scattermap"
        },
        {
         "hovertemplate": "<b>IN_PASSENGER_VEHICLE</b><br>Distance: 19387m<br>Date: 2025-06-23<br>Time: 07:19 - 07:45<br>Duration: 0.4h<extra></extra>",
         "lat": [
          43.3156336,
          43.2496966
         ],
         "line": {
          "color": "#1f77b4",
          "width": 4
         },
         "lon": [
          -3.0692748,
          -2.8886499
         ],
         "mode": "lines",
         "name": "IN_PASSENGER_VEHICLE",
         "showlegend": false,
         "type": "scattermap"
        },
        {
         "hovertemplate": "<b>IN_PASSENGER_VEHICLE</b><br>Distance: 22363m<br>Date: 2025-06-23<br>Time: 21:30 - 21:53<br>Duration: 0.4h<extra></extra>",
         "lat": [
          52.3631617,
          52.4903876
         ],
         "line": {
          "color": "#1f77b4",
          "width": 4
         },
         "lon": [
          13.5113256,
          13.3304857
         ],
         "mode": "lines",
         "name": "IN_PASSENGER_VEHICLE",
         "showlegend": false,
         "type": "scattermap"
        },
        {
         "hovertemplate": "<b>IN_PASSENGER_VEHICLE</b><br>Distance: 6118m<br>Date: 2025-06-28<br>Time: 09:34 - 10:00<br>Duration: 0.4h<extra></extra>",
         "lat": [
          43.2489714,
          43.2490055
         ],
         "line": {
          "color": "#1f77b4",
          "width": 4
         },
         "lon": [
          -2.8886944,
          -2.888684
         ],
         "mode": "lines",
         "name": "IN_PASSENGER_VEHICLE",
         "showlegend": false,
         "type": "scattermap"
        },
        {
         "hovertemplate": "<b>IN_PASSENGER_VEHICLE</b><br>Distance: 20229m<br>Date: 2025-06-28<br>Time: 11:17 - 11:47<br>Duration: 0.5h<extra></extra>",
         "lat": [
          43.2506271,
          43.3150098
         ],
         "line": {
          "color": "#1f77b4",
          "width": 4
         },
         "lon": [
          -2.9034833,
          -3.0704683
         ],
         "mode": "lines",
         "name": "IN_PASSENGER_VEHICLE",
         "showlegend": false,
         "type": "scattermap"
        },
        {
         "hovertemplate": "<b>IN_PASSENGER_VEHICLE</b><br>Distance: 9461m<br>Date: 2025-06-30<br>Time: 05:35 - 05:52<br>Duration: 0.3h<extra></extra>",
         "lat": [
          43.315454,
          43.2905683
         ],
         "line": {
          "color": "#1f77b4",
          "width": 4
         },
         "lon": [
          -3.0704433,
          -2.9821836
         ],
         "mode": "lines",
         "name": "IN_PASSENGER_VEHICLE",
         "showlegend": false,
         "type": "scattermap"
        },
        {
         "hovertemplate": "<b>IN_PASSENGER_VEHICLE</b><br>Distance: 13952m<br>Date: 2025-06-30<br>Time: 11:44 - 12:03<br>Duration: 0.3h<extra></extra>",
         "lat": [
          43.2913499,
          43.2397221
         ],
         "line": {
          "color": "#1f77b4",
          "width": 4
         },
         "lon": [
          -2.9820301,
          -2.8737715
         ],
         "mode": "lines",
         "name": "IN_PASSENGER_VEHICLE",
         "showlegend": false,
         "type": "scattermap"
        },
        {
         "hovertemplate": "<b>IN_PASSENGER_VEHICLE</b><br>Distance: 2815m<br>Date: 2025-06-30<br>Time: 12:50 - 12:55<br>Duration: 0.1h<extra></extra>",
         "lat": [
          43.2403047,
          43.2496342
         ],
         "line": {
          "color": "#1f77b4",
          "width": 4
         },
         "lon": [
          -2.873816,
          -2.888752
         ],
         "mode": "lines",
         "name": "IN_PASSENGER_VEHICLE",
         "showlegend": false,
         "type": "scattermap"
        },
        {
         "hovertemplate": "<b>IN_PASSENGER_VEHICLE</b><br>Distance: 10499m<br>Date: 2025-06-30<br>Time: 17:26 - 17:47<br>Duration: 0.3h<extra></extra>",
         "lat": [
          43.24961,
          43.285526
         ],
         "line": {
          "color": "#1f77b4",
          "width": 4
         },
         "lon": [
          -2.8884433,
          -2.8645613
         ],
         "mode": "lines",
         "name": "IN_PASSENGER_VEHICLE",
         "showlegend": false,
         "type": "scattermap"
        },
        {
         "hovertemplate": "<b>IN_PASSENGER_VEHICLE</b><br>Distance: 17989m<br>Date: 2025-07-01<br>Time: 05:42 - 06:09<br>Duration: 0.5h<extra></extra>",
         "lat": [
          43.2849567,
          43.2905502
         ],
         "line": {
          "color": "#1f77b4",
          "width": 4
         },
         "lon": [
          -2.864575,
          -2.981801
         ],
         "mode": "lines",
         "name": "IN_PASSENGER_VEHICLE",
         "showlegend": false,
         "type": "scattermap"
        },
        {
         "hovertemplate": "<b>IN_PASSENGER_VEHICLE</b><br>Distance: 3431m<br>Date: 2025-07-01<br>Time: 09:46 - 10:00<br>Duration: 0.2h<extra></extra>",
         "lat": [
          43.2905565,
          43.2860729
         ],
         "line": {
          "color": "#1f77b4",
          "width": 4
         },
         "lon": [
          -2.9810132,
          -3.0024983
         ],
         "mode": "lines",
         "name": "IN_PASSENGER_VEHICLE",
         "showlegend": false,
         "type": "scattermap"
        },
        {
         "hovertemplate": "<b>IN_PASSENGER_VEHICLE</b><br>Distance: 2375m<br>Date: 2025-07-01<br>Time: 10:38 - 10:47<br>Duration: 0.2h<extra></extra>",
         "lat": [
          43.2851073,
          43.2905105
         ],
         "line": {
          "color": "#1f77b4",
          "width": 4
         },
         "lon": [
          -3.0010552,
          -2.9815731
         ],
         "mode": "lines",
         "name": "IN_PASSENGER_VEHICLE",
         "showlegend": false,
         "type": "scattermap"
        },
        {
         "hovertemplate": "<b>IN_PASSENGER_VEHICLE</b><br>Distance: 5178m<br>Date: 2025-07-01<br>Time: 16:17 - 16:28<br>Duration: 0.2h<extra></extra>",
         "lat": [
          43.2903858,
          43.2884633
         ],
         "line": {
          "color": "#1f77b4",
          "width": 4
         },
         "lon": [
          -2.9808841,
          -3.0001
         ],
         "mode": "lines",
         "name": "IN_PASSENGER_VEHICLE",
         "showlegend": false,
         "type": "scattermap"
        },
        {
         "hovertemplate": "<b>IN_PASSENGER_VEHICLE</b><br>Distance: 1876m<br>Date: 2025-07-01<br>Time: 17:15 - 17:20<br>Duration: 0.1h<extra></extra>",
         "lat": [
          43.2875987,
          43.2861557
         ],
         "line": {
          "color": "#1f77b4",
          "width": 4
         },
         "lon": [
          -3.0005113,
          -3.0026212
         ],
         "mode": "lines",
         "name": "IN_PASSENGER_VEHICLE",
         "showlegend": false,
         "type": "scattermap"
        },
        {
         "hovertemplate": "<b>IN_PASSENGER_VEHICLE</b><br>Distance: 24701m<br>Date: 2025-07-01<br>Time: 17:54 - 18:18<br>Duration: 0.4h<extra></extra>",
         "lat": [
          43.287515,
          43.2303851
         ],
         "line": {
          "color": "#1f77b4",
          "width": 4
         },
         "lon": [
          -3.0030459,
          -2.7539784
         ],
         "mode": "lines",
         "name": "IN_PASSENGER_VEHICLE",
         "showlegend": false,
         "type": "scattermap"
        },
        {
         "hovertemplate": "<b>IN_PASSENGER_VEHICLE</b><br>Distance: 107101m<br>Date: 2025-07-01<br>Time: 18:37 - 20:09<br>Duration: 1.5h<extra></extra>",
         "lat": [
          43.2314076,
          43.3846406
         ],
         "line": {
          "color": "#1f77b4",
          "width": 4
         },
         "lon": [
          -2.7556258,
          -1.664678
         ],
         "mode": "lines",
         "name": "IN_PASSENGER_VEHICLE",
         "showlegend": false,
         "type": "scattermap"
        },
        {
         "hovertemplate": "<b>IN_PASSENGER_VEHICLE</b><br>Distance: 16510m<br>Date: 2025-07-03<br>Time: 05:04 - 05:25<br>Duration: 0.4h<extra></extra>",
         "lat": [
          43.3853484,
          43.4788983
         ],
         "line": {
          "color": "#1f77b4",
          "width": 4
         },
         "lon": [
          -1.6627797,
          -1.5206717
         ],
         "mode": "lines",
         "name": "IN_PASSENGER_VEHICLE",
         "showlegend": false,
         "type": "scattermap"
        },
        {
         "hovertemplate": "<b>IN_PASSENGER_VEHICLE</b><br>Distance: 1340m<br>Date: 2025-07-03<br>Time: 05:32 - 05:38<br>Duration: 0.1h<extra></extra>",
         "lat": [
          43.4794582,
          43.4848908
         ],
         "line": {
          "color": "#1f77b4",
          "width": 4
         },
         "lon": [
          -1.5191824,
          -1.5067452
         ],
         "mode": "lines",
         "name": "IN_PASSENGER_VEHICLE",
         "showlegend": false,
         "type": "scattermap"
        },
        {
         "hovertemplate": "<b>IN_PASSENGER_VEHICLE</b><br>Distance: 1293m<br>Date: 2025-07-03<br>Time: 11:58 - 12:03<br>Duration: 0.1h<extra></extra>",
         "lat": [
          43.48447,
          43.4935254
         ],
         "line": {
          "color": "#1f77b4",
          "width": 4
         },
         "lon": [
          -1.5049849,
          -1.5096907
         ],
         "mode": "lines",
         "name": "IN_PASSENGER_VEHICLE",
         "showlegend": false,
         "type": "scattermap"
        },
        {
         "hovertemplate": "<b>IN_PASSENGER_VEHICLE</b><br>Distance: 5990m<br>Date: 2025-07-03<br>Time: 12:20 - 12:33<br>Duration: 0.2h<extra></extra>",
         "lat": [
          43.4934387,
          43.4644807
         ],
         "line": {
          "color": "#1f77b4",
          "width": 4
         },
         "lon": [
          -1.5091,
          -1.5335588
         ],
         "mode": "lines",
         "name": "IN_PASSENGER_VEHICLE",
         "showlegend": false,
         "type": "scattermap"
        },
        {
         "hovertemplate": "<b>IN_PASSENGER_VEHICLE</b><br>Distance: 2715m<br>Date: 2025-07-04<br>Time: 20:12 - 20:28<br>Duration: 0.3h<extra></extra>",
         "lat": [
          43.4765092,
          43.461113
         ],
         "line": {
          "color": "#1f77b4",
          "width": 4
         },
         "lon": [
          -1.5661237,
          -1.542944
         ],
         "mode": "lines",
         "name": "IN_PASSENGER_VEHICLE",
         "showlegend": false,
         "type": "scattermap"
        },
        {
         "hovertemplate": "<b>IN_PASSENGER_VEHICLE</b><br>Distance: 74018m<br>Date: 2025-07-05<br>Time: 10:40 - 11:59<br>Duration: 1.3h<extra></extra>",
         "lat": [
          43.4632478,
          43.9369001
         ],
         "line": {
          "color": "#1f77b4",
          "width": 4
         },
         "lon": [
          -1.5384751,
          -1.0894921
         ],
         "mode": "lines",
         "name": "IN_PASSENGER_VEHICLE",
         "showlegend": false,
         "type": "scattermap"
        },
        {
         "hovertemplate": "<b>IN_PASSENGER_VEHICLE</b><br>Distance: 96139m<br>Date: 2025-07-05<br>Time: 13:04 - 14:30<br>Duration: 1.4h<extra></extra>",
         "lat": [
          43.937438,
          44.598595
         ],
         "line": {
          "color": "#1f77b4",
          "width": 4
         },
         "lon": [
          -1.088467,
          -1.1981549
         ],
         "mode": "lines",
         "name": "IN_PASSENGER_VEHICLE",
         "showlegend": false,
         "type": "scattermap"
        },
        {
         "hovertemplate": "<b>IN_PASSENGER_VEHICLE</b><br>Distance: 72555m<br>Date: 2025-07-05<br>Time: 17:12 - 18:13<br>Duration: 1.0h<extra></extra>",
         "lat": [
          44.5980229,
          44.8476395
         ],
         "line": {
          "color": "#1f77b4",
          "width": 4
         },
         "lon": [
          -1.1966204,
          -0.5277844
         ],
         "mode": "lines",
         "name": "IN_PASSENGER_VEHICLE",
         "showlegend": false,
         "type": "scattermap"
        },
        {
         "hovertemplate": "<b>IN_PASSENGER_VEHICLE</b><br>Distance: 2670m<br>Date: 2025-07-06<br>Time: 00:38 - 01:16<br>Duration: 0.6h<extra></extra>",
         "lat": [
          44.8474857,
          44.8468024
         ],
         "line": {
          "color": "#1f77b4",
          "width": 4
         },
         "lon": [
          -0.5289694,
          -0.5279743
         ],
         "mode": "lines",
         "name": "IN_PASSENGER_VEHICLE",
         "showlegend": false,
         "type": "scattermap"
        },
        {
         "hovertemplate": "<b>IN_PASSENGER_VEHICLE</b><br>Distance: 3707m<br>Date: 2025-07-06<br>Time: 10:07 - 10:17<br>Duration: 0.2h<extra></extra>",
         "lat": [
          44.8468296,
          44.8523686
         ],
         "line": {
          "color": "#1f77b4",
          "width": 4
         },
         "lon": [
          -0.5281369,
          -0.556536
         ],
         "mode": "lines",
         "name": "IN_PASSENGER_VEHICLE",
         "showlegend": false,
         "type": "scattermap"
        },
        {
         "hovertemplate": "<b>IN_PASSENGER_VEHICLE</b><br>Distance: 5955m<br>Date: 2025-07-06<br>Time: 13:58 - 14:12<br>Duration: 0.2h<extra></extra>",
         "lat": [
          44.8522944,
          44.8427231
         ],
         "line": {
          "color": "#1f77b4",
          "width": 4
         },
         "lon": [
          -0.5573387,
          -0.5427962
         ],
         "mode": "lines",
         "name": "IN_PASSENGER_VEHICLE",
         "showlegend": false,
         "type": "scattermap"
        },
        {
         "hovertemplate": "<b>IN_PASSENGER_VEHICLE</b><br>Distance: 38616m<br>Date: 2025-07-06<br>Time: 14:20 - 14:56<br>Duration: 0.6h<extra></extra>",
         "lat": [
          44.8424356,
          44.8984887
         ],
         "line": {
          "color": "#1f77b4",
          "width": 4
         },
         "lon": [
          -0.5420503,
          -0.1550316
         ],
         "mode": "lines",
         "name": "IN_PASSENGER_VEHICLE",
         "showlegend": false,
         "type": "scattermap"
        },
        {
         "hovertemplate": "<b>IN_PASSENGER_VEHICLE</b><br>Distance: 99919m<br>Date: 2025-07-06<br>Time: 16:13 - 17:46<br>Duration: 1.6h<extra></extra>",
         "lat": [
          44.8967398,
          45.6111015
         ],
         "line": {
          "color": "#1f77b4",
          "width": 4
         },
         "lon": [
          -0.155568,
          -0.5995771
         ],
         "mode": "lines",
         "name": "IN_PASSENGER_VEHICLE",
         "showlegend": false,
         "type": "scattermap"
        },
        {
         "hovertemplate": "<b>IN_PASSENGER_VEHICLE</b><br>Distance: 92453m<br>Date: 2025-07-06<br>Time: 18:03 - 19:18<br>Duration: 1.2h<extra></extra>",
         "lat": [
          45.6113281,
          46.1605133
         ],
         "line": {
          "color": "#1f77b4",
          "width": 4
         },
         "lon": [
          -0.6001412,
          -1.1845783
         ],
         "mode": "lines",
         "name": "IN_PASSENGER_VEHICLE",
         "showlegend": false,
         "type": "scattermap"
        },
        {
         "hovertemplate": "<b>IN_PASSENGER_VEHICLE</b><br>Distance: 480m<br>Date: 2025-07-08<br>Time: 17:11 - 17:13<br>Duration: 0.0h<extra></extra>",
         "lat": [
          46.160795,
          46.1597683
         ],
         "line": {
          "color": "#1f77b4",
          "width": 4
         },
         "lon": [
          -1.183765,
          -1.1793068
         ],
         "mode": "lines",
         "name": "IN_PASSENGER_VEHICLE",
         "showlegend": false,
         "type": "scattermap"
        },
        {
         "hovertemplate": "<b>IN_PASSENGER_VEHICLE</b><br>Distance: 1498m<br>Date: 2025-07-08<br>Time: 17:44 - 17:49<br>Duration: 0.1h<extra></extra>",
         "lat": [
          46.1596723,
          46.1657191
         ],
         "line": {
          "color": "#1f77b4",
          "width": 4
         },
         "lon": [
          -1.1791619,
          -1.1779811
         ],
         "mode": "lines",
         "name": "IN_PASSENGER_VEHICLE",
         "showlegend": false,
         "type": "scattermap"
        },
        {
         "hovertemplate": "<b>IN_PASSENGER_VEHICLE</b><br>Distance: 182581m<br>Date: 2025-07-08<br>Time: 17:55 - 20:07<br>Duration: 2.2h<extra></extra>",
         "lat": [
          46.1669196,
          46.9058598
         ],
         "line": {
          "color": "#1f77b4",
          "width": 4
         },
         "lon": [
          -1.1781439,
          0.5243394
         ],
         "mode": "lines",
         "name": "IN_PASSENGER_VEHICLE",
         "showlegend": false,
         "type": "scattermap"
        },
        {
         "hovertemplate": "<b>IN_PASSENGER_VEHICLE</b><br>Distance: 98198m<br>Date: 2025-07-08<br>Time: 20:29 - 21:43<br>Duration: 1.2h<extra></extra>",
         "lat": [
          46.9061179,
          47.6055384
         ],
         "line": {
          "color": "#1f77b4",
          "width": 4
         },
         "lon": [
          0.524428,
          1.1226647
         ],
         "mode": "lines",
         "name": "IN_PASSENGER_VEHICLE",
         "showlegend": false,
         "type": "scattermap"
        },
        {
         "hovertemplate": "<b>IN_PASSENGER_VEHICLE</b><br>Distance: 50216m<br>Date: 2025-07-09<br>Time: 17:51 - 18:34<br>Duration: 0.7h<extra></extra>",
         "lat": [
          47.5970443,
          47.8183866
         ],
         "line": {
          "color": "#1f77b4",
          "width": 4
         },
         "lon": [
          1.101911,
          1.638475
         ],
         "mode": "lines",
         "name": "IN_PASSENGER_VEHICLE",
         "showlegend": false,
         "type": "scattermap"
        },
        {
         "hovertemplate": "<b>IN_PASSENGER_VEHICLE</b><br>Distance: 165553m<br>Date: 2025-07-09<br>Time: 18:51 - 21:09<br>Duration: 2.3h<extra></extra>",
         "lat": [
          47.8204867,
          48.7782375
         ],
         "line": {
          "color": "#1f77b4",
          "width": 4
         },
         "lon": [
          1.6430793,
          2.2296137
         ],
         "mode": "lines",
         "name": "IN_PASSENGER_VEHICLE",
         "showlegend": false,
         "type": "scattermap"
        },
        {
         "hovertemplate": "<b>IN_PASSENGER_VEHICLE</b><br>Distance: 43040m<br>Date: 2025-07-09<br>Time: 21:44 - 00:12<br>Duration: 2.5h<extra></extra>",
         "lat": [
          48.8577655,
          49.1471833
         ],
         "line": {
          "color": "#1f77b4",
          "width": 4
         },
         "lon": [
          2.2236195,
          2.2487526
         ],
         "mode": "lines",
         "name": "IN_PASSENGER_VEHICLE",
         "showlegend": false,
         "type": "scattermap"
        },
        {
         "hovertemplate": "<b>IN_PASSENGER_VEHICLE</b><br>Distance: 4561m<br>Date: 2025-07-10<br>Time: 16:41 - 16:53<br>Duration: 0.2h<extra></extra>",
         "lat": [
          49.4240733,
          49.4382349
         ],
         "line": {
          "color": "#1f77b4",
          "width": 4
         },
         "lon": [
          2.0805885,
          2.1169629
         ],
         "mode": "lines",
         "name": "IN_PASSENGER_VEHICLE",
         "showlegend": false,
         "type": "scattermap"
        },
        {
         "hovertemplate": "<b>IN_PASSENGER_VEHICLE</b><br>Distance: 2657m<br>Date: 2025-07-10<br>Time: 18:16 - 18:21<br>Duration: 0.1h<extra></extra>",
         "lat": [
          49.4377072,
          49.4423919
         ],
         "line": {
          "color": "#1f77b4",
          "width": 4
         },
         "lon": [
          2.117439,
          2.0933682
         ],
         "mode": "lines",
         "name": "IN_PASSENGER_VEHICLE",
         "showlegend": false,
         "type": "scattermap"
        },
        {
         "hovertemplate": "<b>IN_PASSENGER_VEHICLE</b><br>Distance: 1382m<br>Date: 2025-07-10<br>Time: 18:50 - 18:57<br>Duration: 0.1h<extra></extra>",
         "lat": [
          49.44264,
          49.4317609
         ],
         "line": {
          "color": "#1f77b4",
          "width": 4
         },
         "lon": [
          2.0917617,
          2.0827361
         ],
         "mode": "lines",
         "name": "IN_PASSENGER_VEHICLE",
         "showlegend": false,
         "type": "scattermap"
        },
        {
         "hovertemplate": "<b>IN_PASSENGER_VEHICLE</b><br>Distance: 3360m<br>Date: 2025-07-10<br>Time: 19:47 - 19:56<br>Duration: 0.2h<extra></extra>",
         "lat": [
          49.4307967,
          49.4505293
         ],
         "line": {
          "color": "#1f77b4",
          "width": 4
         },
         "lon": [
          2.081605,
          2.0976043
         ],
         "mode": "lines",
         "name": "IN_PASSENGER_VEHICLE",
         "showlegend": false,
         "type": "scattermap"
        },
        {
         "hovertemplate": "<b>IN_PASSENGER_VEHICLE</b><br>Distance: 96381m<br>Date: 2025-07-10<br>Time: 20:26 - 22:18<br>Duration: 1.9h<extra></extra>",
         "lat": [
          49.4615911,
          48.8539118
         ],
         "line": {
          "color": "#1f77b4",
          "width": 4
         },
         "lon": [
          2.1090435,
          2.5384726
         ],
         "mode": "lines",
         "name": "IN_PASSENGER_VEHICLE",
         "showlegend": false,
         "type": "scattermap"
        },
        {
         "hovertemplate": "<b>IN_PASSENGER_VEHICLE</b><br>Distance: 2406m<br>Date: 2025-07-10<br>Time: 22:56 - 23:04<br>Duration: 0.1h<extra></extra>",
         "lat": [
          48.85392,
          48.8537467
         ],
         "line": {
          "color": "#1f77b4",
          "width": 4
         },
         "lon": [
          2.538555,
          2.5481117
         ],
         "mode": "lines",
         "name": "IN_PASSENGER_VEHICLE",
         "showlegend": false,
         "type": "scattermap"
        },
        {
         "hovertemplate": "<b>IN_PASSENGER_VEHICLE</b><br>Distance: 2753m<br>Date: 2025-07-11<br>Time: 06:29 - 06:42<br>Duration: 0.2h<extra></extra>",
         "lat": [
          48.8498046,
          48.853903
         ],
         "line": {
          "color": "#1f77b4",
          "width": 4
         },
         "lon": [
          2.5510593,
          2.538046
         ],
         "mode": "lines",
         "name": "IN_PASSENGER_VEHICLE",
         "showlegend": false,
         "type": "scattermap"
        },
        {
         "hovertemplate": "<b>IN_PASSENGER_VEHICLE</b><br>Distance: 2017m<br>Date: 2025-07-13<br>Time: 16:44 - 16:52<br>Duration: 0.1h<extra></extra>",
         "lat": [
          48.8530664,
          48.8538077
         ],
         "line": {
          "color": "#1f77b4",
          "width": 4
         },
         "lon": [
          2.5144573,
          2.540241
         ],
         "mode": "lines",
         "name": "IN_PASSENGER_VEHICLE",
         "showlegend": false,
         "type": "scattermap"
        },
        {
         "hovertemplate": "<b>IN_PASSENGER_VEHICLE</b><br>Distance: 108534m<br>Date: 2025-07-13<br>Time: 19:38 - 21:22<br>Duration: 1.7h<extra></extra>",
         "lat": [
          48.8545592,
          49.4234151
         ],
         "line": {
          "color": "#1f77b4",
          "width": 4
         },
         "lon": [
          2.5426612,
          2.0823678
         ],
         "mode": "lines",
         "name": "IN_PASSENGER_VEHICLE",
         "showlegend": false,
         "type": "scattermap"
        },
        {
         "hovertemplate": "<b>IN_PASSENGER_VEHICLE</b><br>Distance: 14228m<br>Date: 2025-07-14<br>Time: 03:34 - 04:21<br>Duration: 0.8h<extra></extra>",
         "lat": [
          49.4329055,
          49.4279724
         ],
         "line": {
          "color": "#1f77b4",
          "width": 4
         },
         "lon": [
          2.0780504,
          2.0873031
         ],
         "mode": "lines",
         "name": "IN_PASSENGER_VEHICLE",
         "showlegend": false,
         "type": "scattermap"
        },
        {
         "hovertemplate": "<b>IN_PASSENGER_VEHICLE</b><br>Distance: 1370m<br>Date: 2025-07-15<br>Time: 17:50 - 17:56<br>Duration: 0.1h<extra></extra>",
         "lat": [
          49.4241109,
          49.4293724
         ],
         "line": {
          "color": "#1f77b4",
          "width": 4
         },
         "lon": [
          2.0807618,
          2.0737179
         ],
         "mode": "lines",
         "name": "IN_PASSENGER_VEHICLE",
         "showlegend": false,
         "type": "scattermap"
        },
        {
         "hovertemplate": "<b>IN_PASSENGER_VEHICLE</b><br>Distance: 1358m<br>Date: 2025-07-15<br>Time: 18:49 - 18:52<br>Duration: 0.1h<extra></extra>",
         "lat": [
          49.4300449,
          49.4240643
         ],
         "line": {
          "color": "#1f77b4",
          "width": 4
         },
         "lon": [
          2.0733543,
          2.0808901
         ],
         "mode": "lines",
         "name": "IN_PASSENGER_VEHICLE",
         "showlegend": false,
         "type": "scattermap"
        },
        {
         "hovertemplate": "<b>IN_PASSENGER_VEHICLE</b><br>Distance: 147974m<br>Date: 2025-07-15<br>Time: 19:04 - 21:32<br>Duration: 2.5h<extra></extra>",
         "lat": [
          49.4241178,
          49.3247797
         ],
         "line": {
          "color": "#1f77b4",
          "width": 4
         },
         "lon": [
          2.0807882,
          0.3286342
         ],
         "mode": "lines",
         "name": "IN_PASSENGER_VEHICLE",
         "showlegend": false,
         "type": "scattermap"
        },
        {
         "hovertemplate": "<b>IN_PASSENGER_VEHICLE</b><br>Distance: 62209m<br>Date: 2025-07-15<br>Time: 21:45 - 22:39<br>Duration: 0.9h<extra></extra>",
         "lat": [
          49.3239484,
          49.1809446
         ],
         "line": {
          "color": "#1f77b4",
          "width": 4
         },
         "lon": [
          0.3269463,
          -0.3973852
         ],
         "mode": "lines",
         "name": "IN_PASSENGER_VEHICLE",
         "showlegend": false,
         "type": "scattermap"
        },
        {
         "hovertemplate": "<b>IN_PASSENGER_VEHICLE</b><br>Distance: 4907m<br>Date: 2025-07-16<br>Time: 15:14 - 15:22<br>Duration: 0.1h<extra></extra>",
         "lat": [
          49.1808883,
          49.1973907
         ],
         "line": {
          "color": "#1f77b4",
          "width": 4
         },
         "lon": [
          -0.3973125,
          -0.4518476
         ],
         "mode": "lines",
         "name": "IN_PASSENGER_VEHICLE",
         "showlegend": false,
         "type": "scattermap"
        },
        {
         "hovertemplate": "<b>IN_PASSENGER_VEHICLE</b><br>Distance: 764m<br>Date: 2025-07-16<br>Time: 15:39 - 15:42<br>Duration: 0.0h<extra></extra>",
         "lat": [
          49.1979834,
          49.1992294
         ],
         "line": {
          "color": "#1f77b4",
          "width": 4
         },
         "lon": [
          -0.4542507,
          -0.4591129
         ],
         "mode": "lines",
         "name": "IN_PASSENGER_VEHICLE",
         "showlegend": false,
         "type": "scattermap"
        },
        {
         "hovertemplate": "<b>IN_PASSENGER_VEHICLE</b><br>Distance: 7465m<br>Date: 2025-07-16<br>Time: 16:20 - 16:30<br>Duration: 0.2h<extra></extra>",
         "lat": [
          49.1986651,
          49.1996208
         ],
         "line": {
          "color": "#1f77b4",
          "width": 4
         },
         "lon": [
          -0.4577876,
          -0.3860818
         ],
         "mode": "lines",
         "name": "IN_PASSENGER_VEHICLE",
         "showlegend": false,
         "type": "scattermap"
        },
        {
         "hovertemplate": "<b>IN_PASSENGER_VEHICLE</b><br>Distance: 5126m<br>Date: 2025-07-16<br>Time: 18:17 - 18:31<br>Duration: 0.2h<extra></extra>",
         "lat": [
          49.1971818,
          49.1809034
         ],
         "line": {
          "color": "#1f77b4",
          "width": 4
         },
         "lon": [
          -0.3803653,
          -0.3970724
         ],
         "mode": "lines",
         "name": "IN_PASSENGER_VEHICLE",
         "showlegend": false,
         "type": "scattermap"
        },
        {
         "hovertemplate": "<b>IN_PASSENGER_VEHICLE</b><br>Distance: 4192m<br>Date: 2025-07-17<br>Time: 15:46 - 15:59<br>Duration: 0.2h<extra></extra>",
         "lat": [
          49.180679,
          49.1993174
         ],
         "line": {
          "color": "#1f77b4",
          "width": 4
         },
         "lon": [
          -0.3976402,
          -0.3857511
         ],
         "mode": "lines",
         "name": "IN_PASSENGER_VEHICLE",
         "showlegend": false,
         "type": "scattermap"
        },
        {
         "hovertemplate": "<b>IN_PASSENGER_VEHICLE</b><br>Distance: 2556m<br>Date: 2025-07-17<br>Time: 16:17 - 16:25<br>Duration: 0.1h<extra></extra>",
         "lat": [
          49.1987073,
          49.1852467
         ],
         "line": {
          "color": "#1f77b4",
          "width": 4
         },
         "lon": [
          -0.3842294,
          -0.3807417
         ],
         "mode": "lines",
         "name": "IN_PASSENGER_VEHICLE",
         "showlegend": false,
         "type": "scattermap"
        },
        {
         "hovertemplate": "<b>IN_PASSENGER_VEHICLE</b><br>Distance: 1659m<br>Date: 2025-07-17<br>Time: 16:40 - 16:48<br>Duration: 0.1h<extra></extra>",
         "lat": [
          49.1849921,
          49.1819339
         ],
         "line": {
          "color": "#1f77b4",
          "width": 4
         },
         "lon": [
          -0.3809042,
          -0.4018965
         ],
         "mode": "lines",
         "name": "IN_PASSENGER_VEHICLE",
         "showlegend": false,
         "type": "scattermap"
        },
        {
         "hovertemplate": "<b>IN_PASSENGER_VEHICLE</b><br>Distance: 567m<br>Date: 2025-07-17<br>Time: 17:03 - 17:05<br>Duration: 0.0h<extra></extra>",
         "lat": [
          49.1828559,
          49.180717
         ],
         "line": {
          "color": "#1f77b4",
          "width": 4
         },
         "lon": [
          -0.4027742,
          -0.3975972
         ],
         "mode": "lines",
         "name": "IN_PASSENGER_VEHICLE",
         "showlegend": false,
         "type": "scattermap"
        },
        {
         "hovertemplate": "<b>IN_PASSENGER_VEHICLE</b><br>Distance: 46448m<br>Date: 2025-07-18<br>Time: 05:48 - 06:29<br>Duration: 0.7h<extra></extra>",
         "lat": [
          49.1812683,
          49.3589586
         ],
         "line": {
          "color": "#1f77b4",
          "width": 4
         },
         "lon": [
          -0.3988351,
          -0.8800465
         ],
         "mode": "lines",
         "name": "IN_PASSENGER_VEHICLE",
         "showlegend": false,
         "type": "scattermap"
        },
        {
         "hovertemplate": "<b>IN_PASSENGER_VEHICLE</b><br>Distance: 3120m<br>Date: 2025-07-18<br>Time: 10:51 - 11:00<br>Duration: 0.1h<extra></extra>",
         "lat": [
          49.3588567,
          49.356036
         ],
         "line": {
          "color": "#1f77b4",
          "width": 4
         },
         "lon": [
          -0.8793667,
          -0.8528772
         ],
         "mode": "lines",
         "name": "IN_PASSENGER_VEHICLE",
         "showlegend": false,
         "type": "scattermap"
        },
        {
         "hovertemplate": "<b>IN_PASSENGER_VEHICLE</b><br>Distance: 3285m<br>Date: 2025-07-18<br>Time: 12:10 - 12:17<br>Duration: 0.1h<extra></extra>",
         "lat": [
          49.357055,
          49.3583304
         ],
         "line": {
          "color": "#1f77b4",
          "width": 4
         },
         "lon": [
          -0.85254,
          -0.8795678
         ],
         "mode": "lines",
         "name": "IN_PASSENGER_VEHICLE",
         "showlegend": false,
         "type": "scattermap"
        },
        {
         "hovertemplate": "<b>IN_PASSENGER_VEHICLE</b><br>Distance: 18839m<br>Date: 2025-07-19<br>Time: 10:24 - 10:45<br>Duration: 0.3h<extra></extra>",
         "lat": [
          49.3584348,
          49.2838873
         ],
         "line": {
          "color": "#1f77b4",
          "width": 4
         },
         "lon": [
          -0.8820053,
          -0.7023299
         ],
         "mode": "lines",
         "name": "IN_PASSENGER_VEHICLE",
         "showlegend": false,
         "type": "scattermap"
        },
        {
         "hovertemplate": "<b>IN_PASSENGER_VEHICLE</b><br>Distance: 289m<br>Date: 2025-07-19<br>Time: 11:40 - 11:50<br>Duration: 0.2h<extra></extra>",
         "lat": [
          49.2840411,
          49.2838908
         ],
         "line": {
          "color": "#1f77b4",
          "width": 4
         },
         "lon": [
          -0.7017828,
          -0.70165
         ],
         "mode": "lines",
         "name": "IN_PASSENGER_VEHICLE",
         "showlegend": false,
         "type": "scattermap"
        },
        {
         "hovertemplate": "<b>IN_PASSENGER_VEHICLE</b><br>Distance: 33579m<br>Date: 2025-07-19<br>Time: 12:18 - 12:53<br>Duration: 0.6h<extra></extra>",
         "lat": [
          49.2851778,
          49.1602263
         ],
         "line": {
          "color": "#1f77b4",
          "width": 4
         },
         "lon": [
          -0.703898,
          -0.4532315
         ],
         "mode": "lines",
         "name": "IN_PASSENGER_VEHICLE",
         "showlegend": false,
         "type": "scattermap"
        },
        {
         "hovertemplate": "<b>IN_PASSENGER_VEHICLE</b><br>Distance: 9448m<br>Date: 2025-07-19<br>Time: 13:01 - 13:14<br>Duration: 0.2h<extra></extra>",
         "lat": [
          49.1601819,
          49.19496
         ],
         "line": {
          "color": "#1f77b4",
          "width": 4
         },
         "lon": [
          -0.4532121,
          -0.452315
         ],
         "mode": "lines",
         "name": "IN_PASSENGER_VEHICLE",
         "showlegend": false,
         "type": "scattermap"
        },
        {
         "hovertemplate": "<b>IN_PASSENGER_VEHICLE</b><br>Distance: 119984m<br>Date: 2025-07-19<br>Time: 13:47 - 15:40<br>Duration: 1.9h<extra></extra>",
         "lat": [
          49.1937637,
          49.7285092
         ],
         "line": {
          "color": "#1f77b4",
          "width": 4
         },
         "lon": [
          -0.4515868,
          0.3680695
         ],
         "mode": "lines",
         "name": "IN_PASSENGER_VEHICLE",
         "showlegend": false,
         "type": "scattermap"
        },
        {
         "hovertemplate": "<b>IN_PASSENGER_VEHICLE</b><br>Distance: 7017m<br>Date: 2025-07-19<br>Time: 16:46 - 16:57<br>Duration: 0.2h<extra></extra>",
         "lat": [
          49.7280635,
          49.7576433
         ],
         "line": {
          "color": "#1f77b4",
          "width": 4
         },
         "lon": [
          0.3680696,
          0.393105
         ],
         "mode": "lines",
         "name": "IN_PASSENGER_VEHICLE",
         "showlegend": false,
         "type": "scattermap"
        },
        {
         "hovertemplate": "<b>IN_PASSENGER_VEHICLE</b><br>Distance: 18442m<br>Date: 2025-07-19<br>Time: 17:31 - 17:57<br>Duration: 0.4h<extra></extra>",
         "lat": [
          49.7584866,
          49.7003417
         ],
         "line": {
          "color": "#1f77b4",
          "width": 4
         },
         "lon": [
          0.3898507,
          0.2156027
         ],
         "mode": "lines",
         "name": "IN_PASSENGER_VEHICLE",
         "showlegend": false,
         "type": "scattermap"
        },
        {
         "hovertemplate": "<b>IN_PASSENGER_VEHICLE</b><br>Distance: 7290m<br>Date: 2025-07-19<br>Time: 18:04 - 18:13<br>Duration: 0.2h<extra></extra>",
         "lat": [
          49.6984296,
          49.6447093
         ],
         "line": {
          "color": "#1f77b4",
          "width": 4
         },
         "lon": [
          0.2176563,
          0.2654097
         ],
         "mode": "lines",
         "name": "IN_PASSENGER_VEHICLE",
         "showlegend": false,
         "type": "scattermap"
        },
        {
         "hovertemplate": "<b>IN_PASSENGER_VEHICLE</b><br>Distance: 544m<br>Date: 2025-07-20<br>Time: 07:08 - 07:10<br>Duration: 0.0h<extra></extra>",
         "lat": [
          49.6438906,
          49.6448137
         ],
         "line": {
          "color": "#1f77b4",
          "width": 4
         },
         "lon": [
          0.2668831,
          0.274277
         ],
         "mode": "lines",
         "name": "IN_PASSENGER_VEHICLE",
         "showlegend": false,
         "type": "scattermap"
        },
        {
         "hovertemplate": "<b>IN_PASSENGER_VEHICLE</b><br>Distance: 13260m<br>Date: 2025-07-20<br>Time: 09:33 - 10:03<br>Duration: 0.5h<extra></extra>",
         "lat": [
          49.6447698,
          49.7001556
         ],
         "line": {
          "color": "#1f77b4",
          "width": 4
         },
         "lon": [
          0.2743634,
          0.21582
         ],
         "mode": "lines",
         "name": "IN_PASSENGER_VEHICLE",
         "showlegend": false,
         "type": "scattermap"
        },
        {
         "hovertemplate": "<b>IN_PASSENGER_VEHICLE</b><br>Distance: 27912m<br>Date: 2025-07-20<br>Time: 15:21 - 15:55<br>Duration: 0.6h<extra></extra>",
         "lat": [
          49.7001234,
          49.5797055
         ],
         "line": {
          "color": "#1f77b4",
          "width": 4
         },
         "lon": [
          0.215895,
          0.4725457
         ],
         "mode": "lines",
         "name": "IN_PASSENGER_VEHICLE",
         "showlegend": false,
         "type": "scattermap"
        },
        {
         "hovertemplate": "<b>IN_PASSENGER_VEHICLE</b><br>Distance: 94772m<br>Date: 2025-07-20<br>Time: 16:01 - 17:12<br>Duration: 1.2h<extra></extra>",
         "lat": [
          49.5790498,
          49.8131552
         ],
         "line": {
          "color": "#1f77b4",
          "width": 4
         },
         "lon": [
          0.4709135,
          1.5110639
         ],
         "mode": "lines",
         "name": "IN_PASSENGER_VEHICLE",
         "showlegend": false,
         "type": "scattermap"
        },
        {
         "hovertemplate": "<b>IN_PASSENGER_VEHICLE</b><br>Distance: 98575m<br>Date: 2025-07-20<br>Time: 18:07 - 19:19<br>Duration: 1.2h<extra></extra>",
         "lat": [
          49.8143126,
          50.5759748
         ],
         "line": {
          "color": "#1f77b4",
          "width": 4
         },
         "lon": [
          1.5126301,
          1.6453907
         ],
         "mode": "lines",
         "name": "IN_PASSENGER_VEHICLE",
         "showlegend": false,
         "type": "scattermap"
        },
        {
         "hovertemplate": "<b>IN_PASSENGER_VEHICLE</b><br>Distance: 106997m<br>Date: 2025-07-20<br>Time: 19:26 - 20:50<br>Duration: 1.4h<extra></extra>",
         "lat": [
          50.5769102,
          51.077455
         ],
         "line": {
          "color": "#1f77b4",
          "width": 4
         },
         "lon": [
          1.6439042,
          2.522475
         ],
         "mode": "lines",
         "name": "IN_PASSENGER_VEHICLE",
         "showlegend": false,
         "type": "scattermap"
        },
        {
         "hovertemplate": "<b>IN_PASSENGER_VEHICLE</b><br>Distance: 14846m<br>Date: 2025-07-20<br>Time: 20:55 - 21:18<br>Duration: 0.4h<extra></extra>",
         "lat": [
          51.0778969,
          51.1112228
         ],
         "line": {
          "color": "#1f77b4",
          "width": 4
         },
         "lon": [
          2.5223928,
          2.6569503
         ],
         "mode": "lines",
         "name": "IN_PASSENGER_VEHICLE",
         "showlegend": false,
         "type": "scattermap"
        },
        {
         "hovertemplate": "<b>IN_PASSENGER_VEHICLE</b><br>Distance: 645m<br>Date: 2025-07-20<br>Time: 21:23 - 21:25<br>Duration: 0.0h<extra></extra>",
         "lat": [
          51.1105812,
          51.1070744
         ],
         "line": {
          "color": "#1f77b4",
          "width": 4
         },
         "lon": [
          2.6555171,
          2.6483212
         ],
         "mode": "lines",
         "name": "IN_PASSENGER_VEHICLE",
         "showlegend": false,
         "type": "scattermap"
        },
        {
         "hovertemplate": "<b>IN_PASSENGER_VEHICLE</b><br>Distance: 5744m<br>Date: 2025-07-21<br>Time: 10:22 - 10:32<br>Duration: 0.2h<extra></extra>",
         "lat": [
          51.1052318,
          51.0729821
         ],
         "line": {
          "color": "#1f77b4",
          "width": 4
         },
         "lon": [
          2.6478512,
          2.6678876
         ],
         "mode": "lines",
         "name": "IN_PASSENGER_VEHICLE",
         "showlegend": false,
         "type": "scattermap"
        },
        {
         "hovertemplate": "<b>IN_PASSENGER_VEHICLE</b><br>Distance: 21783m<br>Date: 2025-07-21<br>Time: 10:38 - 11:01<br>Duration: 0.4h<extra></extra>",
         "lat": [
          51.0703697,
          51.0336292
         ],
         "line": {
          "color": "#1f77b4",
          "width": 4
         },
         "lon": [
          2.6687255,
          2.4029405
         ],
         "mode": "lines",
         "name": "IN_PASSENGER_VEHICLE",
         "showlegend": false,
         "type": "scattermap"
        },
        {
         "hovertemplate": "<b>IN_PASSENGER_VEHICLE</b><br>Distance: 7663m<br>Date: 2025-07-21<br>Time: 11:18 - 11:29<br>Duration: 0.2h<extra></extra>",
         "lat": [
          51.033649,
          50.9916949
         ],
         "line": {
          "color": "#1f77b4",
          "width": 4
         },
         "lon": [
          2.4017194,
          2.3573348
         ],
         "mode": "lines",
         "name": "IN_PASSENGER_VEHICLE",
         "showlegend": false,
         "type": "scattermap"
        },
        {
         "hovertemplate": "<b>IN_PASSENGER_VEHICLE</b><br>Distance: 6414m<br>Date: 2025-07-21<br>Time: 11:40 - 11:48<br>Duration: 0.1h<extra></extra>",
         "lat": [
          50.9921082,
          51.0142474
         ],
         "line": {
          "color": "#1f77b4",
          "width": 4
         },
         "lon": [
          2.3573663,
          2.3458456
         ],
         "mode": "lines",
         "name": "IN_PASSENGER_VEHICLE",
         "showlegend": false,
         "type": "scattermap"
        },
        {
         "hovertemplate": "<b>IN_PASSENGER_VEHICLE</b><br>Distance: 3676m<br>Date: 2025-07-21<br>Time: 12:01 - 12:09<br>Duration: 0.1h<extra></extra>",
         "lat": [
          51.0140329,
          51.0207195
         ],
         "line": {
          "color": "#1f77b4",
          "width": 4
         },
         "lon": [
          2.345964,
          2.3184733
         ],
         "mode": "lines",
         "name": "IN_PASSENGER_VEHICLE",
         "showlegend": false,
         "type": "scattermap"
        },
        {
         "hovertemplate": "<b>IN_PASSENGER_VEHICLE</b><br>Distance: 75526m<br>Date: 2025-07-21<br>Time: 16:08 - 17:16<br>Duration: 1.1h<extra></extra>",
         "lat": [
          51.0170217,
          51.1963759
         ],
         "line": {
          "color": "#1f77b4",
          "width": 4
         },
         "lon": [
          2.3141195,
          3.2255953
         ],
         "mode": "lines",
         "name": "IN_PASSENGER_VEHICLE",
         "showlegend": false,
         "type": "scattermap"
        },
        {
         "hovertemplate": "<b>IN_PASSENGER_VEHICLE</b><br>Distance: 9761m<br>Date: 2025-07-21<br>Time: 17:34 - 17:49<br>Duration: 0.3h<extra></extra>",
         "lat": [
          51.1965147,
          51.2742802
         ],
         "line": {
          "color": "#1f77b4",
          "width": 4
         },
         "lon": [
          3.2264541,
          3.2290054
         ],
         "mode": "lines",
         "name": "IN_PASSENGER_VEHICLE",
         "showlegend": false,
         "type": "scattermap"
        },
        {
         "hovertemplate": "<b>IN_PASSENGER_VEHICLE</b><br>Distance: 9830m<br>Date: 2025-07-22<br>Time: 09:55 - 10:12<br>Duration: 0.3h<extra></extra>",
         "lat": [
          51.2741483,
          51.1962866
         ],
         "line": {
          "color": "#1f77b4",
          "width": 4
         },
         "lon": [
          3.2290613,
          3.2253805
         ],
         "mode": "lines",
         "name": "IN_PASSENGER_VEHICLE",
         "showlegend": false,
         "type": "scattermap"
        },
        {
         "hovertemplate": "<b>IN_PASSENGER_VEHICLE</b><br>Distance: 1032m<br>Date: 2025-07-24<br>Time: 09:47 - 09:51<br>Duration: 0.1h<extra></extra>",
         "lat": [
          51.1950385,
          51.1992989
         ],
         "line": {
          "color": "#1f77b4",
          "width": 4
         },
         "lon": [
          3.2258527,
          3.2302177
         ],
         "mode": "lines",
         "name": "IN_PASSENGER_VEHICLE",
         "showlegend": false,
         "type": "scattermap"
        },
        {
         "hovertemplate": "<b>IN_PASSENGER_VEHICLE</b><br>Distance: 44431m<br>Date: 2025-07-24<br>Time: 09:58 - 10:41<br>Duration: 0.7h<extra></extra>",
         "lat": [
          51.197683,
          51.0552117
         ],
         "line": {
          "color": "#1f77b4",
          "width": 4
         },
         "lon": [
          3.2308899,
          3.7021215
         ],
         "mode": "lines",
         "name": "IN_PASSENGER_VEHICLE",
         "showlegend": false,
         "type": "scattermap"
        },
        {
         "hovertemplate": "<b>IN_PASSENGER_VEHICLE</b><br>Distance: 115366m<br>Date: 2025-07-25<br>Time: 05:33 - 07:12<br>Duration: 1.7h<extra></extra>",
         "lat": [
          51.055203,
          51.5886439
         ],
         "line": {
          "color": "#1f77b4",
          "width": 4
         },
         "lon": [
          3.7020914,
          4.3034837
         ],
         "mode": "lines",
         "name": "IN_PASSENGER_VEHICLE",
         "showlegend": false,
         "type": "scattermap"
        },
        {
         "hovertemplate": "<b>IN_PASSENGER_VEHICLE</b><br>Distance: 59018m<br>Date: 2025-07-25<br>Time: 07:49 - 08:46<br>Duration: 1.0h<extra></extra>",
         "lat": [
          51.5885001,
          51.9504229
         ],
         "line": {
          "color": "#1f77b4",
          "width": 4
         },
         "lon": [
          4.303534,
          4.3931463
         ],
         "mode": "lines",
         "name": "IN_PASSENGER_VEHICLE",
         "showlegend": false,
         "type": "scattermap"
        },
        {
         "hovertemplate": "<b>IN_PASSENGER_VEHICLE</b><br>Distance: 91944m<br>Date: 2025-07-25<br>Time: 16:49 - 18:39<br>Duration: 1.8h<extra></extra>",
         "lat": [
          51.9519198,
          52.3873437
         ],
         "line": {
          "color": "#1f77b4",
          "width": 4
         },
         "lon": [
          4.3996111,
          4.5348678
         ],
         "mode": "lines",
         "name": "IN_PASSENGER_VEHICLE",
         "showlegend": false,
         "type": "scattermap"
        },
        {
         "hovertemplate": "<b>IN_PASSENGER_VEHICLE</b><br>Distance: 51674m<br>Date: 2025-07-26<br>Time: 08:26 - 09:26<br>Duration: 1.0h<extra></extra>",
         "lat": [
          52.3875714,
          52.1441383
         ],
         "line": {
          "color": "#1f77b4",
          "width": 4
         },
         "lon": [
          4.534101,
          5.0009434
         ],
         "mode": "lines",
         "name": "IN_PASSENGER_VEHICLE",
         "showlegend": false,
         "type": "scattermap"
        },
        {
         "hovertemplate": "<b>IN_PASSENGER_VEHICLE</b><br>Distance: 198601m<br>Date: 2025-07-26<br>Time: 09:49 - 12:46<br>Duration: 2.9h<extra></extra>",
         "lat": [
          52.1423663,
          51.2368975
         ],
         "line": {
          "color": "#1f77b4",
          "width": 4
         },
         "lon": [
          5.0013367,
          6.7711108
         ],
         "mode": "lines",
         "name": "IN_PASSENGER_VEHICLE",
         "showlegend": false,
         "type": "scattermap"
        },
        {
         "hovertemplate": "<b>IN_PASSENGER_VEHICLE</b><br>Distance: 4899m<br>Date: 2025-07-26<br>Time: 12:50 - 12:57<br>Duration: 0.1h<extra></extra>",
         "lat": [
          51.237073,
          51.2352776
         ],
         "line": {
          "color": "#1f77b4",
          "width": 4
         },
         "lon": [
          6.7702044,
          6.7614191
         ],
         "mode": "lines",
         "name": "IN_PASSENGER_VEHICLE",
         "showlegend": false,
         "type": "scattermap"
        },
        {
         "hovertemplate": "<b>IN_PASSENGER_VEHICLE</b><br>Distance: 52370m<br>Date: 2025-07-27<br>Time: 06:30 - 10:03<br>Duration: 3.6h<extra></extra>",
         "lat": [
          51.2326133,
          50.9296562
         ],
         "line": {
          "color": "#1f77b4",
          "width": 4
         },
         "lon": [
          6.771953,
          6.9614913
         ],
         "mode": "lines",
         "name": "IN_PASSENGER_VEHICLE",
         "showlegend": false,
         "type": "scattermap"
        },
        {
         "hovertemplate": "<b>IN_PASSENGER_VEHICLE</b><br>Distance: 46751m<br>Date: 2025-07-27<br>Time: 15:10 - 15:56<br>Duration: 0.8h<extra></extra>",
         "lat": [
          50.9296733,
          50.581295
         ],
         "line": {
          "color": "#1f77b4",
          "width": 4
         },
         "lon": [
          6.9729133,
          7.05969
         ],
         "mode": "lines",
         "name": "IN_PASSENGER_VEHICLE",
         "showlegend": false,
         "type": "scattermap"
        },
        {
         "hovertemplate": "<b>IN_PASSENGER_VEHICLE</b><br>Distance: 189263m<br>Date: 2025-07-27<br>Time: 16:43 - 18:57<br>Duration: 2.2h<extra></extra>",
         "lat": [
          50.581295,
          49.4536268
         ],
         "line": {
          "color": "#1f77b4",
          "width": 4
         },
         "lon": [
          7.05969,
          8.3870484
         ],
         "mode": "lines",
         "name": "IN_PASSENGER_VEHICLE",
         "showlegend": false,
         "type": "scattermap"
        },
        {
         "hovertemplate": "<b>IN_PASSENGER_VEHICLE</b><br>Distance: 1541m<br>Date: 2025-07-28<br>Time: 17:11 - 17:14<br>Duration: 0.1h<extra></extra>",
         "lat": [
          49.4536767,
          49.4532352
         ],
         "line": {
          "color": "#1f77b4",
          "width": 4
         },
         "lon": [
          8.38699,
          8.375473
         ],
         "mode": "lines",
         "name": "IN_PASSENGER_VEHICLE",
         "showlegend": false,
         "type": "scattermap"
        },
        {
         "hovertemplate": "<b>IN_PASSENGER_VEHICLE</b><br>Distance: 221169m<br>Date: 2025-07-28<br>Time: 17:19 - 20:05<br>Duration: 2.8h<extra></extra>",
         "lat": [
          49.453122,
          48.3836791
         ],
         "line": {
          "color": "#1f77b4",
          "width": 4
         },
         "lon": [
          8.3748408,
          9.9875833
         ],
         "mode": "lines",
         "name": "IN_PASSENGER_VEHICLE",
         "showlegend": false,
         "type": "scattermap"
        },
        {
         "hovertemplate": "<b>IN_PASSENGER_VEHICLE</b><br>Distance: 8480m<br>Date: 2025-07-31<br>Time: 09:21 - 09:34<br>Duration: 0.2h<extra></extra>",
         "lat": [
          50.0521678,
          50.1168214
         ],
         "line": {
          "color": "#1f77b4",
          "width": 4
         },
         "lon": [
          8.5868348,
          8.6361629
         ],
         "mode": "lines",
         "name": "IN_PASSENGER_VEHICLE",
         "showlegend": false,
         "type": "scattermap"
        },
        {
         "hovertemplate": "<b>IN_PASSENGER_VEHICLE</b><br>Distance: 5724m<br>Date: 2025-08-02<br>Time: 17:39 - 17:57<br>Duration: 0.3h<extra></extra>",
         "lat": [
          50.1169491,
          50.146805
         ],
         "line": {
          "color": "#1f77b4",
          "width": 4
         },
         "lon": [
          8.6351758,
          8.6672503
         ],
         "mode": "lines",
         "name": "IN_PASSENGER_VEHICLE",
         "showlegend": false,
         "type": "scattermap"
        },
        {
         "hovertemplate": "<b>IN_PASSENGER_VEHICLE</b><br>Distance: 4743m<br>Date: 2025-08-02<br>Time: 21:35 - 21:45<br>Duration: 0.2h<extra></extra>",
         "lat": [
          50.146756,
          50.115793
         ],
         "line": {
          "color": "#1f77b4",
          "width": 4
         },
         "lon": [
          8.6670019,
          8.6359738
         ],
         "mode": "lines",
         "name": "IN_PASSENGER_VEHICLE",
         "showlegend": false,
         "type": "scattermap"
        },
        {
         "hovertemplate": "<b>IN_PASSENGER_VEHICLE</b><br>Distance: 3059m<br>Date: 2025-08-06<br>Time: 16:10 - 16:15<br>Duration: 0.1h<extra></extra>",
         "lat": [
          48.3833813,
          48.376512
         ],
         "line": {
          "color": "#1f77b4",
          "width": 4
         },
         "lon": [
          9.9874723,
          10.0066571
         ],
         "mode": "lines",
         "name": "IN_PASSENGER_VEHICLE",
         "showlegend": false,
         "type": "scattermap"
        },
        {
         "hovertemplate": "<b>IN_PASSENGER_VEHICLE</b><br>Distance: 4113m<br>Date: 2025-08-06<br>Time: 16:40 - 16:48<br>Duration: 0.1h<extra></extra>",
         "lat": [
          48.3759256,
          48.3884741
         ],
         "line": {
          "color": "#1f77b4",
          "width": 4
         },
         "lon": [
          10.0069314,
          10.0345743
         ],
         "mode": "lines",
         "name": "IN_PASSENGER_VEHICLE",
         "showlegend": false,
         "type": "scattermap"
        },
        {
         "hovertemplate": "<b>IN_PASSENGER_VEHICLE</b><br>Distance: 114557m<br>Date: 2025-08-06<br>Time: 16:55 - 18:15<br>Duration: 1.3h<extra></extra>",
         "lat": [
          48.3872114,
          47.5484266
         ],
         "line": {
          "color": "#1f77b4",
          "width": 4
         },
         "lon": [
          10.030805,
          9.7283231
         ],
         "mode": "lines",
         "name": "IN_PASSENGER_VEHICLE",
         "showlegend": false,
         "type": "scattermap"
        },
        {
         "hovertemplate": "<b>IN_PASSENGER_VEHICLE</b><br>Distance: 1288m<br>Date: 2025-08-06<br>Time: 18:24 - 18:27<br>Duration: 0.0h<extra></extra>",
         "lat": [
          47.5485499,
          47.5424795
         ],
         "line": {
          "color": "#1f77b4",
          "width": 4
         },
         "lon": [
          9.7284431,
          9.7314046
         ],
         "mode": "lines",
         "name": "IN_PASSENGER_VEHICLE",
         "showlegend": false,
         "type": "scattermap"
        },
        {
         "hovertemplate": "<b>IN_PASSENGER_VEHICLE</b><br>Distance: 19495m<br>Date: 2025-08-06<br>Time: 18:33 - 18:54<br>Duration: 0.3h<extra></extra>",
         "lat": [
          47.5420242,
          47.5900467
         ],
         "line": {
          "color": "#1f77b4",
          "width": 4
         },
         "lon": [
          9.7288458,
          9.575125
         ],
         "mode": "lines",
         "name": "IN_PASSENGER_VEHICLE",
         "showlegend": false,
         "type": "scattermap"
        },
        {
         "hovertemplate": "<b>IN_PASSENGER_VEHICLE</b><br>Distance: 3229m<br>Date: 2025-08-07<br>Time: 18:43 - 18:47<br>Duration: 0.1h<extra></extra>",
         "lat": [
          47.5906117,
          47.6071823
         ],
         "line": {
          "color": "#1f77b4",
          "width": 4
         },
         "lon": [
          9.5757467,
          9.5863305
         ],
         "mode": "lines",
         "name": "IN_PASSENGER_VEHICLE",
         "showlegend": false,
         "type": "scattermap"
        },
        {
         "hovertemplate": "<b>IN_PASSENGER_VEHICLE</b><br>Distance: 73109m<br>Date: 2025-08-07<br>Time: 18:52 - 19:53<br>Duration: 1.0h<extra></extra>",
         "lat": [
          47.6084963,
          47.137592
         ],
         "line": {
          "color": "#1f77b4",
          "width": 4
         },
         "lon": [
          9.5879083,
          9.5115541
         ],
         "mode": "lines",
         "name": "IN_PASSENGER_VEHICLE",
         "showlegend": false,
         "type": "scattermap"
        },
        {
         "hovertemplate": "<b>IN_PASSENGER_VEHICLE</b><br>Distance: 119884m<br>Date: 2025-08-09<br>Time: 06:15 - 10:37<br>Duration: 4.4h<extra></extra>",
         "lat": [
          47.0143858,
          46.2325112
         ],
         "line": {
          "color": "#1f77b4",
          "width": 4
         },
         "lon": [
          9.5050223,
          9.1044988
         ],
         "mode": "lines",
         "name": "IN_PASSENGER_VEHICLE",
         "showlegend": false,
         "type": "scattermap"
        },
        {
         "hovertemplate": "<b>IN_PASSENGER_VEHICLE</b><br>Distance: 464m<br>Date: 2025-08-10<br>Time: 09:39 - 09:42<br>Duration: 0.0h<extra></extra>",
         "lat": [
          45.9698047,
          45.9733687
         ],
         "line": {
          "color": "#1f77b4",
          "width": 4
         },
         "lon": [
          9.1927258,
          9.1937369
         ],
         "mode": "lines",
         "name": "IN_PASSENGER_VEHICLE",
         "showlegend": false,
         "type": "scattermap"
        },
        {
         "hovertemplate": "<b>IN_PASSENGER_VEHICLE</b><br>Distance: 21646m<br>Date: 2025-08-10<br>Time: 15:57 - 16:30<br>Duration: 0.6h<extra></extra>",
         "lat": [
          45.9717102,
          45.8371789
         ],
         "line": {
          "color": "#1f77b4",
          "width": 4
         },
         "lon": [
          9.1940432,
          9.0618739
         ],
         "mode": "lines",
         "name": "IN_PASSENGER_VEHICLE",
         "showlegend": false,
         "type": "scattermap"
        },
        {
         "hovertemplate": "<b>IN_PASSENGER_VEHICLE</b><br>Distance: 136730m<br>Date: 2025-08-10<br>Time: 16:53 - 18:38<br>Duration: 1.7h<extra></extra>",
         "lat": [
          45.83722,
          44.9617508
         ],
         "line": {
          "color": "#1f77b4",
          "width": 4
         },
         "lon": [
          9.061705,
          9.905502
         ],
         "mode": "lines",
         "name": "IN_PASSENGER_VEHICLE",
         "showlegend": false,
         "type": "scattermap"
        },
        {
         "hovertemplate": "<b>IN_PASSENGER_VEHICLE</b><br>Distance: 134493m<br>Date: 2025-08-10<br>Time: 19:32 - 21:31<br>Duration: 2.0h<extra></extra>",
         "lat": [
          44.9621416,
          44.4983564
         ],
         "line": {
          "color": "#1f77b4",
          "width": 4
         },
         "lon": [
          9.9054721,
          11.3567319
         ],
         "mode": "lines",
         "name": "IN_PASSENGER_VEHICLE",
         "showlegend": false,
         "type": "scattermap"
        },
        {
         "hovertemplate": "<b>IN_PASSENGER_VEHICLE</b><br>Distance: 3550m<br>Date: 2025-08-10<br>Time: 22:44 - 22:53<br>Duration: 0.1h<extra></extra>",
         "lat": [
          44.4990918,
          44.4939389
         ],
         "line": {
          "color": "#1f77b4",
          "width": 4
         },
         "lon": [
          11.3575639,
          11.3897833
         ],
         "mode": "lines",
         "name": "IN_PASSENGER_VEHICLE",
         "showlegend": false,
         "type": "scattermap"
        },
        {
         "hovertemplate": "<b>IN_PASSENGER_VEHICLE</b><br>Distance: 10877m<br>Date: 2025-08-11<br>Time: 06:35 - 06:49<br>Duration: 0.2h<extra></extra>",
         "lat": [
          44.4935203,
          44.5286316
         ],
         "line": {
          "color": "#1f77b4",
          "width": 4
         },
         "lon": [
          11.3903669,
          11.2920467
         ],
         "mode": "lines",
         "name": "IN_PASSENGER_VEHICLE",
         "showlegend": false,
         "type": "scattermap"
        },
        {
         "hovertemplate": "<b>IN_PASSENGER_VEHICLE</b><br>Distance: 3948m<br>Date: 2025-08-13<br>Time: 20:30 - 20:45<br>Duration: 0.2h<extra></extra>",
         "lat": [
          51.5044067,
          51.5255733
         ],
         "line": {
          "color": "#1f77b4",
          "width": 4
         },
         "lon": [
          -0.0760617,
          -0.0777133
         ],
         "mode": "lines",
         "name": "IN_PASSENGER_VEHICLE",
         "showlegend": false,
         "type": "scattermap"
        },
        {
         "hovertemplate": "<b>IN_PASSENGER_VEHICLE</b><br>Distance: 69315m<br>Date: 2025-08-17<br>Time: 09:42 - 10:43<br>Duration: 1.0h<extra></extra>",
         "lat": [
          39.4925554,
          38.9999018
         ],
         "line": {
          "color": "#1f77b4",
          "width": 4
         },
         "lon": [
          -0.4715069,
          -0.1628598
         ],
         "mode": "lines",
         "name": "IN_PASSENGER_VEHICLE",
         "showlegend": false,
         "type": "scattermap"
        },
        {
         "hovertemplate": "<b>IN_PASSENGER_VEHICLE</b><br>Distance: 434m<br>Date: 2025-08-23<br>Time: 06:42 - 06:47<br>Duration: 0.1h<extra></extra>",
         "lat": [
          39.4925626,
          39.4917868
         ],
         "line": {
          "color": "#1f77b4",
          "width": 4
         },
         "lon": [
          -0.4738165,
          -0.4739926
         ],
         "mode": "lines",
         "name": "IN_PASSENGER_VEHICLE",
         "showlegend": false,
         "type": "scattermap"
        },
        {
         "hovertemplate": "<b>IN_PASSENGER_VEHICLE</b><br>Distance: 14448m<br>Date: 2025-08-23<br>Time: 12:07 - 12:29<br>Duration: 0.4h<extra></extra>",
         "lat": [
          38.7691652,
          38.7619002
         ],
         "line": {
          "color": "#1f77b4",
          "width": 4
         },
         "lon": [
          -9.1255866,
          -9.2761831
         ],
         "mode": "lines",
         "name": "IN_PASSENGER_VEHICLE",
         "showlegend": false,
         "type": "scattermap"
        },
        {
         "hovertemplate": "<b>IN_PASSENGER_VEHICLE</b><br>Distance: 621m<br>Date: 2025-08-23<br>Time: 12:54 - 12:56<br>Duration: 0.0h<extra></extra>",
         "lat": [
          38.7616679,
          38.7565309
         ],
         "line": {
          "color": "#1f77b4",
          "width": 4
         },
         "lon": [
          -9.2760398,
          -9.2788633
         ],
         "mode": "lines",
         "name": "IN_PASSENGER_VEHICLE",
         "showlegend": false,
         "type": "scattermap"
        },
        {
         "hovertemplate": "<b>IN_PASSENGER_VEHICLE</b><br>Distance: 21173m<br>Date: 2025-08-23<br>Time: 13:21 - 13:47<br>Duration: 0.4h<extra></extra>",
         "lat": [
          38.7573912,
          38.8957067
         ],
         "line": {
          "color": "#1f77b4",
          "width": 4
         },
         "lon": [
          -9.2774981,
          -9.37478
         ],
         "mode": "lines",
         "name": "IN_PASSENGER_VEHICLE",
         "showlegend": false,
         "type": "scattermap"
        },
        {
         "hovertemplate": "<b>IN_PASSENGER_VEHICLE</b><br>Distance: 16845m<br>Date: 2025-08-23<br>Time: 14:01 - 14:29<br>Duration: 0.5h<extra></extra>",
         "lat": [
          38.8949517,
          38.7748
         ],
         "line": {
          "color": "#1f77b4",
          "width": 4
         },
         "lon": [
          -9.374905,
          -9.342365
         ],
         "mode": "lines",
         "name": "IN_PASSENGER_VEHICLE",
         "showlegend": false,
         "type": "scattermap"
        },
        {
         "hovertemplate": "<b>IN_PASSENGER_VEHICLE</b><br>Distance: 6573m<br>Date: 2025-08-23<br>Time: 15:11 - 15:27<br>Duration: 0.3h<extra></extra>",
         "lat": [
          38.7756191,
          38.7618274
         ],
         "line": {
          "color": "#1f77b4",
          "width": 4
         },
         "lon": [
          -9.3398613,
          -9.2771316
         ],
         "mode": "lines",
         "name": "IN_PASSENGER_VEHICLE",
         "showlegend": false,
         "type": "scattermap"
        },
        {
         "hovertemplate": "<b>IN_PASSENGER_VEHICLE</b><br>Distance: 1597m<br>Date: 2025-08-23<br>Time: 18:47 - 18:55<br>Duration: 0.1h<extra></extra>",
         "lat": [
          38.7616829,
          38.7714668
         ],
         "line": {
          "color": "#1f77b4",
          "width": 4
         },
         "lon": [
          -9.2762122,
          -9.2719096
         ],
         "mode": "lines",
         "name": "IN_PASSENGER_VEHICLE",
         "showlegend": false,
         "type": "scattermap"
        },
        {
         "hovertemplate": "<b>IN_PASSENGER_VEHICLE</b><br>Distance: 15140m<br>Date: 2025-08-23<br>Time: 19:19 - 19:48<br>Duration: 0.5h<extra></extra>",
         "lat": [
          38.7710467,
          38.7175935
         ],
         "line": {
          "color": "#1f77b4",
          "width": 4
         },
         "lon": [
          -9.2711417,
          -9.1494605
         ],
         "mode": "lines",
         "name": "IN_PASSENGER_VEHICLE",
         "showlegend": false,
         "type": "scattermap"
        },
        {
         "hovertemplate": "<b>IN_PASSENGER_VEHICLE</b><br>Distance: 14393m<br>Date: 2025-08-23<br>Time: 23:34 - 23:58<br>Duration: 0.4h<extra></extra>",
         "lat": [
          38.717126,
          38.7617039
         ],
         "line": {
          "color": "#1f77b4",
          "width": 4
         },
         "lon": [
          -9.149333,
          -9.2762211
         ],
         "mode": "lines",
         "name": "IN_PASSENGER_VEHICLE",
         "showlegend": false,
         "type": "scattermap"
        },
        {
         "hovertemplate": "<b>IN_PASSENGER_VEHICLE</b><br>Distance: 7946m<br>Date: 2025-08-24<br>Time: 06:39 - 06:59<br>Duration: 0.3h<extra></extra>",
         "lat": [
          38.761613,
          38.7557453
         ],
         "line": {
          "color": "#1f77b4",
          "width": 4
         },
         "lon": [
          -9.2759676,
          -9.2826435
         ],
         "mode": "lines",
         "name": "IN_PASSENGER_VEHICLE",
         "showlegend": false,
         "type": "scattermap"
        },
        {
         "hovertemplate": "<b>IN_PASSENGER_VEHICLE</b><br>Distance: 64844m<br>Date: 2025-08-24<br>Time: 07:06 - 07:51<br>Duration: 0.8h<extra></extra>",
         "lat": [
          38.7566433,
          38.5202883
         ],
         "line": {
          "color": "#1f77b4",
          "width": 4
         },
         "lon": [
          -9.2814633,
          -8.8962167
         ],
         "mode": "lines",
         "name": "IN_PASSENGER_VEHICLE",
         "showlegend": false,
         "type": "scattermap"
        },
        {
         "hovertemplate": "<b>IN_PASSENGER_VEHICLE</b><br>Distance: 164260m<br>Date: 2025-08-24<br>Time: 13:50 - 15:15<br>Duration: 1.4h<extra></extra>",
         "lat": [
          38.5202784,
          37.536045
         ],
         "line": {
          "color": "#1f77b4",
          "width": 4
         },
         "lon": [
          -8.8961577,
          -8.1848533
         ],
         "mode": "lines",
         "name": "IN_PASSENGER_VEHICLE",
         "showlegend": false,
         "type": "scattermap"
        },
        {
         "hovertemplate": "<b>IN_PASSENGER_VEHICLE</b><br>Distance: 59074m<br>Date: 2025-08-24<br>Time: 16:05 - 17:40<br>Duration: 1.6h<extra></extra>",
         "lat": [
          37.534765,
          37.1043468
         ],
         "line": {
          "color": "#1f77b4",
          "width": 4
         },
         "lon": [
          -8.18373,
          -8.357919
         ],
         "mode": "lines",
         "name": "IN_PASSENGER_VEHICLE",
         "showlegend": false,
         "type": "scattermap"
        },
        {
         "hovertemplate": "<b>IN_PASSENGER_VEHICLE</b><br>Distance: 704m<br>Date: 2025-08-26<br>Time: 16:31 - 16:33<br>Duration: 0.0h<extra></extra>",
         "lat": [
          37.106923,
          37.1063359
         ],
         "line": {
          "color": "#1f77b4",
          "width": 4
         },
         "lon": [
          -8.3554404,
          -8.3633458
         ],
         "mode": "lines",
         "name": "IN_PASSENGER_VEHICLE",
         "showlegend": false,
         "type": "scattermap"
        },
        {
         "hovertemplate": "<b>IN_PASSENGER_VEHICLE</b><br>Distance: 213m<br>Date: 2025-08-26<br>Time: 16:59 - 17:05<br>Duration: 0.1h<extra></extra>",
         "lat": [
          37.1068238,
          37.1051201
         ],
         "line": {
          "color": "#1f77b4",
          "width": 4
         },
         "lon": [
          -8.3623675,
          -8.3631041
         ],
         "mode": "lines",
         "name": "IN_PASSENGER_VEHICLE",
         "showlegend": false,
         "type": "scattermap"
        },
        {
         "hovertemplate": "<b>IN_PASSENGER_VEHICLE</b><br>Distance: 9983m<br>Date: 2025-08-27<br>Time: 18:02 - 18:24<br>Duration: 0.4h<extra></extra>",
         "lat": [
          37.1065333,
          37.13149
         ],
         "line": {
          "color": "#1f77b4",
          "width": 4
         },
         "lon": [
          -8.3533867,
          -8.446235
         ],
         "mode": "lines",
         "name": "IN_PASSENGER_VEHICLE",
         "showlegend": false,
         "type": "scattermap"
        },
        {
         "hovertemplate": "<b>IN_PASSENGER_VEHICLE</b><br>Distance: 9636m<br>Date: 2025-08-27<br>Time: 22:57 - 23:09<br>Duration: 0.2h<extra></extra>",
         "lat": [
          37.1317467,
          37.1066317
         ],
         "line": {
          "color": "#1f77b4",
          "width": 4
         },
         "lon": [
          -8.4460917,
          -8.3542683
         ],
         "mode": "lines",
         "name": "IN_PASSENGER_VEHICLE",
         "showlegend": false,
         "type": "scattermap"
        },
        {
         "hovertemplate": "<b>IN_PASSENGER_VEHICLE</b><br>Distance: 268306m<br>Date: 2025-08-28<br>Time: 18:54 - 21:20<br>Duration: 2.4h<extra></extra>",
         "lat": [
          37.1065158,
          38.7618033
         ],
         "line": {
          "color": "#1f77b4",
          "width": 4
         },
         "lon": [
          -8.3540628,
          -9.27646
         ],
         "mode": "lines",
         "name": "IN_PASSENGER_VEHICLE",
         "showlegend": false,
         "type": "scattermap"
        },
        {
         "hovertemplate": "<b>IN_PASSENGER_VEHICLE</b><br>Distance: 11046m<br>Date: 2025-08-29<br>Time: 09:36 - 09:48<br>Duration: 0.2h<extra></extra>",
         "lat": [
          38.7613934,
          38.7500667
         ],
         "line": {
          "color": "#1f77b4",
          "width": 4
         },
         "lon": [
          -9.2761683,
          -9.3438483
         ],
         "mode": "lines",
         "name": "IN_PASSENGER_VEHICLE",
         "showlegend": false,
         "type": "scattermap"
        },
        {
         "hovertemplate": "<b>IN_PASSENGER_VEHICLE</b><br>Distance: 10509m<br>Date: 2025-08-29<br>Time: 09:52 - 10:08<br>Duration: 0.3h<extra></extra>",
         "lat": [
          38.7506619,
          38.7634294
         ],
         "line": {
          "color": "#1f77b4",
          "width": 4
         },
         "lon": [
          -9.3443846,
          -9.2765183
         ],
         "mode": "lines",
         "name": "IN_PASSENGER_VEHICLE",
         "showlegend": false,
         "type": "scattermap"
        },
        {
         "hovertemplate": "<b>IN_PASSENGER_VEHICLE</b><br>Distance: 9415m<br>Date: 2025-08-29<br>Time: 17:31 - 17:47<br>Duration: 0.3h<extra></extra>",
         "lat": [
          38.7615521,
          38.7272667
         ],
         "line": {
          "color": "#1f77b4",
          "width": 4
         },
         "lon": [
          -9.2761551,
          -9.2191417
         ],
         "mode": "lines",
         "name": "IN_PASSENGER_VEHICLE",
         "showlegend": false,
         "type": "scattermap"
        },
        {
         "hovertemplate": "<b>IN_PASSENGER_VEHICLE</b><br>Distance: 11847m<br>Date: 2025-08-29<br>Time: 18:43 - 19:05<br>Duration: 0.4h<extra></extra>",
         "lat": [
          38.7273433,
          38.7636867
         ],
         "line": {
          "color": "#1f77b4",
          "width": 4
         },
         "lon": [
          -9.21667,
          -9.1365467
         ],
         "mode": "lines",
         "name": "IN_PASSENGER_VEHICLE",
         "showlegend": false,
         "type": "scattermap"
        },
        {
         "hovertemplate": "<b>IN_PASSENGER_VEHICLE</b><br>Distance: 3027m<br>Date: 2025-08-29<br>Time: 23:34 - 23:49<br>Duration: 0.2h<extra></extra>",
         "lat": [
          41.2884535,
          41.3025666
         ],
         "line": {
          "color": "#1f77b4",
          "width": 4
         },
         "lon": [
          2.0723602,
          2.0756642
         ],
         "mode": "lines",
         "name": "IN_PASSENGER_VEHICLE",
         "showlegend": false,
         "type": "scattermap"
        },
        {
         "hovertemplate": "<b>IN_PASSENGER_VEHICLE</b><br>Distance: 9781m<br>Date: 2025-08-30<br>Time: 05:41 - 05:50<br>Duration: 0.2h<extra></extra>",
         "lat": [
          44.5293217,
          44.4934417
         ],
         "line": {
          "color": "#1f77b4",
          "width": 4
         },
         "lon": [
          11.294315,
          11.389955
         ],
         "mode": "lines",
         "name": "IN_PASSENGER_VEHICLE",
         "showlegend": false,
         "type": "scattermap"
        },
        {
         "hovertemplate": "<b>IN_PASSENGER_VEHICLE</b><br>Distance: 124344m<br>Date: 2025-08-31<br>Time: 07:43 - 09:15<br>Duration: 1.5h<extra></extra>",
         "lat": [
          44.49327,
          44.8956217
         ],
         "line": {
          "color": "#1f77b4",
          "width": 4
         },
         "lon": [
          11.38905,
          10.05299
         ],
         "mode": "lines",
         "name": "IN_PASSENGER_VEHICLE",
         "showlegend": false,
         "type": "scattermap"
        },
        {
         "hovertemplate": "<b>IN_PASSENGER_VEHICLE</b><br>Distance: 143922m<br>Date: 2025-08-31<br>Time: 10:16 - 12:08<br>Duration: 1.9h<extra></extra>",
         "lat": [
          44.89605,
          44.8184133
         ],
         "line": {
          "color": "#1f77b4",
          "width": 4
         },
         "lon": [
          10.0518083,
          8.5939333
         ],
         "mode": "lines",
         "name": "IN_PASSENGER_VEHICLE",
         "showlegend": false,
         "type": "scattermap"
        },
        {
         "hovertemplate": "<b>IN_PASSENGER_VEHICLE</b><br>Distance: 71385m<br>Date: 2025-08-31<br>Time: 12:32 - 14:32<br>Duration: 2.0h<extra></extra>",
         "lat": [
          44.8170823,
          44.3940483
         ],
         "line": {
          "color": "#1f77b4",
          "width": 4
         },
         "lon": [
          8.5937844,
          8.9594583
         ],
         "mode": "lines",
         "name": "IN_PASSENGER_VEHICLE",
         "showlegend": false,
         "type": "scattermap"
        },
        {
         "hovertemplate": "<b>IN_PASSENGER_VEHICLE</b><br>Distance: 54166m<br>Date: 2025-08-31<br>Time: 18:53 - 19:57<br>Duration: 1.1h<extra></extra>",
         "lat": [
          44.4074767,
          44.6405767
         ],
         "line": {
          "color": "#1f77b4",
          "width": 4
         },
         "lon": [
          8.9743817,
          8.6493167
         ],
         "mode": "lines",
         "name": "IN_PASSENGER_VEHICLE",
         "showlegend": false,
         "type": "scattermap"
        },
        {
         "hovertemplate": "<b>IN_PASSENGER_VEHICLE</b><br>Distance: 2508m<br>Date: 2025-09-01<br>Time: 16:00 - 16:05<br>Duration: 0.1h<extra></extra>",
         "lat": [
          44.64086,
          44.6270283
         ],
         "line": {
          "color": "#1f77b4",
          "width": 4
         },
         "lon": [
          8.6490567,
          8.6538867
         ],
         "mode": "lines",
         "name": "IN_PASSENGER_VEHICLE",
         "showlegend": false,
         "type": "scattermap"
        },
        {
         "hovertemplate": "<b>IN_PASSENGER_VEHICLE</b><br>Distance: 130732m<br>Date: 2025-09-01<br>Time: 17:04 - 18:52<br>Duration: 1.8h<extra></extra>",
         "lat": [
          44.627805,
          45.53077
         ],
         "line": {
          "color": "#1f77b4",
          "width": 4
         },
         "lon": [
          8.65297,
          9.18802
         ],
         "mode": "lines",
         "name": "IN_PASSENGER_VEHICLE",
         "showlegend": false,
         "type": "scattermap"
        },
        {
         "hovertemplate": "<b>IN_PASSENGER_VEHICLE</b><br>Distance: 4107m<br>Date: 2025-09-02<br>Time: 16:18 - 16:32<br>Duration: 0.2h<extra></extra>",
         "lat": [
          45.5289917,
          45.5116367
         ],
         "line": {
          "color": "#1f77b4",
          "width": 4
         },
         "lon": [
          9.188185,
          9.1602233
         ],
         "mode": "lines",
         "name": "IN_PASSENGER_VEHICLE",
         "showlegend": false,
         "type": "scattermap"
        },
        {
         "hovertemplate": "<b>IN_PASSENGER_VEHICLE</b><br>Distance: 1344m<br>Date: 2025-09-04<br>Time: 14:41 - 14:45<br>Duration: 0.1h<extra></extra>",
         "lat": [
          45.5115472,
          45.5020735
         ],
         "line": {
          "color": "#1f77b4",
          "width": 4
         },
         "lon": [
          9.160207,
          9.1646275
         ],
         "mode": "lines",
         "name": "IN_PASSENGER_VEHICLE",
         "showlegend": false,
         "type": "scattermap"
        },
        {
         "hovertemplate": "<b>IN_PASSENGER_VEHICLE</b><br>Distance: 53972m<br>Date: 2025-09-04<br>Time: 14:48 - 15:51<br>Duration: 1.1h<extra></extra>",
         "lat": [
          45.5022159,
          45.6597971
         ],
         "line": {
          "color": "#1f77b4",
          "width": 4
         },
         "lon": [
          9.1650067,
          9.7116244
         ],
         "mode": "lines",
         "name": "IN_PASSENGER_VEHICLE",
         "showlegend": false,
         "type": "scattermap"
        },
        {
         "hovertemplate": "<b>IN_PASSENGER_VEHICLE</b><br>Distance: 1887m<br>Date: 2025-09-04<br>Time: 15:58 - 16:05<br>Duration: 0.1h<extra></extra>",
         "lat": [
          45.6595947,
          45.6650195
         ],
         "line": {
          "color": "#1f77b4",
          "width": 4
         },
         "lon": [
          9.7146899,
          9.7011998
         ],
         "mode": "lines",
         "name": "IN_PASSENGER_VEHICLE",
         "showlegend": false,
         "type": "scattermap"
        },
        {
         "hovertemplate": "<b>IN_PASSENGER_VEHICLE</b><br>Distance: 389m<br>Date: 2025-09-04<br>Time: 19:41 - 19:45<br>Duration: 0.1h<extra></extra>",
         "lat": [
          53.4277667,
          53.4290153
         ],
         "line": {
          "color": "#1f77b4",
          "width": 4
         },
         "lon": [
          -6.2439705,
          -6.2417716
         ],
         "mode": "lines",
         "name": "IN_PASSENGER_VEHICLE",
         "showlegend": false,
         "type": "scattermap"
        },
        {
         "hovertemplate": "<b>IN_PASSENGER_VEHICLE</b><br>Distance: 2274m<br>Date: 2025-09-09<br>Time: 17:40 - 17:55<br>Duration: 0.3h<extra></extra>",
         "lat": [
          53.3261287,
          53.3433067
         ],
         "line": {
          "color": "#1f77b4",
          "width": 4
         },
         "lon": [
          -6.2778572,
          -6.2702283
         ],
         "mode": "lines",
         "name": "IN_PASSENGER_VEHICLE",
         "showlegend": false,
         "type": "scattermap"
        },
        {
         "hovertemplate": "<b>IN_PASSENGER_VEHICLE</b><br>Distance: 2175m<br>Date: 2025-09-10<br>Time: 22:03 - 22:15<br>Duration: 0.2h<extra></extra>",
         "lat": [
          45.6651647,
          45.6590085
         ],
         "line": {
          "color": "#1f77b4",
          "width": 4
         },
         "lon": [
          9.6991784,
          9.7143217
         ],
         "mode": "lines",
         "name": "IN_PASSENGER_VEHICLE",
         "showlegend": false,
         "type": "scattermap"
        },
        {
         "hovertemplate": "<b>IN_PASSENGER_VEHICLE</b><br>Distance: 6644m<br>Date: 2025-09-10<br>Time: 23:28 - 23:40<br>Duration: 0.2h<extra></extra>",
         "lat": [
          45.6593882,
          45.6855233
         ],
         "line": {
          "color": "#1f77b4",
          "width": 4
         },
         "lon": [
          9.7156951,
          9.716095
         ],
         "mode": "lines",
         "name": "IN_PASSENGER_VEHICLE",
         "showlegend": false,
         "type": "scattermap"
        },
        {
         "hovertemplate": "<b>IN_PASSENGER_VEHICLE</b><br>Distance: 47349m<br>Date: 2025-09-11<br>Time: 00:15 - 00:57<br>Duration: 0.7h<extra></extra>",
         "lat": [
          45.685175,
          45.5474883
         ],
         "line": {
          "color": "#1f77b4",
          "width": 4
         },
         "lon": [
          9.716515,
          10.208245
         ],
         "mode": "lines",
         "name": "IN_PASSENGER_VEHICLE",
         "showlegend": false,
         "type": "scattermap"
        },
        {
         "hovertemplate": "<b>IN_PASSENGER_VEHICLE</b><br>Distance: 1279m<br>Date: 2025-09-12<br>Time: 15:03 - 15:06<br>Duration: 0.0h<extra></extra>",
         "lat": [
          45.547375,
          45.5434105
         ],
         "line": {
          "color": "#1f77b4",
          "width": 4
         },
         "lon": [
          10.2068318,
          10.2042245
         ],
         "mode": "lines",
         "name": "IN_PASSENGER_VEHICLE",
         "showlegend": false,
         "type": "scattermap"
        },
        {
         "hovertemplate": "<b>IN_PASSENGER_VEHICLE</b><br>Distance: 35107m<br>Date: 2025-09-12<br>Time: 15:14 - 16:10<br>Duration: 0.9h<extra></extra>",
         "lat": [
          45.5430583,
          45.4877483
         ],
         "line": {
          "color": "#1f77b4",
          "width": 4
         },
         "lon": [
          10.2059483,
          10.5213117
         ],
         "mode": "lines",
         "name": "IN_PASSENGER_VEHICLE",
         "showlegend": false,
         "type": "scattermap"
        },
        {
         "hovertemplate": "<b>IN_PASSENGER_VEHICLE</b><br>Distance: 9791m<br>Date: 2025-09-12<br>Time: 16:35 - 16:50<br>Duration: 0.3h<extra></extra>",
         "lat": [
          45.4878294,
          45.4878308
         ],
         "line": {
          "color": "#1f77b4",
          "width": 4
         },
         "lon": [
          10.5220594,
          10.522062
         ],
         "mode": "lines",
         "name": "IN_PASSENGER_VEHICLE",
         "showlegend": false,
         "type": "scattermap"
        },
        {
         "hovertemplate": "<b>IN_PASSENGER_VEHICLE</b><br>Distance: 163775m<br>Date: 2025-09-13<br>Time: 10:13 - 12:25<br>Duration: 2.2h<extra></extra>",
         "lat": [
          45.487575,
          44.5179583
         ],
         "line": {
          "color": "#1f77b4",
          "width": 4
         },
         "lon": [
          10.5218767,
          11.2142017
         ],
         "mode": "lines",
         "name": "IN_PASSENGER_VEHICLE",
         "showlegend": false,
         "type": "scattermap"
        },
        {
         "hovertemplate": "<b>IN_PASSENGER_VEHICLE</b><br>Distance: 140635m<br>Date: 2025-09-13<br>Time: 13:21 - 15:19<br>Duration: 2.0h<extra></extra>",
         "lat": [
          44.5185283,
          43.941285
         ],
         "line": {
          "color": "#1f77b4",
          "width": 4
         },
         "lon": [
          11.2164433,
          12.4425367
         ],
         "mode": "lines",
         "name": "IN_PASSENGER_VEHICLE",
         "showlegend": false,
         "type": "scattermap"
        },
        {
         "hovertemplate": "<b>IN_PASSENGER_VEHICLE</b><br>Distance: 4941m<br>Date: 2025-09-14<br>Time: 09:06 - 09:27<br>Duration: 0.3h<extra></extra>",
         "lat": [
          43.9477922,
          43.95186
         ],
         "line": {
          "color": "#1f77b4",
          "width": 4
         },
         "lon": [
          12.4540005,
          12.406015
         ],
         "mode": "lines",
         "name": "IN_PASSENGER_VEHICLE",
         "showlegend": false,
         "type": "scattermap"
        },
        {
         "hovertemplate": "<b>IN_PASSENGER_VEHICLE</b><br>Distance: 187856m<br>Date: 2025-09-14<br>Time: 09:36 - 13:19<br>Duration: 3.7h<extra></extra>",
         "lat": [
          43.9299317,
          43.7518517
         ],
         "line": {
          "color": "#1f77b4",
          "width": 4
         },
         "lon": [
          12.3248133,
          11.24423
         ],
         "mode": "lines",
         "name": "IN_PASSENGER_VEHICLE",
         "showlegend": false,
         "type": "scattermap"
        },
        {
         "hovertemplate": "<b>CYCLING</b><br>Distance: 2610m<br>Date: 2025-06-13<br>Time: 08:12 - 14:32<br>Duration: 6.3h<extra></extra>",
         "lat": [
          43.1730283,
          43.1697817
         ],
         "line": {
          "color": "#2ca02c",
          "width": 4
         },
         "lon": [
          -4.900255,
          -4.904575
         ],
         "mode": "lines",
         "name": "CYCLING",
         "showlegend": true,
         "type": "scattermap"
        },
        {
         "hovertemplate": "<b>CYCLING</b><br>Distance: 1955m<br>Date: 2025-07-06<br>Time: 11:04 - 11:14<br>Duration: 0.2h<extra></extra>",
         "lat": [
          44.8534053,
          44.8404187
         ],
         "line": {
          "color": "#2ca02c",
          "width": 4
         },
         "lon": [
          -0.5664535,
          -0.5692964
         ],
         "mode": "lines",
         "name": "CYCLING",
         "showlegend": false,
         "type": "scattermap"
        },
        {
         "hovertemplate": "<b>CYCLING</b><br>Distance: 2875m<br>Date: 2025-07-17<br>Time: 17:31 - 17:43<br>Duration: 0.2h<extra></extra>",
         "lat": [
          49.1801334,
          49.185037
         ],
         "line": {
          "color": "#2ca02c",
          "width": 4
         },
         "lon": [
          -0.399042,
          -0.3657622
         ],
         "mode": "lines",
         "name": "CYCLING",
         "showlegend": false,
         "type": "scattermap"
        },
        {
         "hovertemplate": "<b>CYCLING</b><br>Distance: 11228m<br>Date: 2025-07-17<br>Time: 18:20 - 19:05<br>Duration: 0.7h<extra></extra>",
         "lat": [
          49.1853781,
          49.2425075
         ],
         "line": {
          "color": "#2ca02c",
          "width": 4
         },
         "lon": [
          -0.3649526,
          -0.2747505
         ],
         "mode": "lines",
         "name": "CYCLING",
         "showlegend": false,
         "type": "scattermap"
        },
        {
         "hovertemplate": "<b>CYCLING</b><br>Distance: 10128m<br>Date: 2025-07-17<br>Time: 19:29 - 20:05<br>Duration: 0.6h<extra></extra>",
         "lat": [
          49.2425891,
          49.1830726
         ],
         "line": {
          "color": "#2ca02c",
          "width": 4
         },
         "lon": [
          -0.2746149,
          -0.3552586
         ],
         "mode": "lines",
         "name": "CYCLING",
         "showlegend": false,
         "type": "scattermap"
        },
        {
         "hovertemplate": "<b>CYCLING</b><br>Distance: 5308m<br>Date: 2025-07-17<br>Time: 20:43 - 21:08<br>Duration: 0.4h<extra></extra>",
         "lat": [
          49.1828904,
          49.1797421
         ],
         "line": {
          "color": "#2ca02c",
          "width": 4
         },
         "lon": [
          -0.3549059,
          -0.3986895
         ],
         "mode": "lines",
         "name": "CYCLING",
         "showlegend": false,
         "type": "scattermap"
        },
        {
         "hovertemplate": "<b>CYCLING</b><br>Distance: 1332m<br>Date: 2025-07-18<br>Time: 17:29 - 17:33<br>Duration: 0.1h<extra></extra>",
         "lat": [
          49.3590114,
          49.3703106
         ],
         "line": {
          "color": "#2ca02c",
          "width": 4
         },
         "lon": [
          -0.8800171,
          -0.8795263
         ],
         "mode": "lines",
         "name": "CYCLING",
         "showlegend": false,
         "type": "scattermap"
        },
        {
         "hovertemplate": "<b>CYCLING</b><br>Distance: 2829m<br>Date: 2025-07-18<br>Time: 17:49 - 18:03<br>Duration: 0.2h<extra></extra>",
         "lat": [
          49.3709667,
          49.3774403
         ],
         "line": {
          "color": "#2ca02c",
          "width": 4
         },
         "lon": [
          -0.8801738,
          -0.9094049
         ],
         "mode": "lines",
         "name": "CYCLING",
         "showlegend": false,
         "type": "scattermap"
        },
        {
         "hovertemplate": "<b>CYCLING</b><br>Distance: 3276m<br>Date: 2025-07-18<br>Time: 22:27 - 22:39<br>Duration: 0.2h<extra></extra>",
         "lat": [
          49.3794871,
          49.3590881
         ],
         "line": {
          "color": "#2ca02c",
          "width": 4
         },
         "lon": [
          -0.9098169,
          -0.8808486
         ],
         "mode": "lines",
         "name": "CYCLING",
         "showlegend": false,
         "type": "scattermap"
        },
        {
         "hovertemplate": "<b>CYCLING</b><br>Distance: 1167m<br>Date: 2025-07-20<br>Time: 10:45 - 10:50<br>Duration: 0.1h<extra></extra>",
         "lat": [
          49.7009262,
          49.7088178
         ],
         "line": {
          "color": "#2ca02c",
          "width": 4
         },
         "lon": [
          0.2148283,
          0.2045624
         ],
         "mode": "lines",
         "name": "CYCLING",
         "showlegend": false,
         "type": "scattermap"
        },
        {
         "hovertemplate": "<b>CYCLING</b><br>Distance: 1577m<br>Date: 2025-07-20<br>Time: 13:20 - 13:28<br>Duration: 0.1h<extra></extra>",
         "lat": [
          49.7089947,
          49.7007518
         ],
         "line": {
          "color": "#2ca02c",
          "width": 4
         },
         "lon": [
          0.2029966,
          0.2149951
         ],
         "mode": "lines",
         "name": "CYCLING",
         "showlegend": false,
         "type": "scattermap"
        },
        {
         "hovertemplate": "<b>CYCLING</b><br>Distance: 397m<br>Date: 2025-07-22<br>Time: 16:29 - 16:51<br>Duration: 0.4h<extra></extra>",
         "lat": [
          51.2023182,
          51.2048858
         ],
         "line": {
          "color": "#2ca02c",
          "width": 4
         },
         "lon": [
          3.2262841,
          3.2237242
         ],
         "mode": "lines",
         "name": "CYCLING",
         "showlegend": false,
         "type": "scattermap"
        },
        {
         "hovertemplate": "<b>CYCLING</b><br>Distance: 1204m<br>Date: 2025-07-22<br>Time: 22:14 - 22:19<br>Duration: 0.1h<extra></extra>",
         "lat": [
          51.2053544,
          51.1962222
         ],
         "line": {
          "color": "#2ca02c",
          "width": 4
         },
         "lon": [
          3.223015,
          3.2258337
         ],
         "mode": "lines",
         "name": "CYCLING",
         "showlegend": false,
         "type": "scattermap"
        },
        {
         "hovertemplate": "<b>CYCLING</b><br>Distance: 2718m<br>Date: 2025-07-23<br>Time: 19:47 - 20:05<br>Duration: 0.3h<extra></extra>",
         "lat": [
          51.1959755,
          51.2002032
         ],
         "line": {
          "color": "#2ca02c",
          "width": 4
         },
         "lon": [
          3.2256912,
          3.2247511
         ],
         "mode": "lines",
         "name": "CYCLING",
         "showlegend": false,
         "type": "scattermap"
        },
        {
         "hovertemplate": "<b>CYCLING</b><br>Distance: 1808m<br>Date: 2025-07-23<br>Time: 20:14 - 20:26<br>Duration: 0.2h<extra></extra>",
         "lat": [
          51.1987232,
          51.2106786
         ],
         "line": {
          "color": "#2ca02c",
          "width": 4
         },
         "lon": [
          3.2234571,
          3.224336
         ],
         "mode": "lines",
         "name": "CYCLING",
         "showlegend": false,
         "type": "scattermap"
        },
        {
         "hovertemplate": "<b>CYCLING</b><br>Distance: 1019m<br>Date: 2025-07-23<br>Time: 21:38 - 21:52<br>Duration: 0.2h<extra></extra>",
         "lat": [
          51.2130677,
          51.2125035
         ],
         "line": {
          "color": "#2ca02c",
          "width": 4
         },
         "lon": [
          3.2239824,
          3.2379042
         ],
         "mode": "lines",
         "name": "CYCLING",
         "showlegend": false,
         "type": "scattermap"
        },
        {
         "hovertemplate": "<b>CYCLING</b><br>Distance: 2822m<br>Date: 2025-07-23<br>Time: 22:08 - 22:22<br>Duration: 0.2h<extra></extra>",
         "lat": [
          51.2121211,
          51.1960996
         ],
         "line": {
          "color": "#2ca02c",
          "width": 4
         },
         "lon": [
          3.2380191,
          3.2258548
         ],
         "mode": "lines",
         "name": "CYCLING",
         "showlegend": false,
         "type": "scattermap"
        },
        {
         "hovertemplate": "<b>CYCLING</b><br>Distance: 1568m<br>Date: 2025-07-24<br>Time: 08:35 - 08:39<br>Duration: 0.1h<extra></extra>",
         "lat": [
          51.1960852,
          51.2021609
         ],
         "line": {
          "color": "#2ca02c",
          "width": 4
         },
         "lon": [
          3.2259501,
          3.2263585
         ],
         "mode": "lines",
         "name": "CYCLING",
         "showlegend": false,
         "type": "scattermap"
        },
        {
         "hovertemplate": "<b>CYCLING</b><br>Distance: 828m<br>Date: 2025-07-24<br>Time: 08:51 - 08:53<br>Duration: 0.0h<extra></extra>",
         "lat": [
          51.2017375,
          51.1962293
         ],
         "line": {
          "color": "#2ca02c",
          "width": 4
         },
         "lon": [
          3.227084,
          3.2264577
         ],
         "mode": "lines",
         "name": "CYCLING",
         "showlegend": false,
         "type": "scattermap"
        },
        {
         "hovertemplate": "<b>CYCLING</b><br>Distance: 2026m<br>Date: 2025-07-24<br>Time: 19:36 - 19:48<br>Duration: 0.2h<extra></extra>",
         "lat": [
          51.0551386,
          51.0536288
         ],
         "line": {
          "color": "#2ca02c",
          "width": 4
         },
         "lon": [
          3.7019955,
          3.7237505
         ],
         "mode": "lines",
         "name": "CYCLING",
         "showlegend": false,
         "type": "scattermap"
        },
        {
         "hovertemplate": "<b>CYCLING</b><br>Distance: 5188m<br>Date: 2025-07-24<br>Time: 20:33 - 20:59<br>Duration: 0.4h<extra></extra>",
         "lat": [
          51.0533752,
          51.0555685
         ],
         "line": {
          "color": "#2ca02c",
          "width": 4
         },
         "lon": [
          3.7193324,
          3.7029284
         ],
         "mode": "lines",
         "name": "CYCLING",
         "showlegend": false,
         "type": "scattermap"
        },
        {
         "hovertemplate": "<b>CYCLING</b><br>Distance: 3647m<br>Date: 2025-07-25<br>Time: 19:08 - 19:28<br>Duration: 0.3h<extra></extra>",
         "lat": [
          52.3860395,
          52.3566403
         ],
         "line": {
          "color": "#2ca02c",
          "width": 4
         },
         "lon": [
          4.5335002,
          4.5136457
         ],
         "mode": "lines",
         "name": "CYCLING",
         "showlegend": false,
         "type": "scattermap"
        },
        {
         "hovertemplate": "<b>CYCLING</b><br>Distance: 2122m<br>Date: 2025-07-29<br>Time: 09:52 - 10:01<br>Duration: 0.2h<extra></extra>",
         "lat": [
          48.3831074,
          48.3782318
         ],
         "line": {
          "color": "#2ca02c",
          "width": 4
         },
         "lon": [
          9.9860275,
          10.0036198
         ],
         "mode": "lines",
         "name": "CYCLING",
         "showlegend": false,
         "type": "scattermap"
        },
        {
         "hovertemplate": "<b>CYCLING</b><br>Distance: 2197m<br>Date: 2025-07-29<br>Time: 10:35 - 10:45<br>Duration: 0.2h<extra></extra>",
         "lat": [
          48.3783232,
          48.3833459
         ],
         "line": {
          "color": "#2ca02c",
          "width": 4
         },
         "lon": [
          10.0047694,
          9.9861629
         ],
         "mode": "lines",
         "name": "CYCLING",
         "showlegend": false,
         "type": "scattermap"
        },
        {
         "hovertemplate": "<b>CYCLING</b><br>Distance: 2167m<br>Date: 2025-07-30<br>Time: 14:51 - 14:58<br>Duration: 0.1h<extra></extra>",
         "lat": [
          48.3833587,
          48.3783029
         ],
         "line": {
          "color": "#2ca02c",
          "width": 4
         },
         "lon": [
          9.9861729,
          10.0039741
         ],
         "mode": "lines",
         "name": "CYCLING",
         "showlegend": false,
         "type": "scattermap"
        },
        {
         "hovertemplate": "<b>CYCLING</b><br>Distance: 3063m<br>Date: 2025-07-30<br>Time: 15:19 - 15:30<br>Duration: 0.2h<extra></extra>",
         "lat": [
          48.379386,
          48.394523
         ],
         "line": {
          "color": "#2ca02c",
          "width": 4
         },
         "lon": [
          10.0061534,
          10.0163013
         ],
         "mode": "lines",
         "name": "CYCLING",
         "showlegend": false,
         "type": "scattermap"
        },
        {
         "hovertemplate": "<b>CYCLING</b><br>Distance: 3738m<br>Date: 2025-07-30<br>Time: 15:53 - 16:05<br>Duration: 0.2h<extra></extra>",
         "lat": [
          48.3945733,
          48.3834642
         ],
         "line": {
          "color": "#2ca02c",
          "width": 4
         },
         "lon": [
          10.0167233,
          9.98634
         ],
         "mode": "lines",
         "name": "CYCLING",
         "showlegend": false,
         "type": "scattermap"
        },
        {
         "hovertemplate": "<b>CYCLING</b><br>Distance: 3052m<br>Date: 2025-07-31<br>Time: 02:30 - 02:39<br>Duration: 0.2h<extra></extra>",
         "lat": [
          48.3833534,
          48.3980585
         ],
         "line": {
          "color": "#2ca02c",
          "width": 4
         },
         "lon": [
          9.9869283,
          9.9835965
         ],
         "mode": "lines",
         "name": "CYCLING",
         "showlegend": false,
         "type": "scattermap"
        },
        {
         "hovertemplate": "<b>CYCLING</b><br>Distance: 2001m<br>Date: 2025-08-04<br>Time: 21:36 - 21:45<br>Duration: 0.2h<extra></extra>",
         "lat": [
          48.3972568,
          48.3833645
         ],
         "line": {
          "color": "#2ca02c",
          "width": 4
         },
         "lon": [
          9.9836219,
          9.9869423
         ],
         "mode": "lines",
         "name": "CYCLING",
         "showlegend": false,
         "type": "scattermap"
        },
        {
         "hovertemplate": "<b>CYCLING</b><br>Distance: 2246m<br>Date: 2025-08-05<br>Time: 16:42 - 16:50<br>Duration: 0.1h<extra></extra>",
         "lat": [
          48.3827765,
          48.3781455
         ],
         "line": {
          "color": "#2ca02c",
          "width": 4
         },
         "lon": [
          9.9853126,
          10.0052818
         ],
         "mode": "lines",
         "name": "CYCLING",
         "showlegend": false,
         "type": "scattermap"
        },
        {
         "hovertemplate": "<b>CYCLING</b><br>Distance: 1471m<br>Date: 2025-08-05<br>Time: 17:08 - 17:18<br>Duration: 0.2h<extra></extra>",
         "lat": [
          48.378333,
          48.3832376
         ],
         "line": {
          "color": "#2ca02c",
          "width": 4
         },
         "lon": [
          10.0046103,
          9.9861934
         ],
         "mode": "lines",
         "name": "CYCLING",
         "showlegend": false,
         "type": "scattermap"
        },
        {
         "hovertemplate": "<b>CYCLING</b><br>Distance: 4110m<br>Date: 2025-08-06<br>Time: 19:11 - 19:52<br>Duration: 0.7h<extra></extra>",
         "lat": [
          47.588923,
          47.58988
         ],
         "line": {
          "color": "#2ca02c",
          "width": 4
         },
         "lon": [
          9.5731685,
          9.5749644
         ],
         "mode": "lines",
         "name": "CYCLING",
         "showlegend": false,
         "type": "scattermap"
        },
        {
         "hovertemplate": "<b>CYCLING</b><br>Distance: 2416m<br>Date: 2025-08-08<br>Time: 11:11 - 11:35<br>Duration: 0.4h<extra></extra>",
         "lat": [
          47.1387218,
          47.1383398
         ],
         "line": {
          "color": "#2ca02c",
          "width": 4
         },
         "lon": [
          9.5113045,
          9.5114269
         ],
         "mode": "lines",
         "name": "CYCLING",
         "showlegend": false,
         "type": "scattermap"
        },
        {
         "hovertemplate": "<b>CYCLING</b><br>Distance: 3049m<br>Date: 2025-08-09<br>Time: 05:22 - 06:01<br>Duration: 0.6h<extra></extra>",
         "lat": [
          47.1407002,
          47.1394697
         ],
         "line": {
          "color": "#2ca02c",
          "width": 4
         },
         "lon": [
          9.5199151,
          9.5108505
         ],
         "mode": "lines",
         "name": "CYCLING",
         "showlegend": false,
         "type": "scattermap"
        },
        {
         "hovertemplate": "<b>CYCLING</b><br>Distance: 9576m<br>Date: 2025-08-24<br>Time: 12:12 - 12:57<br>Duration: 0.7h<extra></extra>",
         "lat": [
          38.4720267,
          38.518825
         ],
         "line": {
          "color": "#2ca02c",
          "width": 4
         },
         "lon": [
          -8.98267,
          -8.899285
         ],
         "mode": "lines",
         "name": "CYCLING",
         "showlegend": false,
         "type": "scattermap"
        },
        {
         "hovertemplate": "<b>CYCLING</b><br>Distance: 3092m<br>Date: 2025-08-30<br>Time: 12:04 - 12:22<br>Duration: 0.3h<extra></extra>",
         "lat": [
          44.4933767,
          44.484655
         ],
         "line": {
          "color": "#2ca02c",
          "width": 4
         },
         "lon": [
          11.3891733,
          11.356095
         ],
         "mode": "lines",
         "name": "CYCLING",
         "showlegend": false,
         "type": "scattermap"
        },
        {
         "hovertemplate": "<b>CYCLING</b><br>Distance: 732m<br>Date: 2025-08-30<br>Time: 13:09 - 13:15<br>Duration: 0.1h<extra></extra>",
         "lat": [
          44.4883183,
          44.4925267
         ],
         "line": {
          "color": "#2ca02c",
          "width": 4
         },
         "lon": [
          11.3406567,
          11.34346
         ],
         "mode": "lines",
         "name": "CYCLING",
         "showlegend": false,
         "type": "scattermap"
        },
        {
         "hovertemplate": "<b>CYCLING</b><br>Distance: 4106m<br>Date: 2025-08-30<br>Time: 17:53 - 18:18<br>Duration: 0.4h<extra></extra>",
         "lat": [
          44.4945267,
          44.493315
         ],
         "line": {
          "color": "#2ca02c",
          "width": 4
         },
         "lon": [
          11.34463,
          11.3895817
         ],
         "mode": "lines",
         "name": "CYCLING",
         "showlegend": false,
         "type": "scattermap"
        },
        {
         "hovertemplate": "<b>CYCLING</b><br>Distance: 2269m<br>Date: 2025-08-31<br>Time: 15:55 - 16:04<br>Duration: 0.2h<extra></extra>",
         "lat": [
          44.4067183,
          44.3906817
         ],
         "line": {
          "color": "#2ca02c",
          "width": 4
         },
         "lon": [
          8.9749,
          8.974565
         ],
         "mode": "lines",
         "name": "CYCLING",
         "showlegend": false,
         "type": "scattermap"
        },
        {
         "hovertemplate": "<b>CYCLING</b><br>Distance: 326m<br>Date: 2025-08-31<br>Time: 17:59 - 18:02<br>Duration: 0.0h<extra></extra>",
         "lat": [
          44.3910583,
          44.3937967
         ],
         "line": {
          "color": "#2ca02c",
          "width": 4
         },
         "lon": [
          8.9747033,
          8.97608
         ],
         "mode": "lines",
         "name": "CYCLING",
         "showlegend": false,
         "type": "scattermap"
        },
        {
         "hovertemplate": "<b>CYCLING</b><br>Distance: 1746m<br>Date: 2025-08-31<br>Time: 18:32 - 18:41<br>Duration: 0.1h<extra></extra>",
         "lat": [
          44.3950583,
          44.40836
         ],
         "line": {
          "color": "#2ca02c",
          "width": 4
         },
         "lon": [
          8.9764283,
          8.9755367
         ],
         "mode": "lines",
         "name": "CYCLING",
         "showlegend": false,
         "type": "scattermap"
        },
        {
         "hovertemplate": "<b>CYCLING</b><br>Distance: 4444m<br>Date: 2025-09-02<br>Time: 17:21 - 17:43<br>Duration: 0.4h<extra></extra>",
         "lat": [
          45.5115783,
          45.4916517
         ],
         "line": {
          "color": "#2ca02c",
          "width": 4
         },
         "lon": [
          9.160369,
          9.1841233
         ],
         "mode": "lines",
         "name": "CYCLING",
         "showlegend": false,
         "type": "scattermap"
        },
        {
         "hovertemplate": "<b>CYCLING</b><br>Distance: 4455m<br>Date: 2025-09-02<br>Time: 17:48 - 18:21<br>Duration: 0.5h<extra></extra>",
         "lat": [
          45.49109,
          45.464735
         ],
         "line": {
          "color": "#2ca02c",
          "width": 4
         },
         "lon": [
          9.1856167,
          9.1934984
         ],
         "mode": "lines",
         "name": "CYCLING",
         "showlegend": false,
         "type": "scattermap"
        },
        {
         "hovertemplate": "<b>CYCLING</b><br>Distance: 3089m<br>Date: 2025-09-02<br>Time: 20:03 - 20:24<br>Duration: 0.3h<extra></extra>",
         "lat": [
          45.4658214,
          45.46322
         ],
         "line": {
          "color": "#2ca02c",
          "width": 4
         },
         "lon": [
          9.1971061,
          9.1748533
         ],
         "mode": "lines",
         "name": "CYCLING",
         "showlegend": false,
         "type": "scattermap"
        },
        {
         "hovertemplate": "<b>CYCLING</b><br>Distance: 7028m<br>Date: 2025-09-02<br>Time: 20:52 - 21:26<br>Duration: 0.6h<extra></extra>",
         "lat": [
          45.4623867,
          45.5115633
         ],
         "line": {
          "color": "#2ca02c",
          "width": 4
         },
         "lon": [
          9.1744533,
          9.1601517
         ],
         "mode": "lines",
         "name": "CYCLING",
         "showlegend": false,
         "type": "scattermap"
        },
        {
         "hovertemplate": "<b>CYCLING</b><br>Distance: 548m<br>Date: 2025-09-11<br>Time: 11:26 - 11:28<br>Duration: 0.0h<extra></extra>",
         "lat": [
          45.5475467,
          45.54525
         ],
         "line": {
          "color": "#2ca02c",
          "width": 4
         },
         "lon": [
          10.2064617,
          10.2016583
         ],
         "mode": "lines",
         "name": "CYCLING",
         "showlegend": false,
         "type": "scattermap"
        },
        {
         "hovertemplate": "<b>CYCLING</b><br>Distance: 558m<br>Date: 2025-09-11<br>Time: 12:04 - 12:06<br>Duration: 0.0h<extra></extra>",
         "lat": [
          45.5445967,
          45.54795
         ],
         "line": {
          "color": "#2ca02c",
          "width": 4
         },
         "lon": [
          10.2012522,
          10.20585
         ],
         "mode": "lines",
         "name": "CYCLING",
         "showlegend": false,
         "type": "scattermap"
        },
        {
         "hovertemplate": "<b>CYCLING</b><br>Distance: 7825m<br>Date: 2025-09-11<br>Time: 18:01 - 18:50<br>Duration: 0.8h<extra></extra>",
         "lat": [
          45.5475283,
          45.5416489
         ],
         "line": {
          "color": "#2ca02c",
          "width": 4
         },
         "lon": [
          10.206475,
          10.2242727
         ],
         "mode": "lines",
         "name": "CYCLING",
         "showlegend": false,
         "type": "scattermap"
        },
        {
         "hovertemplate": "<b>CYCLING</b><br>Distance: 4752m<br>Date: 2025-09-11<br>Time: 19:47 - 20:07<br>Duration: 0.3h<extra></extra>",
         "lat": [
          45.5402522,
          45.5310333
         ],
         "line": {
          "color": "#2ca02c",
          "width": 4
         },
         "lon": [
          10.2189823,
          10.1796617
         ],
         "mode": "lines",
         "name": "CYCLING",
         "showlegend": false,
         "type": "scattermap"
        },
        {
         "hovertemplate": "<b>CYCLING</b><br>Distance: 4081m<br>Date: 2025-09-11<br>Time: 20:33 - 20:49<br>Duration: 0.3h<extra></extra>",
         "lat": [
          45.5308088,
          45.54215
         ],
         "line": {
          "color": "#2ca02c",
          "width": 4
         },
         "lon": [
          10.1786312,
          10.2002783
         ],
         "mode": "lines",
         "name": "CYCLING",
         "showlegend": false,
         "type": "scattermap"
        },
        {
         "hovertemplate": "<b>CYCLING</b><br>Distance: 3105m<br>Date: 2025-09-14<br>Time: 16:45 - 17:03<br>Duration: 0.3h<extra></extra>",
         "lat": [
          43.7518717,
          43.7722267
         ],
         "line": {
          "color": "#2ca02c",
          "width": 4
         },
         "lon": [
          11.2439883,
          11.257335
         ],
         "mode": "lines",
         "name": "CYCLING",
         "showlegend": false,
         "type": "scattermap"
        },
        {
         "hovertemplate": "<b>CYCLING</b><br>Distance: 3081m<br>Date: 2025-09-14<br>Time: 22:36 - 22:51<br>Duration: 0.3h<extra></extra>",
         "lat": [
          43.7714767,
          43.7529
         ],
         "line": {
          "color": "#2ca02c",
          "width": 4
         },
         "lon": [
          11.2578667,
          11.2450983
         ],
         "mode": "lines",
         "name": "CYCLING",
         "showlegend": false,
         "type": "scattermap"
        },
        {
         "hovertemplate": "<b>WALKING</b><br>Distance: 2779m<br>Date: 2025-06-13<br>Time: 14:32 - 15:09<br>Duration: 0.6h<extra></extra>",
         "lat": [
          43.1697817,
          43.1525084
         ],
         "line": {
          "color": "#ff7f0e",
          "width": 4
         },
         "lon": [
          -4.904575,
          -4.9178656
         ],
         "mode": "lines",
         "name": "WALKING",
         "showlegend": true,
         "type": "scattermap"
        },
        {
         "hovertemplate": "<b>WALKING</b><br>Distance: 248m<br>Date: 2025-06-14<br>Time: 12:38 - 12:42<br>Duration: 0.1h<extra></extra>",
         "lat": [
          43.3500596,
          43.3513884
         ],
         "line": {
          "color": "#ff7f0e",
          "width": 4
         },
         "lon": [
          -5.1282359,
          -5.1258488
         ],
         "mode": "lines",
         "name": "WALKING",
         "showlegend": false,
         "type": "scattermap"
        },
        {
         "hovertemplate": "<b>WALKING</b><br>Distance: 102m<br>Date: 2025-06-14<br>Time: 18:06 - 18:08<br>Duration: 0.0h<extra></extra>",
         "lat": [
          43.2600782,
          43.2598517
         ],
         "line": {
          "color": "#ff7f0e",
          "width": 4
         },
         "lon": [
          -2.9217405,
          -2.9229573
         ],
         "mode": "lines",
         "name": "WALKING",
         "showlegend": false,
         "type": "scattermap"
        },
        {
         "hovertemplate": "<b>WALKING</b><br>Distance: 1078m<br>Date: 2025-06-14<br>Time: 21:30 - 22:14<br>Duration: 0.7h<extra></extra>",
         "lat": [
          43.2656978,
          43.2681692
         ],
         "line": {
          "color": "#ff7f0e",
          "width": 4
         },
         "lon": [
          -2.9280846,
          -2.92481
         ],
         "mode": "lines",
         "name": "WALKING",
         "showlegend": false,
         "type": "scattermap"
        },
        {
         "hovertemplate": "<b>WALKING</b><br>Distance: 199m<br>Date: 2025-06-14<br>Time: 22:38 - 22:44<br>Duration: 0.1h<extra></extra>",
         "lat": [
          43.2843999,
          43.285753
         ],
         "line": {
          "color": "#ff7f0e",
          "width": 4
         },
         "lon": [
          -2.8644891,
          -2.8649232
         ],
         "mode": "lines",
         "name": "WALKING",
         "showlegend": false,
         "type": "scattermap"
        },
        {
         "hovertemplate": "<b>WALKING</b><br>Distance: 510m<br>Date: 2025-06-15<br>Time: 07:47 - 07:51<br>Duration: 0.1h<extra></extra>",
         "lat": [
          43.2849213,
          43.2834854
         ],
         "line": {
          "color": "#ff7f0e",
          "width": 4
         },
         "lon": [
          -2.8655365,
          -2.8644232
         ],
         "mode": "lines",
         "name": "WALKING",
         "showlegend": false,
         "type": "scattermap"
        },
        {
         "hovertemplate": "<b>WALKING</b><br>Distance: 209m<br>Date: 2025-06-15<br>Time: 08:07 - 08:11<br>Duration: 0.1h<extra></extra>",
         "lat": [
          43.2834593,
          43.2848655
         ],
         "line": {
          "color": "#ff7f0e",
          "width": 4
         },
         "lon": [
          -2.8631532,
          -2.864864
         ],
         "mode": "lines",
         "name": "WALKING",
         "showlegend": false,
         "type": "scattermap"
        },
        {
         "hovertemplate": "<b>WALKING</b><br>Distance: 118m<br>Date: 2025-06-15<br>Time: 12:05 - 12:10<br>Duration: 0.1h<extra></extra>",
         "lat": [
          43.2600797,
          43.2590603
         ],
         "line": {
          "color": "#ff7f0e",
          "width": 4
         },
         "lon": [
          -2.9217949,
          -2.9219516
         ],
         "mode": "lines",
         "name": "WALKING",
         "showlegend": false,
         "type": "scattermap"
        },
        {
         "hovertemplate": "<b>WALKING</b><br>Distance: 1683m<br>Date: 2025-06-15<br>Time: 13:53 - 14:22<br>Duration: 0.5h<extra></extra>",
         "lat": [
          43.2598578,
          43.2697622
         ],
         "line": {
          "color": "#ff7f0e",
          "width": 4
         },
         "lon": [
          -2.924011,
          -2.9342956
         ],
         "mode": "lines",
         "name": "WALKING",
         "showlegend": false,
         "type": "scattermap"
        },
        {
         "hovertemplate": "<b>WALKING</b><br>Distance: 4933m<br>Date: 2025-06-15<br>Time: 14:35 - 19:39<br>Duration: 5.1h<extra></extra>",
         "lat": [
          43.2606736,
          43.2625771
         ],
         "line": {
          "color": "#ff7f0e",
          "width": 4
         },
         "lon": [
          -2.9240374,
          -2.9282718
         ],
         "mode": "lines",
         "name": "WALKING",
         "showlegend": false,
         "type": "scattermap"
        },
        {
         "hovertemplate": "<b>WALKING</b><br>Distance: 441m<br>Date: 2025-06-16<br>Time: 11:50 - 11:55<br>Duration: 0.1h<extra></extra>",
         "lat": [
          43.2850174,
          43.2835646
         ],
         "line": {
          "color": "#ff7f0e",
          "width": 4
         },
         "lon": [
          -2.8645094,
          -2.8641845
         ],
         "mode": "lines",
         "name": "WALKING",
         "showlegend": false,
         "type": "scattermap"
        },
        {
         "hovertemplate": "<b>WALKING</b><br>Distance: 189m<br>Date: 2025-06-16<br>Time: 12:19 - 12:23<br>Duration: 0.1h<extra></extra>",
         "lat": [
          43.2840704,
          43.285734
         ],
         "line": {
          "color": "#ff7f0e",
          "width": 4
         },
         "lon": [
          -2.8644021,
          -2.8648958
         ],
         "mode": "lines",
         "name": "WALKING",
         "showlegend": false,
         "type": "scattermap"
        },
        {
         "hovertemplate": "<b>WALKING</b><br>Distance: 1785m<br>Date: 2025-06-16<br>Time: 17:48 - 18:29<br>Duration: 0.7h<extra></extra>",
         "lat": [
          43.28443,
          43.2855358
         ],
         "line": {
          "color": "#ff7f0e",
          "width": 4
         },
         "lon": [
          -2.8644618,
          -2.8642926
         ],
         "mode": "lines",
         "name": "WALKING",
         "showlegend": false,
         "type": "scattermap"
        },
        {
         "hovertemplate": "<b>WALKING</b><br>Distance: 109m<br>Date: 2025-06-17<br>Time: 11:31 - 11:33<br>Duration: 0.0h<extra></extra>",
         "lat": [
          43.284945,
          43.2841137
         ],
         "line": {
          "color": "#ff7f0e",
          "width": 4
         },
         "lon": [
          -2.8650333,
          -2.8643299
         ],
         "mode": "lines",
         "name": "WALKING",
         "showlegend": false,
         "type": "scattermap"
        },
        {
         "hovertemplate": "<b>WALKING</b><br>Distance: 165m<br>Date: 2025-06-17<br>Time: 13:01 - 13:08<br>Duration: 0.1h<extra></extra>",
         "lat": [
          43.2834446,
          43.284529
         ],
         "line": {
          "color": "#ff7f0e",
          "width": 4
         },
         "lon": [
          -2.8631063,
          -2.8644887
         ],
         "mode": "lines",
         "name": "WALKING",
         "showlegend": false,
         "type": "scattermap"
        },
        {
         "hovertemplate": "<b>WALKING</b><br>Distance: 256m<br>Date: 2025-06-18<br>Time: 10:11 - 10:13<br>Duration: 0.0h<extra></extra>",
         "lat": [
          43.2857767,
          43.2835876
         ],
         "line": {
          "color": "#ff7f0e",
          "width": 4
         },
         "lon": [
          -2.8648839,
          -2.8638938
         ],
         "mode": "lines",
         "name": "WALKING",
         "showlegend": false,
         "type": "scattermap"
        },
        {
         "hovertemplate": "<b>WALKING</b><br>Distance: 147m<br>Date: 2025-06-18<br>Time: 10:30 - 10:36<br>Duration: 0.1h<extra></extra>",
         "lat": [
          43.2844403,
          43.2857495
         ],
         "line": {
          "color": "#ff7f0e",
          "width": 4
         },
         "lon": [
          -2.8644985,
          -2.8647675
         ],
         "mode": "lines",
         "name": "WALKING",
         "showlegend": false,
         "type": "scattermap"
        },
        {
         "hovertemplate": "<b>WALKING</b><br>Distance: 11787m<br>Date: 2025-06-19<br>Time: 08:14 - 11:08<br>Duration: 2.9h<extra></extra>",
         "lat": [
          43.3106005,
          43.3215165
         ],
         "line": {
          "color": "#ff7f0e",
          "width": 4
         },
         "lon": [
          -3.0171225,
          -3.0177244
         ],
         "mode": "lines",
         "name": "WALKING",
         "showlegend": false,
         "type": "scattermap"
        },
        {
         "hovertemplate": "<b>WALKING</b><br>Distance: 3442m<br>Date: 2025-06-19<br>Time: 12:09 - 13:02<br>Duration: 0.9h<extra></extra>",
         "lat": [
          43.4460375,
          43.4409836
         ],
         "line": {
          "color": "#ff7f0e",
          "width": 4
         },
         "lon": [
          -2.7582474,
          -2.7833968
         ],
         "mode": "lines",
         "name": "WALKING",
         "showlegend": false,
         "type": "scattermap"
        },
        {
         "hovertemplate": "<b>WALKING</b><br>Distance: 2952m<br>Date: 2025-06-19<br>Time: 13:36 - 14:13<br>Duration: 0.6h<extra></extra>",
         "lat": [
          43.4409723,
          43.4426994
         ],
         "line": {
          "color": "#ff7f0e",
          "width": 4
         },
         "lon": [
          -2.783408,
          -2.7720252
         ],
         "mode": "lines",
         "name": "WALKING",
         "showlegend": false,
         "type": "scattermap"
        },
        {
         "hovertemplate": "<b>WALKING</b><br>Distance: 2159m<br>Date: 2025-06-19<br>Time: 14:35 - 16:15<br>Duration: 1.7h<extra></extra>",
         "lat": [
          43.4070407,
          43.4052573
         ],
         "line": {
          "color": "#ff7f0e",
          "width": 4
         },
         "lon": [
          -2.6993361,
          -2.6999346
         ],
         "mode": "lines",
         "name": "WALKING",
         "showlegend": false,
         "type": "scattermap"
        },
        {
         "hovertemplate": "<b>WALKING</b><br>Distance: 1547m<br>Date: 2025-06-19<br>Time: 17:03 - 17:25<br>Duration: 0.4h<extra></extra>",
         "lat": [
          43.3586053,
          43.363824
         ],
         "line": {
          "color": "#ff7f0e",
          "width": 4
         },
         "lon": [
          -2.5076038,
          -2.5025255
         ],
         "mode": "lines",
         "name": "WALKING",
         "showlegend": false,
         "type": "scattermap"
        },
        {
         "hovertemplate": "<b>WALKING</b><br>Distance: 2217m<br>Date: 2025-06-19<br>Time: 18:09 - 18:34<br>Duration: 0.4h<extra></extra>",
         "lat": [
          43.3638556,
          43.3583992
         ],
         "line": {
          "color": "#ff7f0e",
          "width": 4
         },
         "lon": [
          -2.503218,
          -2.5072865
         ],
         "mode": "lines",
         "name": "WALKING",
         "showlegend": false,
         "type": "scattermap"
        },
        {
         "hovertemplate": "<b>WALKING</b><br>Distance: 5078m<br>Date: 2025-06-20<br>Time: 07:59 - 13:24<br>Duration: 5.4h<extra></extra>",
         "lat": [
          43.316998,
          43.3104319
         ],
         "line": {
          "color": "#ff7f0e",
          "width": 4
         },
         "lon": [
          -2.3994418,
          -2.3815103
         ],
         "mode": "lines",
         "name": "WALKING",
         "showlegend": false,
         "type": "scattermap"
        },
        {
         "hovertemplate": "<b>WALKING</b><br>Distance: 1274m<br>Date: 2025-06-20<br>Time: 17:35 - 17:50<br>Duration: 0.3h<extra></extra>",
         "lat": [
          43.2600788,
          43.2641345
         ],
         "line": {
          "color": "#ff7f0e",
          "width": 4
         },
         "lon": [
          -2.9217612,
          -2.927692
         ],
         "mode": "lines",
         "name": "WALKING",
         "showlegend": false,
         "type": "scattermap"
        },
        {
         "hovertemplate": "<b>WALKING</b><br>Distance: 4755m<br>Date: 2025-06-20<br>Time: 20:59 - 22:22<br>Duration: 1.4h<extra></extra>",
         "lat": [
          43.2656045,
          43.2600266
         ],
         "line": {
          "color": "#ff7f0e",
          "width": 4
         },
         "lon": [
          -2.9324143,
          -2.9234433
         ],
         "mode": "lines",
         "name": "WALKING",
         "showlegend": false,
         "type": "scattermap"
        },
        {
         "hovertemplate": "<b>WALKING</b><br>Distance: 122m<br>Date: 2025-06-21<br>Time: 08:30 - 08:35<br>Duration: 0.1h<extra></extra>",
         "lat": [
          43.2845988,
          43.2835801
         ],
         "line": {
          "color": "#ff7f0e",
          "width": 4
         },
         "lon": [
          -2.8644485,
          -2.8639045
         ],
         "mode": "lines",
         "name": "WALKING",
         "showlegend": false,
         "type": "scattermap"
        },
        {
         "hovertemplate": "<b>WALKING</b><br>Distance: 156m<br>Date: 2025-06-21<br>Time: 08:48 - 08:54<br>Duration: 0.1h<extra></extra>",
         "lat": [
          43.2844054,
          43.2857888
         ],
         "line": {
          "color": "#ff7f0e",
          "width": 4
         },
         "lon": [
          -2.8644857,
          -2.8647895
         ],
         "mode": "lines",
         "name": "WALKING",
         "showlegend": false,
         "type": "scattermap"
        },
        {
         "hovertemplate": "<b>WALKING</b><br>Distance: 652m<br>Date: 2025-06-21<br>Time: 12:38 - 12:48<br>Duration: 0.2h<extra></extra>",
         "lat": [
          43.3077002,
          43.3079802
         ],
         "line": {
          "color": "#ff7f0e",
          "width": 4
         },
         "lon": [
          -2.01132,
          -2.0092561
         ],
         "mode": "lines",
         "name": "WALKING",
         "showlegend": false,
         "type": "scattermap"
        },
        {
         "hovertemplate": "<b>WALKING</b><br>Distance: 5118m<br>Date: 2025-06-21<br>Time: 12:56 - 16:16<br>Duration: 3.3h<extra></extra>",
         "lat": [
          43.3177294,
          43.3234704
         ],
         "line": {
          "color": "#ff7f0e",
          "width": 4
         },
         "lon": [
          -1.9858093,
          -1.9884992
         ],
         "mode": "lines",
         "name": "WALKING",
         "showlegend": false,
         "type": "scattermap"
        },
        {
         "hovertemplate": "<b>WALKING</b><br>Distance: 3591m<br>Date: 2025-06-22<br>Time: 11:00 - 11:33<br>Duration: 0.5h<extra></extra>",
         "lat": [
          43.3155292,
          43.3165422
         ],
         "line": {
          "color": "#ff7f0e",
          "width": 4
         },
         "lon": [
          -3.0710049,
          -3.0746692
         ],
         "mode": "lines",
         "name": "WALKING",
         "showlegend": false,
         "type": "scattermap"
        },
        {
         "hovertemplate": "<b>WALKING</b><br>Distance: 248m<br>Date: 2025-06-22<br>Time: 11:49 - 11:53<br>Duration: 0.1h<extra></extra>",
         "lat": [
          43.320085,
          43.3209757
         ],
         "line": {
          "color": "#ff7f0e",
          "width": 4
         },
         "lon": [
          -3.0207133,
          -3.0189736
         ],
         "mode": "lines",
         "name": "WALKING",
         "showlegend": false,
         "type": "scattermap"
        },
        {
         "hovertemplate": "<b>WALKING</b><br>Distance: 1925m<br>Date: 2025-06-22<br>Time: 13:02 - 13:50<br>Duration: 0.8h<extra></extra>",
         "lat": [
          43.3272956,
          43.325861
         ],
         "line": {
          "color": "#ff7f0e",
          "width": 4
         },
         "lon": [
          -3.0163996,
          -3.0094471
         ],
         "mode": "lines",
         "name": "WALKING",
         "showlegend": false,
         "type": "scattermap"
        },
        {
         "hovertemplate": "<b>WALKING</b><br>Distance: 2028m<br>Date: 2025-06-22<br>Time: 14:05 - 14:25<br>Duration: 0.3h<extra></extra>",
         "lat": [
          43.2623678,
          43.2647721
         ],
         "line": {
          "color": "#ff7f0e",
          "width": 4
         },
         "lon": [
          -2.9481938,
          -2.9430418
         ],
         "mode": "lines",
         "name": "WALKING",
         "showlegend": false,
         "type": "scattermap"
        },
        {
         "hovertemplate": "<b>WALKING</b><br>Distance: 607m<br>Date: 2025-06-22<br>Time: 14:50 - 14:58<br>Duration: 0.1h<extra></extra>",
         "lat": [
          43.2648935,
          43.2608582
         ],
         "line": {
          "color": "#ff7f0e",
          "width": 4
         },
         "lon": [
          -2.9430676,
          -2.9446251
         ],
         "mode": "lines",
         "name": "WALKING",
         "showlegend": false,
         "type": "scattermap"
        },
        {
         "hovertemplate": "<b>WALKING</b><br>Distance: 405m<br>Date: 2025-06-22<br>Time: 17:39 - 17:45<br>Duration: 0.1h<extra></extra>",
         "lat": [
          43.2610767,
          43.2578262
         ],
         "line": {
          "color": "#ff7f0e",
          "width": 4
         },
         "lon": [
          -2.945607,
          -2.9446309
         ],
         "mode": "lines",
         "name": "WALKING",
         "showlegend": false,
         "type": "scattermap"
        },
        {
         "hovertemplate": "<b>WALKING</b><br>Distance: 651m<br>Date: 2025-06-22<br>Time: 19:08 - 19:14<br>Duration: 0.1h<extra></extra>",
         "lat": [
          43.3132932,
          43.3147348
         ],
         "line": {
          "color": "#ff7f0e",
          "width": 4
         },
         "lon": [
          -3.0721863,
          -3.0704882
         ],
         "mode": "lines",
         "name": "WALKING",
         "showlegend": false,
         "type": "scattermap"
        },
        {
         "hovertemplate": "<b>WALKING</b><br>Distance: 424m<br>Date: 2025-06-23<br>Time: 08:10 - 08:21<br>Duration: 0.2h<extra></extra>",
         "lat": [
          43.2494961,
          43.2527784
         ],
         "line": {
          "color": "#ff7f0e",
          "width": 4
         },
         "lon": [
          -2.8910614,
          -2.8896709
         ],
         "mode": "lines",
         "name": "WALKING",
         "showlegend": false,
         "type": "scattermap"
        },
        {
         "hovertemplate": "<b>WALKING</b><br>Distance: 2658m<br>Date: 2025-06-23<br>Time: 11:08 - 14:06<br>Duration: 3.0h<extra></extra>",
         "lat": [
          43.2620569,
          43.2580715
         ],
         "line": {
          "color": "#ff7f0e",
          "width": 4
         },
         "lon": [
          -2.9294585,
          -2.9235426
         ],
         "mode": "lines",
         "name": "WALKING",
         "showlegend": false,
         "type": "scattermap"
        },
        {
         "hovertemplate": "<b>WALKING</b><br>Distance: 533m<br>Date: 2025-06-23<br>Time: 14:14 - 14:20<br>Duration: 0.1h<extra></extra>",
         "lat": [
          43.2623708,
          43.262601
         ],
         "line": {
          "color": "#ff7f0e",
          "width": 4
         },
         "lon": [
          -2.9326729,
          -2.9345756
         ],
         "mode": "lines",
         "name": "WALKING",
         "showlegend": false,
         "type": "scattermap"
        },
        {
         "hovertemplate": "<b>WALKING</b><br>Distance: 438m<br>Date: 2025-06-23<br>Time: 21:26 - 21:30<br>Duration: 0.1h<extra></extra>",
         "lat": [
          52.3630241,
          52.3631617
         ],
         "line": {
          "color": "#ff7f0e",
          "width": 4
         },
         "lon": [
          13.5092384,
          13.5113256
         ],
         "mode": "lines",
         "name": "WALKING",
         "showlegend": false,
         "type": "scattermap"
        },
        {
         "hovertemplate": "<b>WALKING</b><br>Distance: 1539m<br>Date: 2025-06-24<br>Time: 07:24 - 07:40<br>Duration: 0.3h<extra></extra>",
         "lat": [
          52.4907207,
          52.4852835
         ],
         "line": {
          "color": "#ff7f0e",
          "width": 4
         },
         "lon": [
          13.3316249,
          13.3448526
         ],
         "mode": "lines",
         "name": "WALKING",
         "showlegend": false,
         "type": "scattermap"
        },
        {
         "hovertemplate": "<b>WALKING</b><br>Distance: 399m<br>Date: 2025-06-24<br>Time: 10:06 - 10:12<br>Duration: 0.1h<extra></extra>",
         "lat": [
          52.4848215,
          52.4820449
         ],
         "line": {
          "color": "#ff7f0e",
          "width": 4
         },
         "lon": [
          13.3459141,
          13.3488547
         ],
         "mode": "lines",
         "name": "WALKING",
         "showlegend": false,
         "type": "scattermap"
        },
        {
         "hovertemplate": "<b>WALKING</b><br>Distance: 236m<br>Date: 2025-06-24<br>Time: 10:46 - 10:52<br>Duration: 0.1h<extra></extra>",
         "lat": [
          52.4817711,
          52.4833529
         ],
         "line": {
          "color": "#ff7f0e",
          "width": 4
         },
         "lon": [
          13.348394,
          13.3462451
         ],
         "mode": "lines",
         "name": "WALKING",
         "showlegend": false,
         "type": "scattermap"
        },
        {
         "hovertemplate": "<b>WALKING</b><br>Distance: 125m<br>Date: 2025-06-24<br>Time: 15:21 - 15:24<br>Duration: 0.0h<extra></extra>",
         "lat": [
          52.4846998,
          52.4842906
         ],
         "line": {
          "color": "#ff7f0e",
          "width": 4
         },
         "lon": [
          13.3455174,
          13.343801
         ],
         "mode": "lines",
         "name": "WALKING",
         "showlegend": false,
         "type": "scattermap"
        },
        {
         "hovertemplate": "<b>WALKING</b><br>Distance: 2258m<br>Date: 2025-06-24<br>Time: 17:02 - 17:23<br>Duration: 0.4h<extra></extra>",
         "lat": [
          52.4831293,
          52.4906977
         ],
         "line": {
          "color": "#ff7f0e",
          "width": 4
         },
         "lon": [
          13.3437019,
          13.3319785
         ],
         "mode": "lines",
         "name": "WALKING",
         "showlegend": false,
         "type": "scattermap"
        },
        {
         "hovertemplate": "<b>WALKING</b><br>Distance: 232m<br>Date: 2025-06-24<br>Time: 19:46 - 19:50<br>Duration: 0.1h<extra></extra>",
         "lat": [
          52.49023,
          52.4908266
         ],
         "line": {
          "color": "#ff7f0e",
          "width": 4
         },
         "lon": [
          13.330145,
          13.3288481
         ],
         "mode": "lines",
         "name": "WALKING",
         "showlegend": false,
         "type": "scattermap"
        },
        {
         "hovertemplate": "<b>WALKING</b><br>Distance: 602m<br>Date: 2025-06-25<br>Time: 07:00 - 07:12<br>Duration: 0.2h<extra></extra>",
         "lat": [
          52.4873556,
          52.4860801
         ],
         "line": {
          "color": "#ff7f0e",
          "width": 4
         },
         "lon": [
          13.3306365,
          13.3324741
         ],
         "mode": "lines",
         "name": "WALKING",
         "showlegend": false,
         "type": "scattermap"
        },
        {
         "hovertemplate": "<b>WALKING</b><br>Distance: 412m<br>Date: 2025-06-25<br>Time: 11:22 - 11:28<br>Duration: 0.1h<extra></extra>",
         "lat": [
          52.4849007,
          52.4884958
         ],
         "line": {
          "color": "#ff7f0e",
          "width": 4
         },
         "lon": [
          13.3460212,
          13.3451504
         ],
         "mode": "lines",
         "name": "WALKING",
         "showlegend": false,
         "type": "scattermap"
        },
        {
         "hovertemplate": "<b>WALKING</b><br>Distance: 410m<br>Date: 2025-06-25<br>Time: 11:36 - 11:42<br>Duration: 0.1h<extra></extra>",
         "lat": [
          52.4883228,
          52.4846632
         ],
         "line": {
          "color": "#ff7f0e",
          "width": 4
         },
         "lon": [
          13.3449947,
          13.3455166
         ],
         "mode": "lines",
         "name": "WALKING",
         "showlegend": false,
         "type": "scattermap"
        },
        {
         "hovertemplate": "<b>WALKING</b><br>Distance: 2075m<br>Date: 2025-06-25<br>Time: 12:07 - 12:44<br>Duration: 0.6h<extra></extra>",
         "lat": [
          52.4845083,
          52.4851671
         ],
         "line": {
          "color": "#ff7f0e",
          "width": 4
         },
         "lon": [
          13.3464909,
          13.3475711
         ],
         "mode": "lines",
         "name": "WALKING",
         "showlegend": false,
         "type": "scattermap"
        },
        {
         "hovertemplate": "<b>WALKING</b><br>Distance: 1097m<br>Date: 2025-06-25<br>Time: 16:23 - 16:47<br>Duration: 0.4h<extra></extra>",
         "lat": [
          52.48575,
          52.4907225
         ],
         "line": {
          "color": "#ff7f0e",
          "width": 4
         },
         "lon": [
          13.3445731,
          13.3320931
         ],
         "mode": "lines",
         "name": "WALKING",
         "showlegend": false,
         "type": "scattermap"
        },
        {
         "hovertemplate": "<b>WALKING</b><br>Distance: 3094m<br>Date: 2025-06-26<br>Time: 11:13 - 11:55<br>Duration: 0.7h<extra></extra>",
         "lat": [
          52.4860028,
          52.4848438
         ],
         "line": {
          "color": "#ff7f0e",
          "width": 4
         },
         "lon": [
          13.345338,
          13.346006
         ],
         "mode": "lines",
         "name": "WALKING",
         "showlegend": false,
         "type": "scattermap"
        },
        {
         "hovertemplate": "<b>WALKING</b><br>Distance: 452m<br>Date: 2025-06-26<br>Time: 16:10 - 16:16<br>Duration: 0.1h<extra></extra>",
         "lat": [
          52.4849837,
          52.4874523
         ],
         "line": {
          "color": "#ff7f0e",
          "width": 4
         },
         "lon": [
          13.346679,
          13.3506013
         ],
         "mode": "lines",
         "name": "WALKING",
         "showlegend": false,
         "type": "scattermap"
        },
        {
         "hovertemplate": "<b>WALKING</b><br>Distance: 629m<br>Date: 2025-06-26<br>Time: 17:46 - 18:00<br>Duration: 0.2h<extra></extra>",
         "lat": [
          52.4873508,
          52.4843516
         ],
         "line": {
          "color": "#ff7f0e",
          "width": 4
         },
         "lon": [
          13.3500301,
          13.3440592
         ],
         "mode": "lines",
         "name": "WALKING",
         "showlegend": false,
         "type": "scattermap"
        },
        {
         "hovertemplate": "<b>WALKING</b><br>Distance: 786m<br>Date: 2025-06-26<br>Time: 19:50 - 19:59<br>Duration: 0.2h<extra></extra>",
         "lat": [
          52.4823015,
          52.488171
         ],
         "line": {
          "color": "#ff7f0e",
          "width": 4
         },
         "lon": [
          13.3422218,
          13.3399534
         ],
         "mode": "lines",
         "name": "WALKING",
         "showlegend": false,
         "type": "scattermap"
        },
        {
         "hovertemplate": "<b>WALKING</b><br>Distance: 1166m<br>Date: 2025-06-26<br>Time: 22:26 - 22:42<br>Duration: 0.3h<extra></extra>",
         "lat": [
          52.4882636,
          52.4895607
         ],
         "line": {
          "color": "#ff7f0e",
          "width": 4
         },
         "lon": [
          13.3381666,
          13.3306672
         ],
         "mode": "lines",
         "name": "WALKING",
         "showlegend": false,
         "type": "scattermap"
        },
        {
         "hovertemplate": "<b>WALKING</b><br>Distance: 1993m<br>Date: 2025-06-27<br>Time: 06:47 - 07:08<br>Duration: 0.3h<extra></extra>",
         "lat": [
          52.4895329,
          52.4847117
         ],
         "line": {
          "color": "#ff7f0e",
          "width": 4
         },
         "lon": [
          13.3307054,
          13.3448783
         ],
         "mode": "lines",
         "name": "WALKING",
         "showlegend": false,
         "type": "scattermap"
        },
        {
         "hovertemplate": "<b>WALKING</b><br>Distance: 355m<br>Date: 2025-06-27<br>Time: 10:50 - 10:54<br>Duration: 0.1h<extra></extra>",
         "lat": [
          52.4837593,
          52.4820245
         ],
         "line": {
          "color": "#ff7f0e",
          "width": 4
         },
         "lon": [
          13.3460889,
          13.3483215
         ],
         "mode": "lines",
         "name": "WALKING",
         "showlegend": false,
         "type": "scattermap"
        },
        {
         "hovertemplate": "<b>WALKING</b><br>Distance: 507m<br>Date: 2025-06-27<br>Time: 11:25 - 11:29<br>Duration: 0.1h<extra></extra>",
         "lat": [
          52.4820068,
          52.4836789
         ],
         "line": {
          "color": "#ff7f0e",
          "width": 4
         },
         "lon": [
          13.3483315,
          13.3461687
         ],
         "mode": "lines",
         "name": "WALKING",
         "showlegend": false,
         "type": "scattermap"
        },
        {
         "hovertemplate": "<b>WALKING</b><br>Distance: 1213m<br>Date: 2025-06-27<br>Time: 12:37 - 12:49<br>Duration: 0.2h<extra></extra>",
         "lat": [
          52.4839759,
          52.4794559
         ],
         "line": {
          "color": "#ff7f0e",
          "width": 4
         },
         "lon": [
          13.3458206,
          13.3521347
         ],
         "mode": "lines",
         "name": "WALKING",
         "showlegend": false,
         "type": "scattermap"
        },
        {
         "hovertemplate": "<b>WALKING</b><br>Distance: 957m<br>Date: 2025-06-27<br>Time: 19:19 - 20:08<br>Duration: 0.8h<extra></extra>",
         "lat": [
          43.2554811,
          43.2558238
         ],
         "line": {
          "color": "#ff7f0e",
          "width": 4
         },
         "lon": [
          -2.9268161,
          -2.9243525
         ],
         "mode": "lines",
         "name": "WALKING",
         "showlegend": false,
         "type": "scattermap"
        },
        {
         "hovertemplate": "<b>WALKING</b><br>Distance: 560m<br>Date: 2025-06-28<br>Time: 08:17 - 08:35<br>Duration: 0.3h<extra></extra>",
         "lat": [
          43.2572326,
          43.2596698
         ],
         "line": {
          "color": "#ff7f0e",
          "width": 4
         },
         "lon": [
          -2.9247849,
          -2.9234234
         ],
         "mode": "lines",
         "name": "WALKING",
         "showlegend": false,
         "type": "scattermap"
        },
        {
         "hovertemplate": "<b>WALKING</b><br>Distance: 357m<br>Date: 2025-06-28<br>Time: 08:52 - 08:55<br>Duration: 0.1h<extra></extra>",
         "lat": [
          43.2510454,
          43.24987
         ],
         "line": {
          "color": "#ff7f0e",
          "width": 4
         },
         "lon": [
          -2.889666,
          -2.890544
         ],
         "mode": "lines",
         "name": "WALKING",
         "showlegend": false,
         "type": "scattermap"
        },
        {
         "hovertemplate": "<b>WALKING</b><br>Distance: 138m<br>Date: 2025-06-28<br>Time: 10:13 - 10:15<br>Duration: 0.0h<extra></extra>",
         "lat": [
          43.2486499,
          43.2488478
         ],
         "line": {
          "color": "#ff7f0e",
          "width": 4
         },
         "lon": [
          -2.9058255,
          -2.9072974
         ],
         "mode": "lines",
         "name": "WALKING",
         "showlegend": false,
         "type": "scattermap"
        },
        {
         "hovertemplate": "<b>WALKING</b><br>Distance: 339m<br>Date: 2025-06-28<br>Time: 10:58 - 11:04<br>Duration: 0.1h<extra></extra>",
         "lat": [
          43.2478062,
          43.2493883
         ],
         "line": {
          "color": "#ff7f0e",
          "width": 4
         },
         "lon": [
          -2.9077185,
          -2.9042241
         ],
         "mode": "lines",
         "name": "WALKING",
         "showlegend": false,
         "type": "scattermap"
        },
        {
         "hovertemplate": "<b>WALKING</b><br>Distance: 402m<br>Date: 2025-06-28<br>Time: 12:50 - 12:53<br>Duration: 0.1h<extra></extra>",
         "lat": [
          43.316199,
          43.3174667
         ],
         "line": {
          "color": "#ff7f0e",
          "width": 4
         },
         "lon": [
          -3.0714799,
          -3.0740054
         ],
         "mode": "lines",
         "name": "WALKING",
         "showlegend": false,
         "type": "scattermap"
        },
        {
         "hovertemplate": "<b>WALKING</b><br>Distance: 221m<br>Date: 2025-06-28<br>Time: 13:24 - 13:28<br>Duration: 0.1h<extra></extra>",
         "lat": [
          43.3212939,
          43.3224659
         ],
         "line": {
          "color": "#ff7f0e",
          "width": 4
         },
         "lon": [
          -3.020391,
          -3.0181886
         ],
         "mode": "lines",
         "name": "WALKING",
         "showlegend": false,
         "type": "scattermap"
        },
        {
         "hovertemplate": "<b>WALKING</b><br>Distance: 2049m<br>Date: 2025-06-28<br>Time: 13:36 - 14:13<br>Duration: 0.6h<extra></extra>",
         "lat": [
          43.3248829,
          43.3399983
         ],
         "line": {
          "color": "#ff7f0e",
          "width": 4
         },
         "lon": [
          -3.0175573,
          -3.0144474
         ],
         "mode": "lines",
         "name": "WALKING",
         "showlegend": false,
         "type": "scattermap"
        },
        {
         "hovertemplate": "<b>WALKING</b><br>Distance: 2192m<br>Date: 2025-06-28<br>Time: 17:48 - 18:43<br>Duration: 0.9h<extra></extra>",
         "lat": [
          43.3427527,
          43.3270273
         ],
         "line": {
          "color": "#ff7f0e",
          "width": 4
         },
         "lon": [
          -3.0118592,
          -3.0151059
         ],
         "mode": "lines",
         "name": "WALKING",
         "showlegend": false,
         "type": "scattermap"
        },
        {
         "hovertemplate": "<b>WALKING</b><br>Distance: 43m<br>Date: 2025-06-28<br>Time: 19:02 - 19:03<br>Duration: 0.0h<extra></extra>",
         "lat": [
          43.2625423,
          43.2625134
         ],
         "line": {
          "color": "#ff7f0e",
          "width": 4
         },
         "lon": [
          -2.946121,
          -2.946538
         ],
         "mode": "lines",
         "name": "WALKING",
         "showlegend": false,
         "type": "scattermap"
        },
        {
         "hovertemplate": "<b>WALKING</b><br>Distance: 758m<br>Date: 2025-06-28<br>Time: 19:36 - 19:42<br>Duration: 0.1h<extra></extra>",
         "lat": [
          43.3175652,
          43.3159484
         ],
         "line": {
          "color": "#ff7f0e",
          "width": 4
         },
         "lon": [
          -3.0749547,
          -3.0712661
         ],
         "mode": "lines",
         "name": "WALKING",
         "showlegend": false,
         "type": "scattermap"
        },
        {
         "hovertemplate": "<b>WALKING</b><br>Distance: 205m<br>Date: 2025-06-29<br>Time: 11:39 - 11:44<br>Duration: 0.1h<extra></extra>",
         "lat": [
          43.3168854,
          43.3160559
         ],
         "line": {
          "color": "#ff7f0e",
          "width": 4
         },
         "lon": [
          -3.0735214,
          -3.0712522
         ],
         "mode": "lines",
         "name": "WALKING",
         "showlegend": false,
         "type": "scattermap"
        },
        {
         "hovertemplate": "<b>WALKING</b><br>Distance: 758m<br>Date: 2025-06-29<br>Time: 13:17 - 13:21<br>Duration: 0.1h<extra></extra>",
         "lat": [
          43.3165346,
          43.3172242
         ],
         "line": {
          "color": "#ff7f0e",
          "width": 4
         },
         "lon": [
          -3.0717248,
          -3.0735665
         ],
         "mode": "lines",
         "name": "WALKING",
         "showlegend": false,
         "type": "scattermap"
        },
        {
         "hovertemplate": "<b>WALKING</b><br>Distance: 662m<br>Date: 2025-06-29<br>Time: 13:48 - 13:59<br>Duration: 0.2h<extra></extra>",
         "lat": [
          43.3227142,
          43.3252517
         ],
         "line": {
          "color": "#ff7f0e",
          "width": 4
         },
         "lon": [
          -3.0194767,
          -3.0178072
         ],
         "mode": "lines",
         "name": "WALKING",
         "showlegend": false,
         "type": "scattermap"
        },
        {
         "hovertemplate": "<b>WALKING</b><br>Distance: 840m<br>Date: 2025-06-29<br>Time: 17:38 - 18:05<br>Duration: 0.4h<extra></extra>",
         "lat": [
          43.3239185,
          43.3212751
         ],
         "line": {
          "color": "#ff7f0e",
          "width": 4
         },
         "lon": [
          -3.0163379,
          -3.0204764
         ],
         "mode": "lines",
         "name": "WALKING",
         "showlegend": false,
         "type": "scattermap"
        },
        {
         "hovertemplate": "<b>WALKING</b><br>Distance: 284m<br>Date: 2025-06-29<br>Time: 18:23 - 18:27<br>Duration: 0.1h<extra></extra>",
         "lat": [
          43.3172929,
          43.3156932
         ],
         "line": {
          "color": "#ff7f0e",
          "width": 4
         },
         "lon": [
          -3.0734926,
          -3.0707731
         ],
         "mode": "lines",
         "name": "WALKING",
         "showlegend": false,
         "type": "scattermap"
        },
        {
         "hovertemplate": "<b>WALKING</b><br>Distance: 373m<br>Date: 2025-06-30<br>Time: 12:03 - 12:06<br>Duration: 0.1h<extra></extra>",
         "lat": [
          43.2397221,
          43.2388142
         ],
         "line": {
          "color": "#ff7f0e",
          "width": 4
         },
         "lon": [
          -2.8737715,
          -2.8751381
         ],
         "mode": "lines",
         "name": "WALKING",
         "showlegend": false,
         "type": "scattermap"
        },
        {
         "hovertemplate": "<b>WALKING</b><br>Distance: 1315m<br>Date: 2025-07-02<br>Time: 16:10 - 16:35<br>Duration: 0.4h<extra></extra>",
         "lat": [
          43.3869945,
          43.3904515
         ],
         "line": {
          "color": "#ff7f0e",
          "width": 4
         },
         "lon": [
          -1.6637768,
          -1.6592091
         ],
         "mode": "lines",
         "name": "WALKING",
         "showlegend": false,
         "type": "scattermap"
        },
        {
         "hovertemplate": "<b>WALKING</b><br>Distance: 734m<br>Date: 2025-07-02<br>Time: 17:25 - 17:38<br>Duration: 0.2h<extra></extra>",
         "lat": [
          43.3906776,
          43.390244
         ],
         "line": {
          "color": "#ff7f0e",
          "width": 4
         },
         "lon": [
          -1.6575198,
          -1.6624438
         ],
         "mode": "lines",
         "name": "WALKING",
         "showlegend": false,
         "type": "scattermap"
        },
        {
         "hovertemplate": "<b>WALKING</b><br>Distance: 1530m<br>Date: 2025-07-04<br>Time: 16:07 - 16:18<br>Duration: 0.2h<extra></extra>",
         "lat": [
          43.4642515,
          43.4661057
         ],
         "line": {
          "color": "#ff7f0e",
          "width": 4
         },
         "lon": [
          -1.5327079,
          -1.5369121
         ],
         "mode": "lines",
         "name": "WALKING",
         "showlegend": false,
         "type": "scattermap"
        },
        {
         "hovertemplate": "<b>WALKING</b><br>Distance: 812m<br>Date: 2025-07-04<br>Time: 16:25 - 17:59<br>Duration: 1.6h<extra></extra>",
         "lat": [
          43.4837906,
          43.4837281
         ],
         "line": {
          "color": "#ff7f0e",
          "width": 4
         },
         "lon": [
          -1.5677442,
          -1.568278
         ],
         "mode": "lines",
         "name": "WALKING",
         "showlegend": false,
         "type": "scattermap"
        },
        {
         "hovertemplate": "<b>WALKING</b><br>Distance: 1884m<br>Date: 2025-07-04<br>Time: 19:08 - 19:34<br>Duration: 0.4h<extra></extra>",
         "lat": [
          43.48257,
          43.4788412
         ],
         "line": {
          "color": "#ff7f0e",
          "width": 4
         },
         "lon": [
          -1.5590353,
          -1.5664422
         ],
         "mode": "lines",
         "name": "WALKING",
         "showlegend": false,
         "type": "scattermap"
        },
        {
         "hovertemplate": "<b>WALKING</b><br>Distance: 2462m<br>Date: 2025-07-04<br>Time: 21:30 - 22:05<br>Duration: 0.6h<extra></extra>",
         "lat": [
          43.4807874,
          43.4778923
         ],
         "line": {
          "color": "#ff7f0e",
          "width": 4
         },
         "lon": [
          -1.5657138,
          -1.5574019
         ],
         "mode": "lines",
         "name": "WALKING",
         "showlegend": false,
         "type": "scattermap"
        },
        {
         "hovertemplate": "<b>WALKING</b><br>Distance: 1013m<br>Date: 2025-07-04<br>Time: 22:09 - 22:16<br>Duration: 0.1h<extra></extra>",
         "lat": [
          43.46598,
          43.4642735
         ],
         "line": {
          "color": "#ff7f0e",
          "width": 4
         },
         "lon": [
          -1.5385117,
          -1.5324073
         ],
         "mode": "lines",
         "name": "WALKING",
         "showlegend": false,
         "type": "scattermap"
        },
        {
         "hovertemplate": "<b>WALKING</b><br>Distance: 748m<br>Date: 2025-07-05<br>Time: 16:54 - 17:12<br>Duration: 0.3h<extra></extra>",
         "lat": [
          44.5974807,
          44.5973734
         ],
         "line": {
          "color": "#ff7f0e",
          "width": 4
         },
         "lon": [
          -1.1989519,
          -1.1972961
         ],
         "mode": "lines",
         "name": "WALKING",
         "showlegend": false,
         "type": "scattermap"
        },
        {
         "hovertemplate": "<b>WALKING</b><br>Distance: 2889m<br>Date: 2025-07-05<br>Time: 18:13 - 19:24<br>Duration: 1.2h<extra></extra>",
         "lat": [
          44.8476395,
          44.8447436
         ],
         "line": {
          "color": "#ff7f0e",
          "width": 4
         },
         "lon": [
          -0.5277844,
          -0.5317844
         ],
         "mode": "lines",
         "name": "WALKING",
         "showlegend": false,
         "type": "scattermap"
        },
        {
         "hovertemplate": "<b>WALKING</b><br>Distance: 638m<br>Date: 2025-07-05<br>Time: 19:46 - 19:53<br>Duration: 0.1h<extra></extra>",
         "lat": [
          44.8365989,
          44.8383135
         ],
         "line": {
          "color": "#ff7f0e",
          "width": 4
         },
         "lon": [
          -0.5660566,
          -0.5695557
         ],
         "mode": "lines",
         "name": "WALKING",
         "showlegend": false,
         "type": "scattermap"
        },
        {
         "hovertemplate": "<b>WALKING</b><br>Distance: 502m<br>Date: 2025-07-05<br>Time: 22:40 - 22:48<br>Duration: 0.1h<extra></extra>",
         "lat": [
          44.8380759,
          44.8349106
         ],
         "line": {
          "color": "#ff7f0e",
          "width": 4
         },
         "lon": [
          -0.5683776,
          -0.5640087
         ],
         "mode": "lines",
         "name": "WALKING",
         "showlegend": false,
         "type": "scattermap"
        },
        {
         "hovertemplate": "<b>WALKING</b><br>Distance: 588m<br>Date: 2025-07-06<br>Time: 00:07 - 00:17<br>Duration: 0.2h<extra></extra>",
         "lat": [
          44.8346341,
          44.8388768
         ],
         "line": {
          "color": "#ff7f0e",
          "width": 4
         },
         "lon": [
          -0.56386,
          -0.5682753
         ],
         "mode": "lines",
         "name": "WALKING",
         "showlegend": false,
         "type": "scattermap"
        },
        {
         "hovertemplate": "<b>WALKING</b><br>Distance: 2893m<br>Date: 2025-07-06<br>Time: 10:17 - 10:56<br>Duration: 0.6h<extra></extra>",
         "lat": [
          44.8523686,
          44.8541834
         ],
         "line": {
          "color": "#ff7f0e",
          "width": 4
         },
         "lon": [
          -0.556536,
          -0.5651744
         ],
         "mode": "lines",
         "name": "WALKING",
         "showlegend": false,
         "type": "scattermap"
        },
        {
         "hovertemplate": "<b>WALKING</b><br>Distance: 1500m<br>Date: 2025-07-06<br>Time: 12:12 - 13:10<br>Duration: 1.0h<extra></extra>",
         "lat": [
          44.835503,
          44.8344274
         ],
         "line": {
          "color": "#ff7f0e",
          "width": 4
         },
         "lon": [
          -0.5734433,
          -0.5713751
         ],
         "mode": "lines",
         "name": "WALKING",
         "showlegend": false,
         "type": "scattermap"
        },
        {
         "hovertemplate": "<b>WALKING</b><br>Distance: 1712m<br>Date: 2025-07-06<br>Time: 13:30 - 13:47<br>Duration: 0.3h<extra></extra>",
         "lat": [
          44.8491364,
          44.8522046
         ],
         "line": {
          "color": "#ff7f0e",
          "width": 4
         },
         "lon": [
          -0.5442911,
          -0.5571985
         ],
         "mode": "lines",
         "name": "WALKING",
         "showlegend": false,
         "type": "scattermap"
        },
        {
         "hovertemplate": "<b>WALKING</b><br>Distance: 295m<br>Date: 2025-07-07<br>Time: 10:48 - 10:50<br>Duration: 0.0h<extra></extra>",
         "lat": [
          46.1602036,
          46.1595333
         ],
         "line": {
          "color": "#ff7f0e",
          "width": 4
         },
         "lon": [
          -1.1840045,
          -1.1804417
         ],
         "mode": "lines",
         "name": "WALKING",
         "showlegend": false,
         "type": "scattermap"
        },
        {
         "hovertemplate": "<b>WALKING</b><br>Distance: 443m<br>Date: 2025-07-07<br>Time: 11:13 - 11:16<br>Duration: 0.1h<extra></extra>",
         "lat": [
          46.1594444,
          46.160235
         ],
         "line": {
          "color": "#ff7f0e",
          "width": 4
         },
         "lon": [
          -1.1800773,
          -1.1842505
         ],
         "mode": "lines",
         "name": "WALKING",
         "showlegend": false,
         "type": "scattermap"
        },
        {
         "hovertemplate": "<b>WALKING</b><br>Distance: 1166m<br>Date: 2025-07-07<br>Time: 17:29 - 17:59<br>Duration: 0.5h<extra></extra>",
         "lat": [
          46.1609739,
          46.1603388
         ],
         "line": {
          "color": "#ff7f0e",
          "width": 4
         },
         "lon": [
          -1.1813908,
          -1.1789578
         ],
         "mode": "lines",
         "name": "WALKING",
         "showlegend": false,
         "type": "scattermap"
        },
        {
         "hovertemplate": "<b>WALKING</b><br>Distance: 398m<br>Date: 2025-07-07<br>Time: 19:10 - 19:16<br>Duration: 0.1h<extra></extra>",
         "lat": [
          46.1606091,
          46.1605598
         ],
         "line": {
          "color": "#ff7f0e",
          "width": 4
         },
         "lon": [
          -1.1802608,
          -1.1852136
         ],
         "mode": "lines",
         "name": "WALKING",
         "showlegend": false,
         "type": "scattermap"
        },
        {
         "hovertemplate": "<b>WALKING</b><br>Distance: 241m<br>Date: 2025-07-08<br>Time: 17:13 - 17:28<br>Duration: 0.3h<extra></extra>",
         "lat": [
          46.1597683,
          46.16065
         ],
         "line": {
          "color": "#ff7f0e",
          "width": 4
         },
         "lon": [
          -1.1793068,
          -1.1796295
         ],
         "mode": "lines",
         "name": "WALKING",
         "showlegend": false,
         "type": "scattermap"
        },
        {
         "hovertemplate": "<b>WALKING</b><br>Distance: 354m<br>Date: 2025-07-08<br>Time: 17:40 - 17:44<br>Duration: 0.1h<extra></extra>",
         "lat": [
          46.1613457,
          46.1596723
         ],
         "line": {
          "color": "#ff7f0e",
          "width": 4
         },
         "lon": [
          -1.1828408,
          -1.1791619
         ],
         "mode": "lines",
         "name": "WALKING",
         "showlegend": false,
         "type": "scattermap"
        },
        {
         "hovertemplate": "<b>WALKING</b><br>Distance: 843m<br>Date: 2025-07-10<br>Time: 19:09 - 19:47<br>Duration: 0.6h<extra></extra>",
         "lat": [
          49.4307881,
          49.430757
         ],
         "line": {
          "color": "#ff7f0e",
          "width": 4
         },
         "lon": [
          2.0814764,
          2.0850278
         ],
         "mode": "lines",
         "name": "WALKING",
         "showlegend": false,
         "type": "scattermap"
        },
        {
         "hovertemplate": "<b>WALKING</b><br>Distance: 1259m<br>Date: 2025-07-11<br>Time: 17:22 - 17:32<br>Duration: 0.2h<extra></extra>",
         "lat": [
          48.8538428,
          48.8558774
         ],
         "line": {
          "color": "#ff7f0e",
          "width": 4
         },
         "lon": [
          2.5384118,
          2.5318202
         ],
         "mode": "lines",
         "name": "WALKING",
         "showlegend": false,
         "type": "scattermap"
        },
        {
         "hovertemplate": "<b>WALKING</b><br>Distance: 1173m<br>Date: 2025-07-11<br>Time: 18:53 - 19:06<br>Duration: 0.2h<extra></extra>",
         "lat": [
          48.8729545,
          48.8747588
         ],
         "line": {
          "color": "#ff7f0e",
          "width": 4
         },
         "lon": [
          2.3309557,
          2.339314
         ],
         "mode": "lines",
         "name": "WALKING",
         "showlegend": false,
         "type": "scattermap"
        },
        {
         "hovertemplate": "<b>WALKING</b><br>Distance: 748m<br>Date: 2025-07-11<br>Time: 21:31 - 21:49<br>Duration: 0.3h<extra></extra>",
         "lat": [
          48.8768547,
          48.8819415
         ],
         "line": {
          "color": "#ff7f0e",
          "width": 4
         },
         "lon": [
          2.3387705,
          2.3340291
         ],
         "mode": "lines",
         "name": "WALKING",
         "showlegend": false,
         "type": "scattermap"
        },
        {
         "hovertemplate": "<b>WALKING</b><br>Distance: 1413m<br>Date: 2025-07-11<br>Time: 22:02 - 22:28<br>Duration: 0.4h<extra></extra>",
         "lat": [
          48.88169,
          48.8732564
         ],
         "line": {
          "color": "#ff7f0e",
          "width": 4
         },
         "lon": [
          2.335184,
          2.3308909
         ],
         "mode": "lines",
         "name": "WALKING",
         "showlegend": false,
         "type": "scattermap"
        },
        {
         "hovertemplate": "<b>WALKING</b><br>Distance: 757m<br>Date: 2025-07-11<br>Time: 23:13 - 23:25<br>Duration: 0.2h<extra></extra>",
         "lat": [
          48.8572686,
          48.8539888
         ],
         "line": {
          "color": "#ff7f0e",
          "width": 4
         },
         "lon": [
          2.5318298,
          2.5396606
         ],
         "mode": "lines",
         "name": "WALKING",
         "showlegend": false,
         "type": "scattermap"
        },
        {
         "hovertemplate": "<b>WALKING</b><br>Distance: 660m<br>Date: 2025-07-12<br>Time: 10:46 - 10:56<br>Duration: 0.2h<extra></extra>",
         "lat": [
          48.853999,
          48.8558663
         ],
         "line": {
          "color": "#ff7f0e",
          "width": 4
         },
         "lon": [
          2.5396752,
          2.5319569
         ],
         "mode": "lines",
         "name": "WALKING",
         "showlegend": false,
         "type": "scattermap"
        },
        {
         "hovertemplate": "<b>WALKING</b><br>Distance: 741m<br>Date: 2025-07-12<br>Time: 11:50 - 12:06<br>Duration: 0.3h<extra></extra>",
         "lat": [
          48.8727893,
          48.8750241
         ],
         "line": {
          "color": "#ff7f0e",
          "width": 4
         },
         "lon": [
          2.331156,
          2.3406331
         ],
         "mode": "lines",
         "name": "WALKING",
         "showlegend": false,
         "type": "scattermap"
        },
        {
         "hovertemplate": "<b>WALKING</b><br>Distance: 1213m<br>Date: 2025-07-12<br>Time: 14:11 - 14:39<br>Duration: 0.5h<extra></extra>",
         "lat": [
          48.85508,
          48.8573082
         ],
         "line": {
          "color": "#ff7f0e",
          "width": 4
         },
         "lon": [
          2.3458587,
          2.3466271
         ],
         "mode": "lines",
         "name": "WALKING",
         "showlegend": false,
         "type": "scattermap"
        },
        {
         "hovertemplate": "<b>WALKING</b><br>Distance: 2228m<br>Date: 2025-07-12<br>Time: 15:40 - 16:12<br>Duration: 0.5h<extra></extra>",
         "lat": [
          48.8576048,
          48.8638309
         ],
         "line": {
          "color": "#ff7f0e",
          "width": 4
         },
         "lon": [
          2.345325,
          2.325756
         ],
         "mode": "lines",
         "name": "WALKING",
         "showlegend": false,
         "type": "scattermap"
        },
        {
         "hovertemplate": "<b>WALKING</b><br>Distance: 3343m<br>Date: 2025-07-12<br>Time: 17:39 - 18:22<br>Duration: 0.7h<extra></extra>",
         "lat": [
          48.8579357,
          48.8567521
         ],
         "line": {
          "color": "#ff7f0e",
          "width": 4
         },
         "lon": [
          2.2928931,
          2.2894177
         ],
         "mode": "lines",
         "name": "WALKING",
         "showlegend": false,
         "type": "scattermap"
        },
        {
         "hovertemplate": "<b>WALKING</b><br>Distance: 597m<br>Date: 2025-07-12<br>Time: 18:43 - 18:57<br>Duration: 0.2h<extra></extra>",
         "lat": [
          48.8304262,
          48.8318569
         ],
         "line": {
          "color": "#ff7f0e",
          "width": 4
         },
         "lon": [
          2.3768095,
          2.3727608
         ],
         "mode": "lines",
         "name": "WALKING",
         "showlegend": false,
         "type": "scattermap"
        },
        {
         "hovertemplate": "<b>WALKING</b><br>Distance: 878m<br>Date: 2025-07-12<br>Time: 19:58 - 20:07<br>Duration: 0.2h<extra></extra>",
         "lat": [
          48.832064,
          48.8303264
         ],
         "line": {
          "color": "#ff7f0e",
          "width": 4
         },
         "lon": [
          2.3736885,
          2.3772396
         ],
         "mode": "lines",
         "name": "WALKING",
         "showlegend": false,
         "type": "scattermap"
        },
        {
         "hovertemplate": "<b>WALKING</b><br>Distance: 1089m<br>Date: 2025-07-12<br>Time: 20:47 - 20:59<br>Duration: 0.2h<extra></extra>",
         "lat": [
          48.8577691,
          48.8539726
         ],
         "line": {
          "color": "#ff7f0e",
          "width": 4
         },
         "lon": [
          2.532227,
          2.5394933
         ],
         "mode": "lines",
         "name": "WALKING",
         "showlegend": false,
         "type": "scattermap"
        },
        {
         "hovertemplate": "<b>WALKING</b><br>Distance: 700m<br>Date: 2025-07-13<br>Time: 09:40 - 09:50<br>Duration: 0.2h<extra></extra>",
         "lat": [
          48.8539669,
          48.8568559
         ],
         "line": {
          "color": "#ff7f0e",
          "width": 4
         },
         "lon": [
          2.5397693,
          2.5325894
         ],
         "mode": "lines",
         "name": "WALKING",
         "showlegend": false,
         "type": "scattermap"
        },
        {
         "hovertemplate": "<b>WALKING</b><br>Distance: 342m<br>Date: 2025-07-13<br>Time: 10:50 - 10:59<br>Duration: 0.1h<extra></extra>",
         "lat": [
          48.872519,
          48.8720237
         ],
         "line": {
          "color": "#ff7f0e",
          "width": 4
         },
         "lon": [
          2.3297771,
          2.3304972
         ],
         "mode": "lines",
         "name": "WALKING",
         "showlegend": false,
         "type": "scattermap"
        },
        {
         "hovertemplate": "<b>WALKING</b><br>Distance: 209m<br>Date: 2025-07-13<br>Time: 12:35 - 12:40<br>Duration: 0.1h<extra></extra>",
         "lat": [
          48.848626,
          48.8483257
         ],
         "line": {
          "color": "#ff7f0e",
          "width": 4
         },
         "lon": [
          2.3289815,
          2.3314571
         ],
         "mode": "lines",
         "name": "WALKING",
         "showlegend": false,
         "type": "scattermap"
        },
        {
         "hovertemplate": "<b>WALKING</b><br>Distance: 160m<br>Date: 2025-07-13<br>Time: 12:56 - 12:58<br>Duration: 0.0h<extra></extra>",
         "lat": [
          48.8488504,
          48.850289
         ],
         "line": {
          "color": "#ff7f0e",
          "width": 4
         },
         "lon": [
          2.3316742,
          2.3315973
         ],
         "mode": "lines",
         "name": "WALKING",
         "showlegend": false,
         "type": "scattermap"
        },
        {
         "hovertemplate": "<b>WALKING</b><br>Distance: 472m<br>Date: 2025-07-13<br>Time: 13:55 - 14:15<br>Duration: 0.3h<extra></extra>",
         "lat": [
          48.8516687,
          48.8543541
         ],
         "line": {
          "color": "#ff7f0e",
          "width": 4
         },
         "lon": [
          2.3313138,
          2.3337596
         ],
         "mode": "lines",
         "name": "WALKING",
         "showlegend": false,
         "type": "scattermap"
        },
        {
         "hovertemplate": "<b>WALKING</b><br>Distance: 546m<br>Date: 2025-07-13<br>Time: 14:43 - 14:55<br>Duration: 0.2h<extra></extra>",
         "lat": [
          48.8713087,
          48.8715473
         ],
         "line": {
          "color": "#ff7f0e",
          "width": 4
         },
         "lon": [
          2.3311616,
          2.3281933
         ],
         "mode": "lines",
         "name": "WALKING",
         "showlegend": false,
         "type": "scattermap"
        },
        {
         "hovertemplate": "<b>WALKING</b><br>Distance: 174m<br>Date: 2025-07-13<br>Time: 16:02 - 16:08<br>Duration: 0.1h<extra></extra>",
         "lat": [
          48.8698959,
          48.8709603
         ],
         "line": {
          "color": "#ff7f0e",
          "width": 4
         },
         "lon": [
          2.3271367,
          2.3280969
         ],
         "mode": "lines",
         "name": "WALKING",
         "showlegend": false,
         "type": "scattermap"
        },
        {
         "hovertemplate": "<b>WALKING</b><br>Distance: 368m<br>Date: 2025-07-18<br>Time: 12:05 - 12:10<br>Duration: 0.1h<extra></extra>",
         "lat": [
          49.359343,
          49.357055
         ],
         "line": {
          "color": "#ff7f0e",
          "width": 4
         },
         "lon": [
          -0.8533069,
          -0.85254
         ],
         "mode": "lines",
         "name": "WALKING",
         "showlegend": false,
         "type": "scattermap"
        },
        {
         "hovertemplate": "<b>WALKING</b><br>Distance: 226m<br>Date: 2025-07-19<br>Time: 10:45 - 10:49<br>Duration: 0.1h<extra></extra>",
         "lat": [
          49.2838873,
          49.284176
         ],
         "line": {
          "color": "#ff7f0e",
          "width": 4
         },
         "lon": [
          -0.7023299,
          -0.7013468
         ],
         "mode": "lines",
         "name": "WALKING",
         "showlegend": false,
         "type": "scattermap"
        },
        {
         "hovertemplate": "<b>WALKING</b><br>Distance: 8404m<br>Date: 2025-07-20<br>Time: 10:50 - 13:20<br>Duration: 2.5h<extra></extra>",
         "lat": [
          49.7088178,
          49.7089947
         ],
         "line": {
          "color": "#ff7f0e",
          "width": 4
         },
         "lon": [
          0.2045624,
          0.2029966
         ],
         "mode": "lines",
         "name": "WALKING",
         "showlegend": false,
         "type": "scattermap"
        },
        {
         "hovertemplate": "<b>WALKING</b><br>Distance: 516m<br>Date: 2025-07-22<br>Time: 19:20 - 19:30<br>Duration: 0.2h<extra></extra>",
         "lat": [
          51.2063409,
          51.2105921
         ],
         "line": {
          "color": "#ff7f0e",
          "width": 4
         },
         "lon": [
          3.2230496,
          3.2244527
         ],
         "mode": "lines",
         "name": "WALKING",
         "showlegend": false,
         "type": "scattermap"
        },
        {
         "hovertemplate": "<b>WALKING</b><br>Distance: 658m<br>Date: 2025-07-22<br>Time: 22:02 - 22:14<br>Duration: 0.2h<extra></extra>",
         "lat": [
          51.2110222,
          51.2053544
         ],
         "line": {
          "color": "#ff7f0e",
          "width": 4
         },
         "lon": [
          3.2242186,
          3.223015
         ],
         "mode": "lines",
         "name": "WALKING",
         "showlegend": false,
         "type": "scattermap"
        },
        {
         "hovertemplate": "<b>WALKING</b><br>Distance: 1569m<br>Date: 2025-07-24<br>Time: 19:48 - 20:33<br>Duration: 0.7h<extra></extra>",
         "lat": [
          51.0536288,
          51.0533752
         ],
         "line": {
          "color": "#ff7f0e",
          "width": 4
         },
         "lon": [
          3.7237505,
          3.7193324
         ],
         "mode": "lines",
         "name": "WALKING",
         "showlegend": false,
         "type": "scattermap"
        },
        {
         "hovertemplate": "<b>WALKING</b><br>Distance: 3288m<br>Date: 2025-07-25<br>Time: 22:29 - 23:12<br>Duration: 0.7h<extra></extra>",
         "lat": [
          52.3566441,
          52.3830022
         ],
         "line": {
          "color": "#ff7f0e",
          "width": 4
         },
         "lon": [
          4.5136758,
          4.5311342
         ],
         "mode": "lines",
         "name": "WALKING",
         "showlegend": false,
         "type": "scattermap"
        },
        {
         "hovertemplate": "<b>WALKING</b><br>Distance: 3234m<br>Date: 2025-07-26<br>Time: 12:57 - 13:27<br>Duration: 0.5h<extra></extra>",
         "lat": [
          51.2352776,
          51.225723
         ],
         "line": {
          "color": "#ff7f0e",
          "width": 4
         },
         "lon": [
          6.7614191,
          6.7721702
         ],
         "mode": "lines",
         "name": "WALKING",
         "showlegend": false,
         "type": "scattermap"
        },
        {
         "hovertemplate": "<b>WALKING</b><br>Distance: 1987m<br>Date: 2025-07-26<br>Time: 14:41 - 15:41<br>Duration: 1.0h<extra></extra>",
         "lat": [
          51.2262849,
          51.2262658
         ],
         "line": {
          "color": "#ff7f0e",
          "width": 4
         },
         "lon": [
          6.7745915,
          6.782754
         ],
         "mode": "lines",
         "name": "WALKING",
         "showlegend": false,
         "type": "scattermap"
        },
        {
         "hovertemplate": "<b>WALKING</b><br>Distance: 2977m<br>Date: 2025-07-26<br>Time: 16:57 - 17:52<br>Duration: 0.9h<extra></extra>",
         "lat": [
          51.2261991,
          51.2310204
         ],
         "line": {
          "color": "#ff7f0e",
          "width": 4
         },
         "lon": [
          6.7813642,
          6.7710526
         ],
         "mode": "lines",
         "name": "WALKING",
         "showlegend": false,
         "type": "scattermap"
        },
        {
         "hovertemplate": "<b>WALKING</b><br>Distance: 189m<br>Date: 2025-07-26<br>Time: 18:06 - 18:16<br>Duration: 0.2h<extra></extra>",
         "lat": [
          51.2310204,
          51.2307146
         ],
         "line": {
          "color": "#ff7f0e",
          "width": 4
         },
         "lon": [
          6.7710526,
          6.7683888
         ],
         "mode": "lines",
         "name": "WALKING",
         "showlegend": false,
         "type": "scattermap"
        },
        {
         "hovertemplate": "<b>WALKING</b><br>Distance: 4029m<br>Date: 2025-07-26<br>Time: 18:46 - 19:00<br>Duration: 0.2h<extra></extra>",
         "lat": [
          51.2317174,
          51.2334889
         ],
         "line": {
          "color": "#ff7f0e",
          "width": 4
         },
         "lon": [
          6.7624221,
          6.7715478
         ],
         "mode": "lines",
         "name": "WALKING",
         "showlegend": false,
         "type": "scattermap"
        },
        {
         "hovertemplate": "<b>WALKING</b><br>Distance: 1656m<br>Date: 2025-07-27<br>Time: 10:37 - 10:49<br>Duration: 0.2h<extra></extra>",
         "lat": [
          50.930623,
          50.9390143
         ],
         "line": {
          "color": "#ff7f0e",
          "width": 4
         },
         "lon": [
          6.9728389,
          6.9600232
         ],
         "mode": "lines",
         "name": "WALKING",
         "showlegend": false,
         "type": "scattermap"
        },
        {
         "hovertemplate": "<b>WALKING</b><br>Distance: 1700m<br>Date: 2025-07-27<br>Time: 13:14 - 14:57<br>Duration: 1.7h<extra></extra>",
         "lat": [
          50.9411986,
          50.9298567
         ],
         "line": {
          "color": "#ff7f0e",
          "width": 4
         },
         "lon": [
          6.9565179,
          6.9727815
         ],
         "mode": "lines",
         "name": "WALKING",
         "showlegend": false,
         "type": "scattermap"
        },
        {
         "hovertemplate": "<b>WALKING</b><br>Distance: 361m<br>Date: 2025-07-31<br>Time: 17:31 - 17:41<br>Duration: 0.2h<extra></extra>",
         "lat": [
          50.1172704,
          50.1191918
         ],
         "line": {
          "color": "#ff7f0e",
          "width": 4
         },
         "lon": [
          8.636141,
          8.6396423
         ],
         "mode": "lines",
         "name": "WALKING",
         "showlegend": false,
         "type": "scattermap"
        },
        {
         "hovertemplate": "<b>WALKING</b><br>Distance: 1185m<br>Date: 2025-07-31<br>Time: 17:53 - 18:02<br>Duration: 0.2h<extra></extra>",
         "lat": [
          50.1149593,
          50.1043397
         ],
         "line": {
          "color": "#ff7f0e",
          "width": 4
         },
         "lon": [
          8.6885238,
          8.6898273
         ],
         "mode": "lines",
         "name": "WALKING",
         "showlegend": false,
         "type": "scattermap"
        },
        {
         "hovertemplate": "<b>WALKING</b><br>Distance: 92m<br>Date: 2025-07-31<br>Time: 20:27 - 20:39<br>Duration: 0.2h<extra></extra>",
         "lat": [
          50.1027936,
          50.1019698
         ],
         "line": {
          "color": "#ff7f0e",
          "width": 4
         },
         "lon": [
          8.6908307,
          8.690991
         ],
         "mode": "lines",
         "name": "WALKING",
         "showlegend": false,
         "type": "scattermap"
        },
        {
         "hovertemplate": "<b>WALKING</b><br>Distance: 406m<br>Date: 2025-07-31<br>Time: 20:52 - 21:00<br>Duration: 0.1h<extra></extra>",
         "lat": [
          50.1193752,
          50.1169639
         ],
         "line": {
          "color": "#ff7f0e",
          "width": 4
         },
         "lon": [
          8.6395084,
          8.6360417
         ],
         "mode": "lines",
         "name": "WALKING",
         "showlegend": false,
         "type": "scattermap"
        },
        {
         "hovertemplate": "<b>WALKING</b><br>Distance: 429m<br>Date: 2025-08-03<br>Time: 10:37 - 10:47<br>Duration: 0.2h<extra></extra>",
         "lat": [
          50.116193,
          50.1189846
         ],
         "line": {
          "color": "#ff7f0e",
          "width": 4
         },
         "lon": [
          8.635708,
          8.6384079
         ],
         "mode": "lines",
         "name": "WALKING",
         "showlegend": false,
         "type": "scattermap"
        },
        {
         "hovertemplate": "<b>WALKING</b><br>Distance: 7629m<br>Date: 2025-08-03<br>Time: 11:01 - 13:58<br>Duration: 3.0h<extra></extra>",
         "lat": [
          50.1113085,
          50.1091307
         ],
         "line": {
          "color": "#ff7f0e",
          "width": 4
         },
         "lon": [
          8.68454,
          8.6746608
         ],
         "mode": "lines",
         "name": "WALKING",
         "showlegend": false,
         "type": "scattermap"
        },
        {
         "hovertemplate": "<b>WALKING</b><br>Distance: 433m<br>Date: 2025-08-03<br>Time: 14:07 - 14:17<br>Duration: 0.2h<extra></extra>",
         "lat": [
          50.1193149,
          50.1162782
         ],
         "line": {
          "color": "#ff7f0e",
          "width": 4
         },
         "lon": [
          8.6396141,
          8.6358042
         ],
         "mode": "lines",
         "name": "WALKING",
         "showlegend": false,
         "type": "scattermap"
        },
        {
         "hovertemplate": "<b>WALKING</b><br>Distance: 972m<br>Date: 2025-08-04<br>Time: 15:03 - 15:16<br>Duration: 0.2h<extra></extra>",
         "lat": [
          50.1168317,
          50.1194105
         ],
         "line": {
          "color": "#ff7f0e",
          "width": 4
         },
         "lon": [
          8.6361184,
          8.63931
         ],
         "mode": "lines",
         "name": "WALKING",
         "showlegend": false,
         "type": "scattermap"
        },
        {
         "hovertemplate": "<b>WALKING</b><br>Distance: 202m<br>Date: 2025-08-04<br>Time: 20:59 - 21:03<br>Duration: 0.1h<extra></extra>",
         "lat": [
          48.3979155,
          48.3997175
         ],
         "line": {
          "color": "#ff7f0e",
          "width": 4
         },
         "lon": [
          9.9844164,
          9.9848064
         ],
         "mode": "lines",
         "name": "WALKING",
         "showlegend": false,
         "type": "scattermap"
        },
        {
         "hovertemplate": "<b>WALKING</b><br>Distance: 221m<br>Date: 2025-08-07<br>Time: 19:53 - 20:01<br>Duration: 0.1h<extra></extra>",
         "lat": [
          47.137592,
          47.1393115
         ],
         "line": {
          "color": "#ff7f0e",
          "width": 4
         },
         "lon": [
          9.5115541,
          9.5107666
         ],
         "mode": "lines",
         "name": "WALKING",
         "showlegend": false,
         "type": "scattermap"
        },
        {
         "hovertemplate": "<b>WALKING</b><br>Distance: 339m<br>Date: 2025-08-09<br>Time: 11:17 - 11:21<br>Duration: 0.1h<extra></extra>",
         "lat": [
          45.9696894,
          45.9710387
         ],
         "line": {
          "color": "#ff7f0e",
          "width": 4
         },
         "lon": [
          9.1928303,
          9.1967685
         ],
         "mode": "lines",
         "name": "WALKING",
         "showlegend": false,
         "type": "scattermap"
        },
        {
         "hovertemplate": "<b>WALKING</b><br>Distance: 492m<br>Date: 2025-08-09<br>Time: 16:30 - 16:37<br>Duration: 0.1h<extra></extra>",
         "lat": [
          45.9708564,
          45.9691595
         ],
         "line": {
          "color": "#ff7f0e",
          "width": 4
         },
         "lon": [
          9.1963322,
          9.1909319
         ],
         "mode": "lines",
         "name": "WALKING",
         "showlegend": false,
         "type": "scattermap"
        },
        {
         "hovertemplate": "<b>WALKING</b><br>Distance: 594m<br>Date: 2025-08-09<br>Time: 17:54 - 17:59<br>Duration: 0.1h<extra></extra>",
         "lat": [
          45.9699796,
          45.9734737
         ],
         "line": {
          "color": "#ff7f0e",
          "width": 4
         },
         "lon": [
          9.1928846,
          9.1937775
         ],
         "mode": "lines",
         "name": "WALKING",
         "showlegend": false,
         "type": "scattermap"
        },
        {
         "hovertemplate": "<b>WALKING</b><br>Distance: 556m<br>Date: 2025-08-09<br>Time: 18:41 - 18:49<br>Duration: 0.1h<extra></extra>",
         "lat": [
          45.9733613,
          45.9703624
         ],
         "line": {
          "color": "#ff7f0e",
          "width": 4
         },
         "lon": [
          9.1924921,
          9.1931054
         ],
         "mode": "lines",
         "name": "WALKING",
         "showlegend": false,
         "type": "scattermap"
        },
        {
         "hovertemplate": "<b>WALKING</b><br>Distance: 1175m<br>Date: 2025-08-10<br>Time: 09:42 - 10:09<br>Duration: 0.5h<extra></extra>",
         "lat": [
          45.9733687,
          45.973679
         ],
         "line": {
          "color": "#ff7f0e",
          "width": 4
         },
         "lon": [
          9.1937369,
          9.1972651
         ],
         "mode": "lines",
         "name": "WALKING",
         "showlegend": false,
         "type": "scattermap"
        },
        {
         "hovertemplate": "<b>WALKING</b><br>Distance: 8661m<br>Date: 2025-08-10<br>Time: 10:09 - 12:44<br>Duration: 2.6h<extra></extra>",
         "lat": [
          45.973679,
          45.9707067
         ],
         "line": {
          "color": "#ff7f0e",
          "width": 4
         },
         "lon": [
          9.1972651,
          9.19863
         ],
         "mode": "lines",
         "name": "WALKING",
         "showlegend": false,
         "type": "scattermap"
        },
        {
         "hovertemplate": "<b>WALKING</b><br>Distance: 808m<br>Date: 2025-08-10<br>Time: 14:42 - 15:17<br>Duration: 0.6h<extra></extra>",
         "lat": [
          45.969316,
          45.9741251
         ],
         "line": {
          "color": "#ff7f0e",
          "width": 4
         },
         "lon": [
          9.1943296,
          9.1929602
         ],
         "mode": "lines",
         "name": "WALKING",
         "showlegend": false,
         "type": "scattermap"
        },
        {
         "hovertemplate": "<b>WALKING</b><br>Distance: 478m<br>Date: 2025-08-10<br>Time: 15:46 - 15:57<br>Duration: 0.2h<extra></extra>",
         "lat": [
          45.9730947,
          45.9717102
         ],
         "line": {
          "color": "#ff7f0e",
          "width": 4
         },
         "lon": [
          9.1946688,
          9.1940432
         ],
         "mode": "lines",
         "name": "WALKING",
         "showlegend": false,
         "type": "scattermap"
        },
        {
         "hovertemplate": "<b>WALKING</b><br>Distance: 1881m<br>Date: 2025-08-11<br>Time: 11:29 - 11:53<br>Duration: 0.4h<extra></extra>",
         "lat": [
          51.5182108,
          51.5229461
         ],
         "line": {
          "color": "#ff7f0e",
          "width": 4
         },
         "lon": [
          -0.0821535,
          -0.0824952
         ],
         "mode": "lines",
         "name": "WALKING",
         "showlegend": false,
         "type": "scattermap"
        },
        {
         "hovertemplate": "<b>WALKING</b><br>Distance: 464m<br>Date: 2025-08-11<br>Time: 12:09 - 12:15<br>Duration: 0.1h<extra></extra>",
         "lat": [
          51.5235114,
          51.5204522
         ],
         "line": {
          "color": "#ff7f0e",
          "width": 4
         },
         "lon": [
          -0.0809701,
          -0.0783157
         ],
         "mode": "lines",
         "name": "WALKING",
         "showlegend": false,
         "type": "scattermap"
        },
        {
         "hovertemplate": "<b>WALKING</b><br>Distance: 361m<br>Date: 2025-08-11<br>Time: 12:24 - 12:30<br>Duration: 0.1h<extra></extra>",
         "lat": [
          51.5203915,
          51.5226924
         ],
         "line": {
          "color": "#ff7f0e",
          "width": 4
         },
         "lon": [
          -0.0777565,
          -0.0806375
         ],
         "mode": "lines",
         "name": "WALKING",
         "showlegend": false,
         "type": "scattermap"
        },
        {
         "hovertemplate": "<b>WALKING</b><br>Distance: 574m<br>Date: 2025-08-11<br>Time: 16:47 - 16:55<br>Duration: 0.1h<extra></extra>",
         "lat": [
          51.5234873,
          51.5220871
         ],
         "line": {
          "color": "#ff7f0e",
          "width": 4
         },
         "lon": [
          -0.0809382,
          -0.0753598
         ],
         "mode": "lines",
         "name": "WALKING",
         "showlegend": false,
         "type": "scattermap"
        },
        {
         "hovertemplate": "<b>WALKING</b><br>Distance: 386m<br>Date: 2025-08-11<br>Time: 17:26 - 17:32<br>Duration: 0.1h<extra></extra>",
         "lat": [
          51.5221387,
          51.5252742
         ],
         "line": {
          "color": "#ff7f0e",
          "width": 4
         },
         "lon": [
          -0.0726844,
          -0.0707486
         ],
         "mode": "lines",
         "name": "WALKING",
         "showlegend": false,
         "type": "scattermap"
        },
        {
         "hovertemplate": "<b>WALKING</b><br>Distance: 410m<br>Date: 2025-08-11<br>Time: 19:16 - 19:24<br>Duration: 0.1h<extra></extra>",
         "lat": [
          51.5253738,
          51.5233479
         ],
         "line": {
          "color": "#ff7f0e",
          "width": 4
         },
         "lon": [
          -0.070621,
          -0.0755658
         ],
         "mode": "lines",
         "name": "WALKING",
         "showlegend": false,
         "type": "scattermap"
        },
        {
         "hovertemplate": "<b>WALKING</b><br>Distance: 999m<br>Date: 2025-08-12<br>Time: 07:34 - 07:54<br>Duration: 0.3h<extra></extra>",
         "lat": [
          51.5221753,
          51.5242448
         ],
         "line": {
          "color": "#ff7f0e",
          "width": 4
         },
         "lon": [
          -0.0735524,
          -0.0801894
         ],
         "mode": "lines",
         "name": "WALKING",
         "showlegend": false,
         "type": "scattermap"
        },
        {
         "hovertemplate": "<b>WALKING</b><br>Distance: 107m<br>Date: 2025-08-12<br>Time: 11:08 - 11:12<br>Duration: 0.1h<extra></extra>",
         "lat": [
          51.5233062,
          51.5241531
         ],
         "line": {
          "color": "#ff7f0e",
          "width": 4
         },
         "lon": [
          -0.081109,
          -0.0803949
         ],
         "mode": "lines",
         "name": "WALKING",
         "showlegend": false,
         "type": "scattermap"
        },
        {
         "hovertemplate": "<b>WALKING</b><br>Distance: 1547m<br>Date: 2025-08-12<br>Time: 11:55 - 12:25<br>Duration: 0.5h<extra></extra>",
         "lat": [
          51.5249319,
          51.5232965
         ],
         "line": {
          "color": "#ff7f0e",
          "width": 4
         },
         "lon": [
          -0.080391,
          -0.0826958
         ],
         "mode": "lines",
         "name": "WALKING",
         "showlegend": false,
         "type": "scattermap"
        },
        {
         "hovertemplate": "<b>WALKING</b><br>Distance: 6572m<br>Date: 2025-08-12<br>Time: 17:31 - 19:21<br>Duration: 1.8h<extra></extra>",
         "lat": [
          51.5130802,
          51.5066241
         ],
         "line": {
          "color": "#ff7f0e",
          "width": 4
         },
         "lon": [
          -0.0983078,
          -0.1221847
         ],
         "mode": "lines",
         "name": "WALKING",
         "showlegend": false,
         "type": "scattermap"
        },
        {
         "hovertemplate": "<b>WALKING</b><br>Distance: 4228m<br>Date: 2025-08-12<br>Time: 20:10 - 20:56<br>Duration: 0.8h<extra></extra>",
         "lat": [
          51.5109647,
          51.4992967
         ],
         "line": {
          "color": "#ff7f0e",
          "width": 4
         },
         "lon": [
          -0.1317671,
          -0.1304333
         ],
         "mode": "lines",
         "name": "WALKING",
         "showlegend": false,
         "type": "scattermap"
        },
        {
         "hovertemplate": "<b>WALKING</b><br>Distance: 217m<br>Date: 2025-08-12<br>Time: 21:30 - 21:32<br>Duration: 0.0h<extra></extra>",
         "lat": [
          51.52223,
          51.5221887
         ],
         "line": {
          "color": "#ff7f0e",
          "width": 4
         },
         "lon": [
          -0.0781631,
          -0.076811
         ],
         "mode": "lines",
         "name": "WALKING",
         "showlegend": false,
         "type": "scattermap"
        },
        {
         "hovertemplate": "<b>WALKING</b><br>Distance: 714m<br>Date: 2025-08-13<br>Time: 07:33 - 07:49<br>Duration: 0.3h<extra></extra>",
         "lat": [
          51.5222488,
          51.524252
         ],
         "line": {
          "color": "#ff7f0e",
          "width": 4
         },
         "lon": [
          -0.0745679,
          -0.0802836
         ],
         "mode": "lines",
         "name": "WALKING",
         "showlegend": false,
         "type": "scattermap"
        },
        {
         "hovertemplate": "<b>WALKING</b><br>Distance: 715m<br>Date: 2025-08-13<br>Time: 11:49 - 12:00<br>Duration: 0.2h<extra></extra>",
         "lat": [
          51.5236572,
          51.5221208
         ],
         "line": {
          "color": "#ff7f0e",
          "width": 4
         },
         "lon": [
          -0.0803248,
          -0.0716873
         ],
         "mode": "lines",
         "name": "WALKING",
         "showlegend": false,
         "type": "scattermap"
        },
        {
         "hovertemplate": "<b>WALKING</b><br>Distance: 773m<br>Date: 2025-08-13<br>Time: 12:12 - 12:24<br>Duration: 0.2h<extra></extra>",
         "lat": [
          51.5233628,
          51.5234584
         ],
         "line": {
          "color": "#ff7f0e",
          "width": 4
         },
         "lon": [
          -0.0714687,
          -0.0811092
         ],
         "mode": "lines",
         "name": "WALKING",
         "showlegend": false,
         "type": "scattermap"
        },
        {
         "hovertemplate": "<b>WALKING</b><br>Distance: 6837m<br>Date: 2025-08-13<br>Time: 19:13 - 20:30<br>Duration: 1.3h<extra></extra>",
         "lat": [
          51.5109169,
          51.5044067
         ],
         "line": {
          "color": "#ff7f0e",
          "width": 4
         },
         "lon": [
          -0.0767507,
          -0.0760617
         ],
         "mode": "lines",
         "name": "WALKING",
         "showlegend": false,
         "type": "scattermap"
        },
        {
         "hovertemplate": "<b>WALKING</b><br>Distance: 1603m<br>Date: 2025-08-13<br>Time: 20:45 - 21:03<br>Duration: 0.3h<extra></extra>",
         "lat": [
          51.525395,
          51.5247457
         ],
         "line": {
          "color": "#ff7f0e",
          "width": 4
         },
         "lon": [
          -0.077355,
          -0.0719201
         ],
         "mode": "lines",
         "name": "WALKING",
         "showlegend": false,
         "type": "scattermap"
        },
        {
         "hovertemplate": "<b>WALKING</b><br>Distance: 630m<br>Date: 2025-08-13<br>Time: 21:21 - 21:24<br>Duration: 0.1h<extra></extra>",
         "lat": [
          51.5244646,
          51.5224448
         ],
         "line": {
          "color": "#ff7f0e",
          "width": 4
         },
         "lon": [
          -0.0724914,
          -0.0753852
         ],
         "mode": "lines",
         "name": "WALKING",
         "showlegend": false,
         "type": "scattermap"
        },
        {
         "hovertemplate": "<b>WALKING</b><br>Distance: 1007m<br>Date: 2025-08-14<br>Time: 07:33 - 07:49<br>Duration: 0.3h<extra></extra>",
         "lat": [
          51.5233552,
          51.5238925
         ],
         "line": {
          "color": "#ff7f0e",
          "width": 4
         },
         "lon": [
          -0.0752864,
          -0.0804507
         ],
         "mode": "lines",
         "name": "WALKING",
         "showlegend": false,
         "type": "scattermap"
        },
        {
         "hovertemplate": "<b>WALKING</b><br>Distance: 629m<br>Date: 2025-08-14<br>Time: 12:36 - 12:44<br>Duration: 0.1h<extra></extra>",
         "lat": [
          51.5234152,
          51.5180419
         ],
         "line": {
          "color": "#ff7f0e",
          "width": 4
         },
         "lon": [
          -0.0804167,
          -0.0820594
         ],
         "mode": "lines",
         "name": "WALKING",
         "showlegend": false,
         "type": "scattermap"
        },
        {
         "hovertemplate": "<b>WALKING</b><br>Distance: 300m<br>Date: 2025-08-14<br>Time: 13:03 - 13:07<br>Duration: 0.1h<extra></extra>",
         "lat": [
          51.5237837,
          51.5220261
         ],
         "line": {
          "color": "#ff7f0e",
          "width": 4
         },
         "lon": [
          -0.1437668,
          -0.1434952
         ],
         "mode": "lines",
         "name": "WALKING",
         "showlegend": false,
         "type": "scattermap"
        },
        {
         "hovertemplate": "<b>WALKING</b><br>Distance: 802m<br>Date: 2025-08-14<br>Time: 15:17 - 15:29<br>Duration: 0.2h<extra></extra>",
         "lat": [
          51.5211115,
          51.5204245
         ],
         "line": {
          "color": "#ff7f0e",
          "width": 4
         },
         "lon": [
          -0.1446479,
          -0.1557898
         ],
         "mode": "lines",
         "name": "WALKING",
         "showlegend": false,
         "type": "scattermap"
        },
        {
         "hovertemplate": "<b>WALKING</b><br>Distance: 5653m<br>Date: 2025-08-14<br>Time: 21:35 - 22:41<br>Duration: 1.1h<extra></extra>",
         "lat": [
          51.5109782,
          51.497225
         ],
         "line": {
          "color": "#ff7f0e",
          "width": 4
         },
         "lon": [
          -0.1340763,
          -0.138383
         ],
         "mode": "lines",
         "name": "WALKING",
         "showlegend": false,
         "type": "scattermap"
        },
        {
         "hovertemplate": "<b>WALKING</b><br>Distance: 114m<br>Date: 2025-08-14<br>Time: 23:16 - 23:19<br>Duration: 0.0h<extra></extra>",
         "lat": [
          51.5225617,
          51.52213
         ],
         "line": {
          "color": "#ff7f0e",
          "width": 4
         },
         "lon": [
          -0.078025,
          -0.0765483
         ],
         "mode": "lines",
         "name": "WALKING",
         "showlegend": false,
         "type": "scattermap"
        },
        {
         "hovertemplate": "<b>WALKING</b><br>Distance: 393m<br>Date: 2025-08-15<br>Time: 09:53 - 09:57<br>Duration: 0.1h<extra></extra>",
         "lat": [
          51.5211955,
          51.519073
         ],
         "line": {
          "color": "#ff7f0e",
          "width": 4
         },
         "lon": [
          -0.0750962,
          -0.0748848
         ],
         "mode": "lines",
         "name": "WALKING",
         "showlegend": false,
         "type": "scattermap"
        },
        {
         "hovertemplate": "<b>WALKING</b><br>Distance: 931m<br>Date: 2025-08-15<br>Time: 10:58 - 11:06<br>Duration: 0.1h<extra></extra>",
         "lat": [
          51.5190746,
          51.5226225
         ],
         "line": {
          "color": "#ff7f0e",
          "width": 4
         },
         "lon": [
          -0.0781051,
          -0.0804056
         ],
         "mode": "lines",
         "name": "WALKING",
         "showlegend": false,
         "type": "scattermap"
        },
        {
         "hovertemplate": "<b>WALKING</b><br>Distance: 1526m<br>Date: 2025-08-15<br>Time: 16:11 - 16:35<br>Duration: 0.4h<extra></extra>",
         "lat": [
          51.5243924,
          51.526874
         ],
         "line": {
          "color": "#ff7f0e",
          "width": 4
         },
         "lon": [
          -0.0805648,
          -0.0811611
         ],
         "mode": "lines",
         "name": "WALKING",
         "showlegend": false,
         "type": "scattermap"
        },
        {
         "hovertemplate": "<b>WALKING</b><br>Distance: 412m<br>Date: 2025-08-15<br>Time: 17:32 - 17:41<br>Duration: 0.2h<extra></extra>",
         "lat": [
          51.4715616,
          51.4700298
         ],
         "line": {
          "color": "#ff7f0e",
          "width": 4
         },
         "lon": [
          -0.4552262,
          -0.4514242
         ],
         "mode": "lines",
         "name": "WALKING",
         "showlegend": false,
         "type": "scattermap"
        },
        {
         "hovertemplate": "<b>WALKING</b><br>Distance: 221m<br>Date: 2025-08-15<br>Time: 21:47 - 21:50<br>Duration: 0.0h<extra></extra>",
         "lat": [
          53.3600117,
          53.3593505
         ],
         "line": {
          "color": "#ff7f0e",
          "width": 4
         },
         "lon": [
          -6.2609767,
          -6.2587426
         ],
         "mode": "lines",
         "name": "WALKING",
         "showlegend": false,
         "type": "scattermap"
        },
        {
         "hovertemplate": "<b>WALKING</b><br>Distance: 317m<br>Date: 2025-08-16<br>Time: 12:00 - 12:06<br>Duration: 0.1h<extra></extra>",
         "lat": [
          53.3589842,
          53.3596668
         ],
         "line": {
          "color": "#ff7f0e",
          "width": 4
         },
         "lon": [
          -6.2562813,
          -6.2609168
         ],
         "mode": "lines",
         "name": "WALKING",
         "showlegend": false,
         "type": "scattermap"
        },
        {
         "hovertemplate": "<b>WALKING</b><br>Distance: 1259m<br>Date: 2025-08-16<br>Time: 12:19 - 12:57<br>Duration: 0.6h<extra></extra>",
         "lat": [
          53.3599629,
          53.3595442
         ],
         "line": {
          "color": "#ff7f0e",
          "width": 4
         },
         "lon": [
          -6.260947,
          -6.2599889
         ],
         "mode": "lines",
         "name": "WALKING",
         "showlegend": false,
         "type": "scattermap"
        },
        {
         "hovertemplate": "<b>WALKING</b><br>Distance: 2041m<br>Date: 2025-08-16<br>Time: 14:32 - 15:18<br>Duration: 0.8h<extra></extra>",
         "lat": [
          53.3323705,
          53.3442194
         ],
         "line": {
          "color": "#ff7f0e",
          "width": 4
         },
         "lon": [
          -6.2695167,
          -6.265269
         ],
         "mode": "lines",
         "name": "WALKING",
         "showlegend": false,
         "type": "scattermap"
        },
        {
         "hovertemplate": "<b>WALKING</b><br>Distance: 114m<br>Date: 2025-08-16<br>Time: 15:41 - 15:46<br>Duration: 0.1h<extra></extra>",
         "lat": [
          53.3251568,
          53.3261466
         ],
         "line": {
          "color": "#ff7f0e",
          "width": 4
         },
         "lon": [
          -6.2790669,
          -6.2786158
         ],
         "mode": "lines",
         "name": "WALKING",
         "showlegend": false,
         "type": "scattermap"
        },
        {
         "hovertemplate": "<b>WALKING</b><br>Distance: 134m<br>Date: 2025-08-16<br>Time: 19:13 - 19:25<br>Duration: 0.2h<extra></extra>",
         "lat": [
          53.3266046,
          53.3272277
         ],
         "line": {
          "color": "#ff7f0e",
          "width": 4
         },
         "lon": [
          -6.2781641,
          -6.2774651
         ],
         "mode": "lines",
         "name": "WALKING",
         "showlegend": false,
         "type": "scattermap"
        },
        {
         "hovertemplate": "<b>WALKING</b><br>Distance: 467m<br>Date: 2025-08-16<br>Time: 20:01 - 20:10<br>Duration: 0.2h<extra></extra>",
         "lat": [
          53.3601014,
          53.3584705
         ],
         "line": {
          "color": "#ff7f0e",
          "width": 4
         },
         "lon": [
          -6.2611328,
          -6.2548336
         ],
         "mode": "lines",
         "name": "WALKING",
         "showlegend": false,
         "type": "scattermap"
        },
        {
         "hovertemplate": "<b>WALKING</b><br>Distance: 142m<br>Date: 2025-08-16<br>Time: 20:44 - 20:46<br>Duration: 0.0h<extra></extra>",
         "lat": [
          53.358735,
          53.3581778
         ],
         "line": {
          "color": "#ff7f0e",
          "width": 4
         },
         "lon": [
          -6.2557722,
          -6.2538524
         ],
         "mode": "lines",
         "name": "WALKING",
         "showlegend": false,
         "type": "scattermap"
        },
        {
         "hovertemplate": "<b>WALKING</b><br>Distance: 137m<br>Date: 2025-08-16<br>Time: 21:15 - 21:17<br>Duration: 0.0h<extra></extra>",
         "lat": [
          53.3580805,
          53.3583948
         ],
         "line": {
          "color": "#ff7f0e",
          "width": 4
         },
         "lon": [
          -6.2531997,
          -6.2552015
         ],
         "mode": "lines",
         "name": "WALKING",
         "showlegend": false,
         "type": "scattermap"
        },
        {
         "hovertemplate": "<b>WALKING</b><br>Distance: 272m<br>Date: 2025-08-17<br>Time: 04:58 - 05:07<br>Duration: 0.2h<extra></extra>",
         "lat": [
          53.3596962,
          53.3601609
         ],
         "line": {
          "color": "#ff7f0e",
          "width": 4
         },
         "lon": [
          -6.260034,
          -6.2609773
         ],
         "mode": "lines",
         "name": "WALKING",
         "showlegend": false,
         "type": "scattermap"
        },
        {
         "hovertemplate": "<b>WALKING</b><br>Distance: 1876m<br>Date: 2025-08-17<br>Time: 17:59 - 19:05<br>Duration: 1.1h<extra></extra>",
         "lat": [
          38.9965374,
          38.9918901
         ],
         "line": {
          "color": "#ff7f0e",
          "width": 4
         },
         "lon": [
          -0.1626062,
          -0.1569157
         ],
         "mode": "lines",
         "name": "WALKING",
         "showlegend": false,
         "type": "scattermap"
        },
        {
         "hovertemplate": "<b>WALKING</b><br>Distance: 1545m<br>Date: 2025-08-17<br>Time: 21:01 - 22:08<br>Duration: 1.1h<extra></extra>",
         "lat": [
          38.993713,
          38.9997378
         ],
         "line": {
          "color": "#ff7f0e",
          "width": 4
         },
         "lon": [
          -0.1612568,
          -0.1620841
         ],
         "mode": "lines",
         "name": "WALKING",
         "showlegend": false,
         "type": "scattermap"
        },
        {
         "hovertemplate": "<b>WALKING</b><br>Distance: 36m<br>Date: 2025-08-18<br>Time: 05:40 - 15:54<br>Duration: 10.2h<extra></extra>",
         "lat": [
          38.9998051,
          38.9999831
         ],
         "line": {
          "color": "#ff7f0e",
          "width": 4
         },
         "lon": [
          -0.1632981,
          -0.1632169
         ],
         "mode": "lines",
         "name": "WALKING",
         "showlegend": false,
         "type": "scattermap"
        },
        {
         "hovertemplate": "<b>WALKING</b><br>Distance: 399m<br>Date: 2025-08-19<br>Time: 15:32 - 15:38<br>Duration: 0.1h<extra></extra>",
         "lat": [
          38.9996659,
          39.0022889
         ],
         "line": {
          "color": "#ff7f0e",
          "width": 4
         },
         "lon": [
          -0.1623411,
          -0.1609542
         ],
         "mode": "lines",
         "name": "WALKING",
         "showlegend": false,
         "type": "scattermap"
        },
        {
         "hovertemplate": "<b>WALKING</b><br>Distance: 279m<br>Date: 2025-08-19<br>Time: 18:39 - 18:45<br>Duration: 0.1h<extra></extra>",
         "lat": [
          39.0020977,
          39.0000799
         ],
         "line": {
          "color": "#ff7f0e",
          "width": 4
         },
         "lon": [
          -0.1621992,
          -0.1613263
         ],
         "mode": "lines",
         "name": "WALKING",
         "showlegend": false,
         "type": "scattermap"
        },
        {
         "hovertemplate": "<b>WALKING</b><br>Distance: 153m<br>Date: 2025-08-19<br>Time: 21:13 - 21:15<br>Duration: 0.0h<extra></extra>",
         "lat": [
          38.9996687,
          39.0004112
         ],
         "line": {
          "color": "#ff7f0e",
          "width": 4
         },
         "lon": [
          -0.1623488,
          -0.1608528
         ],
         "mode": "lines",
         "name": "WALKING",
         "showlegend": false,
         "type": "scattermap"
        },
        {
         "hovertemplate": "<b>WALKING</b><br>Distance: 251m<br>Date: 2025-08-20<br>Time: 05:10 - 05:14<br>Duration: 0.1h<extra></extra>",
         "lat": [
          38.9999159,
          39.0014264
         ],
         "line": {
          "color": "#ff7f0e",
          "width": 4
         },
         "lon": [
          -0.161958,
          -0.1602232
         ],
         "mode": "lines",
         "name": "WALKING",
         "showlegend": false,
         "type": "scattermap"
        },
        {
         "hovertemplate": "<b>WALKING</b><br>Distance: 485m<br>Date: 2025-08-20<br>Time: 18:58 - 19:10<br>Duration: 0.2h<extra></extra>",
         "lat": [
          38.9984346,
          38.9951431
         ],
         "line": {
          "color": "#ff7f0e",
          "width": 4
         },
         "lon": [
          -0.1622494,
          -0.1595111
         ],
         "mode": "lines",
         "name": "WALKING",
         "showlegend": false,
         "type": "scattermap"
        },
        {
         "hovertemplate": "<b>WALKING</b><br>Distance: 76m<br>Date: 2025-08-20<br>Time: 20:51 - 20:53<br>Duration: 0.0h<extra></extra>",
         "lat": [
          38.9959024,
          38.9962291
         ],
         "line": {
          "color": "#ff7f0e",
          "width": 4
         },
         "lon": [
          -0.1575518,
          -0.1567879
         ],
         "mode": "lines",
         "name": "WALKING",
         "showlegend": false,
         "type": "scattermap"
        },
        {
         "hovertemplate": "<b>WALKING</b><br>Distance: 1036m<br>Date: 2025-08-20<br>Time: 21:20 - 22:00<br>Duration: 0.7h<extra></extra>",
         "lat": [
          38.9993233,
          38.9995961
         ],
         "line": {
          "color": "#ff7f0e",
          "width": 4
         },
         "lon": [
          -0.1582279,
          -0.1625293
         ],
         "mode": "lines",
         "name": "WALKING",
         "showlegend": false,
         "type": "scattermap"
        },
        {
         "hovertemplate": "<b>WALKING</b><br>Distance: 1410m<br>Date: 2025-08-21<br>Time: 21:37 - 21:59<br>Duration: 0.4h<extra></extra>",
         "lat": [
          38.9998431,
          39.0076127
         ],
         "line": {
          "color": "#ff7f0e",
          "width": 4
         },
         "lon": [
          -0.1632999,
          -0.1652803
         ],
         "mode": "lines",
         "name": "WALKING",
         "showlegend": false,
         "type": "scattermap"
        },
        {
         "hovertemplate": "<b>WALKING</b><br>Distance: 583m<br>Date: 2025-08-21<br>Time: 22:41 - 22:49<br>Duration: 0.1h<extra></extra>",
         "lat": [
          39.0077503,
          39.0054799
         ],
         "line": {
          "color": "#ff7f0e",
          "width": 4
         },
         "lon": [
          -0.1652312,
          -0.1680355
         ],
         "mode": "lines",
         "name": "WALKING",
         "showlegend": false,
         "type": "scattermap"
        },
        {
         "hovertemplate": "<b>WALKING</b><br>Distance: 1312m<br>Date: 2025-08-21<br>Time: 23:31 - 23:43<br>Duration: 0.2h<extra></extra>",
         "lat": [
          39.0056121,
          39.0002341
         ],
         "line": {
          "color": "#ff7f0e",
          "width": 4
         },
         "lon": [
          -0.167994,
          -0.1635128
         ],
         "mode": "lines",
         "name": "WALKING",
         "showlegend": false,
         "type": "scattermap"
        },
        {
         "hovertemplate": "<b>WALKING</b><br>Distance: 266m<br>Date: 2025-08-22<br>Time: 15:18 - 15:22<br>Duration: 0.1h<extra></extra>",
         "lat": [
          38.9995455,
          39.0005885
         ],
         "line": {
          "color": "#ff7f0e",
          "width": 4
         },
         "lon": [
          -0.1631387,
          -0.1603743
         ],
         "mode": "lines",
         "name": "WALKING",
         "showlegend": false,
         "type": "scattermap"
        },
        {
         "hovertemplate": "<b>WALKING</b><br>Distance: 282m<br>Date: 2025-08-22<br>Time: 17:17 - 17:21<br>Duration: 0.1h<extra></extra>",
         "lat": [
          39.0007597,
          38.999507
         ],
         "line": {
          "color": "#ff7f0e",
          "width": 4
         },
         "lon": [
          -0.1597152,
          -0.1625361
         ],
         "mode": "lines",
         "name": "WALKING",
         "showlegend": false,
         "type": "scattermap"
        },
        {
         "hovertemplate": "<b>WALKING</b><br>Distance: 522m<br>Date: 2025-08-22<br>Time: 18:30 - 18:38<br>Duration: 0.1h<extra></extra>",
         "lat": [
          38.9989222,
          38.9967464
         ],
         "line": {
          "color": "#ff7f0e",
          "width": 4
         },
         "lon": [
          -0.1627128,
          -0.1594371
         ],
         "mode": "lines",
         "name": "WALKING",
         "showlegend": false,
         "type": "scattermap"
        },
        {
         "hovertemplate": "<b>WALKING</b><br>Distance: 320m<br>Date: 2025-08-22<br>Time: 21:06 - 21:11<br>Duration: 0.1h<extra></extra>",
         "lat": [
          38.9959004,
          38.995576
         ],
         "line": {
          "color": "#ff7f0e",
          "width": 4
         },
         "lon": [
          -0.1562089,
          -0.1596219
         ],
         "mode": "lines",
         "name": "WALKING",
         "showlegend": false,
         "type": "scattermap"
        },
        {
         "hovertemplate": "<b>WALKING</b><br>Distance: 505m<br>Date: 2025-08-22<br>Time: 21:39 - 21:48<br>Duration: 0.1h<extra></extra>",
         "lat": [
          38.995981,
          38.9992697
         ],
         "line": {
          "color": "#ff7f0e",
          "width": 4
         },
         "lon": [
          -0.1605713,
          -0.162933
         ],
         "mode": "lines",
         "name": "WALKING",
         "showlegend": false,
         "type": "scattermap"
        },
        {
         "hovertemplate": "<b>WALKING</b><br>Distance: 639m<br>Date: 2025-08-25<br>Time: 17:50 - 18:02<br>Duration: 0.2h<extra></extra>",
         "lat": [
          37.1054638,
          37.1009888
         ],
         "line": {
          "color": "#ff7f0e",
          "width": 4
         },
         "lon": [
          -8.3537418,
          -8.3578621
         ],
         "mode": "lines",
         "name": "WALKING",
         "showlegend": false,
         "type": "scattermap"
        },
        {
         "hovertemplate": "<b>WALKING</b><br>Distance: 590m<br>Date: 2025-08-25<br>Time: 19:03 - 19:11<br>Duration: 0.1h<extra></extra>",
         "lat": [
          37.1009864,
          37.1055311
         ],
         "line": {
          "color": "#ff7f0e",
          "width": 4
         },
         "lon": [
          -8.3573047,
          -8.3544026
         ],
         "mode": "lines",
         "name": "WALKING",
         "showlegend": false,
         "type": "scattermap"
        },
        {
         "hovertemplate": "<b>WALKING</b><br>Distance: 653m<br>Date: 2025-08-27<br>Time: 22:49 - 22:57<br>Duration: 0.1h<extra></extra>",
         "lat": [
          37.1311383,
          37.1317467
         ],
         "line": {
          "color": "#ff7f0e",
          "width": 4
         },
         "lon": [
          -8.4482014,
          -8.4460917
         ],
         "mode": "lines",
         "name": "WALKING",
         "showlegend": false,
         "type": "scattermap"
        },
        {
         "hovertemplate": "<b>WALKING</b><br>Distance: 538m<br>Date: 2025-08-30<br>Time: 16:39 - 16:46<br>Duration: 0.1h<extra></extra>",
         "lat": [
          44.4929889,
          44.4947086
         ],
         "line": {
          "color": "#ff7f0e",
          "width": 4
         },
         "lon": [
          11.3495815,
          11.3455419
         ],
         "mode": "lines",
         "name": "WALKING",
         "showlegend": false,
         "type": "scattermap"
        },
        {
         "hovertemplate": "<b>WALKING</b><br>Distance: 559m<br>Date: 2025-09-02<br>Time: 18:47 - 18:52<br>Duration: 0.1h<extra></extra>",
         "lat": [
          45.464779,
          45.4626133
         ],
         "line": {
          "color": "#ff7f0e",
          "width": 4
         },
         "lon": [
          9.1891624,
          9.1869338
         ],
         "mode": "lines",
         "name": "WALKING",
         "showlegend": false,
         "type": "scattermap"
        },
        {
         "hovertemplate": "<b>WALKING</b><br>Distance: 1285m<br>Date: 2025-09-02<br>Time: 19:32 - 20:03<br>Duration: 0.5h<extra></extra>",
         "lat": [
          45.4617473,
          45.4658214
         ],
         "line": {
          "color": "#ff7f0e",
          "width": 4
         },
         "lon": [
          9.1855626,
          9.1971061
         ],
         "mode": "lines",
         "name": "WALKING",
         "showlegend": false,
         "type": "scattermap"
        },
        {
         "hovertemplate": "<b>WALKING</b><br>Distance: 985m<br>Date: 2025-09-03<br>Time: 10:31 - 10:40<br>Duration: 0.2h<extra></extra>",
         "lat": [
          45.5116027,
          45.517217
         ],
         "line": {
          "color": "#ff7f0e",
          "width": 4
         },
         "lon": [
          9.1605767,
          9.1662211
         ],
         "mode": "lines",
         "name": "WALKING",
         "showlegend": false,
         "type": "scattermap"
        },
        {
         "hovertemplate": "<b>WALKING</b><br>Distance: 1681m<br>Date: 2025-09-03<br>Time: 11:27 - 11:47<br>Duration: 0.3h<extra></extra>",
         "lat": [
          45.5155869,
          45.5091829
         ],
         "line": {
          "color": "#ff7f0e",
          "width": 4
         },
         "lon": [
          9.1642866,
          9.1605239
         ],
         "mode": "lines",
         "name": "WALKING",
         "showlegend": false,
         "type": "scattermap"
        },
        {
         "hovertemplate": "<b>WALKING</b><br>Distance: 1592m<br>Date: 2025-09-03<br>Time: 15:52 - 16:04<br>Duration: 0.2h<extra></extra>",
         "lat": [
          45.512083,
          45.5129671
         ],
         "line": {
          "color": "#ff7f0e",
          "width": 4
         },
         "lon": [
          9.1607028,
          9.1726907
         ],
         "mode": "lines",
         "name": "WALKING",
         "showlegend": false,
         "type": "scattermap"
        },
        {
         "hovertemplate": "<b>WALKING</b><br>Distance: 99m<br>Date: 2025-09-03<br>Time: 16:27 - 16:29<br>Duration: 0.0h<extra></extra>",
         "lat": [
          45.463849,
          45.4644819
         ],
         "line": {
          "color": "#ff7f0e",
          "width": 4
         },
         "lon": [
          9.1888386,
          9.1891617
         ],
         "mode": "lines",
         "name": "WALKING",
         "showlegend": false,
         "type": "scattermap"
        },
        {
         "hovertemplate": "<b>WALKING</b><br>Distance: 362m<br>Date: 2025-09-03<br>Time: 21:12 - 21:15<br>Duration: 0.1h<extra></extra>",
         "lat": [
          45.4898876,
          45.4924969
         ],
         "line": {
          "color": "#ff7f0e",
          "width": 4
         },
         "lon": [
          9.1904413,
          9.1923751
         ],
         "mode": "lines",
         "name": "WALKING",
         "showlegend": false,
         "type": "scattermap"
        },
        {
         "hovertemplate": "<b>WALKING</b><br>Distance: 183m<br>Date: 2025-09-04<br>Time: 11:31 - 11:35<br>Duration: 0.1h<extra></extra>",
         "lat": [
          45.5117144,
          45.510913
         ],
         "line": {
          "color": "#ff7f0e",
          "width": 4
         },
         "lon": [
          9.1606033,
          9.1608665
         ],
         "mode": "lines",
         "name": "WALKING",
         "showlegend": false,
         "type": "scattermap"
        },
        {
         "hovertemplate": "<b>WALKING</b><br>Distance: 292m<br>Date: 2025-09-04<br>Time: 20:11 - 20:18<br>Duration: 0.1h<extra></extra>",
         "lat": [
          53.3597805,
          53.3589681
         ],
         "line": {
          "color": "#ff7f0e",
          "width": 4
         },
         "lon": [
          -6.2607833,
          -6.2565911
         ],
         "mode": "lines",
         "name": "WALKING",
         "showlegend": false,
         "type": "scattermap"
        },
        {
         "hovertemplate": "<b>WALKING</b><br>Distance: 239m<br>Date: 2025-09-05<br>Time: 06:29 - 06:32<br>Duration: 0.0h<extra></extra>",
         "lat": [
          53.3590013,
          53.3596444
         ],
         "line": {
          "color": "#ff7f0e",
          "width": 4
         },
         "lon": [
          -6.2572764,
          -6.2607103
         ],
         "mode": "lines",
         "name": "WALKING",
         "showlegend": false,
         "type": "scattermap"
        },
        {
         "hovertemplate": "<b>WALKING</b><br>Distance: 332m<br>Date: 2025-09-05<br>Time: 06:37 - 06:40<br>Duration: 0.1h<extra></extra>",
         "lat": [
          53.3601257,
          53.3590147
         ],
         "line": {
          "color": "#ff7f0e",
          "width": 4
         },
         "lon": [
          -6.2608825,
          -6.2571596
         ],
         "mode": "lines",
         "name": "WALKING",
         "showlegend": false,
         "type": "scattermap"
        },
        {
         "hovertemplate": "<b>WALKING</b><br>Distance: 1233m<br>Date: 2025-09-05<br>Time: 15:45 - 15:56<br>Duration: 0.2h<extra></extra>",
         "lat": [
          53.3584477,
          53.352222
         ],
         "line": {
          "color": "#ff7f0e",
          "width": 4
         },
         "lon": [
          -6.2552679,
          -6.2624479
         ],
         "mode": "lines",
         "name": "WALKING",
         "showlegend": false,
         "type": "scattermap"
        },
        {
         "hovertemplate": "<b>WALKING</b><br>Distance: 1078m<br>Date: 2025-09-05<br>Time: 16:26 - 16:42<br>Duration: 0.3h<extra></extra>",
         "lat": [
          53.3511722,
          53.3588711
         ],
         "line": {
          "color": "#ff7f0e",
          "width": 4
         },
         "lon": [
          -6.2634807,
          -6.256789
         ],
         "mode": "lines",
         "name": "WALKING",
         "showlegend": false,
         "type": "scattermap"
        },
        {
         "hovertemplate": "<b>WALKING</b><br>Distance: 299m<br>Date: 2025-09-06<br>Time: 09:42 - 09:48<br>Duration: 0.1h<extra></extra>",
         "lat": [
          53.3601243,
          53.3589328
         ],
         "line": {
          "color": "#ff7f0e",
          "width": 4
         },
         "lon": [
          -6.2607151,
          -6.2566842
         ],
         "mode": "lines",
         "name": "WALKING",
         "showlegend": false,
         "type": "scattermap"
        },
        {
         "hovertemplate": "<b>WALKING</b><br>Distance: 819m<br>Date: 2025-09-06<br>Time: 13:33 - 13:41<br>Duration: 0.1h<extra></extra>",
         "lat": [
          53.3587196,
          53.3549736
         ],
         "line": {
          "color": "#ff7f0e",
          "width": 4
         },
         "lon": [
          -6.255649,
          -6.2468131
         ],
         "mode": "lines",
         "name": "WALKING",
         "showlegend": false,
         "type": "scattermap"
        },
        {
         "hovertemplate": "<b>WALKING</b><br>Distance: 193m<br>Date: 2025-09-06<br>Time: 14:30 - 14:34<br>Duration: 0.1h<extra></extra>",
         "lat": [
          53.388306,
          53.3880048
         ],
         "line": {
          "color": "#ff7f0e",
          "width": 4
         },
         "lon": [
          -6.0704419,
          -6.0684514
         ],
         "mode": "lines",
         "name": "WALKING",
         "showlegend": false,
         "type": "scattermap"
        },
        {
         "hovertemplate": "<b>WALKING</b><br>Distance: 1089m<br>Date: 2025-09-06<br>Time: 17:03 - 17:18<br>Duration: 0.2h<extra></extra>",
         "lat": [
          53.3562883,
          53.3594287
         ],
         "line": {
          "color": "#ff7f0e",
          "width": 4
         },
         "lon": [
          -6.244395,
          -6.2559319
         ],
         "mode": "lines",
         "name": "WALKING",
         "showlegend": false,
         "type": "scattermap"
        },
        {
         "hovertemplate": "<b>WALKING</b><br>Distance: 338m<br>Date: 2025-09-06<br>Time: 21:24 - 21:26<br>Duration: 0.0h<extra></extra>",
         "lat": [
          53.3588911,
          53.3594876
         ],
         "line": {
          "color": "#ff7f0e",
          "width": 4
         },
         "lon": [
          -6.2565734,
          -6.2611168
         ],
         "mode": "lines",
         "name": "WALKING",
         "showlegend": false,
         "type": "scattermap"
        },
        {
         "hovertemplate": "<b>WALKING</b><br>Distance: 333m<br>Date: 2025-09-06<br>Time: 21:31 - 21:35<br>Duration: 0.1h<extra></extra>",
         "lat": [
          53.3598227,
          53.3594287
         ],
         "line": {
          "color": "#ff7f0e",
          "width": 4
         },
         "lon": [
          -6.2607558,
          -6.2559319
         ],
         "mode": "lines",
         "name": "WALKING",
         "showlegend": false,
         "type": "scattermap"
        },
        {
         "hovertemplate": "<b>WALKING</b><br>Distance: 1101m<br>Date: 2025-09-07<br>Time: 19:26 - 19:46<br>Duration: 0.3h<extra></extra>",
         "lat": [
          53.3586404,
          53.3589848
         ],
         "line": {
          "color": "#ff7f0e",
          "width": 4
         },
         "lon": [
          -6.25598,
          -6.2565397
         ],
         "mode": "lines",
         "name": "WALKING",
         "showlegend": false,
         "type": "scattermap"
        },
        {
         "hovertemplate": "<b>WALKING</b><br>Distance: 1393m<br>Date: 2025-09-08<br>Time: 17:13 - 17:33<br>Duration: 0.3h<extra></extra>",
         "lat": [
          53.3590576,
          53.3504641
         ],
         "line": {
          "color": "#ff7f0e",
          "width": 4
         },
         "lon": [
          -6.2560938,
          -6.2666198
         ],
         "mode": "lines",
         "name": "WALKING",
         "showlegend": false,
         "type": "scattermap"
        },
        {
         "hovertemplate": "<b>WALKING</b><br>Distance: 1255m<br>Date: 2025-09-08<br>Time: 21:01 - 21:25<br>Duration: 0.4h<extra></extra>",
         "lat": [
          53.3501541,
          53.3578358
         ],
         "line": {
          "color": "#ff7f0e",
          "width": 4
         },
         "lon": [
          -6.2671857,
          -6.2562286
         ],
         "mode": "lines",
         "name": "WALKING",
         "showlegend": false,
         "type": "scattermap"
        },
        {
         "hovertemplate": "<b>WALKING</b><br>Distance: 303m<br>Date: 2025-09-09<br>Time: 10:04 - 10:08<br>Duration: 0.1h<extra></extra>",
         "lat": [
          53.3591298,
          53.3601592
         ],
         "line": {
          "color": "#ff7f0e",
          "width": 4
         },
         "lon": [
          -6.2578052,
          -6.2608299
         ],
         "mode": "lines",
         "name": "WALKING",
         "showlegend": false,
         "type": "scattermap"
        },
        {
         "hovertemplate": "<b>WALKING</b><br>Distance: 1922m<br>Date: 2025-09-09<br>Time: 17:55 - 18:12<br>Duration: 0.3h<extra></extra>",
         "lat": [
          53.3433067,
          53.3511596
         ],
         "line": {
          "color": "#ff7f0e",
          "width": 4
         },
         "lon": [
          -6.2702283,
          -6.2633953
         ],
         "mode": "lines",
         "name": "WALKING",
         "showlegend": false,
         "type": "scattermap"
        },
        {
         "hovertemplate": "<b>WALKING</b><br>Distance: 248m<br>Date: 2025-09-09<br>Time: 18:38 - 18:42<br>Duration: 0.1h<extra></extra>",
         "lat": [
          53.3514358,
          53.3523366
         ],
         "line": {
          "color": "#ff7f0e",
          "width": 4
         },
         "lon": [
          -6.2635925,
          -6.2638834
         ],
         "mode": "lines",
         "name": "WALKING",
         "showlegend": false,
         "type": "scattermap"
        },
        {
         "hovertemplate": "<b>WALKING</b><br>Distance: 458m<br>Date: 2025-09-09<br>Time: 18:47 - 18:55<br>Duration: 0.1h<extra></extra>",
         "lat": [
          53.3596608,
          53.3591326
         ],
         "line": {
          "color": "#ff7f0e",
          "width": 4
         },
         "lon": [
          -6.2611287,
          -6.2578437
         ],
         "mode": "lines",
         "name": "WALKING",
         "showlegend": false,
         "type": "scattermap"
        },
        {
         "hovertemplate": "<b>WALKING</b><br>Distance: 449m<br>Date: 2025-09-10<br>Time: 15:32 - 15:44<br>Duration: 0.2h<extra></extra>",
         "lat": [
          53.3589381,
          53.3608923
         ],
         "line": {
          "color": "#ff7f0e",
          "width": 4
         },
         "lon": [
          -6.2567047,
          -6.2603082
         ],
         "mode": "lines",
         "name": "WALKING",
         "showlegend": false,
         "type": "scattermap"
        },
        {
         "hovertemplate": "<b>WALKING</b><br>Distance: 134m<br>Date: 2025-09-11<br>Time: 19:21 - 19:23<br>Duration: 0.0h<extra></extra>",
         "lat": [
          45.5391876,
          45.5397909
         ],
         "line": {
          "color": "#ff7f0e",
          "width": 4
         },
         "lon": [
          10.221989,
          10.2205051
         ],
         "mode": "lines",
         "name": "WALKING",
         "showlegend": false,
         "type": "scattermap"
        },
        {
         "hovertemplate": "<b>WALKING</b><br>Distance: 7394m<br>Date: 2025-09-13<br>Time: 16:30 - 19:30<br>Duration: 3.0h<extra></extra>",
         "lat": [
          43.9402131,
          43.9401901
         ],
         "line": {
          "color": "#ff7f0e",
          "width": 4
         },
         "lon": [
          12.4456206,
          12.4454653
         ],
         "mode": "lines",
         "name": "WALKING",
         "showlegend": false,
         "type": "scattermap"
        },
        {
         "hovertemplate": "<b>WALKING</b><br>Distance: 6000m<br>Date: 2025-09-14<br>Time: 17:12 - 22:12<br>Duration: 5.0h<extra></extra>",
         "lat": [
          43.7755215,
          43.7698564
         ],
         "line": {
          "color": "#ff7f0e",
          "width": 4
         },
         "lon": [
          11.2594728,
          11.2560681
         ],
         "mode": "lines",
         "name": "WALKING",
         "showlegend": false,
         "type": "scattermap"
        },
        {
         "hovertemplate": "<b>IN_TRAIN</b><br>Distance: 8818m<br>Date: 2025-06-14<br>Time: 17:42 - 18:06<br>Duration: 0.4h<extra></extra>",
         "lat": [
          43.2845619,
          43.2600782
         ],
         "line": {
          "color": "#636363",
          "width": 4
         },
         "lon": [
          -2.8653381,
          -2.9217405
         ],
         "mode": "lines",
         "name": "IN_TRAIN",
         "showlegend": true,
         "type": "scattermap"
        },
        {
         "hovertemplate": "<b>IN_TRAIN</b><br>Distance: 6756m<br>Date: 2025-06-14<br>Time: 22:24 - 22:38<br>Duration: 0.2h<extra></extra>",
         "lat": [
          43.2690662,
          43.2843999
         ],
         "line": {
          "color": "#636363",
          "width": 4
         },
         "lon": [
          -2.9253638,
          -2.8644891
         ],
         "mode": "lines",
         "name": "IN_TRAIN",
         "showlegend": false,
         "type": "scattermap"
        },
        {
         "hovertemplate": "<b>IN_TRAIN</b><br>Distance: 8994m<br>Date: 2025-06-15<br>Time: 11:41 - 12:05<br>Duration: 0.4h<extra></extra>",
         "lat": [
          43.2844909,
          43.2600797
         ],
         "line": {
          "color": "#636363",
          "width": 4
         },
         "lon": [
          -2.8649925,
          -2.9217949
         ],
         "mode": "lines",
         "name": "IN_TRAIN",
         "showlegend": false,
         "type": "scattermap"
        },
        {
         "hovertemplate": "<b>IN_TRAIN</b><br>Distance: 9864m<br>Date: 2025-06-15<br>Time: 20:00 - 20:24<br>Duration: 0.4h<extra></extra>",
         "lat": [
          43.2600868,
          43.2843729
         ],
         "line": {
          "color": "#636363",
          "width": 4
         },
         "lon": [
          -2.9217965,
          -2.8645244
         ],
         "mode": "lines",
         "name": "IN_TRAIN",
         "showlegend": false,
         "type": "scattermap"
        },
        {
         "hovertemplate": "<b>IN_TRAIN</b><br>Distance: 10664m<br>Date: 2025-06-20<br>Time: 17:12 - 17:35<br>Duration: 0.4h<extra></extra>",
         "lat": [
          43.2850784,
          43.2600788
         ],
         "line": {
          "color": "#636363",
          "width": 4
         },
         "lon": [
          -2.8690673,
          -2.9217612
         ],
         "mode": "lines",
         "name": "IN_TRAIN",
         "showlegend": false,
         "type": "scattermap"
        },
        {
         "hovertemplate": "<b>IN_TRAIN</b><br>Distance: 4255m<br>Date: 2025-06-23<br>Time: 08:21 - 08:32<br>Duration: 0.2h<extra></extra>",
         "lat": [
          43.2527784,
          43.2690162
         ],
         "line": {
          "color": "#636363",
          "width": 4
         },
         "lon": [
          -2.8896709,
          -2.9252023
         ],
         "mode": "lines",
         "name": "IN_TRAIN",
         "showlegend": false,
         "type": "scattermap"
        },
        {
         "hovertemplate": "<b>IN_TRAIN</b><br>Distance: 1104m<br>Date: 2025-06-27<br>Time: 12:49 - 12:51<br>Duration: 0.0h<extra></extra>",
         "lat": [
          52.4794559,
          52.4754407
         ],
         "line": {
          "color": "#636363",
          "width": 4
         },
         "lon": [
          13.3521347,
          13.3655241
         ],
         "mode": "lines",
         "name": "IN_TRAIN",
         "showlegend": false,
         "type": "scattermap"
        },
        {
         "hovertemplate": "<b>IN_TRAIN</b><br>Distance: 25682m<br>Date: 2025-06-27<br>Time: 13:08 - 13:52<br>Duration: 0.7h<extra></extra>",
         "lat": [
          52.4755654,
          52.3642983
         ],
         "line": {
          "color": "#636363",
          "width": 4
         },
         "lon": [
          13.3652974,
          13.5089392
         ],
         "mode": "lines",
         "name": "IN_TRAIN",
         "showlegend": false,
         "type": "scattermap"
        },
        {
         "hovertemplate": "<b>IN_TRAIN</b><br>Distance: 16834m<br>Date: 2025-07-11<br>Time: 18:21 - 18:43<br>Duration: 0.4h<extra></extra>",
         "lat": [
          48.8416794,
          48.8718284
         ],
         "line": {
          "color": "#636363",
          "width": 4
         },
         "lon": [
          2.5485657,
          2.3276513
         ],
         "mode": "lines",
         "name": "IN_TRAIN",
         "showlegend": false,
         "type": "scattermap"
        },
        {
         "hovertemplate": "<b>IN_TRAIN</b><br>Distance: 14921m<br>Date: 2025-07-11<br>Time: 22:37 - 22:55<br>Duration: 0.3h<extra></extra>",
         "lat": [
          48.8727274,
          48.8524988
         ],
         "line": {
          "color": "#636363",
          "width": 4
         },
         "lon": [
          2.3292454,
          2.5142747
         ],
         "mode": "lines",
         "name": "IN_TRAIN",
         "showlegend": false,
         "type": "scattermap"
        },
        {
         "hovertemplate": "<b>IN_TRAIN</b><br>Distance: 19358m<br>Date: 2025-07-12<br>Time: 11:22 - 11:50<br>Duration: 0.5h<extra></extra>",
         "lat": [
          48.8406908,
          48.8724014
         ],
         "line": {
          "color": "#636363",
          "width": 4
         },
         "lon": [
          2.5505926,
          2.3298562
         ],
         "mode": "lines",
         "name": "IN_TRAIN",
         "showlegend": false,
         "type": "scattermap"
        },
        {
         "hovertemplate": "<b>IN_TRAIN</b><br>Distance: 3344m<br>Date: 2025-07-12<br>Time: 17:33 - 17:39<br>Duration: 0.1h<extra></extra>",
         "lat": [
          48.8605458,
          48.855898
         ],
         "line": {
          "color": "#636363",
          "width": 4
         },
         "lon": [
          2.3253212,
          2.2901925
         ],
         "mode": "lines",
         "name": "IN_TRAIN",
         "showlegend": false,
         "type": "scattermap"
        },
        {
         "hovertemplate": "<b>IN_TRAIN</b><br>Distance: 8383m<br>Date: 2025-07-12<br>Time: 18:22 - 18:43<br>Duration: 0.3h<extra></extra>",
         "lat": [
          48.8567521,
          48.8306472
         ],
         "line": {
          "color": "#636363",
          "width": 4
         },
         "lon": [
          2.2894177,
          2.3771019
         ],
         "mode": "lines",
         "name": "IN_TRAIN",
         "showlegend": false,
         "type": "scattermap"
        },
        {
         "hovertemplate": "<b>IN_TRAIN</b><br>Distance: 10851m<br>Date: 2025-07-12<br>Time: 20:23 - 20:35<br>Duration: 0.2h<extra></extra>",
         "lat": [
          48.8433734,
          48.8572744
         ],
         "line": {
          "color": "#636363",
          "width": 4
         },
         "lon": [
          2.3750509,
          2.5015907
         ],
         "mode": "lines",
         "name": "IN_TRAIN",
         "showlegend": false,
         "type": "scattermap"
        },
        {
         "hovertemplate": "<b>IN_TRAIN</b><br>Distance: 14442m<br>Date: 2025-07-13<br>Time: 10:27 - 10:50<br>Duration: 0.4h<extra></extra>",
         "lat": [
          48.8522841,
          48.872519
         ],
         "line": {
          "color": "#636363",
          "width": 4
         },
         "lon": [
          2.5096735,
          2.3297771
         ],
         "mode": "lines",
         "name": "IN_TRAIN",
         "showlegend": false,
         "type": "scattermap"
        },
        {
         "hovertemplate": "<b>IN_TRAIN</b><br>Distance: 14503m<br>Date: 2025-07-13<br>Time: 16:19 - 16:40<br>Duration: 0.4h<extra></extra>",
         "lat": [
          48.8719705,
          48.8531185
         ],
         "line": {
          "color": "#636363",
          "width": 4
         },
         "lon": [
          2.3303636,
          2.5145399
         ],
         "mode": "lines",
         "name": "IN_TRAIN",
         "showlegend": false,
         "type": "scattermap"
        },
        {
         "hovertemplate": "<b>IN_TRAIN</b><br>Distance: 78386m<br>Date: 2025-07-31<br>Time: 02:49 - 03:39<br>Duration: 0.8h<extra></extra>",
         "lat": [
          48.3994003,
          48.8010998
         ],
         "line": {
          "color": "#636363",
          "width": 4
         },
         "lon": [
          9.9829355,
          9.2200114
         ],
         "mode": "lines",
         "name": "IN_TRAIN",
         "showlegend": false,
         "type": "scattermap"
        },
        {
         "hovertemplate": "<b>IN_TRAIN</b><br>Distance: 165412m<br>Date: 2025-07-31<br>Time: 03:45 - 05:05<br>Duration: 1.3h<extra></extra>",
         "lat": [
          48.8014241,
          50.0530276
         ],
         "line": {
          "color": "#636363",
          "width": 4
         },
         "lon": [
          9.2174632,
          8.5713368
         ],
         "mode": "lines",
         "name": "IN_TRAIN",
         "showlegend": false,
         "type": "scattermap"
        },
        {
         "hovertemplate": "<b>IN_TRAIN</b><br>Distance: 4215m<br>Date: 2025-08-03<br>Time: 10:47 - 11:01<br>Duration: 0.2h<extra></extra>",
         "lat": [
          50.1186305,
          50.1137828
         ],
         "line": {
          "color": "#636363",
          "width": 4
         },
         "lon": [
          8.63956,
          8.6787932
         ],
         "mode": "lines",
         "name": "IN_TRAIN",
         "showlegend": false,
         "type": "scattermap"
        },
        {
         "hovertemplate": "<b>IN_TRAIN</b><br>Distance: 2072m<br>Date: 2025-08-03<br>Time: 13:58 - 14:05<br>Duration: 0.1h<extra></extra>",
         "lat": [
          50.1073641,
          50.1189956
         ],
         "line": {
          "color": "#636363",
          "width": 4
         },
         "lon": [
          8.662501,
          8.6399397
         ],
         "mode": "lines",
         "name": "IN_TRAIN",
         "showlegend": false,
         "type": "scattermap"
        },
        {
         "hovertemplate": "<b>IN_TRAIN</b><br>Distance: 2945m<br>Date: 2025-08-04<br>Time: 15:16 - 15:21<br>Duration: 0.1h<extra></extra>",
         "lat": [
          50.1194105,
          50.1066624
         ],
         "line": {
          "color": "#636363",
          "width": 4
         },
         "lon": [
          8.63931,
          8.6613257
         ],
         "mode": "lines",
         "name": "IN_TRAIN",
         "showlegend": false,
         "type": "scattermap"
        },
        {
         "hovertemplate": "<b>IN_TRAIN</b><br>Distance: 52599m<br>Date: 2025-08-11<br>Time: 10:45 - 11:29<br>Duration: 0.7h<extra></extra>",
         "lat": [
          51.8892275,
          51.5184302
         ],
         "line": {
          "color": "#636363",
          "width": 4
         },
         "lon": [
          0.2622604,
          -0.0798036
         ],
         "mode": "lines",
         "name": "IN_TRAIN",
         "showlegend": false,
         "type": "scattermap"
        },
        {
         "hovertemplate": "<b>IN_TRAIN</b><br>Distance: 28607m<br>Date: 2025-08-15<br>Time: 16:58 - 17:32<br>Duration: 0.6h<extra></extra>",
         "lat": [
          51.5196178,
          51.4715616
         ],
         "line": {
          "color": "#636363",
          "width": 4
         },
         "lon": [
          -0.10371,
          -0.4552262
         ],
         "mode": "lines",
         "name": "IN_TRAIN",
         "showlegend": false,
         "type": "scattermap"
        },
        {
         "hovertemplate": "<b>RUNNING</b><br>Distance: 9755m<br>Date: 2025-06-16<br>Time: 18:29 - 19:29<br>Duration: 1.0h<extra></extra>",
         "lat": [
          43.2855358,
          43.2846942
         ],
         "line": {
          "color": "#8c564b",
          "width": 4
         },
         "lon": [
          -2.8642926,
          -2.8645689
         ],
         "mode": "lines",
         "name": "RUNNING",
         "showlegend": true,
         "type": "scattermap"
        },
        {
         "hovertemplate": "<b>RUNNING</b><br>Distance: 5121m<br>Date: 2025-06-18<br>Time: 20:09 - 20:46<br>Duration: 0.6h<extra></extra>",
         "lat": [
          43.2855027,
          43.2857912
         ],
         "line": {
          "color": "#8c564b",
          "width": 4
         },
         "lon": [
          -2.8643417,
          -2.8648194
         ],
         "mode": "lines",
         "name": "RUNNING",
         "showlegend": false,
         "type": "scattermap"
        },
        {
         "hovertemplate": "<b>RUNNING</b><br>Distance: 10533m<br>Date: 2025-06-28<br>Time: 14:13 - 16:56<br>Duration: 2.7h<extra></extra>",
         "lat": [
          43.3399983,
          43.3417726
         ],
         "line": {
          "color": "#8c564b",
          "width": 4
         },
         "lon": [
          -3.0144474,
          -3.0143203
         ],
         "mode": "lines",
         "name": "RUNNING",
         "showlegend": false,
         "type": "scattermap"
        },
        {
         "hovertemplate": "<b>RUNNING</b><br>Distance: 7090m<br>Date: 2025-06-30<br>Time: 18:28 - 19:12<br>Duration: 0.7h<extra></extra>",
         "lat": [
          43.2860841,
          43.2851053
         ],
         "line": {
          "color": "#8c564b",
          "width": 4
         },
         "lon": [
          -2.8641122,
          -2.8655063
         ],
         "mode": "lines",
         "name": "RUNNING",
         "showlegend": false,
         "type": "scattermap"
        },
        {
         "hovertemplate": "<b>RUNNING</b><br>Distance: 10383m<br>Date: 2025-07-07<br>Time: 16:27 - 17:29<br>Duration: 1.0h<extra></extra>",
         "lat": [
          46.1600239,
          46.160694
         ],
         "line": {
          "color": "#8c564b",
          "width": 4
         },
         "lon": [
          -1.1847477,
          -1.1846426
         ],
         "mode": "lines",
         "name": "RUNNING",
         "showlegend": false,
         "type": "scattermap"
        },
        {
         "hovertemplate": "<b>RUNNING</b><br>Distance: 6663m<br>Date: 2025-07-13<br>Time: 06:49 - 07:29<br>Duration: 0.7h<extra></extra>",
         "lat": [
          48.8540091,
          48.8538531
         ],
         "line": {
          "color": "#8c564b",
          "width": 4
         },
         "lon": [
          2.5393783,
          2.5406001
         ],
         "mode": "lines",
         "name": "RUNNING",
         "showlegend": false,
         "type": "scattermap"
        },
        {
         "hovertemplate": "<b>RUNNING</b><br>Distance: 8903m<br>Date: 2025-07-16<br>Time: 19:00 - 19:50<br>Duration: 0.8h<extra></extra>",
         "lat": [
          49.1803248,
          49.1805474
         ],
         "line": {
          "color": "#8c564b",
          "width": 4
         },
         "lon": [
          -0.3985467,
          -0.3980156
         ],
         "mode": "lines",
         "name": "RUNNING",
         "showlegend": false,
         "type": "scattermap"
        },
        {
         "hovertemplate": "<b>RUNNING</b><br>Distance: 11547m<br>Date: 2025-07-27<br>Time: 05:11 - 06:30<br>Duration: 1.3h<extra></extra>",
         "lat": [
          51.2350836,
          51.2326133
         ],
         "line": {
          "color": "#8c564b",
          "width": 4
         },
         "lon": [
          6.7715179,
          6.771953
         ],
         "mode": "lines",
         "name": "RUNNING",
         "showlegend": false,
         "type": "scattermap"
        },
        {
         "hovertemplate": "<b>RUNNING</b><br>Distance: 9046m<br>Date: 2025-08-01<br>Time: 05:47 - 06:38<br>Duration: 0.9h<extra></extra>",
         "lat": [
          50.1168118,
          50.1156421
         ],
         "line": {
          "color": "#8c564b",
          "width": 4
         },
         "lon": [
          8.6360164,
          8.6356841
         ],
         "mode": "lines",
         "name": "RUNNING",
         "showlegend": false,
         "type": "scattermap"
        },
        {
         "hovertemplate": "<b>RUNNING</b><br>Distance: 2003m<br>Date: 2025-08-03<br>Time: 08:42 - 08:57<br>Duration: 0.2h<extra></extra>",
         "lat": [
          50.1160735,
          50.1009569
         ],
         "line": {
          "color": "#8c564b",
          "width": 4
         },
         "lon": [
          8.6361285,
          8.636509
         ],
         "mode": "lines",
         "name": "RUNNING",
         "showlegend": false,
         "type": "scattermap"
        },
        {
         "hovertemplate": "<b>RUNNING</b><br>Distance: 1898m<br>Date: 2025-08-03<br>Time: 09:20 - 09:33<br>Duration: 0.2h<extra></extra>",
         "lat": [
          50.1000133,
          50.1155619
         ],
         "line": {
          "color": "#8c564b",
          "width": 4
         },
         "lon": [
          8.6368563,
          8.6360603
         ],
         "mode": "lines",
         "name": "RUNNING",
         "showlegend": false,
         "type": "scattermap"
        },
        {
         "hovertemplate": "<b>RUNNING</b><br>Distance: 9233m<br>Date: 2025-08-07<br>Time: 09:58 - 10:48<br>Duration: 0.8h<extra></extra>",
         "lat": [
          47.5896077,
          47.5865732
         ],
         "line": {
          "color": "#8c564b",
          "width": 4
         },
         "lon": [
          9.5740921,
          9.5564266
         ],
         "mode": "lines",
         "name": "RUNNING",
         "showlegend": false,
         "type": "scattermap"
        },
        {
         "hovertemplate": "<b>RUNNING</b><br>Distance: 4188m<br>Date: 2025-08-07<br>Time: 11:12 - 11:30<br>Duration: 0.3h<extra></extra>",
         "lat": [
          47.5861383,
          47.5894463
         ],
         "line": {
          "color": "#8c564b",
          "width": 4
         },
         "lon": [
          9.5564167,
          9.5733102
         ],
         "mode": "lines",
         "name": "RUNNING",
         "showlegend": false,
         "type": "scattermap"
        },
        {
         "hovertemplate": "<b>RUNNING</b><br>Distance: 3351m<br>Date: 2025-08-10<br>Time: 07:15 - 07:34<br>Duration: 0.3h<extra></extra>",
         "lat": [
          45.9693399,
          45.9818871
         ],
         "line": {
          "color": "#8c564b",
          "width": 4
         },
         "lon": [
          9.1926292,
          9.2196348
         ],
         "mode": "lines",
         "name": "RUNNING",
         "showlegend": false,
         "type": "scattermap"
        },
        {
         "hovertemplate": "<b>RUNNING</b><br>Distance: 3089m<br>Date: 2025-08-10<br>Time: 07:56 - 08:15<br>Duration: 0.3h<extra></extra>",
         "lat": [
          45.982017,
          45.9692866
         ],
         "line": {
          "color": "#8c564b",
          "width": 4
         },
         "lon": [
          9.2195589,
          9.1931283
         ],
         "mode": "lines",
         "name": "RUNNING",
         "showlegend": false,
         "type": "scattermap"
        },
        {
         "hovertemplate": "<b>RUNNING</b><br>Distance: 1263m<br>Date: 2025-08-12<br>Time: 06:13 - 06:20<br>Duration: 0.1h<extra></extra>",
         "lat": [
          51.5219778,
          51.5267826
         ],
         "line": {
          "color": "#8c564b",
          "width": 4
         },
         "lon": [
          -0.0734173,
          -0.064592
         ],
         "mode": "lines",
         "name": "RUNNING",
         "showlegend": false,
         "type": "scattermap"
        },
        {
         "hovertemplate": "<b>RUNNING</b><br>Distance: 1237m<br>Date: 2025-08-12<br>Time: 06:58 - 07:04<br>Duration: 0.1h<extra></extra>",
         "lat": [
          51.5265485,
          51.5228307
         ],
         "line": {
          "color": "#8c564b",
          "width": 4
         },
         "lon": [
          -0.0651403,
          -0.0753463
         ],
         "mode": "lines",
         "name": "RUNNING",
         "showlegend": false,
         "type": "scattermap"
        },
        {
         "hovertemplate": "<b>RUNNING</b><br>Distance: 6102m<br>Date: 2025-08-18<br>Time: 04:49 - 05:40<br>Duration: 0.8h<extra></extra>",
         "lat": [
          38.9997117,
          39.0021878
         ],
         "line": {
          "color": "#8c564b",
          "width": 4
         },
         "lon": [
          -0.1622779,
          -0.1606361
         ],
         "mode": "lines",
         "name": "RUNNING",
         "showlegend": false,
         "type": "scattermap"
        },
        {
         "hovertemplate": "<b>RUNNING</b><br>Distance: 7516m<br>Date: 2025-08-25<br>Time: 06:08 - 06:50<br>Duration: 0.7h<extra></extra>",
         "lat": [
          37.1059038,
          37.1067591
         ],
         "line": {
          "color": "#8c564b",
          "width": 4
         },
         "lon": [
          -8.3535745,
          -8.3550027
         ],
         "mode": "lines",
         "name": "RUNNING",
         "showlegend": false,
         "type": "scattermap"
        },
        {
         "hovertemplate": "<b>RUNNING</b><br>Distance: 9038m<br>Date: 2025-09-04<br>Time: 10:43 - 11:31<br>Duration: 0.8h<extra></extra>",
         "lat": [
          45.5124267,
          45.5114397
         ],
         "line": {
          "color": "#8c564b",
          "width": 4
         },
         "lon": [
          9.1608997,
          9.1598174
         ],
         "mode": "lines",
         "name": "RUNNING",
         "showlegend": false,
         "type": "scattermap"
        },
        {
         "hovertemplate": "<b>RUNNING</b><br>Distance: 2156m<br>Date: 2025-09-06<br>Time: 08:21 - 08:32<br>Duration: 0.2h<extra></extra>",
         "lat": [
          53.3590597,
          53.3647992
         ],
         "line": {
          "color": "#8c564b",
          "width": 4
         },
         "lon": [
          -6.2573184,
          -6.2818056
         ],
         "mode": "lines",
         "name": "RUNNING",
         "showlegend": false,
         "type": "scattermap"
        },
        {
         "hovertemplate": "<b>RUNNING</b><br>Distance: 1526m<br>Date: 2025-09-06<br>Time: 09:25 - 09:37<br>Duration: 0.2h<extra></extra>",
         "lat": [
          53.3644864,
          53.3598852
         ],
         "line": {
          "color": "#8c564b",
          "width": 4
         },
         "lon": [
          -6.2811313,
          -6.2611834
         ],
         "mode": "lines",
         "name": "RUNNING",
         "showlegend": false,
         "type": "scattermap"
        },
        {
         "hovertemplate": "<b>IN_BUS</b><br>Distance: 2477m<br>Date: 2025-06-21<br>Time: 12:48 - 12:56<br>Duration: 0.1h<extra></extra>",
         "lat": [
          43.3079802,
          43.3152943
         ],
         "line": {
          "color": "#636363",
          "width": 4
         },
         "lon": [
          -2.0092561,
          -1.9879252
         ],
         "mode": "lines",
         "name": "IN_BUS",
         "showlegend": true,
         "type": "scattermap"
        },
        {
         "hovertemplate": "<b>IN_BUS</b><br>Distance: 6442m<br>Date: 2025-06-22<br>Time: 11:33 - 11:49<br>Duration: 0.3h<extra></extra>",
         "lat": [
          43.3165422,
          43.320085
         ],
         "line": {
          "color": "#636363",
          "width": 4
         },
         "lon": [
          -3.0746692,
          -3.0207133
         ],
         "mode": "lines",
         "name": "IN_BUS",
         "showlegend": false,
         "type": "scattermap"
        },
        {
         "hovertemplate": "<b>IN_BUS</b><br>Distance: 17755m<br>Date: 2025-06-22<br>Time: 18:25 - 19:08<br>Duration: 0.7h<extra></extra>",
         "lat": [
          43.2577567,
          43.3129679
         ],
         "line": {
          "color": "#636363",
          "width": 4
         },
         "lon": [
          -2.94278,
          -3.0727637
         ],
         "mode": "lines",
         "name": "IN_BUS",
         "showlegend": false,
         "type": "scattermap"
        },
        {
         "hovertemplate": "<b>IN_BUS</b><br>Distance: 11528m<br>Date: 2025-06-23<br>Time: 14:29 - 14:48<br>Duration: 0.3h<extra></extra>",
         "lat": [
          43.2627163,
          43.3058574
         ],
         "line": {
          "color": "#636363",
          "width": 4
         },
         "lon": [
          -2.9344419,
          -2.9071993
         ],
         "mode": "lines",
         "name": "IN_BUS",
         "showlegend": false,
         "type": "scattermap"
        },
        {
         "hovertemplate": "<b>IN_BUS</b><br>Distance: 854m<br>Date: 2025-06-25<br>Time: 07:12 - 07:16<br>Duration: 0.1h<extra></extra>",
         "lat": [
          52.4860801,
          52.4855561
         ],
         "line": {
          "color": "#636363",
          "width": 4
         },
         "lon": [
          13.3324741,
          13.3440709
         ],
         "mode": "lines",
         "name": "IN_BUS",
         "showlegend": false,
         "type": "scattermap"
        },
        {
         "hovertemplate": "<b>IN_BUS</b><br>Distance: 8589m<br>Date: 2025-06-27<br>Time: 18:13 - 18:30<br>Duration: 0.3h<extra></extra>",
         "lat": [
          43.3053733,
          43.2635265
         ],
         "line": {
          "color": "#636363",
          "width": 4
         },
         "lon": [
          -2.9042168,
          -2.9375908
         ],
         "mode": "lines",
         "name": "IN_BUS",
         "showlegend": false,
         "type": "scattermap"
        },
        {
         "hovertemplate": "<b>IN_BUS</b><br>Distance: 2473m<br>Date: 2025-06-27<br>Time: 19:04 - 19:19<br>Duration: 0.2h<extra></extra>",
         "lat": [
          43.264943,
          43.2554811
         ],
         "line": {
          "color": "#636363",
          "width": 4
         },
         "lon": [
          -2.9440047,
          -2.9268161
         ],
         "mode": "lines",
         "name": "IN_BUS",
         "showlegend": false,
         "type": "scattermap"
        },
        {
         "hovertemplate": "<b>IN_BUS</b><br>Distance: 6368m<br>Date: 2025-06-28<br>Time: 13:04 - 13:24<br>Duration: 0.3h<extra></extra>",
         "lat": [
          43.3165133,
          43.3212939
         ],
         "line": {
          "color": "#636363",
          "width": 4
         },
         "lon": [
          -3.074625,
          -3.020391
         ],
         "mode": "lines",
         "name": "IN_BUS",
         "showlegend": false,
         "type": "scattermap"
        },
        {
         "hovertemplate": "<b>IN_BUS</b><br>Distance: 13867m<br>Date: 2025-06-28<br>Time: 19:19 - 19:36<br>Duration: 0.3h<extra></extra>",
         "lat": [
          43.2625614,
          43.3175652
         ],
         "line": {
          "color": "#636363",
          "width": 4
         },
         "lon": [
          -2.9498312,
          -3.0749547
         ],
         "mode": "lines",
         "name": "IN_BUS",
         "showlegend": false,
         "type": "scattermap"
        },
        {
         "hovertemplate": "<b>IN_BUS</b><br>Distance: 6455m<br>Date: 2025-06-29<br>Time: 13:34 - 13:48<br>Duration: 0.2h<extra></extra>",
         "lat": [
          43.3168319,
          43.3215234
         ],
         "line": {
          "color": "#636363",
          "width": 4
         },
         "lon": [
          -3.0746762,
          -3.0205233
         ],
         "mode": "lines",
         "name": "IN_BUS",
         "showlegend": false,
         "type": "scattermap"
        },
        {
         "hovertemplate": "<b>IN_BUS</b><br>Distance: 6192m<br>Date: 2025-06-29<br>Time: 18:05 - 18:23<br>Duration: 0.3h<extra></extra>",
         "lat": [
          43.3212751,
          43.3172929
         ],
         "line": {
          "color": "#636363",
          "width": 4
         },
         "lon": [
          -3.0204764,
          -3.0734926
         ],
         "mode": "lines",
         "name": "IN_BUS",
         "showlegend": false,
         "type": "scattermap"
        },
        {
         "hovertemplate": "<b>IN_BUS</b><br>Distance: 2661m<br>Date: 2025-07-04<br>Time: 16:18 - 16:25<br>Duration: 0.1h<extra></extra>",
         "lat": [
          43.4661057,
          43.4793244
         ],
         "line": {
          "color": "#636363",
          "width": 4
         },
         "lon": [
          -1.5369121,
          -1.5584026
         ],
         "mode": "lines",
         "name": "IN_BUS",
         "showlegend": false,
         "type": "scattermap"
        },
        {
         "hovertemplate": "<b>IN_BUS</b><br>Distance: 2437m<br>Date: 2025-07-04<br>Time: 22:05 - 22:09<br>Duration: 0.1h<extra></extra>",
         "lat": [
          43.4778923,
          43.46598
         ],
         "line": {
          "color": "#636363",
          "width": 4
         },
         "lon": [
          -1.5574019,
          -1.5385117
         ],
         "mode": "lines",
         "name": "IN_BUS",
         "showlegend": false,
         "type": "scattermap"
        },
        {
         "hovertemplate": "<b>IN_BUS</b><br>Distance: 7531m<br>Date: 2025-07-05<br>Time: 19:24 - 19:46<br>Duration: 0.4h<extra></extra>",
         "lat": [
          44.8447436,
          44.8365989
         ],
         "line": {
          "color": "#636363",
          "width": 4
         },
         "lon": [
          -0.5317844,
          -0.5660566
         ],
         "mode": "lines",
         "name": "IN_BUS",
         "showlegend": false,
         "type": "scattermap"
        },
        {
         "hovertemplate": "<b>IN_BUS</b><br>Distance: 6360m<br>Date: 2025-07-06<br>Time: 13:10 - 13:30<br>Duration: 0.3h<extra></extra>",
         "lat": [
          44.8350035,
          44.8488624
         ],
         "line": {
          "color": "#636363",
          "width": 4
         },
         "lon": [
          -0.5715319,
          -0.545595
         ],
         "mode": "lines",
         "name": "IN_BUS",
         "showlegend": false,
         "type": "scattermap"
        },
        {
         "hovertemplate": "<b>IN_BUS</b><br>Distance: 3408m<br>Date: 2025-07-11<br>Time: 17:46 - 18:02<br>Duration: 0.3h<extra></extra>",
         "lat": [
          48.8564551,
          48.8412567
         ],
         "line": {
          "color": "#636363",
          "width": 4
         },
         "lon": [
          2.5313373,
          2.5498112
         ],
         "mode": "lines",
         "name": "IN_BUS",
         "showlegend": false,
         "type": "scattermap"
        },
        {
         "hovertemplate": "<b>IN_BUS</b><br>Distance: 1366m<br>Date: 2025-07-11<br>Time: 23:07 - 23:13<br>Duration: 0.1h<extra></extra>",
         "lat": [
          48.8530041,
          48.8572686
         ],
         "line": {
          "color": "#636363",
          "width": 4
         },
         "lon": [
          2.5143356,
          2.5318298
         ],
         "mode": "lines",
         "name": "IN_BUS",
         "showlegend": false,
         "type": "scattermap"
        },
        {
         "hovertemplate": "<b>IN_BUS</b><br>Distance: 2493m<br>Date: 2025-07-12<br>Time: 11:02 - 11:18<br>Duration: 0.3h<extra></extra>",
         "lat": [
          48.8558889,
          48.8406908
         ],
         "line": {
          "color": "#636363",
          "width": 4
         },
         "lon": [
          2.5320004,
          2.5505926
         ],
         "mode": "lines",
         "name": "IN_BUS",
         "showlegend": false,
         "type": "scattermap"
        },
        {
         "hovertemplate": "<b>IN_BUS</b><br>Distance: 2551m<br>Date: 2025-07-12<br>Time: 13:03 - 13:24<br>Duration: 0.3h<extra></extra>",
         "lat": [
          48.8754299,
          48.8553231
         ],
         "line": {
          "color": "#636363",
          "width": 4
         },
         "lon": [
          2.340704,
          2.3458904
         ],
         "mode": "lines",
         "name": "IN_BUS",
         "showlegend": false,
         "type": "scattermap"
        },
        {
         "hovertemplate": "<b>IN_BUS</b><br>Distance: 1216m<br>Date: 2025-07-12<br>Time: 20:41 - 20:47<br>Duration: 0.1h<extra></extra>",
         "lat": [
          48.8534781,
          48.8577691
         ],
         "line": {
          "color": "#636363",
          "width": 4
         },
         "lon": [
          2.5170918,
          2.532227
         ],
         "mode": "lines",
         "name": "IN_BUS",
         "showlegend": false,
         "type": "scattermap"
        },
        {
         "hovertemplate": "<b>IN_BUS</b><br>Distance: 1264m<br>Date: 2025-07-13<br>Time: 10:13 - 10:21<br>Duration: 0.1h<extra></extra>",
         "lat": [
          48.8556594,
          48.8533633
         ],
         "line": {
          "color": "#636363",
          "width": 4
         },
         "lon": [
          2.5270876,
          2.5135817
         ],
         "mode": "lines",
         "name": "IN_BUS",
         "showlegend": false,
         "type": "scattermap"
        },
        {
         "hovertemplate": "<b>IN_BUS</b><br>Distance: 3548m<br>Date: 2025-07-13<br>Time: 12:17 - 12:35<br>Duration: 0.3h<extra></extra>",
         "lat": [
          48.8709972,
          48.848626
         ],
         "line": {
          "color": "#636363",
          "width": 4
         },
         "lon": [
          2.3321701,
          2.3289815
         ],
         "mode": "lines",
         "name": "IN_BUS",
         "showlegend": false,
         "type": "scattermap"
        },
        {
         "hovertemplate": "<b>IN_BUS</b><br>Distance: 2449m<br>Date: 2025-07-13<br>Time: 14:28 - 14:43<br>Duration: 0.2h<extra></extra>",
         "lat": [
          48.8551803,
          48.8713087
         ],
         "line": {
          "color": "#636363",
          "width": 4
         },
         "lon": [
          2.3338506,
          2.3311616
         ],
         "mode": "lines",
         "name": "IN_BUS",
         "showlegend": false,
         "type": "scattermap"
        },
        {
         "hovertemplate": "<b>IN_BUS</b><br>Distance: 1322m<br>Date: 2025-07-31<br>Time: 05:23 - 05:30<br>Duration: 0.1h<extra></extra>",
         "lat": [
          50.0516542,
          50.0516981
         ],
         "line": {
          "color": "#636363",
          "width": 4
         },
         "lon": [
          8.5735203,
          8.5860686
         ],
         "mode": "lines",
         "name": "IN_BUS",
         "showlegend": false,
         "type": "scattermap"
        },
        {
         "hovertemplate": "<b>IN_BUS</b><br>Distance: 78248m<br>Date: 2025-08-04<br>Time: 15:44 - 16:48<br>Duration: 1.1h<extra></extra>",
         "lat": [
          50.100455,
          49.4783331
         ],
         "line": {
          "color": "#636363",
          "width": 4
         },
         "lon": [
          8.6672817,
          8.4723726
         ],
         "mode": "lines",
         "name": "IN_BUS",
         "showlegend": false,
         "type": "scattermap"
        },
        {
         "hovertemplate": "<b>IN_BUS</b><br>Distance: 65491m<br>Date: 2025-08-04<br>Time: 17:00 - 17:51<br>Duration: 0.8h<extra></extra>",
         "lat": [
          49.4785388,
          48.9914338
         ],
         "line": {
          "color": "#636363",
          "width": 4
         },
         "lon": [
          8.4728847,
          8.4014216
         ],
         "mode": "lines",
         "name": "IN_BUS",
         "showlegend": false,
         "type": "scattermap"
        },
        {
         "hovertemplate": "<b>IN_BUS</b><br>Distance: 70905m<br>Date: 2025-08-04<br>Time: 18:09 - 19:03<br>Duration: 0.9h<extra></extra>",
         "lat": [
          48.9914715,
          48.6933493
         ],
         "line": {
          "color": "#636363",
          "width": 4
         },
         "lon": [
          8.4035674,
          9.1977909
         ],
         "mode": "lines",
         "name": "IN_BUS",
         "showlegend": false,
         "type": "scattermap"
        },
        {
         "hovertemplate": "<b>IN_BUS</b><br>Distance: 77756m<br>Date: 2025-08-04<br>Time: 19:05 - 20:16<br>Duration: 1.2h<extra></extra>",
         "lat": [
          48.6923844,
          48.4256999
         ],
         "line": {
          "color": "#636363",
          "width": 4
         },
         "lon": [
          9.1984888,
          10.0100136
         ],
         "mode": "lines",
         "name": "IN_BUS",
         "showlegend": false,
         "type": "scattermap"
        },
        {
         "hovertemplate": "<b>IN_BUS</b><br>Distance: 4296m<br>Date: 2025-08-04<br>Time: 20:39 - 20:50<br>Duration: 0.2h<extra></extra>",
         "lat": [
          48.4255661,
          48.3977338
         ],
         "line": {
          "color": "#636363",
          "width": 4
         },
         "lon": [
          10.0122506,
          9.9950795
         ],
         "mode": "lines",
         "name": "IN_BUS",
         "showlegend": false,
         "type": "scattermap"
        },
        {
         "hovertemplate": "<b>IN_BUS</b><br>Distance: 818m<br>Date: 2025-08-04<br>Time: 20:56 - 20:59<br>Duration: 0.1h<extra></extra>",
         "lat": [
          48.3976067,
          48.3979155
         ],
         "line": {
          "color": "#636363",
          "width": 4
         },
         "lon": [
          9.9945717,
          9.9844164
         ],
         "mode": "lines",
         "name": "IN_BUS",
         "showlegend": false,
         "type": "scattermap"
        },
        {
         "hovertemplate": "<b>IN_BUS</b><br>Distance: 6666m<br>Date: 2025-08-12<br>Time: 20:56 - 21:30<br>Duration: 0.6h<extra></extra>",
         "lat": [
          51.4992967,
          51.52223
         ],
         "line": {
          "color": "#636363",
          "width": 4
         },
         "lon": [
          -0.1304333,
          -0.0781631
         ],
         "mode": "lines",
         "name": "IN_BUS",
         "showlegend": false,
         "type": "scattermap"
        },
        {
         "hovertemplate": "<b>IN_BUS</b><br>Distance: 4178m<br>Date: 2025-08-14<br>Time: 20:06 - 20:37<br>Duration: 0.5h<extra></extra>",
         "lat": [
          51.5280083,
          51.5113359
         ],
         "line": {
          "color": "#636363",
          "width": 4
         },
         "lon": [
          -0.1744983,
          -0.1355901
         ],
         "mode": "lines",
         "name": "IN_BUS",
         "showlegend": false,
         "type": "scattermap"
        },
        {
         "hovertemplate": "<b>IN_BUS</b><br>Distance: 14803m<br>Date: 2025-08-14<br>Time: 22:41 - 23:16<br>Duration: 0.6h<extra></extra>",
         "lat": [
          51.4972449,
          51.5225617
         ],
         "line": {
          "color": "#636363",
          "width": 4
         },
         "lon": [
          -0.1375126,
          -0.078025
         ],
         "mode": "lines",
         "name": "IN_BUS",
         "showlegend": false,
         "type": "scattermap"
        },
        {
         "hovertemplate": "<b>IN_BUS</b><br>Distance: 2031m<br>Date: 2025-08-15<br>Time: 16:35 - 16:45<br>Duration: 0.2h<extra></extra>",
         "lat": [
          51.526874,
          51.522165
         ],
         "line": {
          "color": "#636363",
          "width": 4
         },
         "lon": [
          -0.0811611,
          -0.1057833
         ],
         "mode": "lines",
         "name": "IN_BUS",
         "showlegend": false,
         "type": "scattermap"
        },
        {
         "hovertemplate": "<b>IN_BUS</b><br>Distance: 10303m<br>Date: 2025-08-15<br>Time: 21:15 - 21:47<br>Duration: 0.5h<extra></extra>",
         "lat": [
          53.427659,
          53.3600117
         ],
         "line": {
          "color": "#636363",
          "width": 4
         },
         "lon": [
          -6.2403033,
          -6.2609767
         ],
         "mode": "lines",
         "name": "IN_BUS",
         "showlegend": false,
         "type": "scattermap"
        },
        {
         "hovertemplate": "<b>IN_BUS</b><br>Distance: 4321m<br>Date: 2025-08-16<br>Time: 12:57 - 13:24<br>Duration: 0.5h<extra></extra>",
         "lat": [
          53.3590451,
          53.3324383
         ],
         "line": {
          "color": "#636363",
          "width": 4
         },
         "lon": [
          -6.2622889,
          -6.2680483
         ],
         "mode": "lines",
         "name": "IN_BUS",
         "showlegend": false,
         "type": "scattermap"
        },
        {
         "hovertemplate": "<b>IN_BUS</b><br>Distance: 2700m<br>Date: 2025-08-16<br>Time: 15:18 - 15:41<br>Duration: 0.4h<extra></extra>",
         "lat": [
          53.3434694,
          53.3251568
         ],
         "line": {
          "color": "#636363",
          "width": 4
         },
         "lon": [
          -6.2644718,
          -6.2790669
         ],
         "mode": "lines",
         "name": "IN_BUS",
         "showlegend": false,
         "type": "scattermap"
        },
        {
         "hovertemplate": "<b>IN_BUS</b><br>Distance: 4541m<br>Date: 2025-08-16<br>Time: 19:25 - 20:01<br>Duration: 0.6h<extra></extra>",
         "lat": [
          53.3272277,
          53.3601014
         ],
         "line": {
          "color": "#636363",
          "width": 4
         },
         "lon": [
          -6.2774651,
          -6.2611328
         ],
         "mode": "lines",
         "name": "IN_BUS",
         "showlegend": false,
         "type": "scattermap"
        },
        {
         "hovertemplate": "<b>IN_BUS</b><br>Distance: 8225m<br>Date: 2025-08-17<br>Time: 05:07 - 05:35<br>Duration: 0.5h<extra></extra>",
         "lat": [
          53.3601609,
          53.4274648
         ],
         "line": {
          "color": "#636363",
          "width": 4
         },
         "lon": [
          -6.2609773,
          -6.2432875
         ],
         "mode": "lines",
         "name": "IN_BUS",
         "showlegend": false,
         "type": "scattermap"
        },
        {
         "hovertemplate": "<b>IN_BUS</b><br>Distance: 76165m<br>Date: 2025-08-23<br>Time: 05:43 - 06:42<br>Duration: 1.0h<extra></extra>",
         "lat": [
          38.9998078,
          39.4925626
         ],
         "line": {
          "color": "#636363",
          "width": 4
         },
         "lon": [
          -0.1632043,
          -0.4738165
         ],
         "mode": "lines",
         "name": "IN_BUS",
         "showlegend": false,
         "type": "scattermap"
        },
        {
         "hovertemplate": "<b>IN_BUS</b><br>Distance: 6307m<br>Date: 2025-09-03<br>Time: 21:25 - 21:49<br>Duration: 0.4h<extra></extra>",
         "lat": [
          45.4927742,
          45.5121287
         ],
         "line": {
          "color": "#636363",
          "width": 4
         },
         "lon": [
          9.1916603,
          9.1627208
         ],
         "mode": "lines",
         "name": "IN_BUS",
         "showlegend": false,
         "type": "scattermap"
        },
        {
         "hovertemplate": "<b>IN_BUS</b><br>Distance: 10634m<br>Date: 2025-09-04<br>Time: 19:45 - 20:11<br>Duration: 0.4h<extra></extra>",
         "lat": [
          53.4290153,
          53.3600732
         ],
         "line": {
          "color": "#636363",
          "width": 4
         },
         "lon": [
          -6.2417716,
          -6.2607517
         ],
         "mode": "lines",
         "name": "IN_BUS",
         "showlegend": false,
         "type": "scattermap"
        },
        {
         "hovertemplate": "<b>IN_BUS</b><br>Distance: 12856m<br>Date: 2025-09-06<br>Time: 13:47 - 14:30<br>Duration: 0.7h<extra></extra>",
         "lat": [
          53.3543257,
          53.388306
         ],
         "line": {
          "color": "#636363",
          "width": 4
         },
         "lon": [
          -6.2471834,
          -6.0704419
         ],
         "mode": "lines",
         "name": "IN_BUS",
         "showlegend": false,
         "type": "scattermap"
        },
        {
         "hovertemplate": "<b>IN_BUS</b><br>Distance: 12607m<br>Date: 2025-09-06<br>Time: 16:23 - 17:03<br>Duration: 0.7h<extra></extra>",
         "lat": [
          53.388288,
          53.3562883
         ],
         "line": {
          "color": "#636363",
          "width": 4
         },
         "lon": [
          -6.0704466,
          -6.244395
         ],
         "mode": "lines",
         "name": "IN_BUS",
         "showlegend": false,
         "type": "scattermap"
        },
        {
         "hovertemplate": "<b>IN_BUS</b><br>Distance: 6196m<br>Date: 2025-09-09<br>Time: 10:21 - 10:57<br>Duration: 0.6h<extra></extra>",
         "lat": [
          53.3599404,
          53.326355
         ],
         "line": {
          "color": "#636363",
          "width": 4
         },
         "lon": [
          -6.2607596,
          -6.277975
         ],
         "mode": "lines",
         "name": "IN_BUS",
         "showlegend": false,
         "type": "scattermap"
        },
        {
         "hovertemplate": "<b>IN_BUS</b><br>Distance: 981m<br>Date: 2025-09-09<br>Time: 18:42 - 18:47<br>Duration: 0.1h<extra></extra>",
         "lat": [
          53.352372,
          53.3591519
         ],
         "line": {
          "color": "#636363",
          "width": 4
         },
         "lon": [
          -6.2639132,
          -6.261581
         ],
         "mode": "lines",
         "name": "IN_BUS",
         "showlegend": false,
         "type": "scattermap"
        },
        {
         "hovertemplate": "<b>IN_BUS</b><br>Distance: 8162m<br>Date: 2025-09-10<br>Time: 15:44 - 16:38<br>Duration: 0.9h<extra></extra>",
         "lat": [
          53.3608923,
          53.4281324
         ],
         "line": {
          "color": "#636363",
          "width": 4
         },
         "lon": [
          -6.2603082,
          -6.2427667
         ],
         "mode": "lines",
         "name": "IN_BUS",
         "showlegend": false,
         "type": "scattermap"
        },
        {
         "hovertemplate": "<b>IN_SUBWAY</b><br>Distance: 9945m<br>Date: 2025-06-22<br>Time: 13:50 - 14:05<br>Duration: 0.3h<extra></extra>",
         "lat": [
          43.325861,
          43.2623678
         ],
         "line": {
          "color": "#636363",
          "width": 4
         },
         "lon": [
          -3.0094471,
          -2.9481938
         ],
         "mode": "lines",
         "name": "IN_SUBWAY",
         "showlegend": true,
         "type": "scattermap"
        },
        {
         "hovertemplate": "<b>IN_SUBWAY</b><br>Distance: 2897m<br>Date: 2025-06-23<br>Time: 14:06 - 14:14<br>Duration: 0.1h<extra></extra>",
         "lat": [
          43.2595885,
          43.2623708
         ],
         "line": {
          "color": "#636363",
          "width": 4
         },
         "lon": [
          -2.9209852,
          -2.9326729
         ],
         "mode": "lines",
         "name": "IN_SUBWAY",
         "showlegend": false,
         "type": "scattermap"
        },
        {
         "hovertemplate": "<b>IN_SUBWAY</b><br>Distance: 3382m<br>Date: 2025-06-28<br>Time: 08:46 - 08:52<br>Duration: 0.1h<extra></extra>",
         "lat": [
          43.2600791,
          43.2510454
         ],
         "line": {
          "color": "#636363",
          "width": 4
         },
         "lon": [
          -2.9217585,
          -2.889666
         ],
         "mode": "lines",
         "name": "IN_SUBWAY",
         "showlegend": false,
         "type": "scattermap"
        },
        {
         "hovertemplate": "<b>IN_SUBWAY</b><br>Distance: 19317m<br>Date: 2025-06-28<br>Time: 18:43 - 19:02<br>Duration: 0.3h<extra></extra>",
         "lat": [
          43.3257981,
          43.2625423
         ],
         "line": {
          "color": "#636363",
          "width": 4
         },
         "lon": [
          -3.0093755,
          -2.946121
         ],
         "mode": "lines",
         "name": "IN_SUBWAY",
         "showlegend": false,
         "type": "scattermap"
        },
        {
         "hovertemplate": "<b>IN_SUBWAY</b><br>Distance: 2360m<br>Date: 2025-07-12<br>Time: 20:07 - 20:11<br>Duration: 0.1h<extra></extra>",
         "lat": [
          48.8303264,
          48.8435981
         ],
         "line": {
          "color": "#636363",
          "width": 4
         },
         "lon": [
          2.3772396,
          2.3730305
         ],
         "mode": "lines",
         "name": "IN_SUBWAY",
         "showlegend": false,
         "type": "scattermap"
        },
        {
         "hovertemplate": "<b>IN_SUBWAY</b><br>Distance: 5483m<br>Date: 2025-07-31<br>Time: 17:41 - 17:53<br>Duration: 0.2h<extra></extra>",
         "lat": [
          50.1191918,
          50.1149593
         ],
         "line": {
          "color": "#636363",
          "width": 4
         },
         "lon": [
          8.6396423,
          8.6885238
         ],
         "mode": "lines",
         "name": "IN_SUBWAY",
         "showlegend": false,
         "type": "scattermap"
        },
        {
         "hovertemplate": "<b>IN_SUBWAY</b><br>Distance: 4329m<br>Date: 2025-08-14<br>Time: 12:50 - 13:03<br>Duration: 0.2h<extra></extra>",
         "lat": [
          51.5171081,
          51.5237837
         ],
         "line": {
          "color": "#636363",
          "width": 4
         },
         "lon": [
          -0.082344,
          -0.1437668
         ],
         "mode": "lines",
         "name": "IN_SUBWAY",
         "showlegend": false,
         "type": "scattermap"
        },
        {
         "hovertemplate": "<b>IN_SUBWAY</b><br>Distance: 1381m<br>Date: 2025-08-14<br>Time: 15:35 - 15:47<br>Duration: 0.2h<extra></extra>",
         "lat": [
          51.5205657,
          51.529531
         ],
         "line": {
          "color": "#636363",
          "width": 4
         },
         "lon": [
          -0.156903,
          -0.1700016
         ],
         "mode": "lines",
         "name": "IN_SUBWAY",
         "showlegend": false,
         "type": "scattermap"
        },
        {
         "hovertemplate": "<b>IN_SUBWAY</b><br>Distance: 7282m<br>Date: 2025-09-03<br>Time: 16:14 - 16:27<br>Duration: 0.2h<extra></extra>",
         "lat": [
          45.5136425,
          45.463849
         ],
         "line": {
          "color": "#636363",
          "width": 4
         },
         "lon": [
          9.1739486,
          9.1888386
         ],
         "mode": "lines",
         "name": "IN_SUBWAY",
         "showlegend": false,
         "type": "scattermap"
        },
        {
         "hovertemplate": "<b>IN_SUBWAY</b><br>Distance: 6758m<br>Date: 2025-09-03<br>Time: 19:08 - 19:28<br>Duration: 0.3h<extra></extra>",
         "lat": [
          45.4645959,
          45.4899247
         ],
         "line": {
          "color": "#636363",
          "width": 4
         },
         "lon": [
          9.1894379,
          9.1903944
         ],
         "mode": "lines",
         "name": "IN_SUBWAY",
         "showlegend": false,
         "type": "scattermap"
        },
        {
         "hovertemplate": "<b>FLYING</b><br>Distance: 1599039m<br>Date: 2025-06-23<br>Time: 18:44 - 21:20<br>Duration: 2.6h<extra></extra>",
         "lat": [
          43.3040408,
          52.3640287
         ],
         "line": {
          "color": "#8b4513",
          "width": 4
         },
         "lon": [
          -2.904863,
          13.502762
         ],
         "mode": "lines",
         "name": "FLYING",
         "showlegend": true,
         "type": "scattermap"
        },
        {
         "hovertemplate": "<b>FLYING</b><br>Distance: 1633660m<br>Date: 2025-06-27<br>Time: 15:33 - 18:02<br>Duration: 2.5h<extra></extra>",
         "lat": [
          52.3625451,
          43.3057624
         ],
         "line": {
          "color": "#8b4513",
          "width": 4
         },
         "lon": [
          13.5155319,
          -2.9071413
         ],
         "mode": "lines",
         "name": "FLYING",
         "showlegend": false,
         "type": "scattermap"
        },
        {
         "hovertemplate": "<b>FLYING</b><br>Distance: 1161795m<br>Date: 2025-08-11<br>Time: 08:15 - 10:26<br>Duration: 2.2h<extra></extra>",
         "lat": [
          44.530286,
          51.8928935
         ],
         "line": {
          "color": "#8b4513",
          "width": 4
         },
         "lon": [
          11.2942564,
          0.2609398
         ],
         "mode": "lines",
         "name": "FLYING",
         "showlegend": false,
         "type": "scattermap"
        },
        {
         "hovertemplate": "<b>FLYING</b><br>Distance: 450879m<br>Date: 2025-08-15<br>Time: 19:30 - 20:59<br>Duration: 1.5h<extra></extra>",
         "lat": [
          51.4683538,
          53.4260689
         ],
         "line": {
          "color": "#8b4513",
          "width": 4
         },
         "lon": [
          -0.4491835,
          -6.2447837
         ],
         "mode": "lines",
         "name": "FLYING",
         "showlegend": false,
         "type": "scattermap"
        },
        {
         "hovertemplate": "<b>FLYING</b><br>Distance: 1619012m<br>Date: 2025-08-17<br>Time: 06:42 - 09:20<br>Duration: 2.6h<extra></extra>",
         "lat": [
          53.4307118,
          39.4904203
         ],
         "line": {
          "color": "#8b4513",
          "width": 4
         },
         "lon": [
          -6.2467264,
          -0.4718074
         ],
         "mode": "lines",
         "name": "FLYING",
         "showlegend": false,
         "type": "scattermap"
        },
        {
         "hovertemplate": "<b>FLYING</b><br>Distance: 770121m<br>Date: 2025-08-23<br>Time: 09:35 - 11:42<br>Duration: 2.1h<extra></extra>",
         "lat": [
          39.4913447,
          38.7690306
         ],
         "line": {
          "color": "#8b4513",
          "width": 4
         },
         "lon": [
          -0.4747159,
          -9.1301841
         ],
         "mode": "lines",
         "name": "FLYING",
         "showlegend": false,
         "type": "scattermap"
        },
        {
         "hovertemplate": "<b>FLYING</b><br>Distance: 1000215m<br>Date: 2025-08-29<br>Time: 21:28 - 23:00<br>Duration: 1.5h<extra></extra>",
         "lat": [
          38.7655794,
          41.2909724
         ],
         "line": {
          "color": "#8b4513",
          "width": 4
         },
         "lon": [
          -9.1364843,
          2.0823033
         ],
         "mode": "lines",
         "name": "FLYING",
         "showlegend": false,
         "type": "scattermap"
        },
        {
         "hovertemplate": "<b>FLYING</b><br>Distance: 836686m<br>Date: 2025-08-30<br>Time: 03:50 - 05:17<br>Duration: 1.5h<extra></extra>",
         "lat": [
          41.302846,
          44.5295747
         ],
         "line": {
          "color": "#8b4513",
          "width": 4
         },
         "lon": [
          2.0743333,
          11.2917184
         ],
         "mode": "lines",
         "name": "FLYING",
         "showlegend": false,
         "type": "scattermap"
        },
        {
         "hovertemplate": "<b>FLYING</b><br>Distance: 1445554m<br>Date: 2025-09-04<br>Time: 17:06 - 19:24<br>Duration: 2.3h<extra></extra>",
         "lat": [
          45.6658991,
          53.4310467
         ],
         "line": {
          "color": "#8b4513",
          "width": 4
         },
         "lon": [
          9.7024576,
          -6.246803
         ],
         "mode": "lines",
         "name": "FLYING",
         "showlegend": false,
         "type": "scattermap"
        },
        {
         "hovertemplate": "<b>FLYING</b><br>Distance: 1441111m<br>Date: 2025-09-10<br>Time: 18:50 - 21:20<br>Duration: 2.5h<extra></extra>",
         "lat": [
          53.431671,
          45.6681814
         ],
         "line": {
          "color": "#8b4513",
          "width": 4
         },
         "lon": [
          -6.2478268,
          9.6913197
         ],
         "mode": "lines",
         "name": "FLYING",
         "showlegend": false,
         "type": "scattermap"
        },
        {
         "hovertemplate": "<b>IN_TRAM</b><br>Distance: 5179m<br>Date: 2025-07-31<br>Time: 20:39 - 20:52<br>Duration: 0.2h<extra></extra>",
         "lat": [
          50.1019698,
          50.1193752
         ],
         "line": {
          "color": "#636363",
          "width": 4
         },
         "lon": [
          8.690991,
          8.6395084
         ],
         "mode": "lines",
         "name": "IN_TRAM",
         "showlegend": true,
         "type": "scattermap"
        },
        {
         "hovertemplate": "<b>SAILING</b><br>Distance: 13947m<br>Date: 2025-08-24<br>Time: 09:02 - 10:34<br>Duration: 1.5h<extra></extra>",
         "lat": [
          38.5186169,
          38.4708883
         ],
         "line": {
          "color": "#636363",
          "width": 4
         },
         "lon": [
          -8.8997609,
          -8.984415
         ],
         "mode": "lines",
         "name": "SAILING",
         "showlegend": true,
         "type": "scattermap"
        },
        {
         "customdata": [
          "2025-06-10 17:55",
          "2025-06-10 18:07",
          "2025-06-10 18:28",
          "2025-06-10 20:41",
          "2025-06-10 23:27",
          "2025-06-11 07:28",
          "2025-06-11 07:47",
          "2025-06-11 16:43",
          "2025-06-12 14:38",
          "2025-06-12 16:45",
          "2025-06-12 17:36",
          "2025-06-12 20:07",
          "2025-06-13 08:02",
          "2025-06-13 08:12",
          "2025-06-13 14:32",
          "2025-06-13 15:26",
          "2025-06-13 18:44",
          "2025-06-14 09:08",
          "2025-06-14 12:38",
          "2025-06-14 13:44",
          "2025-06-14 15:26",
          "2025-06-14 17:42",
          "2025-06-14 18:06",
          "2025-06-14 21:30",
          "2025-06-14 22:24",
          "2025-06-14 22:38",
          "2025-06-15 07:47",
          "2025-06-15 08:07",
          "2025-06-15 08:16",
          "2025-06-15 11:41",
          "2025-06-15 12:05",
          "2025-06-15 13:53",
          "2025-06-15 14:35",
          "2025-06-15 20:00",
          "2025-06-16 07:16",
          "2025-06-16 07:34",
          "2025-06-16 11:50",
          "2025-06-16 12:19",
          "2025-06-16 17:48",
          "2025-06-16 18:29",
          "2025-06-17 11:31",
          "2025-06-17 13:01",
          "2025-06-18 10:11",
          "2025-06-18 10:30",
          "2025-06-18 20:09",
          "2025-06-19 07:32",
          "2025-06-19 07:45",
          "2025-06-19 08:14",
          "2025-06-19 11:08",
          "2025-06-19 12:09",
          "2025-06-19 13:36",
          "2025-06-19 14:13",
          "2025-06-19 14:35",
          "2025-06-19 16:15",
          "2025-06-19 17:03",
          "2025-06-19 18:09",
          "2025-06-19 18:34",
          "2025-06-20 07:59",
          "2025-06-20 15:49",
          "2025-06-20 17:12",
          "2025-06-20 17:35",
          "2025-06-20 20:59",
          "2025-06-20 22:22",
          "2025-06-21 08:30",
          "2025-06-21 08:48",
          "2025-06-21 09:39",
          "2025-06-21 09:48",
          "2025-06-21 10:56",
          "2025-06-21 12:38",
          "2025-06-21 12:48",
          "2025-06-21 12:56",
          "2025-06-22 08:28",
          "2025-06-22 11:00",
          "2025-06-22 11:33",
          "2025-06-22 11:49",
          "2025-06-22 13:02",
          "2025-06-22 13:50",
          "2025-06-22 14:05",
          "2025-06-22 14:50",
          "2025-06-22 17:39",
          "2025-06-22 18:25",
          "2025-06-22 19:08",
          "2025-06-23 07:19",
          "2025-06-23 08:10",
          "2025-06-23 08:21",
          "2025-06-23 11:08",
          "2025-06-23 14:06",
          "2025-06-23 14:14",
          "2025-06-23 14:29",
          "2025-06-23 18:44",
          "2025-06-23 21:26",
          "2025-06-23 21:30",
          "2025-06-24 07:24",
          "2025-06-24 10:06",
          "2025-06-24 10:46",
          "2025-06-24 15:21",
          "2025-06-24 17:02",
          "2025-06-24 19:46",
          "2025-06-25 07:00",
          "2025-06-25 07:12",
          "2025-06-25 11:22",
          "2025-06-25 11:36",
          "2025-06-25 12:07",
          "2025-06-25 16:23",
          "2025-06-26 11:13",
          "2025-06-26 16:10",
          "2025-06-26 17:46",
          "2025-06-26 19:50",
          "2025-06-26 22:26",
          "2025-06-27 06:47",
          "2025-06-27 10:50",
          "2025-06-27 11:25",
          "2025-06-27 12:37",
          "2025-06-27 12:49",
          "2025-06-27 13:08",
          "2025-06-27 15:33",
          "2025-06-27 18:13",
          "2025-06-27 19:04",
          "2025-06-27 19:19",
          "2025-06-28 08:17",
          "2025-06-28 08:46",
          "2025-06-28 08:52",
          "2025-06-28 09:34",
          "2025-06-28 10:13",
          "2025-06-28 10:58",
          "2025-06-28 11:17",
          "2025-06-28 12:50",
          "2025-06-28 13:04",
          "2025-06-28 13:24",
          "2025-06-28 13:36",
          "2025-06-28 14:13",
          "2025-06-28 17:48",
          "2025-06-28 18:43",
          "2025-06-28 19:02",
          "2025-06-28 19:19",
          "2025-06-28 19:36",
          "2025-06-29 11:39",
          "2025-06-29 13:17",
          "2025-06-29 13:34",
          "2025-06-29 13:48",
          "2025-06-29 17:38",
          "2025-06-29 18:05",
          "2025-06-29 18:23",
          "2025-06-30 05:35",
          "2025-06-30 11:44",
          "2025-06-30 12:03",
          "2025-06-30 12:50",
          "2025-06-30 17:26",
          "2025-06-30 18:28",
          "2025-07-01 05:42",
          "2025-07-01 09:46",
          "2025-07-01 10:38",
          "2025-07-01 16:17",
          "2025-07-01 17:15",
          "2025-07-01 17:54",
          "2025-07-01 18:37",
          "2025-07-02 16:10",
          "2025-07-02 17:25",
          "2025-07-03 05:04",
          "2025-07-03 05:32",
          "2025-07-03 11:58",
          "2025-07-03 12:20",
          "2025-07-04 16:07",
          "2025-07-04 16:18",
          "2025-07-04 16:25",
          "2025-07-04 19:08",
          "2025-07-04 20:12",
          "2025-07-04 21:30",
          "2025-07-04 22:05",
          "2025-07-04 22:09",
          "2025-07-05 10:40",
          "2025-07-05 13:04",
          "2025-07-05 16:54",
          "2025-07-05 17:12",
          "2025-07-05 18:13",
          "2025-07-05 19:24",
          "2025-07-05 19:46",
          "2025-07-05 22:40",
          "2025-07-06 00:07",
          "2025-07-06 00:38",
          "2025-07-06 10:07",
          "2025-07-06 10:17",
          "2025-07-06 11:04",
          "2025-07-06 12:12",
          "2025-07-06 13:10",
          "2025-07-06 13:30",
          "2025-07-06 13:58",
          "2025-07-06 14:20",
          "2025-07-06 16:13",
          "2025-07-06 18:03",
          "2025-07-07 10:48",
          "2025-07-07 11:13",
          "2025-07-07 16:27",
          "2025-07-07 17:29",
          "2025-07-07 19:10",
          "2025-07-08 17:11",
          "2025-07-08 17:13",
          "2025-07-08 17:40",
          "2025-07-08 17:44",
          "2025-07-08 17:55",
          "2025-07-08 20:29",
          "2025-07-09 17:51",
          "2025-07-09 18:51",
          "2025-07-09 21:44",
          "2025-07-10 16:41",
          "2025-07-10 18:16",
          "2025-07-10 18:50",
          "2025-07-10 19:09",
          "2025-07-10 19:47",
          "2025-07-10 20:26",
          "2025-07-10 22:56",
          "2025-07-11 06:29",
          "2025-07-11 17:22",
          "2025-07-11 17:46",
          "2025-07-11 18:21",
          "2025-07-11 18:53",
          "2025-07-11 21:31",
          "2025-07-11 22:02",
          "2025-07-11 22:37",
          "2025-07-11 23:07",
          "2025-07-11 23:13",
          "2025-07-12 10:46",
          "2025-07-12 11:02",
          "2025-07-12 11:22",
          "2025-07-12 11:50",
          "2025-07-12 13:03",
          "2025-07-12 14:11",
          "2025-07-12 15:40",
          "2025-07-12 17:33",
          "2025-07-12 17:39",
          "2025-07-12 18:22",
          "2025-07-12 18:43",
          "2025-07-12 19:58",
          "2025-07-12 20:07",
          "2025-07-12 20:23",
          "2025-07-12 20:41",
          "2025-07-12 20:47",
          "2025-07-13 06:49",
          "2025-07-13 09:40",
          "2025-07-13 10:13",
          "2025-07-13 10:27",
          "2025-07-13 10:50",
          "2025-07-13 12:17",
          "2025-07-13 12:35",
          "2025-07-13 12:56",
          "2025-07-13 13:55",
          "2025-07-13 14:28",
          "2025-07-13 14:43",
          "2025-07-13 16:02",
          "2025-07-13 16:19",
          "2025-07-13 16:44",
          "2025-07-13 19:38",
          "2025-07-14 03:34",
          "2025-07-15 17:50",
          "2025-07-15 18:49",
          "2025-07-15 19:04",
          "2025-07-15 21:45",
          "2025-07-16 15:14",
          "2025-07-16 15:39",
          "2025-07-16 16:20",
          "2025-07-16 18:17",
          "2025-07-16 19:00",
          "2025-07-17 15:46",
          "2025-07-17 16:17",
          "2025-07-17 16:40",
          "2025-07-17 17:03",
          "2025-07-17 17:31",
          "2025-07-17 18:20",
          "2025-07-17 19:29",
          "2025-07-17 20:43",
          "2025-07-18 05:48",
          "2025-07-18 10:51",
          "2025-07-18 12:05",
          "2025-07-18 12:10",
          "2025-07-18 17:29",
          "2025-07-18 17:49",
          "2025-07-18 22:27",
          "2025-07-19 10:24",
          "2025-07-19 10:45",
          "2025-07-19 11:40",
          "2025-07-19 12:18",
          "2025-07-19 13:01",
          "2025-07-19 13:47",
          "2025-07-19 16:46",
          "2025-07-19 17:31",
          "2025-07-19 18:04",
          "2025-07-20 07:08",
          "2025-07-20 09:33",
          "2025-07-20 10:45",
          "2025-07-20 10:50",
          "2025-07-20 13:20",
          "2025-07-20 15:21",
          "2025-07-20 16:01",
          "2025-07-20 18:07",
          "2025-07-20 19:26",
          "2025-07-20 20:55",
          "2025-07-20 21:23",
          "2025-07-21 10:22",
          "2025-07-21 10:38",
          "2025-07-21 11:18",
          "2025-07-21 11:40",
          "2025-07-21 12:01",
          "2025-07-21 16:08",
          "2025-07-21 17:34",
          "2025-07-22 09:55",
          "2025-07-22 16:29",
          "2025-07-22 19:20",
          "2025-07-22 22:02",
          "2025-07-22 22:14",
          "2025-07-23 19:47",
          "2025-07-23 20:14",
          "2025-07-23 21:38",
          "2025-07-23 22:08",
          "2025-07-24 08:35",
          "2025-07-24 08:51",
          "2025-07-24 09:47",
          "2025-07-24 09:58",
          "2025-07-24 19:36",
          "2025-07-24 19:48",
          "2025-07-24 20:33",
          "2025-07-25 05:33",
          "2025-07-25 07:49",
          "2025-07-25 16:49",
          "2025-07-25 19:08",
          "2025-07-25 22:29",
          "2025-07-26 08:26",
          "2025-07-26 09:49",
          "2025-07-26 12:50",
          "2025-07-26 12:57",
          "2025-07-26 14:41",
          "2025-07-26 16:57",
          "2025-07-26 18:06",
          "2025-07-26 18:46",
          "2025-07-27 05:11",
          "2025-07-27 06:30",
          "2025-07-27 10:37",
          "2025-07-27 13:14",
          "2025-07-27 15:10",
          "2025-07-27 16:43",
          "2025-07-28 17:11",
          "2025-07-28 17:19",
          "2025-07-29 09:52",
          "2025-07-29 10:35",
          "2025-07-30 14:51",
          "2025-07-30 15:19",
          "2025-07-30 15:53",
          "2025-07-31 02:30",
          "2025-07-31 02:49",
          "2025-07-31 03:45",
          "2025-07-31 05:23",
          "2025-07-31 09:21",
          "2025-07-31 17:31",
          "2025-07-31 17:41",
          "2025-07-31 17:53",
          "2025-07-31 20:27",
          "2025-07-31 20:39",
          "2025-07-31 20:52",
          "2025-08-01 05:47",
          "2025-08-02 17:39",
          "2025-08-02 21:35",
          "2025-08-03 08:42",
          "2025-08-03 09:20",
          "2025-08-03 10:37",
          "2025-08-03 10:47",
          "2025-08-03 11:01",
          "2025-08-03 13:58",
          "2025-08-03 14:07",
          "2025-08-04 15:03",
          "2025-08-04 15:16",
          "2025-08-04 15:44",
          "2025-08-04 17:00",
          "2025-08-04 18:09",
          "2025-08-04 19:05",
          "2025-08-04 20:39",
          "2025-08-04 20:56",
          "2025-08-04 20:59",
          "2025-08-04 21:36",
          "2025-08-05 16:42",
          "2025-08-05 17:08",
          "2025-08-06 16:10",
          "2025-08-06 16:40",
          "2025-08-06 16:55",
          "2025-08-06 18:24",
          "2025-08-06 18:33",
          "2025-08-06 19:11",
          "2025-08-07 09:58",
          "2025-08-07 11:12",
          "2025-08-07 18:43",
          "2025-08-07 18:52",
          "2025-08-07 19:53",
          "2025-08-08 11:11",
          "2025-08-09 05:22",
          "2025-08-09 06:15",
          "2025-08-09 11:17",
          "2025-08-09 16:30",
          "2025-08-09 17:54",
          "2025-08-09 18:41",
          "2025-08-10 07:15",
          "2025-08-10 07:56",
          "2025-08-10 09:39",
          "2025-08-10 09:42",
          "2025-08-10 10:09",
          "2025-08-10 14:42",
          "2025-08-10 15:46",
          "2025-08-10 15:57",
          "2025-08-10 16:53",
          "2025-08-10 19:32",
          "2025-08-10 22:44",
          "2025-08-11 06:35",
          "2025-08-11 08:15",
          "2025-08-11 10:45",
          "2025-08-11 11:29",
          "2025-08-11 12:09",
          "2025-08-11 12:24",
          "2025-08-11 16:47",
          "2025-08-11 17:26",
          "2025-08-11 19:16",
          "2025-08-12 06:13",
          "2025-08-12 06:58",
          "2025-08-12 07:34",
          "2025-08-12 11:08",
          "2025-08-12 11:55",
          "2025-08-12 17:31",
          "2025-08-12 20:10",
          "2025-08-12 20:56",
          "2025-08-12 21:30",
          "2025-08-13 07:33",
          "2025-08-13 11:49",
          "2025-08-13 12:12",
          "2025-08-13 19:13",
          "2025-08-13 20:30",
          "2025-08-13 20:45",
          "2025-08-13 21:21",
          "2025-08-14 07:33",
          "2025-08-14 12:36",
          "2025-08-14 12:50",
          "2025-08-14 13:03",
          "2025-08-14 15:17",
          "2025-08-14 15:35",
          "2025-08-14 20:06",
          "2025-08-14 21:35",
          "2025-08-14 22:41",
          "2025-08-14 23:16",
          "2025-08-15 09:53",
          "2025-08-15 10:58",
          "2025-08-15 16:11",
          "2025-08-15 16:35",
          "2025-08-15 16:58",
          "2025-08-15 17:32",
          "2025-08-15 19:30",
          "2025-08-15 21:15",
          "2025-08-15 21:47",
          "2025-08-16 12:00",
          "2025-08-16 12:19",
          "2025-08-16 12:57",
          "2025-08-16 14:32",
          "2025-08-16 15:18",
          "2025-08-16 15:41",
          "2025-08-16 19:13",
          "2025-08-16 19:25",
          "2025-08-16 20:01",
          "2025-08-16 20:44",
          "2025-08-16 21:15",
          "2025-08-17 04:58",
          "2025-08-17 05:07",
          "2025-08-17 06:42",
          "2025-08-17 09:42",
          "2025-08-17 17:59",
          "2025-08-17 21:01",
          "2025-08-18 04:49",
          "2025-08-18 05:40",
          "2025-08-19 15:32",
          "2025-08-19 18:39",
          "2025-08-19 21:13",
          "2025-08-20 05:10",
          "2025-08-20 18:58",
          "2025-08-20 20:51",
          "2025-08-20 21:20",
          "2025-08-21 21:37",
          "2025-08-21 22:41",
          "2025-08-21 23:31",
          "2025-08-22 15:18",
          "2025-08-22 17:17",
          "2025-08-22 18:30",
          "2025-08-22 21:06",
          "2025-08-22 21:39",
          "2025-08-23 05:43",
          "2025-08-23 06:42",
          "2025-08-23 09:35",
          "2025-08-23 12:07",
          "2025-08-23 12:54",
          "2025-08-23 13:21",
          "2025-08-23 14:01",
          "2025-08-23 15:11",
          "2025-08-23 18:47",
          "2025-08-23 19:19",
          "2025-08-23 23:34",
          "2025-08-24 06:39",
          "2025-08-24 07:06",
          "2025-08-24 09:02",
          "2025-08-24 12:12",
          "2025-08-24 13:50",
          "2025-08-24 16:05",
          "2025-08-25 06:08",
          "2025-08-25 17:50",
          "2025-08-25 19:03",
          "2025-08-26 16:31",
          "2025-08-26 16:59",
          "2025-08-27 18:02",
          "2025-08-27 22:49",
          "2025-08-27 22:57",
          "2025-08-28 18:54",
          "2025-08-29 09:36",
          "2025-08-29 09:52",
          "2025-08-29 17:31",
          "2025-08-29 18:43",
          "2025-08-29 21:28",
          "2025-08-29 23:34",
          "2025-08-30 03:50",
          "2025-08-30 05:41",
          "2025-08-30 12:04",
          "2025-08-30 13:09",
          "2025-08-30 16:39",
          "2025-08-30 17:53",
          "2025-08-31 07:43",
          "2025-08-31 10:16",
          "2025-08-31 12:32",
          "2025-08-31 15:55",
          "2025-08-31 17:59",
          "2025-08-31 18:32",
          "2025-08-31 18:53",
          "2025-09-01 16:00",
          "2025-09-01 17:04",
          "2025-09-02 16:18",
          "2025-09-02 17:21",
          "2025-09-02 17:48",
          "2025-09-02 18:47",
          "2025-09-02 19:32",
          "2025-09-02 20:03",
          "2025-09-02 20:52",
          "2025-09-03 10:31",
          "2025-09-03 11:27",
          "2025-09-03 15:52",
          "2025-09-03 16:14",
          "2025-09-03 16:27",
          "2025-09-03 19:08",
          "2025-09-03 21:12",
          "2025-09-03 21:25",
          "2025-09-04 10:43",
          "2025-09-04 11:31",
          "2025-09-04 14:41",
          "2025-09-04 14:48",
          "2025-09-04 15:58",
          "2025-09-04 17:06",
          "2025-09-04 19:41",
          "2025-09-04 19:45",
          "2025-09-04 20:11",
          "2025-09-05 06:29",
          "2025-09-05 06:37",
          "2025-09-05 15:45",
          "2025-09-05 16:26",
          "2025-09-06 08:21",
          "2025-09-06 09:25",
          "2025-09-06 09:42",
          "2025-09-06 13:33",
          "2025-09-06 13:47",
          "2025-09-06 14:30",
          "2025-09-06 16:23",
          "2025-09-06 17:03",
          "2025-09-06 21:24",
          "2025-09-06 21:31",
          "2025-09-07 19:26",
          "2025-09-08 17:13",
          "2025-09-08 21:01",
          "2025-09-09 10:04",
          "2025-09-09 10:21",
          "2025-09-09 17:40",
          "2025-09-09 17:55",
          "2025-09-09 18:38",
          "2025-09-09 18:42",
          "2025-09-09 18:47",
          "2025-09-10 15:32",
          "2025-09-10 15:44",
          "2025-09-10 18:50",
          "2025-09-10 22:03",
          "2025-09-10 23:28",
          "2025-09-11 00:15",
          "2025-09-11 11:26",
          "2025-09-11 12:04",
          "2025-09-11 18:01",
          "2025-09-11 19:21",
          "2025-09-11 19:47",
          "2025-09-11 20:33",
          "2025-09-12 15:03",
          "2025-09-12 15:14",
          "2025-09-12 16:35",
          "2025-09-13 10:13",
          "2025-09-13 13:21",
          "2025-09-13 16:30",
          "2025-09-14 09:06",
          "2025-09-14 09:36",
          "2025-09-14 16:45",
          "2025-09-14 17:12",
          "2025-09-14 22:36"
         ],
         "hovertemplate": "<b>Start Point</b><br>Activity: %{text}<br>Date: %{customdata}<extra></extra>",
         "lat": {
          "bdata": "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",
          "dtype": "f8"
         },
         "lon": {
          "bdata": "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",
          "dtype": "f8"
         },
         "marker": {
          "color": "#404040",
          "opacity": 0.8,
          "size": 6
         },
         "mode": "markers",
         "name": "Start Points",
         "text": [
          "IN_PASSENGER_VEHICLE",
          "IN_PASSENGER_VEHICLE",
          "IN_PASSENGER_VEHICLE",
          "IN_PASSENGER_VEHICLE",
          "IN_PASSENGER_VEHICLE",
          "IN_PASSENGER_VEHICLE",
          "IN_PASSENGER_VEHICLE",
          "IN_PASSENGER_VEHICLE",
          "IN_PASSENGER_VEHICLE",
          "IN_PASSENGER_VEHICLE",
          "IN_PASSENGER_VEHICLE",
          "IN_PASSENGER_VEHICLE",
          "IN_PASSENGER_VEHICLE",
          "CYCLING",
          "WALKING",
          "IN_PASSENGER_VEHICLE",
          "IN_PASSENGER_VEHICLE",
          "IN_PASSENGER_VEHICLE",
          "WALKING",
          "IN_PASSENGER_VEHICLE",
          "IN_PASSENGER_VEHICLE",
          "IN_TRAIN",
          "WALKING",
          "WALKING",
          "IN_TRAIN",
          "WALKING",
          "WALKING",
          "WALKING",
          "IN_PASSENGER_VEHICLE",
          "IN_TRAIN",
          "WALKING",
          "WALKING",
          "WALKING",
          "IN_TRAIN",
          "IN_PASSENGER_VEHICLE",
          "IN_PASSENGER_VEHICLE",
          "WALKING",
          "WALKING",
          "WALKING",
          "RUNNING",
          "WALKING",
          "WALKING",
          "WALKING",
          "WALKING",
          "RUNNING",
          "IN_PASSENGER_VEHICLE",
          "IN_PASSENGER_VEHICLE",
          "WALKING",
          "IN_PASSENGER_VEHICLE",
          "WALKING",
          "WALKING",
          "IN_PASSENGER_VEHICLE",
          "WALKING",
          "IN_PASSENGER_VEHICLE",
          "WALKING",
          "WALKING",
          "IN_PASSENGER_VEHICLE",
          "WALKING",
          "IN_PASSENGER_VEHICLE",
          "IN_TRAIN",
          "WALKING",
          "WALKING",
          "IN_PASSENGER_VEHICLE",
          "WALKING",
          "WALKING",
          "IN_PASSENGER_VEHICLE",
          "IN_PASSENGER_VEHICLE",
          "IN_PASSENGER_VEHICLE",
          "WALKING",
          "IN_BUS",
          "WALKING",
          "IN_PASSENGER_VEHICLE",
          "WALKING",
          "IN_BUS",
          "WALKING",
          "WALKING",
          "IN_SUBWAY",
          "WALKING",
          "WALKING",
          "WALKING",
          "IN_BUS",
          "WALKING",
          "IN_PASSENGER_VEHICLE",
          "WALKING",
          "IN_TRAIN",
          "WALKING",
          "IN_SUBWAY",
          "WALKING",
          "IN_BUS",
          "FLYING",
          "WALKING",
          "IN_PASSENGER_VEHICLE",
          "WALKING",
          "WALKING",
          "WALKING",
          "WALKING",
          "WALKING",
          "WALKING",
          "WALKING",
          "IN_BUS",
          "WALKING",
          "WALKING",
          "WALKING",
          "WALKING",
          "WALKING",
          "WALKING",
          "WALKING",
          "WALKING",
          "WALKING",
          "WALKING",
          "WALKING",
          "WALKING",
          "WALKING",
          "IN_TRAIN",
          "IN_TRAIN",
          "FLYING",
          "IN_BUS",
          "IN_BUS",
          "WALKING",
          "WALKING",
          "IN_SUBWAY",
          "WALKING",
          "IN_PASSENGER_VEHICLE",
          "WALKING",
          "WALKING",
          "IN_PASSENGER_VEHICLE",
          "WALKING",
          "IN_BUS",
          "WALKING",
          "WALKING",
          "RUNNING",
          "WALKING",
          "IN_SUBWAY",
          "WALKING",
          "IN_BUS",
          "WALKING",
          "WALKING",
          "WALKING",
          "IN_BUS",
          "WALKING",
          "WALKING",
          "IN_BUS",
          "WALKING",
          "IN_PASSENGER_VEHICLE",
          "IN_PASSENGER_VEHICLE",
          "WALKING",
          "IN_PASSENGER_VEHICLE",
          "IN_PASSENGER_VEHICLE",
          "RUNNING",
          "IN_PASSENGER_VEHICLE",
          "IN_PASSENGER_VEHICLE",
          "IN_PASSENGER_VEHICLE",
          "IN_PASSENGER_VEHICLE",
          "IN_PASSENGER_VEHICLE",
          "IN_PASSENGER_VEHICLE",
          "IN_PASSENGER_VEHICLE",
          "WALKING",
          "WALKING",
          "IN_PASSENGER_VEHICLE",
          "IN_PASSENGER_VEHICLE",
          "IN_PASSENGER_VEHICLE",
          "IN_PASSENGER_VEHICLE",
          "WALKING",
          "IN_BUS",
          "WALKING",
          "WALKING",
          "IN_PASSENGER_VEHICLE",
          "WALKING",
          "IN_BUS",
          "WALKING",
          "IN_PASSENGER_VEHICLE",
          "IN_PASSENGER_VEHICLE",
          "WALKING",
          "IN_PASSENGER_VEHICLE",
          "WALKING",
          "IN_BUS",
          "WALKING",
          "WALKING",
          "WALKING",
          "IN_PASSENGER_VEHICLE",
          "IN_PASSENGER_VEHICLE",
          "WALKING",
          "CYCLING",
          "WALKING",
          "IN_BUS",
          "WALKING",
          "IN_PASSENGER_VEHICLE",
          "IN_PASSENGER_VEHICLE",
          "IN_PASSENGER_VEHICLE",
          "IN_PASSENGER_VEHICLE",
          "WALKING",
          "WALKING",
          "RUNNING",
          "WALKING",
          "WALKING",
          "IN_PASSENGER_VEHICLE",
          "WALKING",
          "WALKING",
          "IN_PASSENGER_VEHICLE",
          "IN_PASSENGER_VEHICLE",
          "IN_PASSENGER_VEHICLE",
          "IN_PASSENGER_VEHICLE",
          "IN_PASSENGER_VEHICLE",
          "IN_PASSENGER_VEHICLE",
          "IN_PASSENGER_VEHICLE",
          "IN_PASSENGER_VEHICLE",
          "IN_PASSENGER_VEHICLE",
          "WALKING",
          "IN_PASSENGER_VEHICLE",
          "IN_PASSENGER_VEHICLE",
          "IN_PASSENGER_VEHICLE",
          "IN_PASSENGER_VEHICLE",
          "WALKING",
          "IN_BUS",
          "IN_TRAIN",
          "WALKING",
          "WALKING",
          "WALKING",
          "IN_TRAIN",
          "IN_BUS",
          "WALKING",
          "WALKING",
          "IN_BUS",
          "IN_TRAIN",
          "WALKING",
          "IN_BUS",
          "WALKING",
          "WALKING",
          "IN_TRAIN",
          "WALKING",
          "IN_TRAIN",
          "WALKING",
          "WALKING",
          "IN_SUBWAY",
          "IN_TRAIN",
          "IN_BUS",
          "WALKING",
          "RUNNING",
          "WALKING",
          "IN_BUS",
          "IN_TRAIN",
          "WALKING",
          "IN_BUS",
          "WALKING",
          "WALKING",
          "WALKING",
          "IN_BUS",
          "WALKING",
          "WALKING",
          "IN_TRAIN",
          "IN_PASSENGER_VEHICLE",
          "IN_PASSENGER_VEHICLE",
          "IN_PASSENGER_VEHICLE",
          "IN_PASSENGER_VEHICLE",
          "IN_PASSENGER_VEHICLE",
          "IN_PASSENGER_VEHICLE",
          "IN_PASSENGER_VEHICLE",
          "IN_PASSENGER_VEHICLE",
          "IN_PASSENGER_VEHICLE",
          "IN_PASSENGER_VEHICLE",
          "IN_PASSENGER_VEHICLE",
          "RUNNING",
          "IN_PASSENGER_VEHICLE",
          "IN_PASSENGER_VEHICLE",
          "IN_PASSENGER_VEHICLE",
          "IN_PASSENGER_VEHICLE",
          "CYCLING",
          "CYCLING",
          "CYCLING",
          "CYCLING",
          "IN_PASSENGER_VEHICLE",
          "IN_PASSENGER_VEHICLE",
          "WALKING",
          "IN_PASSENGER_VEHICLE",
          "CYCLING",
          "CYCLING",
          "CYCLING",
          "IN_PASSENGER_VEHICLE",
          "WALKING",
          "IN_PASSENGER_VEHICLE",
          "IN_PASSENGER_VEHICLE",
          "IN_PASSENGER_VEHICLE",
          "IN_PASSENGER_VEHICLE",
          "IN_PASSENGER_VEHICLE",
          "IN_PASSENGER_VEHICLE",
          "IN_PASSENGER_VEHICLE",
          "IN_PASSENGER_VEHICLE",
          "IN_PASSENGER_VEHICLE",
          "CYCLING",
          "WALKING",
          "CYCLING",
          "IN_PASSENGER_VEHICLE",
          "IN_PASSENGER_VEHICLE",
          "IN_PASSENGER_VEHICLE",
          "IN_PASSENGER_VEHICLE",
          "IN_PASSENGER_VEHICLE",
          "IN_PASSENGER_VEHICLE",
          "IN_PASSENGER_VEHICLE",
          "IN_PASSENGER_VEHICLE",
          "IN_PASSENGER_VEHICLE",
          "IN_PASSENGER_VEHICLE",
          "IN_PASSENGER_VEHICLE",
          "IN_PASSENGER_VEHICLE",
          "IN_PASSENGER_VEHICLE",
          "IN_PASSENGER_VEHICLE",
          "CYCLING",
          "WALKING",
          "WALKING",
          "CYCLING",
          "CYCLING",
          "CYCLING",
          "CYCLING",
          "CYCLING",
          "CYCLING",
          "CYCLING",
          "IN_PASSENGER_VEHICLE",
          "IN_PASSENGER_VEHICLE",
          "CYCLING",
          "WALKING",
          "CYCLING",
          "IN_PASSENGER_VEHICLE",
          "IN_PASSENGER_VEHICLE",
          "IN_PASSENGER_VEHICLE",
          "CYCLING",
          "WALKING",
          "IN_PASSENGER_VEHICLE",
          "IN_PASSENGER_VEHICLE",
          "IN_PASSENGER_VEHICLE",
          "WALKING",
          "WALKING",
          "WALKING",
          "WALKING",
          "WALKING",
          "RUNNING",
          "IN_PASSENGER_VEHICLE",
          "WALKING",
          "WALKING",
          "IN_PASSENGER_VEHICLE",
          "IN_PASSENGER_VEHICLE",
          "IN_PASSENGER_VEHICLE",
          "IN_PASSENGER_VEHICLE",
          "CYCLING",
          "CYCLING",
          "CYCLING",
          "CYCLING",
          "CYCLING",
          "CYCLING",
          "IN_TRAIN",
          "IN_TRAIN",
          "IN_BUS",
          "IN_PASSENGER_VEHICLE",
          "WALKING",
          "IN_SUBWAY",
          "WALKING",
          "WALKING",
          "IN_TRAM",
          "WALKING",
          "RUNNING",
          "IN_PASSENGER_VEHICLE",
          "IN_PASSENGER_VEHICLE",
          "RUNNING",
          "RUNNING",
          "WALKING",
          "IN_TRAIN",
          "WALKING",
          "IN_TRAIN",
          "WALKING",
          "WALKING",
          "IN_TRAIN",
          "IN_BUS",
          "IN_BUS",
          "IN_BUS",
          "IN_BUS",
          "IN_BUS",
          "IN_BUS",
          "WALKING",
          "CYCLING",
          "CYCLING",
          "CYCLING",
          "IN_PASSENGER_VEHICLE",
          "IN_PASSENGER_VEHICLE",
          "IN_PASSENGER_VEHICLE",
          "IN_PASSENGER_VEHICLE",
          "IN_PASSENGER_VEHICLE",
          "CYCLING",
          "RUNNING",
          "RUNNING",
          "IN_PASSENGER_VEHICLE",
          "IN_PASSENGER_VEHICLE",
          "WALKING",
          "CYCLING",
          "CYCLING",
          "IN_PASSENGER_VEHICLE",
          "WALKING",
          "WALKING",
          "WALKING",
          "WALKING",
          "RUNNING",
          "RUNNING",
          "IN_PASSENGER_VEHICLE",
          "WALKING",
          "WALKING",
          "WALKING",
          "WALKING",
          "IN_PASSENGER_VEHICLE",
          "IN_PASSENGER_VEHICLE",
          "IN_PASSENGER_VEHICLE",
          "IN_PASSENGER_VEHICLE",
          "IN_PASSENGER_VEHICLE",
          "FLYING",
          "IN_TRAIN",
          "WALKING",
          "WALKING",
          "WALKING",
          "WALKING",
          "WALKING",
          "WALKING",
          "RUNNING",
          "RUNNING",
          "WALKING",
          "WALKING",
          "WALKING",
          "WALKING",
          "WALKING",
          "IN_BUS",
          "WALKING",
          "WALKING",
          "WALKING",
          "WALKING",
          "WALKING",
          "IN_PASSENGER_VEHICLE",
          "WALKING",
          "WALKING",
          "WALKING",
          "WALKING",
          "IN_SUBWAY",
          "WALKING",
          "WALKING",
          "IN_SUBWAY",
          "IN_BUS",
          "WALKING",
          "IN_BUS",
          "WALKING",
          "WALKING",
          "WALKING",
          "WALKING",
          "IN_BUS",
          "IN_TRAIN",
          "WALKING",
          "FLYING",
          "IN_BUS",
          "WALKING",
          "WALKING",
          "WALKING",
          "IN_BUS",
          "WALKING",
          "IN_BUS",
          "WALKING",
          "WALKING",
          "IN_BUS",
          "WALKING",
          "WALKING",
          "WALKING",
          "WALKING",
          "IN_BUS",
          "FLYING",
          "IN_PASSENGER_VEHICLE",
          "WALKING",
          "WALKING",
          "RUNNING",
          "WALKING",
          "WALKING",
          "WALKING",
          "WALKING",
          "WALKING",
          "WALKING",
          "WALKING",
          "WALKING",
          "WALKING",
          "WALKING",
          "WALKING",
          "WALKING",
          "WALKING",
          "WALKING",
          "WALKING",
          "WALKING",
          "IN_BUS",
          "IN_PASSENGER_VEHICLE",
          "FLYING",
          "IN_PASSENGER_VEHICLE",
          "IN_PASSENGER_VEHICLE",
          "IN_PASSENGER_VEHICLE",
          "IN_PASSENGER_VEHICLE",
          "IN_PASSENGER_VEHICLE",
          "IN_PASSENGER_VEHICLE",
          "IN_PASSENGER_VEHICLE",
          "IN_PASSENGER_VEHICLE",
          "IN_PASSENGER_VEHICLE",
          "IN_PASSENGER_VEHICLE",
          "SAILING",
          "CYCLING",
          "IN_PASSENGER_VEHICLE",
          "IN_PASSENGER_VEHICLE",
          "RUNNING",
          "WALKING",
          "WALKING",
          "IN_PASSENGER_VEHICLE",
          "IN_PASSENGER_VEHICLE",
          "IN_PASSENGER_VEHICLE",
          "WALKING",
          "IN_PASSENGER_VEHICLE",
          "IN_PASSENGER_VEHICLE",
          "IN_PASSENGER_VEHICLE",
          "IN_PASSENGER_VEHICLE",
          "IN_PASSENGER_VEHICLE",
          "IN_PASSENGER_VEHICLE",
          "FLYING",
          "IN_PASSENGER_VEHICLE",
          "FLYING",
          "IN_PASSENGER_VEHICLE",
          "CYCLING",
          "CYCLING",
          "WALKING",
          "CYCLING",
          "IN_PASSENGER_VEHICLE",
          "IN_PASSENGER_VEHICLE",
          "IN_PASSENGER_VEHICLE",
          "CYCLING",
          "CYCLING",
          "CYCLING",
          "IN_PASSENGER_VEHICLE",
          "IN_PASSENGER_VEHICLE",
          "IN_PASSENGER_VEHICLE",
          "IN_PASSENGER_VEHICLE",
          "CYCLING",
          "CYCLING",
          "WALKING",
          "WALKING",
          "CYCLING",
          "CYCLING",
          "WALKING",
          "WALKING",
          "WALKING",
          "IN_SUBWAY",
          "WALKING",
          "IN_SUBWAY",
          "WALKING",
          "IN_BUS",
          "RUNNING",
          "WALKING",
          "IN_PASSENGER_VEHICLE",
          "IN_PASSENGER_VEHICLE",
          "IN_PASSENGER_VEHICLE",
          "FLYING",
          "IN_PASSENGER_VEHICLE",
          "IN_BUS",
          "WALKING",
          "WALKING",
          "WALKING",
          "WALKING",
          "WALKING",
          "RUNNING",
          "RUNNING",
          "WALKING",
          "WALKING",
          "IN_BUS",
          "WALKING",
          "IN_BUS",
          "WALKING",
          "WALKING",
          "WALKING",
          "WALKING",
          "WALKING",
          "WALKING",
          "WALKING",
          "IN_BUS",
          "IN_PASSENGER_VEHICLE",
          "WALKING",
          "WALKING",
          "IN_BUS",
          "WALKING",
          "WALKING",
          "IN_BUS",
          "FLYING",
          "IN_PASSENGER_VEHICLE",
          "IN_PASSENGER_VEHICLE",
          "IN_PASSENGER_VEHICLE",
          "CYCLING",
          "CYCLING",
          "CYCLING",
          "WALKING",
          "CYCLING",
          "CYCLING",
          "IN_PASSENGER_VEHICLE",
          "IN_PASSENGER_VEHICLE",
          "IN_PASSENGER_VEHICLE",
          "IN_PASSENGER_VEHICLE",
          "IN_PASSENGER_VEHICLE",
          "WALKING",
          "IN_PASSENGER_VEHICLE",
          "IN_PASSENGER_VEHICLE",
          "CYCLING",
          "WALKING",
          "CYCLING"
         ],
         "type": "scattermap"
        }
       ],
       "layout": {
        "height": 700,
        "legend": {
         "bgcolor": "rgba(255,255,255,0.8)",
         "x": 0.01,
         "xanchor": "left",
         "y": 0.99,
         "yanchor": "top"
        },
        "map": {
         "center": {
          "lat": 46.87911423410596,
          "lon": 1.388177462086093
         },
         "style": "open-street-map",
         "zoom": 5
        },
        "margin": {
         "b": 0,
         "l": 0,
         "r": 0,
         "t": 50
        },
        "template": {
         "data": {
          "bar": [
           {
            "error_x": {
             "color": "#2a3f5f"
            },
            "error_y": {
             "color": "#2a3f5f"
            },
            "marker": {
             "line": {
              "color": "#E5ECF6",
              "width": 0.5
             },
             "pattern": {
              "fillmode": "overlay",
              "size": 10,
              "solidity": 0.2
             }
            },
            "type": "bar"
           }
          ],
          "barpolar": [
           {
            "marker": {
             "line": {
              "color": "#E5ECF6",
              "width": 0.5
             },
             "pattern": {
              "fillmode": "overlay",
              "size": 10,
              "solidity": 0.2
             }
            },
            "type": "barpolar"
           }
          ],
          "carpet": [
           {
            "aaxis": {
             "endlinecolor": "#2a3f5f",
             "gridcolor": "white",
             "linecolor": "white",
             "minorgridcolor": "white",
             "startlinecolor": "#2a3f5f"
            },
            "baxis": {
             "endlinecolor": "#2a3f5f",
             "gridcolor": "white",
             "linecolor": "white",
             "minorgridcolor": "white",
             "startlinecolor": "#2a3f5f"
            },
            "type": "carpet"
           }
          ],
          "choropleth": [
           {
            "colorbar": {
             "outlinewidth": 0,
             "ticks": ""
            },
            "type": "choropleth"
           }
          ],
          "contour": [
           {
            "colorbar": {
             "outlinewidth": 0,
             "ticks": ""
            },
            "colorscale": [
             [
              0,
              "#0d0887"
             ],
             [
              0.1111111111111111,
              "#46039f"
             ],
             [
              0.2222222222222222,
              "#7201a8"
             ],
             [
              0.3333333333333333,
              "#9c179e"
             ],
             [
              0.4444444444444444,
              "#bd3786"
             ],
             [
              0.5555555555555556,
              "#d8576b"
             ],
             [
              0.6666666666666666,
              "#ed7953"
             ],
             [
              0.7777777777777778,
              "#fb9f3a"
             ],
             [
              0.8888888888888888,
              "#fdca26"
             ],
             [
              1,
              "#f0f921"
             ]
            ],
            "type": "contour"
           }
          ],
          "contourcarpet": [
           {
            "colorbar": {
             "outlinewidth": 0,
             "ticks": ""
            },
            "type": "contourcarpet"
           }
          ],
          "heatmap": [
           {
            "colorbar": {
             "outlinewidth": 0,
             "ticks": ""
            },
            "colorscale": [
             [
              0,
              "#0d0887"
             ],
             [
              0.1111111111111111,
              "#46039f"
             ],
             [
              0.2222222222222222,
              "#7201a8"
             ],
             [
              0.3333333333333333,
              "#9c179e"
             ],
             [
              0.4444444444444444,
              "#bd3786"
             ],
             [
              0.5555555555555556,
              "#d8576b"
             ],
             [
              0.6666666666666666,
              "#ed7953"
             ],
             [
              0.7777777777777778,
              "#fb9f3a"
             ],
             [
              0.8888888888888888,
              "#fdca26"
             ],
             [
              1,
              "#f0f921"
             ]
            ],
            "type": "heatmap"
           }
          ],
          "histogram": [
           {
            "marker": {
             "pattern": {
              "fillmode": "overlay",
              "size": 10,
              "solidity": 0.2
             }
            },
            "type": "histogram"
           }
          ],
          "histogram2d": [
           {
            "colorbar": {
             "outlinewidth": 0,
             "ticks": ""
            },
            "colorscale": [
             [
              0,
              "#0d0887"
             ],
             [
              0.1111111111111111,
              "#46039f"
             ],
             [
              0.2222222222222222,
              "#7201a8"
             ],
             [
              0.3333333333333333,
              "#9c179e"
             ],
             [
              0.4444444444444444,
              "#bd3786"
             ],
             [
              0.5555555555555556,
              "#d8576b"
             ],
             [
              0.6666666666666666,
              "#ed7953"
             ],
             [
              0.7777777777777778,
              "#fb9f3a"
             ],
             [
              0.8888888888888888,
              "#fdca26"
             ],
             [
              1,
              "#f0f921"
             ]
            ],
            "type": "histogram2d"
           }
          ],
          "histogram2dcontour": [
           {
            "colorbar": {
             "outlinewidth": 0,
             "ticks": ""
            },
            "colorscale": [
             [
              0,
              "#0d0887"
             ],
             [
              0.1111111111111111,
              "#46039f"
             ],
             [
              0.2222222222222222,
              "#7201a8"
             ],
             [
              0.3333333333333333,
              "#9c179e"
             ],
             [
              0.4444444444444444,
              "#bd3786"
             ],
             [
              0.5555555555555556,
              "#d8576b"
             ],
             [
              0.6666666666666666,
              "#ed7953"
             ],
             [
              0.7777777777777778,
              "#fb9f3a"
             ],
             [
              0.8888888888888888,
              "#fdca26"
             ],
             [
              1,
              "#f0f921"
             ]
            ],
            "type": "histogram2dcontour"
           }
          ],
          "mesh3d": [
           {
            "colorbar": {
             "outlinewidth": 0,
             "ticks": ""
            },
            "type": "mesh3d"
           }
          ],
          "parcoords": [
           {
            "line": {
             "colorbar": {
              "outlinewidth": 0,
              "ticks": ""
             }
            },
            "type": "parcoords"
           }
          ],
          "pie": [
           {
            "automargin": true,
            "type": "pie"
           }
          ],
          "scatter": [
           {
            "fillpattern": {
             "fillmode": "overlay",
             "size": 10,
             "solidity": 0.2
            },
            "type": "scatter"
           }
          ],
          "scatter3d": [
           {
            "line": {
             "colorbar": {
              "outlinewidth": 0,
              "ticks": ""
             }
            },
            "marker": {
             "colorbar": {
              "outlinewidth": 0,
              "ticks": ""
             }
            },
            "type": "scatter3d"
           }
          ],
          "scattercarpet": [
           {
            "marker": {
             "colorbar": {
              "outlinewidth": 0,
              "ticks": ""
             }
            },
            "type": "scattercarpet"
           }
          ],
          "scattergeo": [
           {
            "marker": {
             "colorbar": {
              "outlinewidth": 0,
              "ticks": ""
             }
            },
            "type": "scattergeo"
           }
          ],
          "scattergl": [
           {
            "marker": {
             "colorbar": {
              "outlinewidth": 0,
              "ticks": ""
             }
            },
            "type": "scattergl"
           }
          ],
          "scattermap": [
           {
            "marker": {
             "colorbar": {
              "outlinewidth": 0,
              "ticks": ""
             }
            },
            "type": "scattermap"
           }
          ],
          "scattermapbox": [
           {
            "marker": {
             "colorbar": {
              "outlinewidth": 0,
              "ticks": ""
             }
            },
            "type": "scattermapbox"
           }
          ],
          "scatterpolar": [
           {
            "marker": {
             "colorbar": {
              "outlinewidth": 0,
              "ticks": ""
             }
            },
            "type": "scatterpolar"
           }
          ],
          "scatterpolargl": [
           {
            "marker": {
             "colorbar": {
              "outlinewidth": 0,
              "ticks": ""
             }
            },
            "type": "scatterpolargl"
           }
          ],
          "scatterternary": [
           {
            "marker": {
             "colorbar": {
              "outlinewidth": 0,
              "ticks": ""
             }
            },
            "type": "scatterternary"
           }
          ],
          "surface": [
           {
            "colorbar": {
             "outlinewidth": 0,
             "ticks": ""
            },
            "colorscale": [
             [
              0,
              "#0d0887"
             ],
             [
              0.1111111111111111,
              "#46039f"
             ],
             [
              0.2222222222222222,
              "#7201a8"
             ],
             [
              0.3333333333333333,
              "#9c179e"
             ],
             [
              0.4444444444444444,
              "#bd3786"
             ],
             [
              0.5555555555555556,
              "#d8576b"
             ],
             [
              0.6666666666666666,
              "#ed7953"
             ],
             [
              0.7777777777777778,
              "#fb9f3a"
             ],
             [
              0.8888888888888888,
              "#fdca26"
             ],
             [
              1,
              "#f0f921"
             ]
            ],
            "type": "surface"
           }
          ],
          "table": [
           {
            "cells": {
             "fill": {
              "color": "#EBF0F8"
             },
             "line": {
              "color": "white"
             }
            },
            "header": {
             "fill": {
              "color": "#C8D4E3"
             },
             "line": {
              "color": "white"
             }
            },
            "type": "table"
           }
          ]
         },
         "layout": {
          "annotationdefaults": {
           "arrowcolor": "#2a3f5f",
           "arrowhead": 0,
           "arrowwidth": 1
          },
          "autotypenumbers": "strict",
          "coloraxis": {
           "colorbar": {
            "outlinewidth": 0,
            "ticks": ""
           }
          },
          "colorscale": {
           "diverging": [
            [
             0,
             "#8e0152"
            ],
            [
             0.1,
             "#c51b7d"
            ],
            [
             0.2,
             "#de77ae"
            ],
            [
             0.3,
             "#f1b6da"
            ],
            [
             0.4,
             "#fde0ef"
            ],
            [
             0.5,
             "#f7f7f7"
            ],
            [
             0.6,
             "#e6f5d0"
            ],
            [
             0.7,
             "#b8e186"
            ],
            [
             0.8,
             "#7fbc41"
            ],
            [
             0.9,
             "#4d9221"
            ],
            [
             1,
             "#276419"
            ]
           ],
           "sequential": [
            [
             0,
             "#0d0887"
            ],
            [
             0.1111111111111111,
             "#46039f"
            ],
            [
             0.2222222222222222,
             "#7201a8"
            ],
            [
             0.3333333333333333,
             "#9c179e"
            ],
            [
             0.4444444444444444,
             "#bd3786"
            ],
            [
             0.5555555555555556,
             "#d8576b"
            ],
            [
             0.6666666666666666,
             "#ed7953"
            ],
            [
             0.7777777777777778,
             "#fb9f3a"
            ],
            [
             0.8888888888888888,
             "#fdca26"
            ],
            [
             1,
             "#f0f921"
            ]
           ],
           "sequentialminus": [
            [
             0,
             "#0d0887"
            ],
            [
             0.1111111111111111,
             "#46039f"
            ],
            [
             0.2222222222222222,
             "#7201a8"
            ],
            [
             0.3333333333333333,
             "#9c179e"
            ],
            [
             0.4444444444444444,
             "#bd3786"
            ],
            [
             0.5555555555555556,
             "#d8576b"
            ],
            [
             0.6666666666666666,
             "#ed7953"
            ],
            [
             0.7777777777777778,
             "#fb9f3a"
            ],
            [
             0.8888888888888888,
             "#fdca26"
            ],
            [
             1,
             "#f0f921"
            ]
           ]
          },
          "colorway": [
           "#636efa",
           "#EF553B",
           "#00cc96",
           "#ab63fa",
           "#FFA15A",
           "#19d3f3",
           "#FF6692",
           "#B6E880",
           "#FF97FF",
           "#FECB52"
          ],
          "font": {
           "color": "#2a3f5f"
          },
          "geo": {
           "bgcolor": "white",
           "lakecolor": "white",
           "landcolor": "#E5ECF6",
           "showlakes": true,
           "showland": true,
           "subunitcolor": "white"
          },
          "hoverlabel": {
           "align": "left"
          },
          "hovermode": "closest",
          "mapbox": {
           "style": "light"
          },
          "paper_bgcolor": "white",
          "plot_bgcolor": "#E5ECF6",
          "polar": {
           "angularaxis": {
            "gridcolor": "white",
            "linecolor": "white",
            "ticks": ""
           },
           "bgcolor": "#E5ECF6",
           "radialaxis": {
            "gridcolor": "white",
            "linecolor": "white",
            "ticks": ""
           }
          },
          "scene": {
           "xaxis": {
            "backgroundcolor": "#E5ECF6",
            "gridcolor": "white",
            "gridwidth": 2,
            "linecolor": "white",
            "showbackground": true,
            "ticks": "",
            "zerolinecolor": "white"
           },
           "yaxis": {
            "backgroundcolor": "#E5ECF6",
            "gridcolor": "white",
            "gridwidth": 2,
            "linecolor": "white",
            "showbackground": true,
            "ticks": "",
            "zerolinecolor": "white"
           },
           "zaxis": {
            "backgroundcolor": "#E5ECF6",
            "gridcolor": "white",
            "gridwidth": 2,
            "linecolor": "white",
            "showbackground": true,
            "ticks": "",
            "zerolinecolor": "white"
           }
          },
          "shapedefaults": {
           "line": {
            "color": "#2a3f5f"
           }
          },
          "ternary": {
           "aaxis": {
            "gridcolor": "white",
            "linecolor": "white",
            "ticks": ""
           },
           "baxis": {
            "gridcolor": "white",
            "linecolor": "white",
            "ticks": ""
           },
           "bgcolor": "#E5ECF6",
           "caxis": {
            "gridcolor": "white",
            "linecolor": "white",
            "ticks": ""
           }
          },
          "title": {
           "x": 0.05
          },
          "xaxis": {
           "automargin": true,
           "gridcolor": "white",
           "linecolor": "white",
           "ticks": "",
           "title": {
            "standoff": 15
           },
           "zerolinecolor": "white",
           "zerolinewidth": 2
          },
          "yaxis": {
           "automargin": true,
           "gridcolor": "white",
           "linecolor": "white",
           "ticks": "",
           "title": {
            "standoff": 15
           },
           "zerolinecolor": "white",
           "zerolinewidth": 2
          }
         }
        },
        "title": {
         "text": "Van Journey Activity Map (604 activities)"
        }
       }
      }
     },
     "metadata": {},
     "output_type": "display_data"
    }
   ],
   "source": [
    "import plotly.graph_objects as go\n",
    "from datetime import datetime\n",
    "import ipywidgets as widgets\n",
    "from IPython.display import display\n",
    "\n",
    "# Enhanced color mapping with proper transportation colors\n",
    "color_map = {\n",
    "    'IN_PASSENGER_VEHICLE': '#1f77b4',  # Blue - car/bus\n",
    "    'CYCLING': '#2ca02c',               # Green - cycling  \n",
    "    'WALKING': '#ff7f0e',               # Orange - walking\n",
    "    'IN_VEHICLE': '#d62728',            # Red - general vehicle\n",
    "    'ON_FOOT': '#9467bd',               # Purple - on foot\n",
    "    'RUNNING': '#8c564b',               # Brown - running\n",
    "    'IN_ROAD_VEHICLE': '#e377c2',       # Pink - road vehicle\n",
    "    'IN_RAIL_VEHICLE': '#7f7f7f',       # Gray - train\n",
    "    'MOTORCYCLING': '#bcbd22',          # Olive - motorcycle\n",
    "    'FLYING': '#8b4513'                 # Brown - flying\n",
    "}\n",
    "\n",
    "def create_activity_map(start_date=None, end_date=None):\n",
    "    # Filter data by date range\n",
    "    df_filtered = activity_final.copy()\n",
    "    \n",
    "    if start_date:\n",
    "        df_filtered = df_filtered[df_filtered['startTime'].dt.date >= start_date]\n",
    "    if end_date:\n",
    "        df_filtered = df_filtered[df_filtered['startTime'].dt.date <= end_date]\n",
    "    \n",
    "    if df_filtered.empty:\n",
    "        print(\"No data found for the selected date range\")\n",
    "        return\n",
    "    \n",
    "    fig = go.Figure()\n",
    "    \n",
    "    # Add lines for each activity type\n",
    "    for activity_type in df_filtered['topCandidate.type'].unique():\n",
    "        if pd.notna(activity_type):\n",
    "            df_type = df_filtered[df_filtered['topCandidate.type'] == activity_type]\n",
    "            \n",
    "            for idx, row in df_type.iterrows():\n",
    "                if pd.notna(row['start_latitude']) and pd.notna(row['end_latitude']):\n",
    "                    # Add line\n",
    "                    fig.add_trace(go.Scattermap(\n",
    "                        mode=\"lines\",\n",
    "                        lon=[row['start_longitude'], row['end_longitude']],\n",
    "                        lat=[row['start_latitude'], row['end_latitude']],\n",
    "                        name=activity_type,\n",
    "                        showlegend=bool(idx == df_type.index[0]),\n",
    "                        line=dict(width=4, color=color_map.get(activity_type, '#636363')),\n",
    "                        hovertemplate=f\"<b>{activity_type}</b><br>\" +\n",
    "                                    f\"Distance: {row['distanceMeters']:.0f}m<br>\" +\n",
    "                                    f\"Date: {row['startTime'].strftime('%Y-%m-%d')}<br>\" +\n",
    "                                    f\"Time: {row['startTime'].strftime('%H:%M')} - {row['endTime'].strftime('%H:%M')}<br>\" +\n",
    "                                    f\"Duration: {(row['endTime'] - row['startTime']).total_seconds()/3600:.1f}h<extra></extra>\"\n",
    "                    ))\n",
    "    \n",
    "    # Add start points with smaller markers\n",
    "    fig.add_trace(go.Scattermap(\n",
    "        mode=\"markers\",\n",
    "        lon=df_filtered['start_longitude'],\n",
    "        lat=df_filtered['start_latitude'],\n",
    "        marker=dict(size=6, color='#404040', opacity=0.8),\n",
    "        name=\"Start Points\",\n",
    "        hovertemplate=\"<b>Start Point</b><br>Activity: %{text}<br>Date: %{customdata}<extra></extra>\",\n",
    "        text=df_filtered['topCandidate.type'],\n",
    "        customdata=df_filtered['startTime'].dt.strftime('%Y-%m-%d %H:%M')\n",
    "    ))\n",
    "    \n",
    "    # Update layout\n",
    "    fig.update_layout(\n",
    "        map=dict(\n",
    "            style=\"open-street-map\",\n",
    "            center=dict(\n",
    "                lat=df_filtered['start_latitude'].mean(),\n",
    "                lon=df_filtered['start_longitude'].mean()\n",
    "            ),\n",
    "            zoom=5\n",
    "        ),\n",
    "        title=f\"Van Journey Activity Map ({len(df_filtered)} activities)\",\n",
    "        height=700,\n",
    "        margin={\"r\":0,\"t\":50,\"l\":0,\"b\":0},\n",
    "        legend=dict(\n",
    "            yanchor=\"top\",\n",
    "            y=0.99,\n",
    "            xanchor=\"left\",\n",
    "            x=0.01,\n",
    "            bgcolor=\"rgba(255,255,255,0.8)\"\n",
    "        )\n",
    "    )\n",
    "    \n",
    "    return fig\n",
    "\n",
    "# Get date range from data\n",
    "min_date = activity_final['startTime'].dt.date.min()\n",
    "max_date = activity_final['startTime'].dt.date.max()\n",
    "\n",
    "print(f\"Data available from {min_date} to {max_date}\")\n",
    "print(f\"Total activities: {len(activity_final)}\")\n",
    "\n",
    "# Create date picker widgets\n",
    "start_date_picker = widgets.DatePicker(\n",
    "    description='Start Date:',\n",
    "    value=min_date,\n",
    "    style={'description_width': 'initial'}\n",
    ")\n",
    "\n",
    "end_date_picker = widgets.DatePicker(\n",
    "    description='End Date:',\n",
    "    value=max_date,\n",
    "    style={'description_width': 'initial'}\n",
    ")\n",
    "\n",
    "# Create button to update map\n",
    "update_button = widgets.Button(\n",
    "    description='Update Map',\n",
    "    button_style='success'\n",
    ")\n",
    "\n",
    "def on_button_click(b):\n",
    "    fig = create_activity_map(start_date_picker.value, end_date_picker.value)\n",
    "    if fig:\n",
    "        fig.show()\n",
    "\n",
    "update_button.on_click(on_button_click)\n",
    "\n",
    "# Display widgets\n",
    "display(widgets.HBox([start_date_picker, end_date_picker, update_button]))\n",
    "\n",
    "# Show initial map with all data\n",
    "fig = create_activity_map()\n",
    "fig.show()\n"
   ]
  },
  {
   "cell_type": "code",
   "execution_count": 12,
   "id": "f3f9f9af",
   "metadata": {},
   "outputs": [
    {
     "data": {
      "text/html": [
       "<div>\n",
       "<style scoped>\n",
       "    .dataframe tbody tr th:only-of-type {\n",
       "        vertical-align: middle;\n",
       "    }\n",
       "\n",
       "    .dataframe tbody tr th {\n",
       "        vertical-align: top;\n",
       "    }\n",
       "\n",
       "    .dataframe thead th {\n",
       "        text-align: right;\n",
       "    }\n",
       "</style>\n",
       "<table border=\"1\" class=\"dataframe\">\n",
       "  <thead>\n",
       "    <tr style=\"text-align: right;\">\n",
       "      <th></th>\n",
       "      <th>startTime</th>\n",
       "      <th>endTime</th>\n",
       "      <th>timelinePath</th>\n",
       "      <th>startTimeTimezoneUtcOffsetMinutes</th>\n",
       "      <th>endTimeTimezoneUtcOffsetMinutes</th>\n",
       "      <th>visit</th>\n",
       "      <th>activity</th>\n",
       "      <th>timelineMemory</th>\n",
       "      <th>is_path</th>\n",
       "      <th>is_visit</th>\n",
       "      <th>...</th>\n",
       "      <th>start_latitude</th>\n",
       "      <th>start_longitude</th>\n",
       "      <th>end_latitude</th>\n",
       "      <th>end_longitude</th>\n",
       "      <th>distanceMeters</th>\n",
       "      <th>probability</th>\n",
       "      <th>topCandidate.type</th>\n",
       "      <th>parking.startTime</th>\n",
       "      <th>parking_latitude</th>\n",
       "      <th>parking_longitude</th>\n",
       "    </tr>\n",
       "  </thead>\n",
       "  <tbody>\n",
       "    <tr>\n",
       "      <th>0</th>\n",
       "      <td>2025-06-10 17:55:24+00:00</td>\n",
       "      <td>2025-06-10 17:56:49+00:00</td>\n",
       "      <td>NaN</td>\n",
       "      <td>60.0</td>\n",
       "      <td>60.0</td>\n",
       "      <td>NaN</td>\n",
       "      <td>{'start': {'latLng': '38.7618339°, -9.2763392°...</td>\n",
       "      <td>NaN</td>\n",
       "      <td>0</td>\n",
       "      <td>0</td>\n",
       "      <td>...</td>\n",
       "      <td>38.761834</td>\n",
       "      <td>-9.276339</td>\n",
       "      <td>38.758201</td>\n",
       "      <td>-9.277876</td>\n",
       "      <td>522.344788</td>\n",
       "      <td>0.998600</td>\n",
       "      <td>IN_PASSENGER_VEHICLE</td>\n",
       "      <td>2025-06-10T19:56:49.000+02:00</td>\n",
       "      <td>38.758201</td>\n",
       "      <td>-9.277876</td>\n",
       "    </tr>\n",
       "    <tr>\n",
       "      <th>1</th>\n",
       "      <td>2025-06-10 18:07:20+00:00</td>\n",
       "      <td>2025-06-10 18:16:50+00:00</td>\n",
       "      <td>NaN</td>\n",
       "      <td>60.0</td>\n",
       "      <td>60.0</td>\n",
       "      <td>NaN</td>\n",
       "      <td>{'start': {'latLng': '38.7574055°, -9.2782758°...</td>\n",
       "      <td>NaN</td>\n",
       "      <td>0</td>\n",
       "      <td>0</td>\n",
       "      <td>...</td>\n",
       "      <td>38.757405</td>\n",
       "      <td>-9.278276</td>\n",
       "      <td>38.766722</td>\n",
       "      <td>-9.279931</td>\n",
       "      <td>1045.880493</td>\n",
       "      <td>0.995746</td>\n",
       "      <td>IN_PASSENGER_VEHICLE</td>\n",
       "      <td>2025-06-10T20:16:50.000+02:00</td>\n",
       "      <td>38.767947</td>\n",
       "      <td>-9.278684</td>\n",
       "    </tr>\n",
       "    <tr>\n",
       "      <th>2</th>\n",
       "      <td>2025-06-10 18:28:05+00:00</td>\n",
       "      <td>2025-06-10 19:48:24+00:00</td>\n",
       "      <td>NaN</td>\n",
       "      <td>60.0</td>\n",
       "      <td>60.0</td>\n",
       "      <td>NaN</td>\n",
       "      <td>{'start': {'latLng': '38.7681933°, -9.2788833°...</td>\n",
       "      <td>NaN</td>\n",
       "      <td>0</td>\n",
       "      <td>0</td>\n",
       "      <td>...</td>\n",
       "      <td>38.768193</td>\n",
       "      <td>-9.278883</td>\n",
       "      <td>39.478349</td>\n",
       "      <td>-8.623940</td>\n",
       "      <td>108325.515625</td>\n",
       "      <td>0.995438</td>\n",
       "      <td>IN_PASSENGER_VEHICLE</td>\n",
       "      <td>2025-06-10T21:48:24.000+02:00</td>\n",
       "      <td>39.478349</td>\n",
       "      <td>-8.623940</td>\n",
       "    </tr>\n",
       "    <tr>\n",
       "      <th>3</th>\n",
       "      <td>2025-06-10 20:41:09+00:00</td>\n",
       "      <td>2025-06-10 23:08:35+00:00</td>\n",
       "      <td>NaN</td>\n",
       "      <td>60.0</td>\n",
       "      <td>60.0</td>\n",
       "      <td>NaN</td>\n",
       "      <td>{'start': {'latLng': '39.4782535°, -8.6229802°...</td>\n",
       "      <td>NaN</td>\n",
       "      <td>0</td>\n",
       "      <td>0</td>\n",
       "      <td>...</td>\n",
       "      <td>39.478254</td>\n",
       "      <td>-8.622980</td>\n",
       "      <td>40.542306</td>\n",
       "      <td>-7.216327</td>\n",
       "      <td>207721.265625</td>\n",
       "      <td>0.999329</td>\n",
       "      <td>IN_PASSENGER_VEHICLE</td>\n",
       "      <td>2025-06-11T01:08:35.000+02:00</td>\n",
       "      <td>40.542306</td>\n",
       "      <td>-7.216327</td>\n",
       "    </tr>\n",
       "    <tr>\n",
       "      <th>4</th>\n",
       "      <td>2025-06-10 23:27:29+00:00</td>\n",
       "      <td>2025-06-11 01:15:59+00:00</td>\n",
       "      <td>NaN</td>\n",
       "      <td>60.0</td>\n",
       "      <td>120.0</td>\n",
       "      <td>NaN</td>\n",
       "      <td>{'start': {'latLng': '40.5441649°, -7.2152921°...</td>\n",
       "      <td>NaN</td>\n",
       "      <td>0</td>\n",
       "      <td>0</td>\n",
       "      <td>...</td>\n",
       "      <td>40.544165</td>\n",
       "      <td>-7.215292</td>\n",
       "      <td>40.958133</td>\n",
       "      <td>-5.686359</td>\n",
       "      <td>150988.062500</td>\n",
       "      <td>0.998859</td>\n",
       "      <td>IN_PASSENGER_VEHICLE</td>\n",
       "      <td>2025-06-11T03:17:58.000+02:00</td>\n",
       "      <td>40.957941</td>\n",
       "      <td>-5.687830</td>\n",
       "    </tr>\n",
       "    <tr>\n",
       "      <th>...</th>\n",
       "      <td>...</td>\n",
       "      <td>...</td>\n",
       "      <td>...</td>\n",
       "      <td>...</td>\n",
       "      <td>...</td>\n",
       "      <td>...</td>\n",
       "      <td>...</td>\n",
       "      <td>...</td>\n",
       "      <td>...</td>\n",
       "      <td>...</td>\n",
       "      <td>...</td>\n",
       "      <td>...</td>\n",
       "      <td>...</td>\n",
       "      <td>...</td>\n",
       "      <td>...</td>\n",
       "      <td>...</td>\n",
       "      <td>...</td>\n",
       "      <td>...</td>\n",
       "      <td>...</td>\n",
       "      <td>...</td>\n",
       "      <td>...</td>\n",
       "    </tr>\n",
       "    <tr>\n",
       "      <th>599</th>\n",
       "      <td>2025-09-14 09:06:57+00:00</td>\n",
       "      <td>2025-09-14 09:27:44+00:00</td>\n",
       "      <td>NaN</td>\n",
       "      <td>120.0</td>\n",
       "      <td>120.0</td>\n",
       "      <td>NaN</td>\n",
       "      <td>{'start': {'latLng': '43.9477922°, 12.4540005°...</td>\n",
       "      <td>NaN</td>\n",
       "      <td>0</td>\n",
       "      <td>0</td>\n",
       "      <td>...</td>\n",
       "      <td>43.947792</td>\n",
       "      <td>12.454000</td>\n",
       "      <td>43.951860</td>\n",
       "      <td>12.406015</td>\n",
       "      <td>4940.721680</td>\n",
       "      <td>0.993241</td>\n",
       "      <td>IN_PASSENGER_VEHICLE</td>\n",
       "      <td>2025-09-14T11:27:44.000+02:00</td>\n",
       "      <td>43.951860</td>\n",
       "      <td>12.406015</td>\n",
       "    </tr>\n",
       "    <tr>\n",
       "      <th>600</th>\n",
       "      <td>2025-09-14 09:36:50+00:00</td>\n",
       "      <td>2025-09-14 13:19:37+00:00</td>\n",
       "      <td>NaN</td>\n",
       "      <td>120.0</td>\n",
       "      <td>120.0</td>\n",
       "      <td>NaN</td>\n",
       "      <td>{'start': {'latLng': '43.9299317°, 12.3248133°...</td>\n",
       "      <td>NaN</td>\n",
       "      <td>0</td>\n",
       "      <td>0</td>\n",
       "      <td>...</td>\n",
       "      <td>43.929932</td>\n",
       "      <td>12.324813</td>\n",
       "      <td>43.751852</td>\n",
       "      <td>11.244230</td>\n",
       "      <td>187856.484375</td>\n",
       "      <td>0.997499</td>\n",
       "      <td>IN_PASSENGER_VEHICLE</td>\n",
       "      <td>2025-09-14T15:29:18.000+02:00</td>\n",
       "      <td>43.752435</td>\n",
       "      <td>11.244706</td>\n",
       "    </tr>\n",
       "    <tr>\n",
       "      <th>601</th>\n",
       "      <td>2025-09-14 16:45:53+00:00</td>\n",
       "      <td>2025-09-14 17:03:23+00:00</td>\n",
       "      <td>NaN</td>\n",
       "      <td>120.0</td>\n",
       "      <td>120.0</td>\n",
       "      <td>NaN</td>\n",
       "      <td>{'start': {'latLng': '43.7518717°, 11.2439883°...</td>\n",
       "      <td>NaN</td>\n",
       "      <td>0</td>\n",
       "      <td>0</td>\n",
       "      <td>...</td>\n",
       "      <td>43.751872</td>\n",
       "      <td>11.243988</td>\n",
       "      <td>43.772227</td>\n",
       "      <td>11.257335</td>\n",
       "      <td>3104.786865</td>\n",
       "      <td>0.995297</td>\n",
       "      <td>CYCLING</td>\n",
       "      <td>NaN</td>\n",
       "      <td>NaN</td>\n",
       "      <td>NaN</td>\n",
       "    </tr>\n",
       "    <tr>\n",
       "      <th>602</th>\n",
       "      <td>2025-09-14 17:12:00+00:00</td>\n",
       "      <td>2025-09-14 22:12:53+00:00</td>\n",
       "      <td>NaN</td>\n",
       "      <td>120.0</td>\n",
       "      <td>120.0</td>\n",
       "      <td>NaN</td>\n",
       "      <td>{'start': {'latLng': '43.7755215°, 11.2594728°...</td>\n",
       "      <td>NaN</td>\n",
       "      <td>0</td>\n",
       "      <td>0</td>\n",
       "      <td>...</td>\n",
       "      <td>43.775522</td>\n",
       "      <td>11.259473</td>\n",
       "      <td>43.769856</td>\n",
       "      <td>11.256068</td>\n",
       "      <td>6000.442871</td>\n",
       "      <td>0.670519</td>\n",
       "      <td>WALKING</td>\n",
       "      <td>NaN</td>\n",
       "      <td>NaN</td>\n",
       "      <td>NaN</td>\n",
       "    </tr>\n",
       "    <tr>\n",
       "      <th>603</th>\n",
       "      <td>2025-09-14 22:36:11+00:00</td>\n",
       "      <td>2025-09-14 22:51:35+00:00</td>\n",
       "      <td>NaN</td>\n",
       "      <td>120.0</td>\n",
       "      <td>120.0</td>\n",
       "      <td>NaN</td>\n",
       "      <td>{'start': {'latLng': '43.7714767°, 11.2578667°...</td>\n",
       "      <td>NaN</td>\n",
       "      <td>0</td>\n",
       "      <td>0</td>\n",
       "      <td>...</td>\n",
       "      <td>43.771477</td>\n",
       "      <td>11.257867</td>\n",
       "      <td>43.752900</td>\n",
       "      <td>11.245098</td>\n",
       "      <td>3080.822510</td>\n",
       "      <td>0.992595</td>\n",
       "      <td>CYCLING</td>\n",
       "      <td>NaN</td>\n",
       "      <td>NaN</td>\n",
       "      <td>NaN</td>\n",
       "    </tr>\n",
       "  </tbody>\n",
       "</table>\n",
       "<p>604 rows × 21 columns</p>\n",
       "</div>"
      ],
      "text/plain": [
       "                    startTime                   endTime timelinePath  \\\n",
       "0   2025-06-10 17:55:24+00:00 2025-06-10 17:56:49+00:00          NaN   \n",
       "1   2025-06-10 18:07:20+00:00 2025-06-10 18:16:50+00:00          NaN   \n",
       "2   2025-06-10 18:28:05+00:00 2025-06-10 19:48:24+00:00          NaN   \n",
       "3   2025-06-10 20:41:09+00:00 2025-06-10 23:08:35+00:00          NaN   \n",
       "4   2025-06-10 23:27:29+00:00 2025-06-11 01:15:59+00:00          NaN   \n",
       "..                        ...                       ...          ...   \n",
       "599 2025-09-14 09:06:57+00:00 2025-09-14 09:27:44+00:00          NaN   \n",
       "600 2025-09-14 09:36:50+00:00 2025-09-14 13:19:37+00:00          NaN   \n",
       "601 2025-09-14 16:45:53+00:00 2025-09-14 17:03:23+00:00          NaN   \n",
       "602 2025-09-14 17:12:00+00:00 2025-09-14 22:12:53+00:00          NaN   \n",
       "603 2025-09-14 22:36:11+00:00 2025-09-14 22:51:35+00:00          NaN   \n",
       "\n",
       "     startTimeTimezoneUtcOffsetMinutes  endTimeTimezoneUtcOffsetMinutes visit  \\\n",
       "0                                 60.0                             60.0   NaN   \n",
       "1                                 60.0                             60.0   NaN   \n",
       "2                                 60.0                             60.0   NaN   \n",
       "3                                 60.0                             60.0   NaN   \n",
       "4                                 60.0                            120.0   NaN   \n",
       "..                                 ...                              ...   ...   \n",
       "599                              120.0                            120.0   NaN   \n",
       "600                              120.0                            120.0   NaN   \n",
       "601                              120.0                            120.0   NaN   \n",
       "602                              120.0                            120.0   NaN   \n",
       "603                              120.0                            120.0   NaN   \n",
       "\n",
       "                                              activity timelineMemory  \\\n",
       "0    {'start': {'latLng': '38.7618339°, -9.2763392°...            NaN   \n",
       "1    {'start': {'latLng': '38.7574055°, -9.2782758°...            NaN   \n",
       "2    {'start': {'latLng': '38.7681933°, -9.2788833°...            NaN   \n",
       "3    {'start': {'latLng': '39.4782535°, -8.6229802°...            NaN   \n",
       "4    {'start': {'latLng': '40.5441649°, -7.2152921°...            NaN   \n",
       "..                                                 ...            ...   \n",
       "599  {'start': {'latLng': '43.9477922°, 12.4540005°...            NaN   \n",
       "600  {'start': {'latLng': '43.9299317°, 12.3248133°...            NaN   \n",
       "601  {'start': {'latLng': '43.7518717°, 11.2439883°...            NaN   \n",
       "602  {'start': {'latLng': '43.7755215°, 11.2594728°...            NaN   \n",
       "603  {'start': {'latLng': '43.7714767°, 11.2578667°...            NaN   \n",
       "\n",
       "     is_path  is_visit  ...  start_latitude  start_longitude  end_latitude  \\\n",
       "0          0         0  ...       38.761834        -9.276339     38.758201   \n",
       "1          0         0  ...       38.757405        -9.278276     38.766722   \n",
       "2          0         0  ...       38.768193        -9.278883     39.478349   \n",
       "3          0         0  ...       39.478254        -8.622980     40.542306   \n",
       "4          0         0  ...       40.544165        -7.215292     40.958133   \n",
       "..       ...       ...  ...             ...              ...           ...   \n",
       "599        0         0  ...       43.947792        12.454000     43.951860   \n",
       "600        0         0  ...       43.929932        12.324813     43.751852   \n",
       "601        0         0  ...       43.751872        11.243988     43.772227   \n",
       "602        0         0  ...       43.775522        11.259473     43.769856   \n",
       "603        0         0  ...       43.771477        11.257867     43.752900   \n",
       "\n",
       "     end_longitude  distanceMeters  probability     topCandidate.type  \\\n",
       "0        -9.277876      522.344788     0.998600  IN_PASSENGER_VEHICLE   \n",
       "1        -9.279931     1045.880493     0.995746  IN_PASSENGER_VEHICLE   \n",
       "2        -8.623940   108325.515625     0.995438  IN_PASSENGER_VEHICLE   \n",
       "3        -7.216327   207721.265625     0.999329  IN_PASSENGER_VEHICLE   \n",
       "4        -5.686359   150988.062500     0.998859  IN_PASSENGER_VEHICLE   \n",
       "..             ...             ...          ...                   ...   \n",
       "599      12.406015     4940.721680     0.993241  IN_PASSENGER_VEHICLE   \n",
       "600      11.244230   187856.484375     0.997499  IN_PASSENGER_VEHICLE   \n",
       "601      11.257335     3104.786865     0.995297               CYCLING   \n",
       "602      11.256068     6000.442871     0.670519               WALKING   \n",
       "603      11.245098     3080.822510     0.992595               CYCLING   \n",
       "\n",
       "                 parking.startTime parking_latitude  parking_longitude  \n",
       "0    2025-06-10T19:56:49.000+02:00        38.758201          -9.277876  \n",
       "1    2025-06-10T20:16:50.000+02:00        38.767947          -9.278684  \n",
       "2    2025-06-10T21:48:24.000+02:00        39.478349          -8.623940  \n",
       "3    2025-06-11T01:08:35.000+02:00        40.542306          -7.216327  \n",
       "4    2025-06-11T03:17:58.000+02:00        40.957941          -5.687830  \n",
       "..                             ...              ...                ...  \n",
       "599  2025-09-14T11:27:44.000+02:00        43.951860          12.406015  \n",
       "600  2025-09-14T15:29:18.000+02:00        43.752435          11.244706  \n",
       "601                            NaN              NaN                NaN  \n",
       "602                            NaN              NaN                NaN  \n",
       "603                            NaN              NaN                NaN  \n",
       "\n",
       "[604 rows x 21 columns]"
      ]
     },
     "execution_count": 12,
     "metadata": {},
     "output_type": "execute_result"
    }
   ],
   "source": [
    "activity_final"
   ]
  },
  {
   "cell_type": "code",
   "execution_count": null,
   "id": "b9d58e23",
   "metadata": {},
   "outputs": [],
   "source": []
  }
 ],
 "metadata": {
  "kernelspec": {
   "display_name": ".venv",
   "language": "python",
   "name": "python3"
  },
  "language_info": {
   "codemirror_mode": {
    "name": "ipython",
    "version": 3
   },
   "file_extension": ".py",
   "mimetype": "text/x-python",
   "name": "python",
   "nbconvert_exporter": "python",
   "pygments_lexer": "ipython3",
   "version": "3.13.5"
  }
 },
 "nbformat": 4,
 "nbformat_minor": 5
}
